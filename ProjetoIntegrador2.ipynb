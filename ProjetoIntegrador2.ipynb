{
 "cells": [
  {
   "cell_type": "markdown",
   "id": "517c3a0b-06bc-4ad7-9d7a-181a4ccde268",
   "metadata": {},
   "source": [
    "# Projeto Integrador 2"
   ]
  },
  {
   "cell_type": "markdown",
   "id": "b86414f0-440b-4ba1-a490-1a557c753d24",
   "metadata": {},
   "source": [
    "A partir do conjunto de dados resultante do TP1 vamos construir um modelo de regressão\n",
    "linear que estima o preço por m2 dos imóveis.\n",
    "O modelo pode ser construído envolvendo apenas um subconjunto do conjunto de dados\n",
    "limpo, com algumas características particulares. Por exemplo, apenas apartamentos nos\n",
    "bairros de Belgrano e Palermo ou apenas PHs no bairro de Almagro e Villa Crespo, ou\n",
    "apenas propriedades industriais em Pompeya. O conjunto de dados que eles modelam deve\n",
    "ter pelo menos 2.000 registros.\n",
    "\n",
    "**Objetivos:** \n",
    "* Selecione os dados para modelar. Justifique essa escolha.\n",
    "* Treine pelo menos três modelos de regressão linear diferentes nesses dados.\n",
    "* Avalie o desempenho dos modelos e compare vantagens e desvantagens de cada\n",
    "um.\n",
    "* Determine a importância dos recursos incluídos na previsão. Interpretar."
   ]
  }
 ],
 "metadata": {
  "kernelspec": {
   "display_name": "Python 3 (ipykernel)",
   "language": "python",
   "name": "python3"
  },
  "language_info": {
   "codemirror_mode": {
    "name": "ipython",
    "version": 3
   },
   "file_extension": ".py",
   "mimetype": "text/x-python",
   "name": "python",
   "nbconvert_exporter": "python",
   "pygments_lexer": "ipython3",
   "version": "3.9.12"
  }
 },
 "nbformat": 4,
 "nbformat_minor": 5
}
