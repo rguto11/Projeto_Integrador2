{
 "cells": [
  {
   "cell_type": "code",
   "execution_count": 1,
   "id": "b82d1594-d7e0-4dd3-b429-b14667d8abb4",
   "metadata": {},
   "outputs": [],
   "source": [
    "import pandas as pd\n",
    "import numpy as np\n",
    "import matplotlib.pyplot as plt\n",
    "import seaborn as sns\n",
    "import geopandas as gpd\n",
    "import descartes\n",
    "import shapely.wkt\n",
    "import pyproj\n",
    "\n",
    "from shapely.geometry import Point\n"
   ]
  },
  {
   "cell_type": "code",
   "execution_count": 86,
   "id": "123993f0-b023-4ee6-8e88-aa9436d2293d",
   "metadata": {},
   "outputs": [
    {
     "name": "stdout",
     "output_type": "stream",
     "text": [
      "Note: you may need to restart the kernel to use updated packages.\n"
     ]
    }
   ],
   "source": [
    "pip freeze > requirements.txt"
   ]
  },
  {
   "cell_type": "markdown",
   "id": "2bf5be20-d56c-4c29-9cd2-e8640e8b6c58",
   "metadata": {
    "tags": []
   },
   "source": [
    "## Enunciado\n",
    "\n",
    "A partir do conjunto de dados resultante do TP1 vamos construir um modelo de regressão\n",
    "linear que estima o preço por m2 dos imóveis.\n",
    "O modelo pode ser construído envolvendo apenas um subconjunto do conjunto de dados\n",
    "limpo, com algumas características particulares. Por exemplo, apenas apartamentos nos\n",
    "bairros de Belgrano e Palermo ou apenas PHs no bairro de Almagro e Villa Crespo, ou\n",
    "apenas propriedades industriais em Pompeya. O conjunto de dados que eles modelam deve\n",
    "ter pelo menos 2.000 registros.\n",
    "\n",
    "##### Objetivos:\n",
    "* Selecione os dados para modelar. Justifique essa escolha.\n",
    "* Treine pelo menos três modelos de regressão linear diferentes nesses dados.\n",
    "* Avalie o desempenho dos modelos e compare vantagens e desvantagens de cada um.\n",
    "* Determine a importância dos recursos incluídos na previsão. Interpretar."
   ]
  },
  {
   "cell_type": "markdown",
   "id": "34fcb745-4d7c-4903-856a-0f4866686e4b",
   "metadata": {
    "jp-MarkdownHeadingCollapsed": true,
    "tags": []
   },
   "source": [
    "### Importando as bases de dados "
   ]
  },
  {
   "cell_type": "markdown",
   "id": "96ee1263-ef85-4363-b484-b18bd15f81e8",
   "metadata": {},
   "source": [
    "* Base de dados dos Imóveis: "
   ]
  },
  {
   "cell_type": "code",
   "execution_count": 8,
   "id": "726b65a6-2359-4948-b817-324f42d0c201",
   "metadata": {},
   "outputs": [],
   "source": [
    "prop = pd.read_csv(r\"C:\\Users\\RedRagon\\Documents\\ProjetoIntegrador1\\Data\\Real_State_Properati.csv\",sep='\\t')"
   ]
  },
  {
   "cell_type": "code",
   "execution_count": 9,
   "id": "0f4eb5b3-f303-46f5-abf6-f862c6dd9977",
   "metadata": {},
   "outputs": [
    {
     "data": {
      "text/plain": [
       "(17223, 9)"
      ]
     },
     "execution_count": 9,
     "metadata": {},
     "output_type": "execute_result"
    }
   ],
   "source": [
    "prop.shape"
   ]
  },
  {
   "cell_type": "code",
   "execution_count": 10,
   "id": "f85bb249-7518-46c1-810f-ca599ecfddb9",
   "metadata": {},
   "outputs": [
    {
     "data": {
      "text/html": [
       "<div>\n",
       "<style scoped>\n",
       "    .dataframe tbody tr th:only-of-type {\n",
       "        vertical-align: middle;\n",
       "    }\n",
       "\n",
       "    .dataframe tbody tr th {\n",
       "        vertical-align: top;\n",
       "    }\n",
       "\n",
       "    .dataframe thead th {\n",
       "        text-align: right;\n",
       "    }\n",
       "</style>\n",
       "<table border=\"1\" class=\"dataframe\">\n",
       "  <thead>\n",
       "    <tr style=\"text-align: right;\">\n",
       "      <th></th>\n",
       "      <th>property_type</th>\n",
       "      <th>place_name</th>\n",
       "      <th>country_name</th>\n",
       "      <th>state_name</th>\n",
       "      <th>lat</th>\n",
       "      <th>lon</th>\n",
       "      <th>price</th>\n",
       "      <th>currency</th>\n",
       "      <th>surface_total_in_m2</th>\n",
       "    </tr>\n",
       "  </thead>\n",
       "  <tbody>\n",
       "    <tr>\n",
       "      <th>0</th>\n",
       "      <td>PH</td>\n",
       "      <td>Mataderos</td>\n",
       "      <td>Argentina</td>\n",
       "      <td>Capital Federal</td>\n",
       "      <td>-34.661824</td>\n",
       "      <td>-58.508839</td>\n",
       "      <td>62000.0</td>\n",
       "      <td>USD</td>\n",
       "      <td>55.0</td>\n",
       "    </tr>\n",
       "    <tr>\n",
       "      <th>1</th>\n",
       "      <td>apartment</td>\n",
       "      <td>Mataderos</td>\n",
       "      <td>Argentina</td>\n",
       "      <td>Capital Federal</td>\n",
       "      <td>-34.652262</td>\n",
       "      <td>-58.522982</td>\n",
       "      <td>72000.0</td>\n",
       "      <td>USD</td>\n",
       "      <td>55.0</td>\n",
       "    </tr>\n",
       "    <tr>\n",
       "      <th>2</th>\n",
       "      <td>apartment</td>\n",
       "      <td>Belgrano</td>\n",
       "      <td>Argentina</td>\n",
       "      <td>Capital Federal</td>\n",
       "      <td>-34.559873</td>\n",
       "      <td>-58.443362</td>\n",
       "      <td>138000.0</td>\n",
       "      <td>USD</td>\n",
       "      <td>45.0</td>\n",
       "    </tr>\n",
       "    <tr>\n",
       "      <th>3</th>\n",
       "      <td>apartment</td>\n",
       "      <td>Belgrano</td>\n",
       "      <td>Argentina</td>\n",
       "      <td>Capital Federal</td>\n",
       "      <td>-34.559873</td>\n",
       "      <td>-58.443362</td>\n",
       "      <td>195000.0</td>\n",
       "      <td>USD</td>\n",
       "      <td>65.0</td>\n",
       "    </tr>\n",
       "    <tr>\n",
       "      <th>4</th>\n",
       "      <td>PH</td>\n",
       "      <td>Mataderos</td>\n",
       "      <td>Argentina</td>\n",
       "      <td>Capital Federal</td>\n",
       "      <td>-34.652356</td>\n",
       "      <td>-58.501624</td>\n",
       "      <td>239000.0</td>\n",
       "      <td>USD</td>\n",
       "      <td>140.0</td>\n",
       "    </tr>\n",
       "  </tbody>\n",
       "</table>\n",
       "</div>"
      ],
      "text/plain": [
       "  property_type place_name country_name       state_name        lat  \\\n",
       "0            PH  Mataderos    Argentina  Capital Federal -34.661824   \n",
       "1     apartment  Mataderos    Argentina  Capital Federal -34.652262   \n",
       "2     apartment   Belgrano    Argentina  Capital Federal -34.559873   \n",
       "3     apartment   Belgrano    Argentina  Capital Federal -34.559873   \n",
       "4            PH  Mataderos    Argentina  Capital Federal -34.652356   \n",
       "\n",
       "         lon     price currency  surface_total_in_m2  \n",
       "0 -58.508839   62000.0      USD                 55.0  \n",
       "1 -58.522982   72000.0      USD                 55.0  \n",
       "2 -58.443362  138000.0      USD                 45.0  \n",
       "3 -58.443362  195000.0      USD                 65.0  \n",
       "4 -58.501624  239000.0      USD                140.0  "
      ]
     },
     "execution_count": 10,
     "metadata": {},
     "output_type": "execute_result"
    }
   ],
   "source": [
    "prop.head(5)"
   ]
  },
  {
   "cell_type": "markdown",
   "id": "4285b61c-0864-470b-b549-04a7621da28a",
   "metadata": {},
   "source": [
    "* Base de dados dos bairros:"
   ]
  },
  {
   "cell_type": "code",
   "execution_count": 11,
   "id": "00e762bc-13b5-469c-b193-5f18b5b2e5b6",
   "metadata": {},
   "outputs": [
    {
     "data": {
      "text/html": [
       "<div>\n",
       "<style scoped>\n",
       "    .dataframe tbody tr th:only-of-type {\n",
       "        vertical-align: middle;\n",
       "    }\n",
       "\n",
       "    .dataframe tbody tr th {\n",
       "        vertical-align: top;\n",
       "    }\n",
       "\n",
       "    .dataframe thead th {\n",
       "        text-align: right;\n",
       "    }\n",
       "</style>\n",
       "<table border=\"1\" class=\"dataframe\">\n",
       "  <thead>\n",
       "    <tr style=\"text-align: right;\">\n",
       "      <th></th>\n",
       "      <th>WKT</th>\n",
       "      <th>NEIGHBORHOOD</th>\n",
       "      <th>COMMUNE</th>\n",
       "      <th>PERIMETER</th>\n",
       "      <th>AREA</th>\n",
       "    </tr>\n",
       "  </thead>\n",
       "  <tbody>\n",
       "    <tr>\n",
       "      <th>0</th>\n",
       "      <td>POLYGON ((-58.4528200492791 -34.5959886570639,...</td>\n",
       "      <td>CHACARITA</td>\n",
       "      <td>15.0</td>\n",
       "      <td>7725.695228</td>\n",
       "      <td>3.118101e+06</td>\n",
       "    </tr>\n",
       "    <tr>\n",
       "      <th>1</th>\n",
       "      <td>POLYGON ((-58.4655768128541 -34.5965577078058,...</td>\n",
       "      <td>PATERNAL</td>\n",
       "      <td>15.0</td>\n",
       "      <td>7087.513295</td>\n",
       "      <td>2.229829e+06</td>\n",
       "    </tr>\n",
       "    <tr>\n",
       "      <th>2</th>\n",
       "      <td>POLYGON ((-58.4237529813037 -34.5978273383243,...</td>\n",
       "      <td>VILLA CRESPO</td>\n",
       "      <td>15.0</td>\n",
       "      <td>8132.699348</td>\n",
       "      <td>3.613584e+06</td>\n",
       "    </tr>\n",
       "    <tr>\n",
       "      <th>3</th>\n",
       "      <td>POLYGON ((-58.4946097568899 -34.6148652395239,...</td>\n",
       "      <td>VILLA DEL PARQUE</td>\n",
       "      <td>11.0</td>\n",
       "      <td>7705.389797</td>\n",
       "      <td>3.399596e+06</td>\n",
       "    </tr>\n",
       "    <tr>\n",
       "      <th>4</th>\n",
       "      <td>POLYGON ((-58.4128700313089 -34.6141162515854,...</td>\n",
       "      <td>ALMAGRO</td>\n",
       "      <td>5.0</td>\n",
       "      <td>8537.901368</td>\n",
       "      <td>4.050752e+06</td>\n",
       "    </tr>\n",
       "  </tbody>\n",
       "</table>\n",
       "</div>"
      ],
      "text/plain": [
       "                                                 WKT      NEIGHBORHOOD  \\\n",
       "0  POLYGON ((-58.4528200492791 -34.5959886570639,...         CHACARITA   \n",
       "1  POLYGON ((-58.4655768128541 -34.5965577078058,...          PATERNAL   \n",
       "2  POLYGON ((-58.4237529813037 -34.5978273383243,...      VILLA CRESPO   \n",
       "3  POLYGON ((-58.4946097568899 -34.6148652395239,...  VILLA DEL PARQUE   \n",
       "4  POLYGON ((-58.4128700313089 -34.6141162515854,...           ALMAGRO   \n",
       "\n",
       "   COMMUNE    PERIMETER          AREA  \n",
       "0     15.0  7725.695228  3.118101e+06  \n",
       "1     15.0  7087.513295  2.229829e+06  \n",
       "2     15.0  8132.699348  3.613584e+06  \n",
       "3     11.0  7705.389797  3.399596e+06  \n",
       "4      5.0  8537.901368  4.050752e+06  "
      ]
     },
     "execution_count": 11,
     "metadata": {},
     "output_type": "execute_result"
    }
   ],
   "source": [
    "df_bairros = pd.read_csv(\"Data/Neighborhoods.csv\", encoding = 'latin1')\n",
    "df_bairros.head()"
   ]
  },
  {
   "cell_type": "markdown",
   "id": "92b9d4e5-7f71-4aa6-951f-03e3645d7171",
   "metadata": {},
   "source": [
    "* Base de dados das estações de metrô:"
   ]
  },
  {
   "cell_type": "code",
   "execution_count": 12,
   "id": "9edd169b-5cbb-473d-a31d-67608c249084",
   "metadata": {},
   "outputs": [
    {
     "data": {
      "text/html": [
       "<div>\n",
       "<style scoped>\n",
       "    .dataframe tbody tr th:only-of-type {\n",
       "        vertical-align: middle;\n",
       "    }\n",
       "\n",
       "    .dataframe tbody tr th {\n",
       "        vertical-align: top;\n",
       "    }\n",
       "\n",
       "    .dataframe thead th {\n",
       "        text-align: right;\n",
       "    }\n",
       "</style>\n",
       "<table border=\"1\" class=\"dataframe\">\n",
       "  <thead>\n",
       "    <tr style=\"text-align: right;\">\n",
       "      <th></th>\n",
       "      <th>long</th>\n",
       "      <th>lat</th>\n",
       "      <th>id</th>\n",
       "      <th>estacion</th>\n",
       "      <th>linea</th>\n",
       "    </tr>\n",
       "  </thead>\n",
       "  <tbody>\n",
       "    <tr>\n",
       "      <th>0</th>\n",
       "      <td>-58.398928</td>\n",
       "      <td>-34.635750</td>\n",
       "      <td>1.0</td>\n",
       "      <td>CASEROS</td>\n",
       "      <td>H</td>\n",
       "    </tr>\n",
       "    <tr>\n",
       "      <th>1</th>\n",
       "      <td>-58.400970</td>\n",
       "      <td>-34.629376</td>\n",
       "      <td>2.0</td>\n",
       "      <td>INCLAN - MEZQUITA AL AHMAD</td>\n",
       "      <td>H</td>\n",
       "    </tr>\n",
       "    <tr>\n",
       "      <th>2</th>\n",
       "      <td>-58.402323</td>\n",
       "      <td>-34.623092</td>\n",
       "      <td>3.0</td>\n",
       "      <td>HUMBERTO 1°</td>\n",
       "      <td>H</td>\n",
       "    </tr>\n",
       "    <tr>\n",
       "      <th>3</th>\n",
       "      <td>-58.404732</td>\n",
       "      <td>-34.615242</td>\n",
       "      <td>4.0</td>\n",
       "      <td>VENEZUELA</td>\n",
       "      <td>H</td>\n",
       "    </tr>\n",
       "    <tr>\n",
       "      <th>4</th>\n",
       "      <td>-58.406036</td>\n",
       "      <td>-34.608935</td>\n",
       "      <td>5.0</td>\n",
       "      <td>ONCE - 30 DE DICIEMBRE</td>\n",
       "      <td>H</td>\n",
       "    </tr>\n",
       "  </tbody>\n",
       "</table>\n",
       "</div>"
      ],
      "text/plain": [
       "        long        lat   id                    estacion linea\n",
       "0 -58.398928 -34.635750  1.0                     CASEROS     H\n",
       "1 -58.400970 -34.629376  2.0  INCLAN - MEZQUITA AL AHMAD     H\n",
       "2 -58.402323 -34.623092  3.0                 HUMBERTO 1°     H\n",
       "3 -58.404732 -34.615242  4.0                   VENEZUELA     H\n",
       "4 -58.406036 -34.608935  5.0      ONCE - 30 DE DICIEMBRE     H"
      ]
     },
     "execution_count": 12,
     "metadata": {},
     "output_type": "execute_result"
    }
   ],
   "source": [
    "df_metros = pd.read_csv('Data/estaciones-de-subte.csv',sep=',')\n",
    "df_metros.head()"
   ]
  },
  {
   "cell_type": "markdown",
   "id": "721c40e9-c13e-4072-b702-dec17fb634d0",
   "metadata": {
    "jp-MarkdownHeadingCollapsed": true,
    "tags": []
   },
   "source": [
    "### Verificando se há algum valor nulo"
   ]
  },
  {
   "cell_type": "code",
   "execution_count": 13,
   "id": "29642882-bea6-413b-b545-04298d222263",
   "metadata": {},
   "outputs": [
    {
     "data": {
      "text/plain": [
       "property_type          0\n",
       "place_name             0\n",
       "country_name           0\n",
       "state_name             0\n",
       "lat                    0\n",
       "lon                    0\n",
       "price                  0\n",
       "currency               0\n",
       "surface_total_in_m2    0\n",
       "dtype: int64"
      ]
     },
     "execution_count": 13,
     "metadata": {},
     "output_type": "execute_result"
    }
   ],
   "source": [
    "prop.isna().sum()"
   ]
  },
  {
   "cell_type": "markdown",
   "id": "a618f99a-5d6d-4aa4-9fad-b5ce4698d44f",
   "metadata": {
    "jp-MarkdownHeadingCollapsed": true,
    "tags": []
   },
   "source": [
    "### Limpando o dataset "
   ]
  },
  {
   "cell_type": "code",
   "execution_count": 14,
   "id": "9b49d4b4-e45c-4bab-84f2-572f92e33207",
   "metadata": {},
   "outputs": [
    {
     "name": "stdout",
     "output_type": "stream",
     "text": [
      "<class 'pandas.core.frame.DataFrame'>\n",
      "RangeIndex: 17223 entries, 0 to 17222\n",
      "Data columns (total 9 columns):\n",
      " #   Column               Non-Null Count  Dtype  \n",
      "---  ------               --------------  -----  \n",
      " 0   property_type        17223 non-null  object \n",
      " 1   place_name           17223 non-null  object \n",
      " 2   country_name         17223 non-null  object \n",
      " 3   state_name           17223 non-null  object \n",
      " 4   lat                  17223 non-null  float64\n",
      " 5   lon                  17223 non-null  float64\n",
      " 6   price                17223 non-null  float64\n",
      " 7   currency             17223 non-null  object \n",
      " 8   surface_total_in_m2  17223 non-null  float64\n",
      "dtypes: float64(4), object(5)\n",
      "memory usage: 1.2+ MB\n"
     ]
    }
   ],
   "source": [
    "prop.info()"
   ]
  },
  {
   "cell_type": "code",
   "execution_count": 15,
   "id": "0b0b8fc7-7b70-41a7-8fdf-401d0b348397",
   "metadata": {},
   "outputs": [
    {
     "name": "stdout",
     "output_type": "stream",
     "text": [
      "property_type - 4\n",
      "place_name - 62\n",
      "country_name - 1\n",
      "state_name - 1\n",
      "lat - 9714\n",
      "lon - 9704\n",
      "price - 2754\n",
      "currency - 2\n",
      "surface_total_in_m2 - 568\n"
     ]
    }
   ],
   "source": [
    "for col in prop.columns:\n",
    "    print(col, \"-\", len(prop[col].unique()))"
   ]
  },
  {
   "cell_type": "code",
   "execution_count": 16,
   "id": "ae967b81-d054-42ef-9e2c-4edbe225675b",
   "metadata": {},
   "outputs": [
    {
     "data": {
      "text/plain": [
       "array(['PH', 'apartment', 'house', 'store'], dtype=object)"
      ]
     },
     "execution_count": 16,
     "metadata": {},
     "output_type": "execute_result"
    }
   ],
   "source": [
    "prop['property_type'].unique()"
   ]
  },
  {
   "cell_type": "code",
   "execution_count": 17,
   "id": "7e9b97bf-15e1-43e0-8827-df1388d7e08a",
   "metadata": {},
   "outputs": [
    {
     "data": {
      "text/plain": [
       "property_type\n",
       "apartment    14428\n",
       "PH            1142\n",
       "house          888\n",
       "store          765\n",
       "Name: place_name, dtype: int64"
      ]
     },
     "execution_count": 17,
     "metadata": {},
     "output_type": "execute_result"
    }
   ],
   "source": [
    "prop.groupby(by = 'property_type').count()['place_name'].sort_values(ascending = False)"
   ]
  },
  {
   "cell_type": "code",
   "execution_count": 18,
   "id": "ed658a75-b0af-460e-926a-aeeb240ba537",
   "metadata": {},
   "outputs": [
    {
     "data": {
      "text/plain": [
       "apartment    83.771701\n",
       "PH            6.630668\n",
       "house         5.155896\n",
       "store         4.441735\n",
       "Name: property_type, dtype: float64"
      ]
     },
     "execution_count": 18,
     "metadata": {},
     "output_type": "execute_result"
    }
   ],
   "source": [
    "prop['property_type'].value_counts()/len(prop['property_type'])*100"
   ]
  },
  {
   "cell_type": "code",
   "execution_count": 19,
   "id": "a239706a-dc27-4f22-ad16-318b48a2e322",
   "metadata": {},
   "outputs": [
    {
     "data": {
      "text/plain": [
       "currency\n",
       "USD    16700\n",
       "ARS      523\n",
       "Name: place_name, dtype: int64"
      ]
     },
     "execution_count": 19,
     "metadata": {},
     "output_type": "execute_result"
    }
   ],
   "source": [
    "prop.groupby(by = 'currency').count()['place_name'].sort_values(ascending = False)"
   ]
  },
  {
   "cell_type": "code",
   "execution_count": 20,
   "id": "e2e801c6-d231-4056-b058-af2dd7176e12",
   "metadata": {},
   "outputs": [
    {
     "data": {
      "text/plain": [
       "USD    96.963363\n",
       "ARS     3.036637\n",
       "Name: currency, dtype: float64"
      ]
     },
     "execution_count": 20,
     "metadata": {},
     "output_type": "execute_result"
    }
   ],
   "source": [
    "prop['currency'].value_counts()/len(prop['currency'])*100"
   ]
  },
  {
   "cell_type": "code",
   "execution_count": 21,
   "id": "237dec26-bfd8-4716-ae6e-c8bab515cc87",
   "metadata": {},
   "outputs": [],
   "source": [
    "prop[\"price_usd\"] = prop.apply(lambda x: x[\"price\"] if x[\"currency\"] == \"USD\" else x[\"price\"]/117.41,axis=1)"
   ]
  },
  {
   "cell_type": "code",
   "execution_count": 22,
   "id": "d4e697c2-5dac-4fb0-91c4-096ff156f1d7",
   "metadata": {},
   "outputs": [
    {
     "data": {
      "text/plain": [
       "Index(['property_type', 'place_name', 'country_name', 'state_name', 'lat',\n",
       "       'lon', 'price', 'currency', 'surface_total_in_m2', 'price_usd'],\n",
       "      dtype='object')"
      ]
     },
     "execution_count": 22,
     "metadata": {},
     "output_type": "execute_result"
    }
   ],
   "source": [
    "prop.columns"
   ]
  },
  {
   "cell_type": "code",
   "execution_count": 23,
   "id": "7d95c8a7-28ff-4020-b4a9-74b41d57089d",
   "metadata": {},
   "outputs": [],
   "source": [
    "prop[\"preco_metro2\"] = prop.price_usd / prop.surface_total_in_m2"
   ]
  },
  {
   "cell_type": "code",
   "execution_count": 24,
   "id": "b893669a-b600-4020-a6ea-3549f504e491",
   "metadata": {},
   "outputs": [
    {
     "name": "stderr",
     "output_type": "stream",
     "text": [
      "C:\\Users\\RedRagon\\anaconda3\\envs\\ProjetoIntegrador2\\lib\\site-packages\\numpy\\lib\\function_base.py:4486: RuntimeWarning: invalid value encountered in subtract\n",
      "  diff_b_a = subtract(b, a)\n"
     ]
    }
   ],
   "source": [
    "prop['Faixas_de_preco_m2'] = pd.qcut(x = prop.preco_metro2, q = 10, labels = [1,2,3,4,5,6,7,8,9,10])"
   ]
  },
  {
   "cell_type": "code",
   "execution_count": 25,
   "id": "287034d8-a15d-4fa2-93eb-0978411de127",
   "metadata": {},
   "outputs": [
    {
     "data": {
      "text/plain": [
       "(17223, 12)"
      ]
     },
     "execution_count": 25,
     "metadata": {},
     "output_type": "execute_result"
    }
   ],
   "source": [
    "prop.shape"
   ]
  },
  {
   "cell_type": "code",
   "execution_count": 26,
   "id": "254959a9-222b-4297-8921-85a08c5ee330",
   "metadata": {},
   "outputs": [
    {
     "data": {
      "text/html": [
       "<div>\n",
       "<style scoped>\n",
       "    .dataframe tbody tr th:only-of-type {\n",
       "        vertical-align: middle;\n",
       "    }\n",
       "\n",
       "    .dataframe tbody tr th {\n",
       "        vertical-align: top;\n",
       "    }\n",
       "\n",
       "    .dataframe thead th {\n",
       "        text-align: right;\n",
       "    }\n",
       "</style>\n",
       "<table border=\"1\" class=\"dataframe\">\n",
       "  <thead>\n",
       "    <tr style=\"text-align: right;\">\n",
       "      <th></th>\n",
       "      <th>property_type</th>\n",
       "      <th>place_name</th>\n",
       "      <th>country_name</th>\n",
       "      <th>state_name</th>\n",
       "      <th>lat</th>\n",
       "      <th>lon</th>\n",
       "      <th>price</th>\n",
       "      <th>currency</th>\n",
       "      <th>surface_total_in_m2</th>\n",
       "      <th>price_usd</th>\n",
       "      <th>preco_metro2</th>\n",
       "      <th>Faixas_de_preco_m2</th>\n",
       "    </tr>\n",
       "  </thead>\n",
       "  <tbody>\n",
       "    <tr>\n",
       "      <th>2486</th>\n",
       "      <td>apartment</td>\n",
       "      <td>Palermo Soho</td>\n",
       "      <td>Argentina</td>\n",
       "      <td>Capital Federal</td>\n",
       "      <td>-34.589974</td>\n",
       "      <td>-58.425614</td>\n",
       "      <td>780000.0</td>\n",
       "      <td>USD</td>\n",
       "      <td>0.0</td>\n",
       "      <td>780000.0</td>\n",
       "      <td>inf</td>\n",
       "      <td>10</td>\n",
       "    </tr>\n",
       "    <tr>\n",
       "      <th>4872</th>\n",
       "      <td>apartment</td>\n",
       "      <td>Recoleta</td>\n",
       "      <td>Argentina</td>\n",
       "      <td>Capital Federal</td>\n",
       "      <td>-34.588818</td>\n",
       "      <td>-58.390648</td>\n",
       "      <td>320000.0</td>\n",
       "      <td>USD</td>\n",
       "      <td>0.0</td>\n",
       "      <td>320000.0</td>\n",
       "      <td>inf</td>\n",
       "      <td>10</td>\n",
       "    </tr>\n",
       "    <tr>\n",
       "      <th>5454</th>\n",
       "      <td>apartment</td>\n",
       "      <td>Caballito</td>\n",
       "      <td>Argentina</td>\n",
       "      <td>Capital Federal</td>\n",
       "      <td>-34.617348</td>\n",
       "      <td>-58.449404</td>\n",
       "      <td>68500.0</td>\n",
       "      <td>USD</td>\n",
       "      <td>0.0</td>\n",
       "      <td>68500.0</td>\n",
       "      <td>inf</td>\n",
       "      <td>10</td>\n",
       "    </tr>\n",
       "    <tr>\n",
       "      <th>6318</th>\n",
       "      <td>apartment</td>\n",
       "      <td>Palermo Hollywood</td>\n",
       "      <td>Argentina</td>\n",
       "      <td>Capital Federal</td>\n",
       "      <td>-34.582558</td>\n",
       "      <td>-58.432585</td>\n",
       "      <td>175000.0</td>\n",
       "      <td>USD</td>\n",
       "      <td>0.0</td>\n",
       "      <td>175000.0</td>\n",
       "      <td>inf</td>\n",
       "      <td>10</td>\n",
       "    </tr>\n",
       "    <tr>\n",
       "      <th>7170</th>\n",
       "      <td>apartment</td>\n",
       "      <td>Barracas</td>\n",
       "      <td>Argentina</td>\n",
       "      <td>Capital Federal</td>\n",
       "      <td>-34.641131</td>\n",
       "      <td>-58.369122</td>\n",
       "      <td>135000.0</td>\n",
       "      <td>USD</td>\n",
       "      <td>0.0</td>\n",
       "      <td>135000.0</td>\n",
       "      <td>inf</td>\n",
       "      <td>10</td>\n",
       "    </tr>\n",
       "    <tr>\n",
       "      <th>15888</th>\n",
       "      <td>apartment</td>\n",
       "      <td>Barrio Norte</td>\n",
       "      <td>Argentina</td>\n",
       "      <td>Capital Federal</td>\n",
       "      <td>-34.598727</td>\n",
       "      <td>-58.395851</td>\n",
       "      <td>112000.0</td>\n",
       "      <td>USD</td>\n",
       "      <td>0.0</td>\n",
       "      <td>112000.0</td>\n",
       "      <td>inf</td>\n",
       "      <td>10</td>\n",
       "    </tr>\n",
       "  </tbody>\n",
       "</table>\n",
       "</div>"
      ],
      "text/plain": [
       "      property_type         place_name country_name       state_name  \\\n",
       "2486      apartment       Palermo Soho    Argentina  Capital Federal   \n",
       "4872      apartment           Recoleta    Argentina  Capital Federal   \n",
       "5454      apartment          Caballito    Argentina  Capital Federal   \n",
       "6318      apartment  Palermo Hollywood    Argentina  Capital Federal   \n",
       "7170      apartment           Barracas    Argentina  Capital Federal   \n",
       "15888     apartment       Barrio Norte    Argentina  Capital Federal   \n",
       "\n",
       "             lat        lon     price currency  surface_total_in_m2  \\\n",
       "2486  -34.589974 -58.425614  780000.0      USD                  0.0   \n",
       "4872  -34.588818 -58.390648  320000.0      USD                  0.0   \n",
       "5454  -34.617348 -58.449404   68500.0      USD                  0.0   \n",
       "6318  -34.582558 -58.432585  175000.0      USD                  0.0   \n",
       "7170  -34.641131 -58.369122  135000.0      USD                  0.0   \n",
       "15888 -34.598727 -58.395851  112000.0      USD                  0.0   \n",
       "\n",
       "       price_usd  preco_metro2 Faixas_de_preco_m2  \n",
       "2486    780000.0           inf                 10  \n",
       "4872    320000.0           inf                 10  \n",
       "5454     68500.0           inf                 10  \n",
       "6318    175000.0           inf                 10  \n",
       "7170    135000.0           inf                 10  \n",
       "15888   112000.0           inf                 10  "
      ]
     },
     "execution_count": 26,
     "metadata": {},
     "output_type": "execute_result"
    }
   ],
   "source": [
    "prop[(prop.property_type == 'apartment') & (prop.surface_total_in_m2 == 0)]"
   ]
  },
  {
   "cell_type": "code",
   "execution_count": 27,
   "id": "f20541a7-3749-43c6-b595-b43450d3bc53",
   "metadata": {},
   "outputs": [],
   "source": [
    "prop.drop(index = list(prop[(prop.property_type == 'apartment') & (prop.surface_total_in_m2 == 0)].index),inplace = True)"
   ]
  },
  {
   "cell_type": "code",
   "execution_count": 28,
   "id": "cea1ff75-00cd-41f4-b017-be646e0f8801",
   "metadata": {},
   "outputs": [],
   "source": [
    "for i in prop.property_type.unique():\n",
    "    prop.drop(index = list(prop.loc[(prop.property_type == i) & (prop.preco_metro2 > 3*prop.preco_metro2.std())].index), inplace = True)"
   ]
  },
  {
   "cell_type": "code",
   "execution_count": 29,
   "id": "b518a62e-6f41-4a04-ac2d-82f256047a31",
   "metadata": {},
   "outputs": [
    {
     "data": {
      "text/plain": [
       "Index(['property_type', 'place_name', 'country_name', 'state_name', 'lat',\n",
       "       'lon', 'price', 'currency', 'surface_total_in_m2', 'price_usd',\n",
       "       'preco_metro2', 'Faixas_de_preco_m2'],\n",
       "      dtype='object')"
      ]
     },
     "execution_count": 29,
     "metadata": {},
     "output_type": "execute_result"
    }
   ],
   "source": [
    "prop.columns"
   ]
  },
  {
   "cell_type": "code",
   "execution_count": 30,
   "id": "69dd649b-0fda-4fd6-af90-f91e324d97c7",
   "metadata": {},
   "outputs": [
    {
     "data": {
      "text/plain": [
       "(16770, 12)"
      ]
     },
     "execution_count": 30,
     "metadata": {},
     "output_type": "execute_result"
    }
   ],
   "source": [
    "prop.shape"
   ]
  },
  {
   "cell_type": "markdown",
   "id": "6ee01b70-6520-4fc2-9b1b-55773eda839e",
   "metadata": {
    "jp-MarkdownHeadingCollapsed": true,
    "tags": []
   },
   "source": [
    "### Plotando o mapa de buenos aires com divisória de bairros para saber o preço médio quadrado de cada bairro"
   ]
  },
  {
   "cell_type": "code",
   "execution_count": 31,
   "id": "7975376c-cd94-4800-9bc3-245bde9033a1",
   "metadata": {},
   "outputs": [
    {
     "data": {
      "text/plain": [
       "geopandas.geodataframe.GeoDataFrame"
      ]
     },
     "execution_count": 31,
     "metadata": {},
     "output_type": "execute_result"
    }
   ],
   "source": [
    "df_bairros[\"WKT\"] = df_bairros[\"WKT\"].apply(shapely.wkt.loads)\n",
    "geo_bairros = gpd.GeoDataFrame(df_bairros, geometry = 'WKT' )\n",
    "type(geo_bairros)"
   ]
  },
  {
   "cell_type": "code",
   "execution_count": 32,
   "id": "4937982f-6e8b-459c-ab4a-6ff77aa548bd",
   "metadata": {},
   "outputs": [
    {
     "name": "stderr",
     "output_type": "stream",
     "text": [
      "C:\\Users\\RedRagon\\anaconda3\\envs\\ProjetoIntegrador2\\lib\\site-packages\\descartes\\patch.py:62: ShapelyDeprecationWarning: The array interface is deprecated and will no longer work in Shapely 2.0. Convert the '.coords' to a numpy array instead.\n",
      "  vertices = concatenate([\n",
      "C:\\Users\\RedRagon\\anaconda3\\envs\\ProjetoIntegrador2\\lib\\site-packages\\descartes\\patch.py:64: ShapelyDeprecationWarning: The array interface is deprecated and will no longer work in Shapely 2.0. Convert the '.coords' to a numpy array instead.\n",
      "  [asarray(r)[:, :2] for r in t.interiors])\n"
     ]
    },
    {
     "data": {
      "text/plain": [
       "<AxesSubplot:>"
      ]
     },
     "execution_count": 32,
     "metadata": {},
     "output_type": "execute_result"
    },
    {
     "data": {
      "image/png": "[encoded data removed]",
      "text/plain": [
       "<Figure size 720x432 with 1 Axes>"
      ]
     },
     "metadata": {
      "needs_background": "light"
     },
     "output_type": "display_data"
    }
   ],
   "source": [
    "geo_bairros.plot(color = 'white', edgecolor='black', figsize=(10,6))"
   ]
  },
  {
   "cell_type": "code",
   "execution_count": 33,
   "id": "c0d841ec-d015-4f7d-a695-0c76e82a36d4",
   "metadata": {},
   "outputs": [
    {
     "name": "stderr",
     "output_type": "stream",
     "text": [
      "C:\\Users\\RedRagon\\anaconda3\\envs\\ProjetoIntegrador2\\lib\\site-packages\\geopandas\\array.py:253: ShapelyDeprecationWarning: The array interface is deprecated and will no longer work in Shapely 2.0. Convert the '.coords' to a numpy array instead.\n",
      "  return GeometryArray(vectorized.points_from_xy(x, y, z), crs=crs)\n"
     ]
    }
   ],
   "source": [
    "geometria = gpd.points_from_xy(prop['lon'],prop['lat'])"
   ]
  },
  {
   "cell_type": "code",
   "execution_count": 34,
   "id": "7c7d8943-4fee-44b5-ac47-4f70432a23e2",
   "metadata": {},
   "outputs": [],
   "source": [
    "prop = gpd.GeoDataFrame(prop,\n",
    "                        geometry = geometria\n",
    "                        )"
   ]
  },
  {
   "cell_type": "code",
   "execution_count": 35,
   "id": "2302bd21-b5cf-4eee-96d2-7e07e8d6ebe6",
   "metadata": {},
   "outputs": [
    {
     "data": {
      "text/html": [
       "<div>\n",
       "<style scoped>\n",
       "    .dataframe tbody tr th:only-of-type {\n",
       "        vertical-align: middle;\n",
       "    }\n",
       "\n",
       "    .dataframe tbody tr th {\n",
       "        vertical-align: top;\n",
       "    }\n",
       "\n",
       "    .dataframe thead th {\n",
       "        text-align: right;\n",
       "    }\n",
       "</style>\n",
       "<table border=\"1\" class=\"dataframe\">\n",
       "  <thead>\n",
       "    <tr style=\"text-align: right;\">\n",
       "      <th></th>\n",
       "      <th>geometry</th>\n",
       "      <th>lat</th>\n",
       "      <th>lon</th>\n",
       "      <th>property_type</th>\n",
       "      <th>place_name</th>\n",
       "    </tr>\n",
       "  </thead>\n",
       "  <tbody>\n",
       "    <tr>\n",
       "      <th>0</th>\n",
       "      <td>POINT (-58.50884 -34.66182)</td>\n",
       "      <td>-34.661824</td>\n",
       "      <td>-58.508839</td>\n",
       "      <td>PH</td>\n",
       "      <td>Mataderos</td>\n",
       "    </tr>\n",
       "    <tr>\n",
       "      <th>1</th>\n",
       "      <td>POINT (-58.52298 -34.65226)</td>\n",
       "      <td>-34.652262</td>\n",
       "      <td>-58.522982</td>\n",
       "      <td>apartment</td>\n",
       "      <td>Mataderos</td>\n",
       "    </tr>\n",
       "    <tr>\n",
       "      <th>2</th>\n",
       "      <td>POINT (-58.44336 -34.55987)</td>\n",
       "      <td>-34.559873</td>\n",
       "      <td>-58.443362</td>\n",
       "      <td>apartment</td>\n",
       "      <td>Belgrano</td>\n",
       "    </tr>\n",
       "    <tr>\n",
       "      <th>3</th>\n",
       "      <td>POINT (-58.44336 -34.55987)</td>\n",
       "      <td>-34.559873</td>\n",
       "      <td>-58.443362</td>\n",
       "      <td>apartment</td>\n",
       "      <td>Belgrano</td>\n",
       "    </tr>\n",
       "    <tr>\n",
       "      <th>4</th>\n",
       "      <td>POINT (-58.50162 -34.65236)</td>\n",
       "      <td>-34.652356</td>\n",
       "      <td>-58.501624</td>\n",
       "      <td>PH</td>\n",
       "      <td>Mataderos</td>\n",
       "    </tr>\n",
       "    <tr>\n",
       "      <th>...</th>\n",
       "      <td>...</td>\n",
       "      <td>...</td>\n",
       "      <td>...</td>\n",
       "      <td>...</td>\n",
       "      <td>...</td>\n",
       "    </tr>\n",
       "    <tr>\n",
       "      <th>17218</th>\n",
       "      <td>POINT (-58.40252 -34.59921)</td>\n",
       "      <td>-34.599214</td>\n",
       "      <td>-58.402519</td>\n",
       "      <td>apartment</td>\n",
       "      <td>Barrio Norte</td>\n",
       "    </tr>\n",
       "    <tr>\n",
       "      <th>17219</th>\n",
       "      <td>POINT (-58.39737 -34.58743)</td>\n",
       "      <td>-34.587425</td>\n",
       "      <td>-58.397372</td>\n",
       "      <td>apartment</td>\n",
       "      <td>Recoleta</td>\n",
       "    </tr>\n",
       "    <tr>\n",
       "      <th>17220</th>\n",
       "      <td>POINT (-58.44268 -34.56369)</td>\n",
       "      <td>-34.563685</td>\n",
       "      <td>-58.442683</td>\n",
       "      <td>apartment</td>\n",
       "      <td>Belgrano</td>\n",
       "    </tr>\n",
       "    <tr>\n",
       "      <th>17221</th>\n",
       "      <td>POINT (-58.44268 -34.56369)</td>\n",
       "      <td>-34.563685</td>\n",
       "      <td>-58.442683</td>\n",
       "      <td>apartment</td>\n",
       "      <td>Belgrano</td>\n",
       "    </tr>\n",
       "    <tr>\n",
       "      <th>17222</th>\n",
       "      <td>POINT (-58.47560 -34.57064)</td>\n",
       "      <td>-34.570639</td>\n",
       "      <td>-58.475596</td>\n",
       "      <td>apartment</td>\n",
       "      <td>Villa Urquiza</td>\n",
       "    </tr>\n",
       "  </tbody>\n",
       "</table>\n",
       "<p>16770 rows × 5 columns</p>\n",
       "</div>"
      ],
      "text/plain": [
       "                          geometry        lat        lon property_type  \\\n",
       "0      POINT (-58.50884 -34.66182) -34.661824 -58.508839            PH   \n",
       "1      POINT (-58.52298 -34.65226) -34.652262 -58.522982     apartment   \n",
       "2      POINT (-58.44336 -34.55987) -34.559873 -58.443362     apartment   \n",
       "3      POINT (-58.44336 -34.55987) -34.559873 -58.443362     apartment   \n",
       "4      POINT (-58.50162 -34.65236) -34.652356 -58.501624            PH   \n",
       "...                            ...        ...        ...           ...   \n",
       "17218  POINT (-58.40252 -34.59921) -34.599214 -58.402519     apartment   \n",
       "17219  POINT (-58.39737 -34.58743) -34.587425 -58.397372     apartment   \n",
       "17220  POINT (-58.44268 -34.56369) -34.563685 -58.442683     apartment   \n",
       "17221  POINT (-58.44268 -34.56369) -34.563685 -58.442683     apartment   \n",
       "17222  POINT (-58.47560 -34.57064) -34.570639 -58.475596     apartment   \n",
       "\n",
       "          place_name  \n",
       "0          Mataderos  \n",
       "1          Mataderos  \n",
       "2           Belgrano  \n",
       "3           Belgrano  \n",
       "4          Mataderos  \n",
       "...              ...  \n",
       "17218   Barrio Norte  \n",
       "17219       Recoleta  \n",
       "17220       Belgrano  \n",
       "17221       Belgrano  \n",
       "17222  Villa Urquiza  \n",
       "\n",
       "[16770 rows x 5 columns]"
      ]
     },
     "execution_count": 35,
     "metadata": {},
     "output_type": "execute_result"
    }
   ],
   "source": [
    "prop.loc[ : , ['geometry', 'lat', 'lon', 'property_type', 'place_name']]"
   ]
  },
  {
   "cell_type": "code",
   "execution_count": 36,
   "id": "f8aec94a-2171-4682-998d-48cf88211180",
   "metadata": {},
   "outputs": [],
   "source": [
    "prop['property_place'] = prop['property_type'] + '_' + prop['place_name']"
   ]
  },
  {
   "cell_type": "code",
   "execution_count": 37,
   "id": "daf8765d-1400-4c9c-b264-76d61d6cdc56",
   "metadata": {},
   "outputs": [],
   "source": [
    "prop['avg_price_m2'] = prop.groupby('property_place')['preco_metro2'].transform('mean')"
   ]
  },
  {
   "cell_type": "code",
   "execution_count": 38,
   "id": "df73c07f-7080-4ed3-acda-5d220999c89b",
   "metadata": {},
   "outputs": [
    {
     "data": {
      "text/html": [
       "<div>\n",
       "<style scoped>\n",
       "    .dataframe tbody tr th:only-of-type {\n",
       "        vertical-align: middle;\n",
       "    }\n",
       "\n",
       "    .dataframe tbody tr th {\n",
       "        vertical-align: top;\n",
       "    }\n",
       "\n",
       "    .dataframe thead th {\n",
       "        text-align: right;\n",
       "    }\n",
       "</style>\n",
       "<table border=\"1\" class=\"dataframe\">\n",
       "  <thead>\n",
       "    <tr style=\"text-align: right;\">\n",
       "      <th></th>\n",
       "      <th>property_type</th>\n",
       "      <th>place_name</th>\n",
       "      <th>country_name</th>\n",
       "      <th>state_name</th>\n",
       "      <th>lat</th>\n",
       "      <th>lon</th>\n",
       "      <th>price</th>\n",
       "      <th>currency</th>\n",
       "      <th>surface_total_in_m2</th>\n",
       "      <th>price_usd</th>\n",
       "      <th>preco_metro2</th>\n",
       "      <th>Faixas_de_preco_m2</th>\n",
       "      <th>geometry</th>\n",
       "      <th>property_place</th>\n",
       "      <th>avg_price_m2</th>\n",
       "    </tr>\n",
       "  </thead>\n",
       "  <tbody>\n",
       "    <tr>\n",
       "      <th>0</th>\n",
       "      <td>PH</td>\n",
       "      <td>Mataderos</td>\n",
       "      <td>Argentina</td>\n",
       "      <td>Capital Federal</td>\n",
       "      <td>-34.661824</td>\n",
       "      <td>-58.508839</td>\n",
       "      <td>62000.0</td>\n",
       "      <td>USD</td>\n",
       "      <td>55.0</td>\n",
       "      <td>62000.0</td>\n",
       "      <td>1127.272727</td>\n",
       "      <td>1</td>\n",
       "      <td>POINT (-58.50884 -34.66182)</td>\n",
       "      <td>PH_Mataderos</td>\n",
       "      <td>1386.591733</td>\n",
       "    </tr>\n",
       "    <tr>\n",
       "      <th>1</th>\n",
       "      <td>apartment</td>\n",
       "      <td>Mataderos</td>\n",
       "      <td>Argentina</td>\n",
       "      <td>Capital Federal</td>\n",
       "      <td>-34.652262</td>\n",
       "      <td>-58.522982</td>\n",
       "      <td>72000.0</td>\n",
       "      <td>USD</td>\n",
       "      <td>55.0</td>\n",
       "      <td>72000.0</td>\n",
       "      <td>1309.090909</td>\n",
       "      <td>2</td>\n",
       "      <td>POINT (-58.52298 -34.65226)</td>\n",
       "      <td>apartment_Mataderos</td>\n",
       "      <td>1776.706933</td>\n",
       "    </tr>\n",
       "  </tbody>\n",
       "</table>\n",
       "</div>"
      ],
      "text/plain": [
       "  property_type place_name country_name       state_name        lat  \\\n",
       "0            PH  Mataderos    Argentina  Capital Federal -34.661824   \n",
       "1     apartment  Mataderos    Argentina  Capital Federal -34.652262   \n",
       "\n",
       "         lon    price currency  surface_total_in_m2  price_usd  preco_metro2  \\\n",
       "0 -58.508839  62000.0      USD                 55.0    62000.0   1127.272727   \n",
       "1 -58.522982  72000.0      USD                 55.0    72000.0   1309.090909   \n",
       "\n",
       "  Faixas_de_preco_m2                     geometry       property_place  \\\n",
       "0                  1  POINT (-58.50884 -34.66182)         PH_Mataderos   \n",
       "1                  2  POINT (-58.52298 -34.65226)  apartment_Mataderos   \n",
       "\n",
       "   avg_price_m2  \n",
       "0   1386.591733  \n",
       "1   1776.706933  "
      ]
     },
     "execution_count": 38,
     "metadata": {},
     "output_type": "execute_result"
    }
   ],
   "source": [
    "prop.head(2)"
   ]
  },
  {
   "cell_type": "code",
   "execution_count": 39,
   "id": "00ef520e-2647-4365-aaac-ee6c4a8d11df",
   "metadata": {},
   "outputs": [
    {
     "name": "stderr",
     "output_type": "stream",
     "text": [
      "C:\\Users\\RedRagon\\anaconda3\\envs\\ProjetoIntegrador2\\lib\\site-packages\\geopandas\\geodataframe.py:853: SettingWithCopyWarning: \n",
      "A value is trying to be set on a copy of a slice from a DataFrame.\n",
      "Try using .loc[row_indexer,col_indexer] = value instead\n",
      "\n",
      "See the caveats in the documentation: https://pandas.pydata.org/pandas-docs/stable/user_guide/indexing.html#returning-a-view-versus-a-copy\n",
      "  super(GeoDataFrame, self).__setitem__(key, value)\n",
      "C:\\Users\\RedRagon\\anaconda3\\envs\\ProjetoIntegrador2\\lib\\site-packages\\descartes\\patch.py:62: ShapelyDeprecationWarning: The array interface is deprecated and will no longer work in Shapely 2.0. Convert the '.coords' to a numpy array instead.\n",
      "  vertices = concatenate([\n",
      "C:\\Users\\RedRagon\\anaconda3\\envs\\ProjetoIntegrador2\\lib\\site-packages\\descartes\\patch.py:64: ShapelyDeprecationWarning: The array interface is deprecated and will no longer work in Shapely 2.0. Convert the '.coords' to a numpy array instead.\n",
      "  [asarray(r)[:, :2] for r in t.interiors])\n",
      "C:\\Users\\RedRagon\\anaconda3\\envs\\ProjetoIntegrador2\\lib\\site-packages\\geopandas\\_vectorized.py:557: ShapelyDeprecationWarning: The array interface is deprecated and will no longer work in Shapely 2.0. Convert the '.coords' to a numpy array instead.\n",
      "  return _unary_geo(\"centroid\", data)\n",
      "C:\\Users\\RedRagon\\anaconda3\\envs\\ProjetoIntegrador2\\lib\\site-packages\\geopandas\\array.py:166: ShapelyDeprecationWarning: The array interface is deprecated and will no longer work in Shapely 2.0. Convert the '.coords' to a numpy array instead.\n",
      "  return GeometryArray(vectorized.from_shapely(data), crs=crs)\n"
     ]
    },
    {
     "data": {
      "image/png": "[encoded data removed]",
      "text/plain": [
       "<Figure size 1080x720 with 2 Axes>"
      ]
     },
     "metadata": {
      "needs_background": "light"
     },
     "output_type": "display_data"
    }
   ],
   "source": [
    "df_apart = prop.loc[ : , ['property_type', 'place_name', 'avg_price_m2']]\n",
    "\n",
    "avg_bairro_apart = df_apart.loc[df_apart['property_type'] == 'apartment']\n",
    "avg_bairro_apart['place_name'] = avg_bairro_apart['place_name'].str.upper()\n",
    "\n",
    "geodata_apart = pd.merge(left=avg_bairro_apart, right=df_bairros, left_on='place_name', right_on='NEIGHBORHOOD', how='inner')\n",
    "geodata_apart = geodata_apart.rename(columns={\"WKT\": \"geometry\"})\n",
    "geodata_apart = geodata_apart.drop(columns=['NEIGHBORHOOD','COMMUNE','PERIMETER','AREA'])\n",
    "geodata_apart = geodata_apart.drop_duplicates(subset=['place_name'])\n",
    "\n",
    "geodf_apart = gpd.GeoDataFrame(geodata_apart)\n",
    "\n",
    "ax = geodf_apart.loc[geodf_apart['property_type'] == 'apartment'].plot(\n",
    "    figsize=(15,10),\n",
    "    edgecolor='black',column='avg_price_m2',\n",
    "    legend=True,\n",
    "    legend_kwds={'label': \"Valor médio por Bairro\",'orientation':\"vertical\" })\n",
    "\n",
    "for i in geodf_apart.index:\n",
    "    plt.text(geodf_apart.geometry.centroid[i].coords[0][0], geodf_apart.geometry.centroid[i].coords[0][1], geodf_apart.place_name[i],\n",
    "             fontsize=8, horizontalalignment='center', verticalalignment='center', color = 'cyan')\n",
    "    \n",
    "ax.set_axis_off();\n",
    "ax.set_title(\"PREÇO MÉDIO POR M2 DE APARTAMENTOS\",fontsize=26);"
   ]
  },
  {
   "cell_type": "markdown",
   "id": "5e90a87b-9514-4086-ad4e-fca13cb8befa",
   "metadata": {},
   "source": [
    "   "
   ]
  },
  {
   "cell_type": "markdown",
   "id": "81493f9c-182e-42e3-84da-96554fda2cda",
   "metadata": {},
   "source": [
    "   "
   ]
  },
  {
   "cell_type": "markdown",
   "id": "587f3601-48ae-4778-a16b-d5b72bba8776",
   "metadata": {},
   "source": [
    "Com base nesse mapa vemos que tem um bairro muito caro pra se morar (Puerto Madero) e vários outros na média e outros baratos. Também, enquanto limpavamos o dataset, verificamos que possui muitos apartamentos, com isso decidimos pegar apartamento, por isso plotamos o mapa em função do preço médio quadrado de apartamento.\n",
    "Também decidimos pegar os bairros: Retiro, Recoleta, Palermo, Belgrano, Nuñez, por conta de que eles estão na média de preço por metro quadrado dos bairros, não está tão caro nem está tão barato.\n",
    "\n",
    "<div class=\"alert alert-block alert-warning\">\n",
    "    <b>prop.groupby(by = 'property_type').count()['place_name'].sort_values(ascending = False)\n",
    "\n",
    "property_type\n",
    "        \n",
    "apartment    14428\n",
    "        \n",
    "PH            1142\n",
    "        \n",
    "house          888\n",
    "        \n",
    "store          765\n",
    "    </b>\n",
    "</div>"
   ]
  },
  {
   "cell_type": "markdown",
   "id": "06f8e991-0756-4c96-a42e-37bdd8fe9d13",
   "metadata": {
    "jp-MarkdownHeadingCollapsed": true,
    "tags": []
   },
   "source": [
    "### Fazendo dummies dos bairros e das faixas de preço e dropando colunas que não iremos usar"
   ]
  },
  {
   "cell_type": "markdown",
   "id": "46d1657b-d13d-4e16-a714-9e3a8975ef20",
   "metadata": {},
   "source": [
    "Vamos ver a correlação entre as variáveis"
   ]
  },
  {
   "cell_type": "code",
   "execution_count": 40,
   "id": "3ec79178-1129-4ef7-960c-6b7cafdbb2d7",
   "metadata": {},
   "outputs": [
    {
     "data": {
      "image/png": "[encoded data removed]",
      "text/plain": [
       "<Figure size 432x288 with 2 Axes>"
      ]
     },
     "metadata": {
      "needs_background": "light"
     },
     "output_type": "display_data"
    }
   ],
   "source": [
    "sns.heatmap(prop.corr(), \n",
    "            annot = True, \n",
    "            vmin = -1, \n",
    "            cmap = 'Blues'\n",
    "            );\n"
   ]
  },
  {
   "cell_type": "markdown",
   "id": "f1d5962d-f9fe-46b8-b8e8-06edfcbeedea",
   "metadata": {},
   "source": [
    "  "
   ]
  },
  {
   "cell_type": "markdown",
   "id": "ccbf0058-2701-4278-bd9b-f0050882b5c8",
   "metadata": {},
   "source": [
    "   "
   ]
  },
  {
   "cell_type": "markdown",
   "id": "48d0a856-0598-4f44-8859-0b36d2d61f04",
   "metadata": {},
   "source": [
    "Faremos um filtro pra ficar com um dataframe e pegar os bairros que escolhemos, além de que como os bairros são importantes para usar no modelo por causa que dependendo do bairro o preço vai ser mais caro ou não, faremos dummies da coluna de bairros para utilizar no modelo de regressão."
   ]
  },
  {
   "cell_type": "code",
   "execution_count": 41,
   "id": "e8062552-15ee-46cd-91a3-5a0f19ff9781",
   "metadata": {},
   "outputs": [
    {
     "data": {
      "text/html": [
       "<div>\n",
       "<style scoped>\n",
       "    .dataframe tbody tr th:only-of-type {\n",
       "        vertical-align: middle;\n",
       "    }\n",
       "\n",
       "    .dataframe tbody tr th {\n",
       "        vertical-align: top;\n",
       "    }\n",
       "\n",
       "    .dataframe thead th {\n",
       "        text-align: right;\n",
       "    }\n",
       "</style>\n",
       "<table border=\"1\" class=\"dataframe\">\n",
       "  <thead>\n",
       "    <tr style=\"text-align: right;\">\n",
       "      <th></th>\n",
       "      <th>country_name</th>\n",
       "      <th>state_name</th>\n",
       "      <th>lat</th>\n",
       "      <th>lon</th>\n",
       "      <th>price</th>\n",
       "      <th>currency</th>\n",
       "      <th>surface_total_in_m2</th>\n",
       "      <th>price_usd</th>\n",
       "      <th>preco_metro2</th>\n",
       "      <th>Faixas_de_preco_m2</th>\n",
       "      <th>geometry</th>\n",
       "      <th>property_place</th>\n",
       "      <th>avg_price_m2</th>\n",
       "      <th>Belgrano</th>\n",
       "      <th>Nuñez</th>\n",
       "      <th>Palermo</th>\n",
       "      <th>Recoleta</th>\n",
       "      <th>Retiro</th>\n",
       "    </tr>\n",
       "  </thead>\n",
       "  <tbody>\n",
       "    <tr>\n",
       "      <th>10106</th>\n",
       "      <td>Argentina</td>\n",
       "      <td>Capital Federal</td>\n",
       "      <td>-34.55527</td>\n",
       "      <td>-58.455786</td>\n",
       "      <td>180000.0</td>\n",
       "      <td>USD</td>\n",
       "      <td>77.0</td>\n",
       "      <td>180000.0</td>\n",
       "      <td>2337.662338</td>\n",
       "      <td>5</td>\n",
       "      <td>POINT (-58.45579 -34.55527)</td>\n",
       "      <td>apartment_Belgrano</td>\n",
       "      <td>2921.998257</td>\n",
       "      <td>1</td>\n",
       "      <td>0</td>\n",
       "      <td>0</td>\n",
       "      <td>0</td>\n",
       "      <td>0</td>\n",
       "    </tr>\n",
       "    <tr>\n",
       "      <th>11109</th>\n",
       "      <td>Argentina</td>\n",
       "      <td>Capital Federal</td>\n",
       "      <td>-34.56021</td>\n",
       "      <td>-58.469261</td>\n",
       "      <td>210000.0</td>\n",
       "      <td>USD</td>\n",
       "      <td>111.0</td>\n",
       "      <td>210000.0</td>\n",
       "      <td>1891.891892</td>\n",
       "      <td>3</td>\n",
       "      <td>POINT (-58.46926 -34.56021)</td>\n",
       "      <td>apartment_Belgrano</td>\n",
       "      <td>2921.998257</td>\n",
       "      <td>1</td>\n",
       "      <td>0</td>\n",
       "      <td>0</td>\n",
       "      <td>0</td>\n",
       "      <td>0</td>\n",
       "    </tr>\n",
       "    <tr>\n",
       "      <th>11110</th>\n",
       "      <td>Argentina</td>\n",
       "      <td>Capital Federal</td>\n",
       "      <td>-34.56021</td>\n",
       "      <td>-58.469261</td>\n",
       "      <td>114210.0</td>\n",
       "      <td>USD</td>\n",
       "      <td>42.0</td>\n",
       "      <td>114210.0</td>\n",
       "      <td>2719.285714</td>\n",
       "      <td>7</td>\n",
       "      <td>POINT (-58.46926 -34.56021)</td>\n",
       "      <td>apartment_Belgrano</td>\n",
       "      <td>2921.998257</td>\n",
       "      <td>1</td>\n",
       "      <td>0</td>\n",
       "      <td>0</td>\n",
       "      <td>0</td>\n",
       "      <td>0</td>\n",
       "    </tr>\n",
       "    <tr>\n",
       "      <th>11112</th>\n",
       "      <td>Argentina</td>\n",
       "      <td>Capital Federal</td>\n",
       "      <td>-34.56021</td>\n",
       "      <td>-58.469261</td>\n",
       "      <td>230000.0</td>\n",
       "      <td>USD</td>\n",
       "      <td>98.0</td>\n",
       "      <td>230000.0</td>\n",
       "      <td>2346.938776</td>\n",
       "      <td>5</td>\n",
       "      <td>POINT (-58.46926 -34.56021)</td>\n",
       "      <td>apartment_Belgrano</td>\n",
       "      <td>2921.998257</td>\n",
       "      <td>1</td>\n",
       "      <td>0</td>\n",
       "      <td>0</td>\n",
       "      <td>0</td>\n",
       "      <td>0</td>\n",
       "    </tr>\n",
       "    <tr>\n",
       "      <th>11113</th>\n",
       "      <td>Argentina</td>\n",
       "      <td>Capital Federal</td>\n",
       "      <td>-34.56021</td>\n",
       "      <td>-58.469261</td>\n",
       "      <td>263000.0</td>\n",
       "      <td>USD</td>\n",
       "      <td>113.0</td>\n",
       "      <td>263000.0</td>\n",
       "      <td>2327.433628</td>\n",
       "      <td>5</td>\n",
       "      <td>POINT (-58.46926 -34.56021)</td>\n",
       "      <td>apartment_Belgrano</td>\n",
       "      <td>2921.998257</td>\n",
       "      <td>1</td>\n",
       "      <td>0</td>\n",
       "      <td>0</td>\n",
       "      <td>0</td>\n",
       "      <td>0</td>\n",
       "    </tr>\n",
       "  </tbody>\n",
       "</table>\n",
       "</div>"
      ],
      "text/plain": [
       "      country_name       state_name       lat        lon     price currency  \\\n",
       "10106    Argentina  Capital Federal -34.55527 -58.455786  180000.0      USD   \n",
       "11109    Argentina  Capital Federal -34.56021 -58.469261  210000.0      USD   \n",
       "11110    Argentina  Capital Federal -34.56021 -58.469261  114210.0      USD   \n",
       "11112    Argentina  Capital Federal -34.56021 -58.469261  230000.0      USD   \n",
       "11113    Argentina  Capital Federal -34.56021 -58.469261  263000.0      USD   \n",
       "\n",
       "       surface_total_in_m2  price_usd  preco_metro2 Faixas_de_preco_m2  \\\n",
       "10106                 77.0   180000.0   2337.662338                  5   \n",
       "11109                111.0   210000.0   1891.891892                  3   \n",
       "11110                 42.0   114210.0   2719.285714                  7   \n",
       "11112                 98.0   230000.0   2346.938776                  5   \n",
       "11113                113.0   263000.0   2327.433628                  5   \n",
       "\n",
       "                          geometry      property_place  avg_price_m2  \\\n",
       "10106  POINT (-58.45579 -34.55527)  apartment_Belgrano   2921.998257   \n",
       "11109  POINT (-58.46926 -34.56021)  apartment_Belgrano   2921.998257   \n",
       "11110  POINT (-58.46926 -34.56021)  apartment_Belgrano   2921.998257   \n",
       "11112  POINT (-58.46926 -34.56021)  apartment_Belgrano   2921.998257   \n",
       "11113  POINT (-58.46926 -34.56021)  apartment_Belgrano   2921.998257   \n",
       "\n",
       "       Belgrano  Nuñez  Palermo  Recoleta  Retiro  \n",
       "10106         1      0        0         0       0  \n",
       "11109         1      0        0         0       0  \n",
       "11110         1      0        0         0       0  \n",
       "11112         1      0        0         0       0  \n",
       "11113         1      0        0         0       0  "
      ]
     },
     "execution_count": 41,
     "metadata": {},
     "output_type": "execute_result"
    }
   ],
   "source": [
    "aa = prop[prop.place_name == 'Retiro']\n",
    "a = aa[aa.property_type == 'apartment']\n",
    "bb = prop[prop.place_name == 'Recoleta']\n",
    "b = bb[bb.property_type == 'apartment']\n",
    "cc = prop[prop.place_name == 'Palermo']\n",
    "c = cc[cc.property_type == 'apartment']\n",
    "dd = prop[prop.place_name == 'Belgrano']\n",
    "d = dd[dd.property_type == 'apartment']\n",
    "ee = prop[prop.place_name == 'Nuñez']\n",
    "e = ee[ee.property_type == 'apartment']\n",
    "df_analise = pd.concat([a,b,c,d,e])\n",
    "df212 = df_analise.sort_values(by='place_name')\n",
    "dummiess = pd.get_dummies(df212.place_name)\n",
    "data22 = pd.concat([df212, dummiess],axis=1)\n",
    "data = data22.drop(columns = ['place_name'])\n",
    "dumies = pd.get_dummies(data.property_type)\n",
    "df = pd.concat([data,dumies],axis =1)\n",
    "df = df.drop(columns = ['property_type','apartment'])\n",
    "df.head()"
   ]
  },
  {
   "cell_type": "markdown",
   "id": "274ca294-78fc-4ca4-9361-e6c871619e6f",
   "metadata": {},
   "source": [
    "    "
   ]
  },
  {
   "cell_type": "markdown",
   "id": "11c8fc0f-d30c-496c-a075-87d4fafe6416",
   "metadata": {},
   "source": [
    "   "
   ]
  },
  {
   "cell_type": "markdown",
   "id": "1deb2aef-47cc-4d1a-afe6-6d2f1df53d46",
   "metadata": {},
   "source": [
    "   "
   ]
  },
  {
   "cell_type": "markdown",
   "id": "5cf9987f-3931-4db0-a920-ba2f2bf29028",
   "metadata": {},
   "source": [
    "Vamos ver o ajuste de regressão para ver oq está impactando mais."
   ]
  },
  {
   "cell_type": "code",
   "execution_count": 42,
   "id": "6cc220e9-9e91-47f5-bdd6-11e6c5559cb9",
   "metadata": {},
   "outputs": [
    {
     "data": {
      "image/png": "[encoded data removed]",
      "text/plain": [
       "<Figure size 1944x216 with 9 Axes>"
      ]
     },
     "metadata": {
      "needs_background": "light"
     },
     "output_type": "display_data"
    }
   ],
   "source": [
    "df_grid = pd.melt(df, id_vars = 'preco_metro2', value_vars = ['lat', 'lon', 'surface_total_in_m2','Belgrano', 'Nuñez', 'Palermo', 'Recoleta', 'Retiro','Faixas_de_preco_m2'])\n",
    "g = sns.FacetGrid(df_grid, col = \"variable\")\n",
    "g.map(sns.regplot, \"value\", \"preco_metro2\", ci = 95, scatter_kws = {\"color\": \"blue\", 's': 10}, line_kws = {\"color\": \"red\"});"
   ]
  },
  {
   "cell_type": "code",
   "execution_count": 43,
   "id": "79b40340-3360-461b-888a-e9c3a3f455f2",
   "metadata": {},
   "outputs": [
    {
     "data": {
      "image/png": "[encoded data removed]",
      "text/plain": [
       "<Figure size 432x288 with 1 Axes>"
      ]
     },
     "metadata": {
      "needs_background": "light"
     },
     "output_type": "display_data"
    }
   ],
   "source": [
    "sns.regplot(data = df, x = \"surface_total_in_m2\", y = \"preco_metro2\", ci = 95, scatter_kws = {\"color\": \"blue\", 's': 10}, line_kws = {\"color\": \"red\"});"
   ]
  },
  {
   "cell_type": "code",
   "execution_count": 44,
   "id": "bb71af64-3f5b-4627-8941-60183558378b",
   "metadata": {},
   "outputs": [
    {
     "data": {
      "image/png": "[encoded data removed]",
      "text/plain": [
       "<Figure size 432x288 with 1 Axes>"
      ]
     },
     "metadata": {
      "needs_background": "light"
     },
     "output_type": "display_data"
    }
   ],
   "source": [
    "sns.regplot(data = df, x = \"Faixas_de_preco_m2\", y = \"preco_metro2\", ci = 95, scatter_kws = {\"color\": \"red\", 's': 10}, line_kws = {\"color\": \"blue\"});"
   ]
  },
  {
   "cell_type": "markdown",
   "id": "2f2b4f3c-af3d-4e72-bbb1-f002dd8d2193",
   "metadata": {},
   "source": [
    "    "
   ]
  },
  {
   "cell_type": "markdown",
   "id": "956930ca-928b-4fcf-886f-0ad3da5cbc03",
   "metadata": {},
   "source": [
    "    "
   ]
  },
  {
   "cell_type": "markdown",
   "id": "1d65ef3d-4359-4119-b1c7-e08d8e2fc09a",
   "metadata": {},
   "source": [
    "    "
   ]
  },
  {
   "cell_type": "markdown",
   "id": "f54d5878-77b7-445e-ad27-4f7d7ef864b3",
   "metadata": {},
   "source": [
    "Vemos que faixas de preço ta meio estranho, por isso vamos fazer dummies para usar cada faixa de valor como feature."
   ]
  },
  {
   "cell_type": "code",
   "execution_count": 45,
   "id": "ff84ea21-bb69-4ecd-b3d9-3941245fa648",
   "metadata": {},
   "outputs": [
    {
     "data": {
      "text/html": [
       "<div>\n",
       "<style scoped>\n",
       "    .dataframe tbody tr th:only-of-type {\n",
       "        vertical-align: middle;\n",
       "    }\n",
       "\n",
       "    .dataframe tbody tr th {\n",
       "        vertical-align: top;\n",
       "    }\n",
       "\n",
       "    .dataframe thead th {\n",
       "        text-align: right;\n",
       "    }\n",
       "</style>\n",
       "<table border=\"1\" class=\"dataframe\">\n",
       "  <thead>\n",
       "    <tr style=\"text-align: right;\">\n",
       "      <th></th>\n",
       "      <th>country_name</th>\n",
       "      <th>state_name</th>\n",
       "      <th>lat</th>\n",
       "      <th>lon</th>\n",
       "      <th>price</th>\n",
       "      <th>currency</th>\n",
       "      <th>surface_total_in_m2</th>\n",
       "      <th>price_usd</th>\n",
       "      <th>preco_metro2</th>\n",
       "      <th>Faixas_de_preco_m2</th>\n",
       "      <th>...</th>\n",
       "      <th>1</th>\n",
       "      <th>2</th>\n",
       "      <th>3</th>\n",
       "      <th>4</th>\n",
       "      <th>5</th>\n",
       "      <th>6</th>\n",
       "      <th>7</th>\n",
       "      <th>8</th>\n",
       "      <th>9</th>\n",
       "      <th>10</th>\n",
       "    </tr>\n",
       "  </thead>\n",
       "  <tbody>\n",
       "    <tr>\n",
       "      <th>10106</th>\n",
       "      <td>Argentina</td>\n",
       "      <td>Capital Federal</td>\n",
       "      <td>-34.555270</td>\n",
       "      <td>-58.455786</td>\n",
       "      <td>180000.0</td>\n",
       "      <td>USD</td>\n",
       "      <td>77.0</td>\n",
       "      <td>180000.0</td>\n",
       "      <td>2337.662338</td>\n",
       "      <td>5</td>\n",
       "      <td>...</td>\n",
       "      <td>0</td>\n",
       "      <td>0</td>\n",
       "      <td>0</td>\n",
       "      <td>0</td>\n",
       "      <td>1</td>\n",
       "      <td>0</td>\n",
       "      <td>0</td>\n",
       "      <td>0</td>\n",
       "      <td>0</td>\n",
       "      <td>0</td>\n",
       "    </tr>\n",
       "    <tr>\n",
       "      <th>11109</th>\n",
       "      <td>Argentina</td>\n",
       "      <td>Capital Federal</td>\n",
       "      <td>-34.560210</td>\n",
       "      <td>-58.469261</td>\n",
       "      <td>210000.0</td>\n",
       "      <td>USD</td>\n",
       "      <td>111.0</td>\n",
       "      <td>210000.0</td>\n",
       "      <td>1891.891892</td>\n",
       "      <td>3</td>\n",
       "      <td>...</td>\n",
       "      <td>0</td>\n",
       "      <td>0</td>\n",
       "      <td>1</td>\n",
       "      <td>0</td>\n",
       "      <td>0</td>\n",
       "      <td>0</td>\n",
       "      <td>0</td>\n",
       "      <td>0</td>\n",
       "      <td>0</td>\n",
       "      <td>0</td>\n",
       "    </tr>\n",
       "    <tr>\n",
       "      <th>11110</th>\n",
       "      <td>Argentina</td>\n",
       "      <td>Capital Federal</td>\n",
       "      <td>-34.560210</td>\n",
       "      <td>-58.469261</td>\n",
       "      <td>114210.0</td>\n",
       "      <td>USD</td>\n",
       "      <td>42.0</td>\n",
       "      <td>114210.0</td>\n",
       "      <td>2719.285714</td>\n",
       "      <td>7</td>\n",
       "      <td>...</td>\n",
       "      <td>0</td>\n",
       "      <td>0</td>\n",
       "      <td>0</td>\n",
       "      <td>0</td>\n",
       "      <td>0</td>\n",
       "      <td>0</td>\n",
       "      <td>1</td>\n",
       "      <td>0</td>\n",
       "      <td>0</td>\n",
       "      <td>0</td>\n",
       "    </tr>\n",
       "    <tr>\n",
       "      <th>11112</th>\n",
       "      <td>Argentina</td>\n",
       "      <td>Capital Federal</td>\n",
       "      <td>-34.560210</td>\n",
       "      <td>-58.469261</td>\n",
       "      <td>230000.0</td>\n",
       "      <td>USD</td>\n",
       "      <td>98.0</td>\n",
       "      <td>230000.0</td>\n",
       "      <td>2346.938776</td>\n",
       "      <td>5</td>\n",
       "      <td>...</td>\n",
       "      <td>0</td>\n",
       "      <td>0</td>\n",
       "      <td>0</td>\n",
       "      <td>0</td>\n",
       "      <td>1</td>\n",
       "      <td>0</td>\n",
       "      <td>0</td>\n",
       "      <td>0</td>\n",
       "      <td>0</td>\n",
       "      <td>0</td>\n",
       "    </tr>\n",
       "    <tr>\n",
       "      <th>11113</th>\n",
       "      <td>Argentina</td>\n",
       "      <td>Capital Federal</td>\n",
       "      <td>-34.560210</td>\n",
       "      <td>-58.469261</td>\n",
       "      <td>263000.0</td>\n",
       "      <td>USD</td>\n",
       "      <td>113.0</td>\n",
       "      <td>263000.0</td>\n",
       "      <td>2327.433628</td>\n",
       "      <td>5</td>\n",
       "      <td>...</td>\n",
       "      <td>0</td>\n",
       "      <td>0</td>\n",
       "      <td>0</td>\n",
       "      <td>0</td>\n",
       "      <td>1</td>\n",
       "      <td>0</td>\n",
       "      <td>0</td>\n",
       "      <td>0</td>\n",
       "      <td>0</td>\n",
       "      <td>0</td>\n",
       "    </tr>\n",
       "    <tr>\n",
       "      <th>...</th>\n",
       "      <td>...</td>\n",
       "      <td>...</td>\n",
       "      <td>...</td>\n",
       "      <td>...</td>\n",
       "      <td>...</td>\n",
       "      <td>...</td>\n",
       "      <td>...</td>\n",
       "      <td>...</td>\n",
       "      <td>...</td>\n",
       "      <td>...</td>\n",
       "      <td>...</td>\n",
       "      <td>...</td>\n",
       "      <td>...</td>\n",
       "      <td>...</td>\n",
       "      <td>...</td>\n",
       "      <td>...</td>\n",
       "      <td>...</td>\n",
       "      <td>...</td>\n",
       "      <td>...</td>\n",
       "      <td>...</td>\n",
       "      <td>...</td>\n",
       "    </tr>\n",
       "    <tr>\n",
       "      <th>9444</th>\n",
       "      <td>Argentina</td>\n",
       "      <td>Capital Federal</td>\n",
       "      <td>-34.597040</td>\n",
       "      <td>-58.378666</td>\n",
       "      <td>199555.0</td>\n",
       "      <td>USD</td>\n",
       "      <td>52.0</td>\n",
       "      <td>199555.0</td>\n",
       "      <td>3837.596154</td>\n",
       "      <td>9</td>\n",
       "      <td>...</td>\n",
       "      <td>0</td>\n",
       "      <td>0</td>\n",
       "      <td>0</td>\n",
       "      <td>0</td>\n",
       "      <td>0</td>\n",
       "      <td>0</td>\n",
       "      <td>0</td>\n",
       "      <td>0</td>\n",
       "      <td>1</td>\n",
       "      <td>0</td>\n",
       "    </tr>\n",
       "    <tr>\n",
       "      <th>9582</th>\n",
       "      <td>Argentina</td>\n",
       "      <td>Capital Federal</td>\n",
       "      <td>-34.586849</td>\n",
       "      <td>-58.384689</td>\n",
       "      <td>470000.0</td>\n",
       "      <td>USD</td>\n",
       "      <td>161.0</td>\n",
       "      <td>470000.0</td>\n",
       "      <td>2919.254658</td>\n",
       "      <td>8</td>\n",
       "      <td>...</td>\n",
       "      <td>0</td>\n",
       "      <td>0</td>\n",
       "      <td>0</td>\n",
       "      <td>0</td>\n",
       "      <td>0</td>\n",
       "      <td>0</td>\n",
       "      <td>0</td>\n",
       "      <td>1</td>\n",
       "      <td>0</td>\n",
       "      <td>0</td>\n",
       "    </tr>\n",
       "    <tr>\n",
       "      <th>9919</th>\n",
       "      <td>Argentina</td>\n",
       "      <td>Capital Federal</td>\n",
       "      <td>-34.592865</td>\n",
       "      <td>-58.381134</td>\n",
       "      <td>500000.0</td>\n",
       "      <td>USD</td>\n",
       "      <td>166.0</td>\n",
       "      <td>500000.0</td>\n",
       "      <td>3012.048193</td>\n",
       "      <td>8</td>\n",
       "      <td>...</td>\n",
       "      <td>0</td>\n",
       "      <td>0</td>\n",
       "      <td>0</td>\n",
       "      <td>0</td>\n",
       "      <td>0</td>\n",
       "      <td>0</td>\n",
       "      <td>0</td>\n",
       "      <td>1</td>\n",
       "      <td>0</td>\n",
       "      <td>0</td>\n",
       "    </tr>\n",
       "    <tr>\n",
       "      <th>10455</th>\n",
       "      <td>Argentina</td>\n",
       "      <td>Capital Federal</td>\n",
       "      <td>-34.591852</td>\n",
       "      <td>-58.376688</td>\n",
       "      <td>230000.0</td>\n",
       "      <td>USD</td>\n",
       "      <td>70.0</td>\n",
       "      <td>230000.0</td>\n",
       "      <td>3285.714286</td>\n",
       "      <td>9</td>\n",
       "      <td>...</td>\n",
       "      <td>0</td>\n",
       "      <td>0</td>\n",
       "      <td>0</td>\n",
       "      <td>0</td>\n",
       "      <td>0</td>\n",
       "      <td>0</td>\n",
       "      <td>0</td>\n",
       "      <td>0</td>\n",
       "      <td>1</td>\n",
       "      <td>0</td>\n",
       "    </tr>\n",
       "    <tr>\n",
       "      <th>164</th>\n",
       "      <td>Argentina</td>\n",
       "      <td>Capital Federal</td>\n",
       "      <td>-34.600208</td>\n",
       "      <td>-58.378250</td>\n",
       "      <td>140000.0</td>\n",
       "      <td>USD</td>\n",
       "      <td>45.0</td>\n",
       "      <td>140000.0</td>\n",
       "      <td>3111.111111</td>\n",
       "      <td>8</td>\n",
       "      <td>...</td>\n",
       "      <td>0</td>\n",
       "      <td>0</td>\n",
       "      <td>0</td>\n",
       "      <td>0</td>\n",
       "      <td>0</td>\n",
       "      <td>0</td>\n",
       "      <td>0</td>\n",
       "      <td>1</td>\n",
       "      <td>0</td>\n",
       "      <td>0</td>\n",
       "    </tr>\n",
       "  </tbody>\n",
       "</table>\n",
       "<p>4073 rows × 28 columns</p>\n",
       "</div>"
      ],
      "text/plain": [
       "      country_name       state_name        lat        lon     price currency  \\\n",
       "10106    Argentina  Capital Federal -34.555270 -58.455786  180000.0      USD   \n",
       "11109    Argentina  Capital Federal -34.560210 -58.469261  210000.0      USD   \n",
       "11110    Argentina  Capital Federal -34.560210 -58.469261  114210.0      USD   \n",
       "11112    Argentina  Capital Federal -34.560210 -58.469261  230000.0      USD   \n",
       "11113    Argentina  Capital Federal -34.560210 -58.469261  263000.0      USD   \n",
       "...            ...              ...        ...        ...       ...      ...   \n",
       "9444     Argentina  Capital Federal -34.597040 -58.378666  199555.0      USD   \n",
       "9582     Argentina  Capital Federal -34.586849 -58.384689  470000.0      USD   \n",
       "9919     Argentina  Capital Federal -34.592865 -58.381134  500000.0      USD   \n",
       "10455    Argentina  Capital Federal -34.591852 -58.376688  230000.0      USD   \n",
       "164      Argentina  Capital Federal -34.600208 -58.378250  140000.0      USD   \n",
       "\n",
       "       surface_total_in_m2  price_usd  preco_metro2 Faixas_de_preco_m2  ...  \\\n",
       "10106                 77.0   180000.0   2337.662338                  5  ...   \n",
       "11109                111.0   210000.0   1891.891892                  3  ...   \n",
       "11110                 42.0   114210.0   2719.285714                  7  ...   \n",
       "11112                 98.0   230000.0   2346.938776                  5  ...   \n",
       "11113                113.0   263000.0   2327.433628                  5  ...   \n",
       "...                    ...        ...           ...                ...  ...   \n",
       "9444                  52.0   199555.0   3837.596154                  9  ...   \n",
       "9582                 161.0   470000.0   2919.254658                  8  ...   \n",
       "9919                 166.0   500000.0   3012.048193                  8  ...   \n",
       "10455                 70.0   230000.0   3285.714286                  9  ...   \n",
       "164                   45.0   140000.0   3111.111111                  8  ...   \n",
       "\n",
       "       1  2  3  4  5  6  7  8  9  10  \n",
       "10106  0  0  0  0  1  0  0  0  0   0  \n",
       "11109  0  0  1  0  0  0  0  0  0   0  \n",
       "11110  0  0  0  0  0  0  1  0  0   0  \n",
       "11112  0  0  0  0  1  0  0  0  0   0  \n",
       "11113  0  0  0  0  1  0  0  0  0   0  \n",
       "...   .. .. .. .. .. .. .. .. ..  ..  \n",
       "9444   0  0  0  0  0  0  0  0  1   0  \n",
       "9582   0  0  0  0  0  0  0  1  0   0  \n",
       "9919   0  0  0  0  0  0  0  1  0   0  \n",
       "10455  0  0  0  0  0  0  0  0  1   0  \n",
       "164    0  0  0  0  0  0  0  1  0   0  \n",
       "\n",
       "[4073 rows x 28 columns]"
      ]
     },
     "execution_count": 45,
     "metadata": {},
     "output_type": "execute_result"
    }
   ],
   "source": [
    "dum = pd.get_dummies(df.Faixas_de_preco_m2)\n",
    "df = pd.concat([df,dum],axis=1)\n",
    "df"
   ]
  },
  {
   "cell_type": "code",
   "execution_count": 46,
   "id": "2df0315e-7ed7-49b1-aef7-4dec03fad246",
   "metadata": {},
   "outputs": [
    {
     "data": {
      "text/plain": [
       "Index([       'country_name',          'state_name',                 'lat',\n",
       "                       'lon',               'price',            'currency',\n",
       "       'surface_total_in_m2',           'price_usd',        'preco_metro2',\n",
       "        'Faixas_de_preco_m2',            'geometry',      'property_place',\n",
       "              'avg_price_m2',            'Belgrano',               'Nuñez',\n",
       "                   'Palermo',            'Recoleta',              'Retiro',\n",
       "                           1,                     2,                     3,\n",
       "                           4,                     5,                     6,\n",
       "                           7,                     8,                     9,\n",
       "                          10],\n",
       "      dtype='object')"
      ]
     },
     "execution_count": 46,
     "metadata": {},
     "output_type": "execute_result"
    }
   ],
   "source": [
    "df.columns"
   ]
  },
  {
   "cell_type": "markdown",
   "id": "d4b88391-5782-4d14-a100-0905be8d9a05",
   "metadata": {},
   "source": [
    "    "
   ]
  },
  {
   "cell_type": "markdown",
   "id": "68dc3237-4259-4a71-8018-fa0f1e2d51cc",
   "metadata": {},
   "source": [
    "         "
   ]
  },
  {
   "cell_type": "markdown",
   "id": "f0cd466d-7777-4519-bb94-94239f464daf",
   "metadata": {},
   "source": [
    "   "
   ]
  },
  {
   "cell_type": "markdown",
   "id": "6fe0a1c7-66da-4c6e-906f-cc1d0a9686f0",
   "metadata": {},
   "source": [
    "   "
   ]
  },
  {
   "cell_type": "markdown",
   "id": "5a7f1207-ca2f-4327-ba87-46ecf903fc94",
   "metadata": {},
   "source": [
    "\n",
    "\n",
    "\n",
    "Droparemos o que não vamos usar."
   ]
  },
  {
   "cell_type": "code",
   "execution_count": 47,
   "id": "6ba56357-a5b2-4387-bd7f-5262b730676a",
   "metadata": {},
   "outputs": [
    {
     "data": {
      "text/html": [
       "<div>\n",
       "<style scoped>\n",
       "    .dataframe tbody tr th:only-of-type {\n",
       "        vertical-align: middle;\n",
       "    }\n",
       "\n",
       "    .dataframe tbody tr th {\n",
       "        vertical-align: top;\n",
       "    }\n",
       "\n",
       "    .dataframe thead th {\n",
       "        text-align: right;\n",
       "    }\n",
       "</style>\n",
       "<table border=\"1\" class=\"dataframe\">\n",
       "  <thead>\n",
       "    <tr style=\"text-align: right;\">\n",
       "      <th></th>\n",
       "      <th>lat</th>\n",
       "      <th>lon</th>\n",
       "      <th>surface_total_in_m2</th>\n",
       "      <th>preco_metro2</th>\n",
       "      <th>Belgrano</th>\n",
       "      <th>Nuñez</th>\n",
       "      <th>Palermo</th>\n",
       "      <th>Recoleta</th>\n",
       "      <th>Retiro</th>\n",
       "      <th>1</th>\n",
       "      <th>2</th>\n",
       "      <th>3</th>\n",
       "      <th>4</th>\n",
       "      <th>5</th>\n",
       "      <th>6</th>\n",
       "      <th>7</th>\n",
       "      <th>8</th>\n",
       "      <th>9</th>\n",
       "      <th>10</th>\n",
       "    </tr>\n",
       "  </thead>\n",
       "  <tbody>\n",
       "    <tr>\n",
       "      <th>10106</th>\n",
       "      <td>-34.555270</td>\n",
       "      <td>-58.455786</td>\n",
       "      <td>77.0</td>\n",
       "      <td>2337.662338</td>\n",
       "      <td>1</td>\n",
       "      <td>0</td>\n",
       "      <td>0</td>\n",
       "      <td>0</td>\n",
       "      <td>0</td>\n",
       "      <td>0</td>\n",
       "      <td>0</td>\n",
       "      <td>0</td>\n",
       "      <td>0</td>\n",
       "      <td>1</td>\n",
       "      <td>0</td>\n",
       "      <td>0</td>\n",
       "      <td>0</td>\n",
       "      <td>0</td>\n",
       "      <td>0</td>\n",
       "    </tr>\n",
       "    <tr>\n",
       "      <th>11109</th>\n",
       "      <td>-34.560210</td>\n",
       "      <td>-58.469261</td>\n",
       "      <td>111.0</td>\n",
       "      <td>1891.891892</td>\n",
       "      <td>1</td>\n",
       "      <td>0</td>\n",
       "      <td>0</td>\n",
       "      <td>0</td>\n",
       "      <td>0</td>\n",
       "      <td>0</td>\n",
       "      <td>0</td>\n",
       "      <td>1</td>\n",
       "      <td>0</td>\n",
       "      <td>0</td>\n",
       "      <td>0</td>\n",
       "      <td>0</td>\n",
       "      <td>0</td>\n",
       "      <td>0</td>\n",
       "      <td>0</td>\n",
       "    </tr>\n",
       "    <tr>\n",
       "      <th>11110</th>\n",
       "      <td>-34.560210</td>\n",
       "      <td>-58.469261</td>\n",
       "      <td>42.0</td>\n",
       "      <td>2719.285714</td>\n",
       "      <td>1</td>\n",
       "      <td>0</td>\n",
       "      <td>0</td>\n",
       "      <td>0</td>\n",
       "      <td>0</td>\n",
       "      <td>0</td>\n",
       "      <td>0</td>\n",
       "      <td>0</td>\n",
       "      <td>0</td>\n",
       "      <td>0</td>\n",
       "      <td>0</td>\n",
       "      <td>1</td>\n",
       "      <td>0</td>\n",
       "      <td>0</td>\n",
       "      <td>0</td>\n",
       "    </tr>\n",
       "    <tr>\n",
       "      <th>11112</th>\n",
       "      <td>-34.560210</td>\n",
       "      <td>-58.469261</td>\n",
       "      <td>98.0</td>\n",
       "      <td>2346.938776</td>\n",
       "      <td>1</td>\n",
       "      <td>0</td>\n",
       "      <td>0</td>\n",
       "      <td>0</td>\n",
       "      <td>0</td>\n",
       "      <td>0</td>\n",
       "      <td>0</td>\n",
       "      <td>0</td>\n",
       "      <td>0</td>\n",
       "      <td>1</td>\n",
       "      <td>0</td>\n",
       "      <td>0</td>\n",
       "      <td>0</td>\n",
       "      <td>0</td>\n",
       "      <td>0</td>\n",
       "    </tr>\n",
       "    <tr>\n",
       "      <th>11113</th>\n",
       "      <td>-34.560210</td>\n",
       "      <td>-58.469261</td>\n",
       "      <td>113.0</td>\n",
       "      <td>2327.433628</td>\n",
       "      <td>1</td>\n",
       "      <td>0</td>\n",
       "      <td>0</td>\n",
       "      <td>0</td>\n",
       "      <td>0</td>\n",
       "      <td>0</td>\n",
       "      <td>0</td>\n",
       "      <td>0</td>\n",
       "      <td>0</td>\n",
       "      <td>1</td>\n",
       "      <td>0</td>\n",
       "      <td>0</td>\n",
       "      <td>0</td>\n",
       "      <td>0</td>\n",
       "      <td>0</td>\n",
       "    </tr>\n",
       "    <tr>\n",
       "      <th>...</th>\n",
       "      <td>...</td>\n",
       "      <td>...</td>\n",
       "      <td>...</td>\n",
       "      <td>...</td>\n",
       "      <td>...</td>\n",
       "      <td>...</td>\n",
       "      <td>...</td>\n",
       "      <td>...</td>\n",
       "      <td>...</td>\n",
       "      <td>...</td>\n",
       "      <td>...</td>\n",
       "      <td>...</td>\n",
       "      <td>...</td>\n",
       "      <td>...</td>\n",
       "      <td>...</td>\n",
       "      <td>...</td>\n",
       "      <td>...</td>\n",
       "      <td>...</td>\n",
       "      <td>...</td>\n",
       "    </tr>\n",
       "    <tr>\n",
       "      <th>9444</th>\n",
       "      <td>-34.597040</td>\n",
       "      <td>-58.378666</td>\n",
       "      <td>52.0</td>\n",
       "      <td>3837.596154</td>\n",
       "      <td>0</td>\n",
       "      <td>0</td>\n",
       "      <td>0</td>\n",
       "      <td>0</td>\n",
       "      <td>1</td>\n",
       "      <td>0</td>\n",
       "      <td>0</td>\n",
       "      <td>0</td>\n",
       "      <td>0</td>\n",
       "      <td>0</td>\n",
       "      <td>0</td>\n",
       "      <td>0</td>\n",
       "      <td>0</td>\n",
       "      <td>1</td>\n",
       "      <td>0</td>\n",
       "    </tr>\n",
       "    <tr>\n",
       "      <th>9582</th>\n",
       "      <td>-34.586849</td>\n",
       "      <td>-58.384689</td>\n",
       "      <td>161.0</td>\n",
       "      <td>2919.254658</td>\n",
       "      <td>0</td>\n",
       "      <td>0</td>\n",
       "      <td>0</td>\n",
       "      <td>0</td>\n",
       "      <td>1</td>\n",
       "      <td>0</td>\n",
       "      <td>0</td>\n",
       "      <td>0</td>\n",
       "      <td>0</td>\n",
       "      <td>0</td>\n",
       "      <td>0</td>\n",
       "      <td>0</td>\n",
       "      <td>1</td>\n",
       "      <td>0</td>\n",
       "      <td>0</td>\n",
       "    </tr>\n",
       "    <tr>\n",
       "      <th>9919</th>\n",
       "      <td>-34.592865</td>\n",
       "      <td>-58.381134</td>\n",
       "      <td>166.0</td>\n",
       "      <td>3012.048193</td>\n",
       "      <td>0</td>\n",
       "      <td>0</td>\n",
       "      <td>0</td>\n",
       "      <td>0</td>\n",
       "      <td>1</td>\n",
       "      <td>0</td>\n",
       "      <td>0</td>\n",
       "      <td>0</td>\n",
       "      <td>0</td>\n",
       "      <td>0</td>\n",
       "      <td>0</td>\n",
       "      <td>0</td>\n",
       "      <td>1</td>\n",
       "      <td>0</td>\n",
       "      <td>0</td>\n",
       "    </tr>\n",
       "    <tr>\n",
       "      <th>10455</th>\n",
       "      <td>-34.591852</td>\n",
       "      <td>-58.376688</td>\n",
       "      <td>70.0</td>\n",
       "      <td>3285.714286</td>\n",
       "      <td>0</td>\n",
       "      <td>0</td>\n",
       "      <td>0</td>\n",
       "      <td>0</td>\n",
       "      <td>1</td>\n",
       "      <td>0</td>\n",
       "      <td>0</td>\n",
       "      <td>0</td>\n",
       "      <td>0</td>\n",
       "      <td>0</td>\n",
       "      <td>0</td>\n",
       "      <td>0</td>\n",
       "      <td>0</td>\n",
       "      <td>1</td>\n",
       "      <td>0</td>\n",
       "    </tr>\n",
       "    <tr>\n",
       "      <th>164</th>\n",
       "      <td>-34.600208</td>\n",
       "      <td>-58.378250</td>\n",
       "      <td>45.0</td>\n",
       "      <td>3111.111111</td>\n",
       "      <td>0</td>\n",
       "      <td>0</td>\n",
       "      <td>0</td>\n",
       "      <td>0</td>\n",
       "      <td>1</td>\n",
       "      <td>0</td>\n",
       "      <td>0</td>\n",
       "      <td>0</td>\n",
       "      <td>0</td>\n",
       "      <td>0</td>\n",
       "      <td>0</td>\n",
       "      <td>0</td>\n",
       "      <td>1</td>\n",
       "      <td>0</td>\n",
       "      <td>0</td>\n",
       "    </tr>\n",
       "  </tbody>\n",
       "</table>\n",
       "<p>4073 rows × 19 columns</p>\n",
       "</div>"
      ],
      "text/plain": [
       "             lat        lon  surface_total_in_m2  preco_metro2  Belgrano  \\\n",
       "10106 -34.555270 -58.455786                 77.0   2337.662338         1   \n",
       "11109 -34.560210 -58.469261                111.0   1891.891892         1   \n",
       "11110 -34.560210 -58.469261                 42.0   2719.285714         1   \n",
       "11112 -34.560210 -58.469261                 98.0   2346.938776         1   \n",
       "11113 -34.560210 -58.469261                113.0   2327.433628         1   \n",
       "...          ...        ...                  ...           ...       ...   \n",
       "9444  -34.597040 -58.378666                 52.0   3837.596154         0   \n",
       "9582  -34.586849 -58.384689                161.0   2919.254658         0   \n",
       "9919  -34.592865 -58.381134                166.0   3012.048193         0   \n",
       "10455 -34.591852 -58.376688                 70.0   3285.714286         0   \n",
       "164   -34.600208 -58.378250                 45.0   3111.111111         0   \n",
       "\n",
       "       Nuñez  Palermo  Recoleta  Retiro  1  2  3  4  5  6  7  8  9  10  \n",
       "10106      0        0         0       0  0  0  0  0  1  0  0  0  0   0  \n",
       "11109      0        0         0       0  0  0  1  0  0  0  0  0  0   0  \n",
       "11110      0        0         0       0  0  0  0  0  0  0  1  0  0   0  \n",
       "11112      0        0         0       0  0  0  0  0  1  0  0  0  0   0  \n",
       "11113      0        0         0       0  0  0  0  0  1  0  0  0  0   0  \n",
       "...      ...      ...       ...     ... .. .. .. .. .. .. .. .. ..  ..  \n",
       "9444       0        0         0       1  0  0  0  0  0  0  0  0  1   0  \n",
       "9582       0        0         0       1  0  0  0  0  0  0  0  1  0   0  \n",
       "9919       0        0         0       1  0  0  0  0  0  0  0  1  0   0  \n",
       "10455      0        0         0       1  0  0  0  0  0  0  0  0  1   0  \n",
       "164        0        0         0       1  0  0  0  0  0  0  0  1  0   0  \n",
       "\n",
       "[4073 rows x 19 columns]"
      ]
     },
     "execution_count": 47,
     "metadata": {},
     "output_type": "execute_result"
    }
   ],
   "source": [
    "df = df.drop(columns = ['country_name','state_name','price','currency','price_usd','Faixas_de_preco_m2',\n",
    "                        'geometry','property_place','avg_price_m2'])\n",
    "df"
   ]
  },
  {
   "cell_type": "markdown",
   "id": "b9985b28-9759-4316-a3c2-f7cedd414fde",
   "metadata": {
    "jp-MarkdownHeadingCollapsed": true,
    "tags": []
   },
   "source": [
    "### Nova coluna da distância do apartamento até a estação de metrô mais próximo"
   ]
  },
  {
   "cell_type": "code",
   "execution_count": 48,
   "id": "a8a9bfaa-0fe1-477a-855c-64592b7f9df5",
   "metadata": {},
   "outputs": [
    {
     "data": {
      "text/html": [
       "<div>\n",
       "<style scoped>\n",
       "    .dataframe tbody tr th:only-of-type {\n",
       "        vertical-align: middle;\n",
       "    }\n",
       "\n",
       "    .dataframe tbody tr th {\n",
       "        vertical-align: top;\n",
       "    }\n",
       "\n",
       "    .dataframe thead th {\n",
       "        text-align: right;\n",
       "    }\n",
       "</style>\n",
       "<table border=\"1\" class=\"dataframe\">\n",
       "  <thead>\n",
       "    <tr style=\"text-align: right;\">\n",
       "      <th></th>\n",
       "      <th>lon</th>\n",
       "      <th>lat</th>\n",
       "      <th>estação</th>\n",
       "    </tr>\n",
       "  </thead>\n",
       "  <tbody>\n",
       "    <tr>\n",
       "      <th>0</th>\n",
       "      <td>-58.398928</td>\n",
       "      <td>-34.635750</td>\n",
       "      <td>CASEROS</td>\n",
       "    </tr>\n",
       "    <tr>\n",
       "      <th>1</th>\n",
       "      <td>-58.400970</td>\n",
       "      <td>-34.629376</td>\n",
       "      <td>INCLAN - MEZQUITA AL AHMAD</td>\n",
       "    </tr>\n",
       "    <tr>\n",
       "      <th>2</th>\n",
       "      <td>-58.402323</td>\n",
       "      <td>-34.623092</td>\n",
       "      <td>HUMBERTO 1°</td>\n",
       "    </tr>\n",
       "    <tr>\n",
       "      <th>3</th>\n",
       "      <td>-58.404732</td>\n",
       "      <td>-34.615242</td>\n",
       "      <td>VENEZUELA</td>\n",
       "    </tr>\n",
       "    <tr>\n",
       "      <th>4</th>\n",
       "      <td>-58.406036</td>\n",
       "      <td>-34.608935</td>\n",
       "      <td>ONCE - 30 DE DICIEMBRE</td>\n",
       "    </tr>\n",
       "    <tr>\n",
       "      <th>...</th>\n",
       "      <td>...</td>\n",
       "      <td>...</td>\n",
       "      <td>...</td>\n",
       "    </tr>\n",
       "    <tr>\n",
       "      <th>85</th>\n",
       "      <td>-58.402376</td>\n",
       "      <td>-34.594525</td>\n",
       "      <td>SANTA FE - CARLOS JAUREGUI</td>\n",
       "    </tr>\n",
       "    <tr>\n",
       "      <th>86</th>\n",
       "      <td>-58.391019</td>\n",
       "      <td>-34.583036</td>\n",
       "      <td>FACULTAD DE DERECHO - JULIETA LANTERI</td>\n",
       "    </tr>\n",
       "    <tr>\n",
       "      <th>87</th>\n",
       "      <td>-58.375850</td>\n",
       "      <td>-34.592114</td>\n",
       "      <td>RETIRO</td>\n",
       "    </tr>\n",
       "    <tr>\n",
       "      <th>88</th>\n",
       "      <td>-58.371700</td>\n",
       "      <td>-34.596597</td>\n",
       "      <td>CATALINAS</td>\n",
       "    </tr>\n",
       "    <tr>\n",
       "      <th>89</th>\n",
       "      <td>-58.370413</td>\n",
       "      <td>-34.603014</td>\n",
       "      <td>CORREO CENTRAL</td>\n",
       "    </tr>\n",
       "  </tbody>\n",
       "</table>\n",
       "<p>90 rows × 3 columns</p>\n",
       "</div>"
      ],
      "text/plain": [
       "          lon        lat                                estação\n",
       "0  -58.398928 -34.635750                                CASEROS\n",
       "1  -58.400970 -34.629376             INCLAN - MEZQUITA AL AHMAD\n",
       "2  -58.402323 -34.623092                            HUMBERTO 1°\n",
       "3  -58.404732 -34.615242                              VENEZUELA\n",
       "4  -58.406036 -34.608935                 ONCE - 30 DE DICIEMBRE\n",
       "..        ...        ...                                    ...\n",
       "85 -58.402376 -34.594525             SANTA FE - CARLOS JAUREGUI\n",
       "86 -58.391019 -34.583036  FACULTAD DE DERECHO - JULIETA LANTERI\n",
       "87 -58.375850 -34.592114                                 RETIRO\n",
       "88 -58.371700 -34.596597                              CATALINAS\n",
       "89 -58.370413 -34.603014                         CORREO CENTRAL\n",
       "\n",
       "[90 rows x 3 columns]"
      ]
     },
     "execution_count": 48,
     "metadata": {},
     "output_type": "execute_result"
    }
   ],
   "source": [
    "df_metros = df_metros.rename(columns={'long':'lon','estacion':'estação'})\n",
    "df_metros = df_metros.drop(columns=['id','linea'])\n",
    "df_metros"
   ]
  },
  {
   "cell_type": "markdown",
   "id": "a917fbe6-5d24-4535-b84c-b4a874df8bd4",
   "metadata": {},
   "source": [
    "   "
   ]
  },
  {
   "cell_type": "markdown",
   "id": "08e57554-5252-4576-a5b6-3fbc588321e9",
   "metadata": {},
   "source": [
    "   "
   ]
  },
  {
   "cell_type": "markdown",
   "id": "568fa9a2-70b3-42e9-813c-afd92884c3e5",
   "metadata": {},
   "source": [
    "Vamos fazer uma nova coluna da distância entre o apartamento até o metrô mais próximo."
   ]
  },
  {
   "cell_type": "code",
   "execution_count": 49,
   "id": "6a3a473b-299d-4eee-8a3e-d94bc1d6d8c9",
   "metadata": {},
   "outputs": [],
   "source": [
    "%matplotlib inline\n",
    "\n",
    "import matplotlib.pyplot as plt\n",
    "import pandas as pd\n",
    "import geopy.distance\n",
    "\n",
    "for x in df.index:\n",
    "    ponto = (df['lon'][x], df['lat'][x])\n",
    "    df.loc[x, 'distância até o metrô'] = min([geopy.distance.geodesic(ponto,(row.lon,row.lat)).meters for index, row in df_metros.iterrows()])"
   ]
  },
  {
   "cell_type": "code",
   "execution_count": 50,
   "id": "b76694d1-a7b6-4dc1-875e-8bcaa1c5a06e",
   "metadata": {},
   "outputs": [
    {
     "data": {
      "text/html": [
       "<div>\n",
       "<style scoped>\n",
       "    .dataframe tbody tr th:only-of-type {\n",
       "        vertical-align: middle;\n",
       "    }\n",
       "\n",
       "    .dataframe tbody tr th {\n",
       "        vertical-align: top;\n",
       "    }\n",
       "\n",
       "    .dataframe thead th {\n",
       "        text-align: right;\n",
       "    }\n",
       "</style>\n",
       "<table border=\"1\" class=\"dataframe\">\n",
       "  <thead>\n",
       "    <tr style=\"text-align: right;\">\n",
       "      <th></th>\n",
       "      <th>lat</th>\n",
       "      <th>lon</th>\n",
       "      <th>surface_total_in_m2</th>\n",
       "      <th>preco_metro2</th>\n",
       "      <th>Belgrano</th>\n",
       "      <th>Nuñez</th>\n",
       "      <th>Palermo</th>\n",
       "      <th>Recoleta</th>\n",
       "      <th>Retiro</th>\n",
       "      <th>1</th>\n",
       "      <th>2</th>\n",
       "      <th>3</th>\n",
       "      <th>4</th>\n",
       "      <th>5</th>\n",
       "      <th>6</th>\n",
       "      <th>7</th>\n",
       "      <th>8</th>\n",
       "      <th>9</th>\n",
       "      <th>10</th>\n",
       "      <th>distância até o metrô</th>\n",
       "    </tr>\n",
       "  </thead>\n",
       "  <tbody>\n",
       "    <tr>\n",
       "      <th>10106</th>\n",
       "      <td>-34.55527</td>\n",
       "      <td>-58.455786</td>\n",
       "      <td>77.0</td>\n",
       "      <td>2337.662338</td>\n",
       "      <td>1</td>\n",
       "      <td>0</td>\n",
       "      <td>0</td>\n",
       "      <td>0</td>\n",
       "      <td>0</td>\n",
       "      <td>0</td>\n",
       "      <td>0</td>\n",
       "      <td>0</td>\n",
       "      <td>0</td>\n",
       "      <td>1</td>\n",
       "      <td>0</td>\n",
       "      <td>0</td>\n",
       "      <td>0</td>\n",
       "      <td>0</td>\n",
       "      <td>0</td>\n",
       "      <td>418.340602</td>\n",
       "    </tr>\n",
       "    <tr>\n",
       "      <th>11109</th>\n",
       "      <td>-34.56021</td>\n",
       "      <td>-58.469261</td>\n",
       "      <td>111.0</td>\n",
       "      <td>1891.891892</td>\n",
       "      <td>1</td>\n",
       "      <td>0</td>\n",
       "      <td>0</td>\n",
       "      <td>0</td>\n",
       "      <td>0</td>\n",
       "      <td>0</td>\n",
       "      <td>0</td>\n",
       "      <td>1</td>\n",
       "      <td>0</td>\n",
       "      <td>0</td>\n",
       "      <td>0</td>\n",
       "      <td>0</td>\n",
       "      <td>0</td>\n",
       "      <td>0</td>\n",
       "      <td>0</td>\n",
       "      <td>811.707924</td>\n",
       "    </tr>\n",
       "    <tr>\n",
       "      <th>11110</th>\n",
       "      <td>-34.56021</td>\n",
       "      <td>-58.469261</td>\n",
       "      <td>42.0</td>\n",
       "      <td>2719.285714</td>\n",
       "      <td>1</td>\n",
       "      <td>0</td>\n",
       "      <td>0</td>\n",
       "      <td>0</td>\n",
       "      <td>0</td>\n",
       "      <td>0</td>\n",
       "      <td>0</td>\n",
       "      <td>0</td>\n",
       "      <td>0</td>\n",
       "      <td>0</td>\n",
       "      <td>0</td>\n",
       "      <td>1</td>\n",
       "      <td>0</td>\n",
       "      <td>0</td>\n",
       "      <td>0</td>\n",
       "      <td>811.707924</td>\n",
       "    </tr>\n",
       "    <tr>\n",
       "      <th>11112</th>\n",
       "      <td>-34.56021</td>\n",
       "      <td>-58.469261</td>\n",
       "      <td>98.0</td>\n",
       "      <td>2346.938776</td>\n",
       "      <td>1</td>\n",
       "      <td>0</td>\n",
       "      <td>0</td>\n",
       "      <td>0</td>\n",
       "      <td>0</td>\n",
       "      <td>0</td>\n",
       "      <td>0</td>\n",
       "      <td>0</td>\n",
       "      <td>0</td>\n",
       "      <td>1</td>\n",
       "      <td>0</td>\n",
       "      <td>0</td>\n",
       "      <td>0</td>\n",
       "      <td>0</td>\n",
       "      <td>0</td>\n",
       "      <td>811.707924</td>\n",
       "    </tr>\n",
       "    <tr>\n",
       "      <th>11113</th>\n",
       "      <td>-34.56021</td>\n",
       "      <td>-58.469261</td>\n",
       "      <td>113.0</td>\n",
       "      <td>2327.433628</td>\n",
       "      <td>1</td>\n",
       "      <td>0</td>\n",
       "      <td>0</td>\n",
       "      <td>0</td>\n",
       "      <td>0</td>\n",
       "      <td>0</td>\n",
       "      <td>0</td>\n",
       "      <td>0</td>\n",
       "      <td>0</td>\n",
       "      <td>1</td>\n",
       "      <td>0</td>\n",
       "      <td>0</td>\n",
       "      <td>0</td>\n",
       "      <td>0</td>\n",
       "      <td>0</td>\n",
       "      <td>811.707924</td>\n",
       "    </tr>\n",
       "  </tbody>\n",
       "</table>\n",
       "</div>"
      ],
      "text/plain": [
       "            lat        lon  surface_total_in_m2  preco_metro2  Belgrano  \\\n",
       "10106 -34.55527 -58.455786                 77.0   2337.662338         1   \n",
       "11109 -34.56021 -58.469261                111.0   1891.891892         1   \n",
       "11110 -34.56021 -58.469261                 42.0   2719.285714         1   \n",
       "11112 -34.56021 -58.469261                 98.0   2346.938776         1   \n",
       "11113 -34.56021 -58.469261                113.0   2327.433628         1   \n",
       "\n",
       "       Nuñez  Palermo  Recoleta  Retiro  1  2  3  4  5  6  7  8  9  10  \\\n",
       "10106      0        0         0       0  0  0  0  0  1  0  0  0  0   0   \n",
       "11109      0        0         0       0  0  0  1  0  0  0  0  0  0   0   \n",
       "11110      0        0         0       0  0  0  0  0  0  0  1  0  0   0   \n",
       "11112      0        0         0       0  0  0  0  0  1  0  0  0  0   0   \n",
       "11113      0        0         0       0  0  0  0  0  1  0  0  0  0   0   \n",
       "\n",
       "       distância até o metrô  \n",
       "10106             418.340602  \n",
       "11109             811.707924  \n",
       "11110             811.707924  \n",
       "11112             811.707924  \n",
       "11113             811.707924  "
      ]
     },
     "execution_count": 50,
     "metadata": {},
     "output_type": "execute_result"
    }
   ],
   "source": [
    "df.head()"
   ]
  },
  {
   "cell_type": "markdown",
   "id": "d0be237f-5565-4c79-80dc-ca3e988b1cab",
   "metadata": {
    "jp-MarkdownHeadingCollapsed": true,
    "tags": []
   },
   "source": [
    "### Aplicando Modelo de Regressão Linear Múltipla"
   ]
  },
  {
   "cell_type": "code",
   "execution_count": 65,
   "id": "fe55ce1d-c41b-4b3d-ac22-324110cce28d",
   "metadata": {},
   "outputs": [],
   "source": [
    "from sklearn import linear_model\n",
    "model = linear_model.LinearRegression()\n",
    "model\n",
    "feature_cols = ['lat',                   'lon',\n",
    "         'surface_total_in_m2',              'Belgrano',\n",
    "                      'Nuñez',\n",
    "                     'Palermo',              'Recoleta',\n",
    "                      'Retiro',                       1,\n",
    "                             2,                       3,\n",
    "                             4,                       5,\n",
    "                             6,                       7,\n",
    "                             8,                       9,\n",
    "                            10, 'distância até o metrô']"
   ]
  },
  {
   "cell_type": "code",
   "execution_count": 66,
   "id": "11ed4aac-fd42-481a-b4d3-1fd2430d4857",
   "metadata": {},
   "outputs": [
    {
     "name": "stdout",
     "output_type": "stream",
     "text": [
      "Shape X: (4073, 19)\n",
      "Type X: <class 'pandas.core.frame.DataFrame'>\n",
      "Shape y: (4073,)\n",
      "Type y: <class 'pandas.core.series.Series'>\n"
     ]
    }
   ],
   "source": [
    "X = df[feature_cols]\n",
    "y = df['preco_metro2']\n",
    "\n",
    "print(\"Shape X:\", X.shape)\n",
    "print(\"Type X:\", type(X))\n",
    "print(\"Shape y:\", y.shape)\n",
    "print(\"Type y:\", type(y))"
   ]
  },
  {
   "cell_type": "code",
   "execution_count": 67,
   "id": "faf015c6-b84e-4816-a8ff-5bb0168ef180",
   "metadata": {},
   "outputs": [
    {
     "name": "stderr",
     "output_type": "stream",
     "text": [
      "C:\\Users\\RedRagon\\anaconda3\\envs\\ProjetoIntegrador2\\lib\\site-packages\\sklearn\\utils\\validation.py:1858: FutureWarning: Feature names only support names that are all strings. Got feature names with dtypes: ['int', 'str']. An error will be raised in 1.2.\n",
      "  warnings.warn(\n"
     ]
    },
    {
     "data": {
      "text/html": [
       "<style>#sk-container-id-2 {color: black;background-color: white;}#sk-container-id-2 pre{padding: 0;}#sk-container-id-2 div.sk-toggleable {background-color: white;}#sk-container-id-2 label.sk-toggleable__label {cursor: pointer;display: block;width: 100%;margin-bottom: 0;padding: 0.3em;box-sizing: border-box;text-align: center;}#sk-container-id-2 label.sk-toggleable__label-arrow:before {content: \"▸\";float: left;margin-right: 0.25em;color: #696969;}#sk-container-id-2 label.sk-toggleable__label-arrow:hover:before {color: black;}#sk-container-id-2 div.sk-estimator:hover label.sk-toggleable__label-arrow:before {color: black;}#sk-container-id-2 div.sk-toggleable__content {max-height: 0;max-width: 0;overflow: hidden;text-align: left;background-color: #f0f8ff;}#sk-container-id-2 div.sk-toggleable__content pre {margin: 0.2em;color: black;border-radius: 0.25em;background-color: #f0f8ff;}#sk-container-id-2 input.sk-toggleable__control:checked~div.sk-toggleable__content {max-height: 200px;max-width: 100%;overflow: auto;}#sk-container-id-2 input.sk-toggleable__control:checked~label.sk-toggleable__label-arrow:before {content: \"▾\";}#sk-container-id-2 div.sk-estimator input.sk-toggleable__control:checked~label.sk-toggleable__label {background-color: #d4ebff;}#sk-container-id-2 div.sk-label input.sk-toggleable__control:checked~label.sk-toggleable__label {background-color: #d4ebff;}#sk-container-id-2 input.sk-hidden--visually {border: 0;clip: rect(1px 1px 1px 1px);clip: rect(1px, 1px, 1px, 1px);height: 1px;margin: -1px;overflow: hidden;padding: 0;position: absolute;width: 1px;}#sk-container-id-2 div.sk-estimator {font-family: monospace;background-color: #f0f8ff;border: 1px dotted black;border-radius: 0.25em;box-sizing: border-box;margin-bottom: 0.5em;}#sk-container-id-2 div.sk-estimator:hover {background-color: #d4ebff;}#sk-container-id-2 div.sk-parallel-item::after {content: \"\";width: 100%;border-bottom: 1px solid gray;flex-grow: 1;}#sk-container-id-2 div.sk-label:hover label.sk-toggleable__label {background-color: #d4ebff;}#sk-container-id-2 div.sk-serial::before {content: \"\";position: absolute;border-left: 1px solid gray;box-sizing: border-box;top: 0;bottom: 0;left: 50%;z-index: 0;}#sk-container-id-2 div.sk-serial {display: flex;flex-direction: column;align-items: center;background-color: white;padding-right: 0.2em;padding-left: 0.2em;position: relative;}#sk-container-id-2 div.sk-item {position: relative;z-index: 1;}#sk-container-id-2 div.sk-parallel {display: flex;align-items: stretch;justify-content: center;background-color: white;position: relative;}#sk-container-id-2 div.sk-item::before, #sk-container-id-2 div.sk-parallel-item::before {content: \"\";position: absolute;border-left: 1px solid gray;box-sizing: border-box;top: 0;bottom: 0;left: 50%;z-index: -1;}#sk-container-id-2 div.sk-parallel-item {display: flex;flex-direction: column;z-index: 1;position: relative;background-color: white;}#sk-container-id-2 div.sk-parallel-item:first-child::after {align-self: flex-end;width: 50%;}#sk-container-id-2 div.sk-parallel-item:last-child::after {align-self: flex-start;width: 50%;}#sk-container-id-2 div.sk-parallel-item:only-child::after {width: 0;}#sk-container-id-2 div.sk-dashed-wrapped {border: 1px dashed gray;margin: 0 0.4em 0.5em 0.4em;box-sizing: border-box;padding-bottom: 0.4em;background-color: white;}#sk-container-id-2 div.sk-label label {font-family: monospace;font-weight: bold;display: inline-block;line-height: 1.2em;}#sk-container-id-2 div.sk-label-container {text-align: center;}#sk-container-id-2 div.sk-container {/* jupyter's `normalize.less` sets `[hidden] { display: none; }` but bootstrap.min.css set `[hidden] { display: none !important; }` so we also need the `!important` here to be able to override the default hidden behavior on the sphinx rendered scikit-learn.org. See: https://github.com/scikit-learn/scikit-learn/issues/21755 */display: inline-block !important;position: relative;}#sk-container-id-2 div.sk-text-repr-fallback {display: none;}</style><div id=\"sk-container-id-2\" class=\"sk-top-container\"><div class=\"sk-text-repr-fallback\"><pre>LinearRegression()</pre><b>In a Jupyter environment, please rerun this cell to show the HTML representation or trust the notebook. <br />On GitHub, the HTML representation is unable to render, please try loading this page with nbviewer.org.</b></div><div class=\"sk-container\" hidden><div class=\"sk-item\"><div class=\"sk-estimator sk-toggleable\"><input class=\"sk-toggleable__control sk-hidden--visually\" id=\"sk-estimator-id-2\" type=\"checkbox\" checked><label for=\"sk-estimator-id-2\" class=\"sk-toggleable__label sk-toggleable__label-arrow\">LinearRegression</label><div class=\"sk-toggleable__content\"><pre>LinearRegression()</pre></div></div></div></div></div>"
      ],
      "text/plain": [
       "LinearRegression()"
      ]
     },
     "execution_count": 67,
     "metadata": {},
     "output_type": "execute_result"
    }
   ],
   "source": [
    "from sklearn.model_selection import train_test_split\n",
    "X_train, X_test, y_train, y_test = train_test_split(X, y, \n",
    "                                                    random_state = 1\n",
    "                                                   )\n",
    "model.fit(X_train,y_train)"
   ]
  },
  {
   "cell_type": "code",
   "execution_count": 68,
   "id": "44053ba7-b336-426b-b5c7-f5e6361df280",
   "metadata": {},
   "outputs": [
    {
     "data": {
      "text/plain": [
       "array([ 2.12541648e+03,  8.53552438e+02,  6.73685527e-01, -1.32744327e+01,\n",
       "        1.57748102e+00,  4.24154536e+01, -3.86304148e+01,  7.91191290e+00,\n",
       "       -1.95755637e+03, -9.49785736e+02, -6.15016378e+02, -3.81173502e+02,\n",
       "       -1.63082543e+02,  2.55846755e+01,  2.39216505e+02,  5.20873627e+02,\n",
       "        9.80344911e+02,  2.30059481e+03,  4.43974765e-03])"
      ]
     },
     "execution_count": 68,
     "metadata": {},
     "output_type": "execute_result"
    }
   ],
   "source": [
    "model.coef_"
   ]
  },
  {
   "cell_type": "code",
   "execution_count": 69,
   "id": "33286eb8-3d71-429e-b24d-94d1513510a0",
   "metadata": {},
   "outputs": [
    {
     "data": {
      "text/plain": [
       "125753.57924141317"
      ]
     },
     "execution_count": 69,
     "metadata": {},
     "output_type": "execute_result"
    }
   ],
   "source": [
    "model.intercept_"
   ]
  },
  {
   "cell_type": "code",
   "execution_count": 70,
   "id": "ea4dc91f-0c0d-4a94-a88d-8a04f233861e",
   "metadata": {},
   "outputs": [
    {
     "name": "stderr",
     "output_type": "stream",
     "text": [
      "C:\\Users\\RedRagon\\anaconda3\\envs\\ProjetoIntegrador2\\lib\\site-packages\\sklearn\\utils\\validation.py:1858: FutureWarning: Feature names only support names that are all strings. Got feature names with dtypes: ['int', 'str']. An error will be raised in 1.2.\n",
      "  warnings.warn(\n"
     ]
    },
    {
     "data": {
      "text/plain": [
       "array([2291.53461134, 1842.25102681, 2649.99960813, ..., 3040.32690731,\n",
       "       3439.75741783, 2944.33904124])"
      ]
     },
     "execution_count": 70,
     "metadata": {},
     "output_type": "execute_result"
    }
   ],
   "source": [
    "model.predict(X)"
   ]
  },
  {
   "cell_type": "code",
   "execution_count": 71,
   "id": "0b1842bb-093f-477b-ae2b-2619641db8b5",
   "metadata": {},
   "outputs": [
    {
     "data": {
      "text/plain": [
       "array([3374.44961848,  468.04631963, 2282.36953027, ..., 2646.07330956,\n",
       "       2436.24111581, 2710.2205498 ])"
      ]
     },
     "execution_count": 71,
     "metadata": {},
     "output_type": "execute_result"
    }
   ],
   "source": [
    "test_sklearn = np.array(X_test)\n",
    "model.predict(test_sklearn)"
   ]
  },
  {
   "cell_type": "code",
   "execution_count": 78,
   "id": "d3784800-460d-4ca8-bc08-e15b17c0a700",
   "metadata": {},
   "outputs": [
    {
     "name": "stderr",
     "output_type": "stream",
     "text": [
      "C:\\Users\\RedRagon\\anaconda3\\envs\\ProjetoIntegrador2\\lib\\site-packages\\sklearn\\utils\\validation.py:1858: FutureWarning: Feature names only support names that are all strings. Got feature names with dtypes: ['int', 'str']. An error will be raised in 1.2.\n",
      "  warnings.warn(\n"
     ]
    },
    {
     "data": {
      "text/plain": [
       "array([4889.88818551, 2802.36408075, 2935.24955428, ..., 4765.41373753,\n",
       "       2445.70850514, 3354.30273112])"
      ]
     },
     "execution_count": 78,
     "metadata": {},
     "output_type": "execute_result"
    }
   ],
   "source": [
    "y_pred = model.predict(X_test)\n",
    "y_pred"
   ]
  },
  {
   "cell_type": "code",
   "execution_count": 79,
   "id": "bd3c7fe7-b15c-4b75-b788-1f30f89e42bc",
   "metadata": {},
   "outputs": [
    {
     "name": "stdout",
     "output_type": "stream",
     "text": [
      "MAE: 198.74\n",
      "MSE: 129186.25\n",
      "RMSE: 359.42\n",
      "R2: 0.89\n",
      "MAPE 0.11\n"
     ]
    }
   ],
   "source": [
    "from sklearn.metrics import mean_absolute_error, mean_squared_error, r2_score, mean_absolute_percentage_error\n",
    "print ('MAE:', mean_absolute_error(y_test, y_pred).round(2))\n",
    "print ('MSE:', mean_squared_error(y_test, y_pred).round(2))\n",
    "print ('RMSE:', np.sqrt(mean_squared_error(y_test, y_pred)).round(2))\n",
    "print ('R2:', r2_score(y_test, y_pred).round(2))\n",
    "print('MAPE', mean_absolute_percentage_error(y_test, y_pred).round(2))"
   ]
  },
  {
   "cell_type": "markdown",
   "id": "e31082cf-3502-47f9-9e7f-662f8429c8b0",
   "metadata": {},
   "source": [
    "----"
   ]
  },
  {
   "cell_type": "code",
   "execution_count": 77,
   "id": "10a676d1-7522-49c9-8cce-aeb4760eae2c",
   "metadata": {},
   "outputs": [
    {
     "name": "stderr",
     "output_type": "stream",
     "text": [
      "C:\\Users\\RedRagon\\anaconda3\\envs\\ProjetoIntegrador2\\lib\\site-packages\\sklearn\\utils\\validation.py:1858: FutureWarning: Feature names only support names that are all strings. Got feature names with dtypes: ['int', 'str']. An error will be raised in 1.2.\n",
      "  warnings.warn(\n",
      "C:\\Users\\RedRagon\\anaconda3\\envs\\ProjetoIntegrador2\\lib\\site-packages\\sklearn\\utils\\validation.py:1858: FutureWarning: Feature names only support names that are all strings. Got feature names with dtypes: ['int', 'str']. An error will be raised in 1.2.\n",
      "  warnings.warn(\n",
      "C:\\Users\\RedRagon\\anaconda3\\envs\\ProjetoIntegrador2\\lib\\site-packages\\sklearn\\utils\\validation.py:1858: FutureWarning: Feature names only support names that are all strings. Got feature names with dtypes: ['int', 'str']. An error will be raised in 1.2.\n",
      "  warnings.warn(\n",
      "C:\\Users\\RedRagon\\anaconda3\\envs\\ProjetoIntegrador2\\lib\\site-packages\\sklearn\\utils\\validation.py:1858: FutureWarning: Feature names only support names that are all strings. Got feature names with dtypes: ['int', 'str']. An error will be raised in 1.2.\n",
      "  warnings.warn(\n",
      "C:\\Users\\RedRagon\\anaconda3\\envs\\ProjetoIntegrador2\\lib\\site-packages\\sklearn\\utils\\validation.py:1858: FutureWarning: Feature names only support names that are all strings. Got feature names with dtypes: ['int', 'str']. An error will be raised in 1.2.\n",
      "  warnings.warn(\n",
      "C:\\Users\\RedRagon\\anaconda3\\envs\\ProjetoIntegrador2\\lib\\site-packages\\sklearn\\utils\\validation.py:1858: FutureWarning: Feature names only support names that are all strings. Got feature names with dtypes: ['int', 'str']. An error will be raised in 1.2.\n",
      "  warnings.warn(\n",
      "C:\\Users\\RedRagon\\anaconda3\\envs\\ProjetoIntegrador2\\lib\\site-packages\\sklearn\\utils\\validation.py:1858: FutureWarning: Feature names only support names that are all strings. Got feature names with dtypes: ['int', 'str']. An error will be raised in 1.2.\n",
      "  warnings.warn(\n",
      "C:\\Users\\RedRagon\\anaconda3\\envs\\ProjetoIntegrador2\\lib\\site-packages\\sklearn\\utils\\validation.py:1858: FutureWarning: Feature names only support names that are all strings. Got feature names with dtypes: ['int', 'str']. An error will be raised in 1.2.\n",
      "  warnings.warn(\n",
      "C:\\Users\\RedRagon\\anaconda3\\envs\\ProjetoIntegrador2\\lib\\site-packages\\sklearn\\utils\\validation.py:1858: FutureWarning: Feature names only support names that are all strings. Got feature names with dtypes: ['int', 'str']. An error will be raised in 1.2.\n",
      "  warnings.warn(\n",
      "C:\\Users\\RedRagon\\anaconda3\\envs\\ProjetoIntegrador2\\lib\\site-packages\\sklearn\\utils\\validation.py:1858: FutureWarning: Feature names only support names that are all strings. Got feature names with dtypes: ['int', 'str']. An error will be raised in 1.2.\n",
      "  warnings.warn(\n"
     ]
    },
    {
     "data": {
      "text/plain": [
       "(array([0.89718315, 0.9114283 , 0.90262508, 0.88007025, 0.87836489]),\n",
       " 0.893934333828778)"
      ]
     },
     "execution_count": 77,
     "metadata": {},
     "output_type": "execute_result"
    }
   ],
   "source": [
    "import random\n",
    "import matplotlib.pyplot as plt\n",
    "import pandas as pd\n",
    "from sklearn import datasets, linear_model\n",
    "from sklearn.model_selection import cross_val_score, train_test_split, KFold\n",
    "from sklearn.metrics import r2_score\n",
    "from sklearn.preprocessing import StandardScaler\n",
    "  \n",
    "random.seed(3)\n",
    "feature_cols = ['lat',                   'lon',\n",
    "         'surface_total_in_m2',              'Belgrano',\n",
    "                      'Nuñez',\n",
    "                     'Palermo',              'Recoleta',\n",
    "                      'Retiro',                       1,\n",
    "                             2,                       3,\n",
    "                             4,                       5,\n",
    "                             6,                       7,\n",
    "                             8,                       9,\n",
    "                            10, 'distância até o metrô']\n",
    "X = df[feature_cols]\n",
    "y = df.preco_metro2\n",
    "\n",
    "X_train, X_test, y_train, y_test = train_test_split(X, y, test_size = 0.30, random_state = 42)\n",
    "\n",
    "lr = linear_model.LinearRegression()\n",
    "cv = KFold(5, \n",
    "           shuffle = True\n",
    "          )\n",
    "scores = cross_val_score(lr, \n",
    "                         X_train, \n",
    "                         y_train, \n",
    "                         cv = cv, \n",
    "                         scoring = 'r2'\n",
    "                        )\n",
    "scores, scores.mean()"
   ]
  },
  {
   "cell_type": "markdown",
   "id": "80f16b8a-55fa-4dd8-aef8-0853d058f32c",
   "metadata": {
    "jp-MarkdownHeadingCollapsed": true,
    "tags": []
   },
   "source": [
    "### Aplicando Modelo de Regressão Lasso"
   ]
  },
  {
   "cell_type": "code",
   "execution_count": 80,
   "id": "901af94b-d005-4e43-a5a8-fd5b8b8cace0",
   "metadata": {},
   "outputs": [
    {
     "name": "stderr",
     "output_type": "stream",
     "text": [
      "C:\\Users\\RedRagon\\anaconda3\\envs\\ProjetoIntegrador2\\lib\\site-packages\\sklearn\\utils\\validation.py:1858: FutureWarning: Feature names only support names that are all strings. Got feature names with dtypes: ['int', 'str']. An error will be raised in 1.2.\n",
      "  warnings.warn(\n"
     ]
    },
    {
     "data": {
      "text/plain": [
       "array([4889.88818551, 2802.36408075, 2935.24955428, ..., 3617.37165826,\n",
       "       3413.48454647, 3415.23514164])"
      ]
     },
     "execution_count": 80,
     "metadata": {},
     "output_type": "execute_result"
    }
   ],
   "source": [
    "# Ajustamos o modelo usando somente as variables quantitativas e MCO\n",
    "feature_cols = ['lat',                   'lon',\n",
    "         'surface_total_in_m2',              'Belgrano',\n",
    "                      'Nuñez',\n",
    "                     'Palermo',              'Recoleta',\n",
    "                      'Retiro',                       1,\n",
    "                             2,                       3,\n",
    "                             4,                       5,\n",
    "                             6,                       7,\n",
    "                             8,                       9,\n",
    "                            10, 'distância até o metrô']\n",
    "X = df[feature_cols]\n",
    "y = df['preco_metro2']\n",
    "\n",
    "X_train, X_test, y_train, y_test = train_test_split(X, y, test_size = 0.35, \n",
    "                                                    random_state = 42\n",
    "                                                   )\n",
    "y_pred = model.predict(X_test)\n",
    "y_pred"
   ]
  },
  {
   "cell_type": "code",
   "execution_count": 81,
   "id": "4e10664c-05f6-4e0c-bd58-30c2a177b624",
   "metadata": {},
   "outputs": [
    {
     "name": "stdout",
     "output_type": "stream",
     "text": [
      "Score Lasso: 0.8877122185958805\n"
     ]
    },
    {
     "name": "stderr",
     "output_type": "stream",
     "text": [
      "C:\\Users\\RedRagon\\anaconda3\\envs\\ProjetoIntegrador2\\lib\\site-packages\\sklearn\\utils\\validation.py:1858: FutureWarning: Feature names only support names that are all strings. Got feature names with dtypes: ['int', 'str']. An error will be raised in 1.2.\n",
      "  warnings.warn(\n",
      "C:\\Users\\RedRagon\\anaconda3\\envs\\ProjetoIntegrador2\\lib\\site-packages\\sklearn\\linear_model\\_coordinate_descent.py:634: UserWarning: Coordinate descent without L1 regularization may lead to unexpected results and is discouraged. Set l1_ratio > 0 to add L1 regularization.\n",
      "  model = cd_fast.enet_coordinate_descent_gram(\n",
      "C:\\Users\\RedRagon\\anaconda3\\envs\\ProjetoIntegrador2\\lib\\site-packages\\sklearn\\linear_model\\_coordinate_descent.py:634: ConvergenceWarning: Objective did not converge. You might want to increase the number of iterations. Duality gap: 98999966.79249859, tolerance: 192078.44368758638\n",
      "  model = cd_fast.enet_coordinate_descent_gram(\n",
      "C:\\Users\\RedRagon\\anaconda3\\envs\\ProjetoIntegrador2\\lib\\site-packages\\sklearn\\linear_model\\_coordinate_descent.py:634: UserWarning: Coordinate descent without L1 regularization may lead to unexpected results and is discouraged. Set l1_ratio > 0 to add L1 regularization.\n",
      "  model = cd_fast.enet_coordinate_descent_gram(\n",
      "C:\\Users\\RedRagon\\anaconda3\\envs\\ProjetoIntegrador2\\lib\\site-packages\\sklearn\\linear_model\\_coordinate_descent.py:634: ConvergenceWarning: Objective did not converge. You might want to increase the number of iterations. Duality gap: 99977398.31064963, tolerance: 184840.92517842914\n",
      "  model = cd_fast.enet_coordinate_descent_gram(\n",
      "C:\\Users\\RedRagon\\anaconda3\\envs\\ProjetoIntegrador2\\lib\\site-packages\\sklearn\\linear_model\\_coordinate_descent.py:634: UserWarning: Coordinate descent without L1 regularization may lead to unexpected results and is discouraged. Set l1_ratio > 0 to add L1 regularization.\n",
      "  model = cd_fast.enet_coordinate_descent_gram(\n",
      "C:\\Users\\RedRagon\\anaconda3\\envs\\ProjetoIntegrador2\\lib\\site-packages\\sklearn\\linear_model\\_coordinate_descent.py:634: ConvergenceWarning: Objective did not converge. You might want to increase the number of iterations. Duality gap: 90361694.97010398, tolerance: 178539.81991183216\n",
      "  model = cd_fast.enet_coordinate_descent_gram(\n",
      "C:\\Users\\RedRagon\\anaconda3\\envs\\ProjetoIntegrador2\\lib\\site-packages\\sklearn\\linear_model\\_base.py:141: FutureWarning: 'normalize' was deprecated in version 1.0 and will be removed in 1.2.\n",
      "If you wish to scale the data, use Pipeline with a StandardScaler in a preprocessing stage. To reproduce the previous behavior:\n",
      "\n",
      "from sklearn.pipeline import make_pipeline\n",
      "\n",
      "model = make_pipeline(StandardScaler(with_mean=False), Lasso())\n",
      "\n",
      "If you wish to pass a sample_weight parameter, you need to pass it as a fit parameter to each step of the pipeline as follows:\n",
      "\n",
      "kwargs = {s[0] + '__sample_weight': sample_weight for s in model.steps}\n",
      "model.fit(X, y, **kwargs)\n",
      "\n",
      "Set parameter alpha to: original_alpha * np.sqrt(n_samples). \n",
      "  warnings.warn(\n",
      "C:\\Users\\RedRagon\\anaconda3\\envs\\ProjetoIntegrador2\\lib\\site-packages\\sklearn\\utils\\validation.py:1858: FutureWarning: Feature names only support names that are all strings. Got feature names with dtypes: ['int', 'str']. An error will be raised in 1.2.\n",
      "  warnings.warn(\n"
     ]
    }
   ],
   "source": [
    "lm_lasso = linear_model.LassoCV(alphas = [0,0.025,0.5],\n",
    "                                normalize = True, \n",
    "                                cv = 3\n",
    "                               )\n",
    "\n",
    "model_5 = lm_lasso.fit(X_train, y_train)\n",
    "\n",
    "print('Score Lasso:', model_5.score(X_test, y_test))"
   ]
  },
  {
   "cell_type": "markdown",
   "id": "cb15384c-077c-40a1-af37-b3467d74f67d",
   "metadata": {
    "jp-MarkdownHeadingCollapsed": true,
    "tags": []
   },
   "source": [
    "### Aplicando Modelo de Regressão Ridge CV"
   ]
  },
  {
   "cell_type": "code",
   "execution_count": 83,
   "id": "543daf83-fc99-4f14-9b95-18d0fb487ffb",
   "metadata": {},
   "outputs": [
    {
     "name": "stderr",
     "output_type": "stream",
     "text": [
      "C:\\Users\\RedRagon\\anaconda3\\envs\\ProjetoIntegrador2\\lib\\site-packages\\sklearn\\utils\\validation.py:1858: FutureWarning: Feature names only support names that are all strings. Got feature names with dtypes: ['int', 'str']. An error will be raised in 1.2.\n",
      "  warnings.warn(\n"
     ]
    },
    {
     "data": {
      "text/plain": [
       "array([4889.88818551, 2802.36408075, 2935.24955428, ..., 3617.37165826,\n",
       "       3413.48454647, 3415.23514164])"
      ]
     },
     "execution_count": 83,
     "metadata": {},
     "output_type": "execute_result"
    }
   ],
   "source": [
    "feature_cols = ['lat',                   'lon',\n",
    "         'surface_total_in_m2',              'Belgrano',\n",
    "                      'Nuñez',\n",
    "                     'Palermo',              'Recoleta',\n",
    "                      'Retiro',                       1,\n",
    "                             2,                       3,\n",
    "                             4,                       5,\n",
    "                             6,                       7,\n",
    "                             8,                       9,\n",
    "                            10, 'distância até o metrô']\n",
    "X = df[feature_cols]\n",
    "y = df['preco_metro2']\n",
    "\n",
    "X_train, X_test, y_train, y_test = train_test_split(X, y, test_size = 0.35, \n",
    "                                                    random_state = 42\n",
    "                                                   )\n",
    "y_pred = model.predict(X_test)\n",
    "y_pred"
   ]
  },
  {
   "cell_type": "code",
   "execution_count": 84,
   "id": "1c6f2a25-39f5-448d-b27c-ca84e9536a4b",
   "metadata": {},
   "outputs": [
    {
     "name": "stdout",
     "output_type": "stream",
     "text": [
      "Score Ridge CV: 0.8788085331792912\n"
     ]
    },
    {
     "name": "stderr",
     "output_type": "stream",
     "text": [
      "C:\\Users\\RedRagon\\anaconda3\\envs\\ProjetoIntegrador2\\lib\\site-packages\\sklearn\\linear_model\\_base.py:141: FutureWarning: 'normalize' was deprecated in version 1.0 and will be removed in 1.2.\n",
      "If you wish to scale the data, use Pipeline with a StandardScaler in a preprocessing stage. To reproduce the previous behavior:\n",
      "\n",
      "from sklearn.pipeline import make_pipeline\n",
      "\n",
      "model = make_pipeline(StandardScaler(with_mean=False), _RidgeGCV())\n",
      "\n",
      "If you wish to pass a sample_weight parameter, you need to pass it as a fit parameter to each step of the pipeline as follows:\n",
      "\n",
      "kwargs = {s[0] + '__sample_weight': sample_weight for s in model.steps}\n",
      "model.fit(X, y, **kwargs)\n",
      "\n",
      "Set parameter alphas to: original_alphas * n_samples. \n",
      "  warnings.warn(\n",
      "C:\\Users\\RedRagon\\anaconda3\\envs\\ProjetoIntegrador2\\lib\\site-packages\\sklearn\\utils\\validation.py:1858: FutureWarning: Feature names only support names that are all strings. Got feature names with dtypes: ['int', 'str']. An error will be raised in 1.2.\n",
      "  warnings.warn(\n",
      "C:\\Users\\RedRagon\\anaconda3\\envs\\ProjetoIntegrador2\\lib\\site-packages\\sklearn\\utils\\validation.py:1858: FutureWarning: Feature names only support names that are all strings. Got feature names with dtypes: ['int', 'str']. An error will be raised in 1.2.\n",
      "  warnings.warn(\n"
     ]
    }
   ],
   "source": [
    "\n",
    "lm_ridge = linear_model.RidgeCV(alphas = [0.1, 1, 10], \n",
    "                                normalize = True\n",
    "                               ) \n",
    "\n",
    "model_2 = lm_ridge.fit(X_train, y_train)\n",
    "\n",
    "print('Score Ridge CV:', model_2.score(X_test, y_test))\n"
   ]
  }
 ],
 "metadata": {
  "kernelspec": {
   "display_name": "Python 3 (ipykernel)",
   "language": "python",
   "name": "python3"
  },
  "language_info": {
   "codemirror_mode": {
    "name": "ipython",
    "version": 3
   },
   "file_extension": ".py",
   "mimetype": "text/x-python",
   "name": "python",
   "nbconvert_exporter": "python",
   "pygments_lexer": "ipython3",
   "version": "3.9.12"
  }
 },
 "nbformat": 4,
 "nbformat_minor": 5
}
