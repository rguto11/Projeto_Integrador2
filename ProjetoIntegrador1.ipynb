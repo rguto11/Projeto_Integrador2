{
 "cells": [
  {
   "cell_type": "markdown",
   "metadata": {
    "id": "THJuHQt9GPI0",
    "tags": []
   },
   "source": [
    "# Projeto Integrador I - EDA\n",
    "\n",
    "A imobiliária Properati publica periodicamente informações sobre ofertas de imóveis para venda e aluguel. Deve aconselhar o agente imobiliário a desenvolver um modelo de regressão que permita prever o preço por metro quadrado de um imóvel. O objetivo final é que o modelo desenvolvido por eles seja utilizado como avaliador automático a ser aplicado nos próximos imóveis que forem comercializados pela empresa. Para isso, a empresa disponibiliza um conjunto de dados correspondente ao primeiro semestre de 2017.\n",
    "\n",
    "\n",
    "**Objetivos:**\n",
    "\n",
    "\n",
    "*   Executar uma limpeza do conjunto de dados fornecido. Em particular, você precisará elaborar estratégias para lidar com dados ausentes em determinadas variáveis.\n",
    "*   Realizar uma análise descritiva das principais variáveis.\n",
    "*   Criar novas colunas de determinados recursos que podem ter valor preditivo.\n"
   ]
  },
  {
   "cell_type": "markdown",
   "metadata": {
    "id": "QENaxlhzBvYR",
    "tags": []
   },
   "source": [
    "## Importando a Base de Dados"
   ]
  },
  {
   "cell_type": "code",
   "execution_count": 1,
   "metadata": {
    "id": "Wd0zGWh3Bu8s"
   },
   "outputs": [],
   "source": [
    "import pandas as pd\n",
    "import numpy as np\n",
    "import matplotlib.pyplot as plt\n",
    "import seaborn as sns"
   ]
  },
  {
   "cell_type": "code",
   "execution_count": 2,
   "metadata": {
    "id": "-hrYdlbVC6MX"
   },
   "outputs": [],
   "source": [
    "prop = pd.read_csv(r\"C:\\Users\\RedRagon\\Documents\\ProjetoIntegrador1\\Data\\Real_State_Properati.csv\",sep='\\t')"
   ]
  },
  {
   "cell_type": "markdown",
   "metadata": {
    "id": "5s8xLmr8D7T7"
   },
   "source": [
    "## Entendo as informações que possuímos na base\n",
    "\n"
   ]
  },
  {
   "cell_type": "markdown",
   "metadata": {
    "id": "0hw04w_VHo6B"
   },
   "source": [
    "### Visualizando a base"
   ]
  },
  {
   "cell_type": "code",
   "execution_count": 5,
   "metadata": {
    "colab": {
     "base_uri": "https://localhost:8080/"
    },
    "id": "TgA7wDYTIJgi",
    "outputId": "601b6c1f-9e7c-49fd-e1cd-f9f74849b041"
   },
   "outputs": [
    {
     "data": {
      "text/plain": [
       "(17223, 9)"
      ]
     },
     "execution_count": 5,
     "metadata": {},
     "output_type": "execute_result"
    }
   ],
   "source": [
    "prop.shape"
   ]
  },
  {
   "cell_type": "code",
   "execution_count": 6,
   "metadata": {
    "colab": {
     "base_uri": "https://localhost:8080/",
     "height": 206
    },
    "id": "mZZrci2nFliX",
    "outputId": "bcde844b-6bb6-419a-b94b-56c4c92541d7"
   },
   "outputs": [
    {
     "data": {
      "text/html": [
       "<div>\n",
       "<style scoped>\n",
       "    .dataframe tbody tr th:only-of-type {\n",
       "        vertical-align: middle;\n",
       "    }\n",
       "\n",
       "    .dataframe tbody tr th {\n",
       "        vertical-align: top;\n",
       "    }\n",
       "\n",
       "    .dataframe thead th {\n",
       "        text-align: right;\n",
       "    }\n",
       "</style>\n",
       "<table border=\"1\" class=\"dataframe\">\n",
       "  <thead>\n",
       "    <tr style=\"text-align: right;\">\n",
       "      <th></th>\n",
       "      <th>property_type</th>\n",
       "      <th>place_name</th>\n",
       "      <th>country_name</th>\n",
       "      <th>state_name</th>\n",
       "      <th>lat</th>\n",
       "      <th>lon</th>\n",
       "      <th>price</th>\n",
       "      <th>currency</th>\n",
       "      <th>surface_total_in_m2</th>\n",
       "    </tr>\n",
       "  </thead>\n",
       "  <tbody>\n",
       "    <tr>\n",
       "      <th>0</th>\n",
       "      <td>PH</td>\n",
       "      <td>Mataderos</td>\n",
       "      <td>Argentina</td>\n",
       "      <td>Capital Federal</td>\n",
       "      <td>-34.661824</td>\n",
       "      <td>-58.508839</td>\n",
       "      <td>62000.0</td>\n",
       "      <td>USD</td>\n",
       "      <td>55.0</td>\n",
       "    </tr>\n",
       "    <tr>\n",
       "      <th>1</th>\n",
       "      <td>apartment</td>\n",
       "      <td>Mataderos</td>\n",
       "      <td>Argentina</td>\n",
       "      <td>Capital Federal</td>\n",
       "      <td>-34.652262</td>\n",
       "      <td>-58.522982</td>\n",
       "      <td>72000.0</td>\n",
       "      <td>USD</td>\n",
       "      <td>55.0</td>\n",
       "    </tr>\n",
       "    <tr>\n",
       "      <th>2</th>\n",
       "      <td>apartment</td>\n",
       "      <td>Belgrano</td>\n",
       "      <td>Argentina</td>\n",
       "      <td>Capital Federal</td>\n",
       "      <td>-34.559873</td>\n",
       "      <td>-58.443362</td>\n",
       "      <td>138000.0</td>\n",
       "      <td>USD</td>\n",
       "      <td>45.0</td>\n",
       "    </tr>\n",
       "    <tr>\n",
       "      <th>3</th>\n",
       "      <td>apartment</td>\n",
       "      <td>Belgrano</td>\n",
       "      <td>Argentina</td>\n",
       "      <td>Capital Federal</td>\n",
       "      <td>-34.559873</td>\n",
       "      <td>-58.443362</td>\n",
       "      <td>195000.0</td>\n",
       "      <td>USD</td>\n",
       "      <td>65.0</td>\n",
       "    </tr>\n",
       "    <tr>\n",
       "      <th>4</th>\n",
       "      <td>PH</td>\n",
       "      <td>Mataderos</td>\n",
       "      <td>Argentina</td>\n",
       "      <td>Capital Federal</td>\n",
       "      <td>-34.652356</td>\n",
       "      <td>-58.501624</td>\n",
       "      <td>239000.0</td>\n",
       "      <td>USD</td>\n",
       "      <td>140.0</td>\n",
       "    </tr>\n",
       "  </tbody>\n",
       "</table>\n",
       "</div>"
      ],
      "text/plain": [
       "  property_type place_name country_name       state_name        lat  \\\n",
       "0            PH  Mataderos    Argentina  Capital Federal -34.661824   \n",
       "1     apartment  Mataderos    Argentina  Capital Federal -34.652262   \n",
       "2     apartment   Belgrano    Argentina  Capital Federal -34.559873   \n",
       "3     apartment   Belgrano    Argentina  Capital Federal -34.559873   \n",
       "4            PH  Mataderos    Argentina  Capital Federal -34.652356   \n",
       "\n",
       "         lon     price currency  surface_total_in_m2  \n",
       "0 -58.508839   62000.0      USD                 55.0  \n",
       "1 -58.522982   72000.0      USD                 55.0  \n",
       "2 -58.443362  138000.0      USD                 45.0  \n",
       "3 -58.443362  195000.0      USD                 65.0  \n",
       "4 -58.501624  239000.0      USD                140.0  "
      ]
     },
     "execution_count": 6,
     "metadata": {},
     "output_type": "execute_result"
    }
   ],
   "source": [
    "prop.head(5)"
   ]
  },
  {
   "cell_type": "markdown",
   "metadata": {
    "id": "M10moFZXHs8z"
   },
   "source": [
    "### Verificando se existem valores vazios ou nulos e os tipos das colunas"
   ]
  },
  {
   "cell_type": "code",
   "execution_count": 7,
   "metadata": {
    "colab": {
     "base_uri": "https://localhost:8080/"
    },
    "id": "wUXX6Cr3Flm_",
    "outputId": "3c34b356-53b4-48e2-997e-766be388024f"
   },
   "outputs": [
    {
     "data": {
      "text/plain": [
       "property_type          0\n",
       "place_name             0\n",
       "country_name           0\n",
       "state_name             0\n",
       "lat                    0\n",
       "lon                    0\n",
       "price                  0\n",
       "currency               0\n",
       "surface_total_in_m2    0\n",
       "dtype: int64"
      ]
     },
     "execution_count": 7,
     "metadata": {},
     "output_type": "execute_result"
    }
   ],
   "source": [
    "prop.isna().sum()"
   ]
  },
  {
   "cell_type": "code",
   "execution_count": 8,
   "metadata": {
    "colab": {
     "base_uri": "https://localhost:8080/"
    },
    "id": "SSRC1b1GFuaB",
    "outputId": "7848c309-79c0-4634-a0bf-e80c6bca1b5b"
   },
   "outputs": [
    {
     "name": "stdout",
     "output_type": "stream",
     "text": [
      "<class 'pandas.core.frame.DataFrame'>\n",
      "RangeIndex: 17223 entries, 0 to 17222\n",
      "Data columns (total 9 columns):\n",
      " #   Column               Non-Null Count  Dtype  \n",
      "---  ------               --------------  -----  \n",
      " 0   property_type        17223 non-null  object \n",
      " 1   place_name           17223 non-null  object \n",
      " 2   country_name         17223 non-null  object \n",
      " 3   state_name           17223 non-null  object \n",
      " 4   lat                  17223 non-null  float64\n",
      " 5   lon                  17223 non-null  float64\n",
      " 6   price                17223 non-null  float64\n",
      " 7   currency             17223 non-null  object \n",
      " 8   surface_total_in_m2  17223 non-null  float64\n",
      "dtypes: float64(4), object(5)\n",
      "memory usage: 1.2+ MB\n"
     ]
    }
   ],
   "source": [
    "prop.info()"
   ]
  },
  {
   "cell_type": "markdown",
   "metadata": {
    "id": "NB-4IDYAH3FY"
   },
   "source": [
    "### Verificando quantos itens distintos possuímos nas colunas"
   ]
  },
  {
   "cell_type": "code",
   "execution_count": 9,
   "metadata": {
    "colab": {
     "base_uri": "https://localhost:8080/"
    },
    "id": "oZGe4Z1ZFucj",
    "outputId": "1aeda938-54f8-4d0b-dc6a-d13e736e326b"
   },
   "outputs": [
    {
     "name": "stdout",
     "output_type": "stream",
     "text": [
      "property_type - 4\n",
      "place_name - 62\n",
      "country_name - 1\n",
      "state_name - 1\n",
      "lat - 9714\n",
      "lon - 9704\n",
      "price - 2754\n",
      "currency - 2\n",
      "surface_total_in_m2 - 568\n"
     ]
    }
   ],
   "source": [
    "for col in prop.columns:\n",
    "    print(col, \"-\", len(prop[col].unique()))"
   ]
  },
  {
   "cell_type": "code",
   "execution_count": 10,
   "metadata": {
    "colab": {
     "base_uri": "https://localhost:8080/"
    },
    "id": "Yvtdo6oBFufZ",
    "outputId": "a788c5ea-2a7e-40f2-fd77-83c437150c6e"
   },
   "outputs": [
    {
     "data": {
      "text/plain": [
       "array(['PH', 'apartment', 'house', 'store'], dtype=object)"
      ]
     },
     "execution_count": 10,
     "metadata": {},
     "output_type": "execute_result"
    }
   ],
   "source": [
    "prop['property_type'].unique()"
   ]
  },
  {
   "cell_type": "markdown",
   "metadata": {
    "id": "0c65YsPwH9PJ"
   },
   "source": [
    "### Verificando qual a quantidade e o peso de cada tipo de Propriedade"
   ]
  },
  {
   "cell_type": "code",
   "execution_count": 11,
   "metadata": {
    "colab": {
     "base_uri": "https://localhost:8080/"
    },
    "id": "rP4QPETmF1Tc",
    "outputId": "89603ab4-6896-4509-c39c-af6009ee4930"
   },
   "outputs": [
    {
     "data": {
      "text/plain": [
       "property_type\n",
       "apartment    14428\n",
       "PH            1142\n",
       "house          888\n",
       "store          765\n",
       "Name: place_name, dtype: int64"
      ]
     },
     "execution_count": 11,
     "metadata": {},
     "output_type": "execute_result"
    }
   ],
   "source": [
    "prop.groupby(by = 'property_type').count()['place_name'].sort_values(ascending = False)"
   ]
  },
  {
   "cell_type": "code",
   "execution_count": 12,
   "metadata": {
    "colab": {
     "base_uri": "https://localhost:8080/"
    },
    "id": "CXNfTWNKF1rR",
    "outputId": "81ec1e52-cc75-40b7-e568-f6a4c26ccc54"
   },
   "outputs": [
    {
     "data": {
      "text/plain": [
       "apartment    83.771701\n",
       "PH            6.630668\n",
       "house         5.155896\n",
       "store         4.441735\n",
       "Name: property_type, dtype: float64"
      ]
     },
     "execution_count": 12,
     "metadata": {},
     "output_type": "execute_result"
    }
   ],
   "source": [
    "prop['property_type'].value_counts()/len(prop['property_type'])*100"
   ]
  },
  {
   "cell_type": "markdown",
   "metadata": {
    "id": "OGsNENxUISXJ"
   },
   "source": [
    "### Verificando qual a quantidade e o peso de cada tipo de Moeda\n"
   ]
  },
  {
   "cell_type": "code",
   "execution_count": 13,
   "metadata": {
    "colab": {
     "base_uri": "https://localhost:8080/"
    },
    "id": "Kz5hZO7qF1sD",
    "outputId": "27af6598-7c68-4e21-a532-3d7e2c41b8e5"
   },
   "outputs": [
    {
     "data": {
      "text/plain": [
       "currency\n",
       "USD    16700\n",
       "ARS      523\n",
       "Name: place_name, dtype: int64"
      ]
     },
     "execution_count": 13,
     "metadata": {},
     "output_type": "execute_result"
    }
   ],
   "source": [
    "prop.groupby(by = 'currency').count()['place_name'].sort_values(ascending = False)"
   ]
  },
  {
   "cell_type": "code",
   "execution_count": 14,
   "metadata": {
    "colab": {
     "base_uri": "https://localhost:8080/"
    },
    "id": "dYneo1PDF9go",
    "outputId": "e446fdbf-9f2c-43af-bbbf-ac5c0349a0ae"
   },
   "outputs": [
    {
     "data": {
      "text/plain": [
       "USD    96.963363\n",
       "ARS     3.036637\n",
       "Name: currency, dtype: float64"
      ]
     },
     "execution_count": 14,
     "metadata": {},
     "output_type": "execute_result"
    }
   ],
   "source": [
    "prop['currency'].value_counts()/len(prop['currency'])*100"
   ]
  },
  {
   "cell_type": "markdown",
   "metadata": {
    "id": "dGC0CJiRD7gh"
   },
   "source": [
    "## Limpando os Dados"
   ]
  },
  {
   "cell_type": "markdown",
   "metadata": {
    "id": "cp8Irk1qJy1e"
   },
   "source": [
    "### Removendo colunas desnecessárias"
   ]
  },
  {
   "cell_type": "markdown",
   "metadata": {
    "id": "FcVY7NKb194a"
   },
   "source": [
    "Como o país e o estados são os mesmos pra todo o dataset, então podemos retirá-los pois não irá inteferir em nosso estudo."
   ]
  },
  {
   "cell_type": "code",
   "execution_count": 15,
   "metadata": {
    "id": "cqazXnWgJSZX"
   },
   "outputs": [],
   "source": [
    "prop.drop(columns=['country_name','state_name'], inplace= True)"
   ]
  },
  {
   "cell_type": "code",
   "execution_count": 16,
   "metadata": {
    "colab": {
     "base_uri": "https://localhost:8080/"
    },
    "id": "1wXakq0RJSbs",
    "outputId": "2ca707a3-c357-40ba-eda1-db2dace2434a"
   },
   "outputs": [
    {
     "data": {
      "text/plain": [
       "Index(['property_type', 'place_name', 'lat', 'lon', 'price', 'currency',\n",
       "       'surface_total_in_m2'],\n",
       "      dtype='object')"
      ]
     },
     "execution_count": 16,
     "metadata": {},
     "output_type": "execute_result"
    }
   ],
   "source": [
    "prop.columns"
   ]
  },
  {
   "cell_type": "markdown",
   "metadata": {
    "id": "DS50PBc_MbpQ"
   },
   "source": [
    "### Normalizando o preço com base em dólares e removendo colunas desnecessárias"
   ]
  },
  {
   "cell_type": "code",
   "execution_count": 17,
   "metadata": {
    "id": "dXvwqRhtJSeQ"
   },
   "outputs": [],
   "source": [
    "prop[\"price_usd\"] = prop.apply(lambda x: x[\"price\"] if x[\"currency\"] == \"USD\" else x[\"price\"]/117.41,axis=1)"
   ]
  },
  {
   "cell_type": "markdown",
   "metadata": {
    "id": "76ei6g4n2WnE"
   },
   "source": [
    "Como deixamos tudo em dólar e ainda criamos outra coluna para esse preço em dólar, podemos então tirar as colunas \"price\" e \"currency\" pois não fará diferença em nossos estudos também."
   ]
  },
  {
   "cell_type": "code",
   "execution_count": 18,
   "metadata": {
    "id": "INLkHkuUMWfB"
   },
   "outputs": [],
   "source": [
    "prop.drop(columns=['price','currency'], inplace= True)"
   ]
  },
  {
   "cell_type": "code",
   "execution_count": 19,
   "metadata": {
    "colab": {
     "base_uri": "https://localhost:8080/"
    },
    "id": "2KtxiNCpLv2o",
    "outputId": "d072881c-57c6-45e7-d43b-394621553339"
   },
   "outputs": [
    {
     "data": {
      "text/plain": [
       "Index(['property_type', 'place_name', 'lat', 'lon', 'surface_total_in_m2',\n",
       "       'price_usd'],\n",
       "      dtype='object')"
      ]
     },
     "execution_count": 19,
     "metadata": {},
     "output_type": "execute_result"
    }
   ],
   "source": [
    "prop.columns"
   ]
  },
  {
   "cell_type": "markdown",
   "metadata": {
    "id": "oiP6pvOZwJJt"
   },
   "source": [
    "### Criando uma coluna com o preço por metro quadrado"
   ]
  },
  {
   "cell_type": "code",
   "execution_count": 20,
   "metadata": {
    "id": "w9Lemi7uwJJu"
   },
   "outputs": [],
   "source": [
    "prop[\"preco_metro2\"] = prop.price_usd / prop.surface_total_in_m2"
   ]
  },
  {
   "cell_type": "code",
   "execution_count": 21,
   "metadata": {
    "colab": {
     "base_uri": "https://localhost:8080/"
    },
    "id": "fAwZH7ElwJJu",
    "outputId": "7f857203-0a3e-495c-9380-6ce761231ece"
   },
   "outputs": [
    {
     "data": {
      "text/plain": [
       "Index(['property_type', 'place_name', 'lat', 'lon', 'surface_total_in_m2',\n",
       "       'price_usd', 'preco_metro2'],\n",
       "      dtype='object')"
      ]
     },
     "execution_count": 21,
     "metadata": {},
     "output_type": "execute_result"
    }
   ],
   "source": [
    "prop.columns"
   ]
  },
  {
   "cell_type": "markdown",
   "metadata": {
    "id": "OcMN2kZMPSIf"
   },
   "source": [
    "### Verificando a distribuição dos dados para as colunas de tamanho e preço de propriedade"
   ]
  },
  {
   "cell_type": "code",
   "execution_count": 22,
   "metadata": {
    "colab": {
     "base_uri": "https://localhost:8080/"
    },
    "id": "XXvMhu6YNhTo",
    "outputId": "4d720dce-7d79-4434-e274-88aae7c891c1"
   },
   "outputs": [
    {
     "name": "stdout",
     "output_type": "stream",
     "text": [
      "PH\n",
      "       preco_metro2\n",
      "count   1142.000000\n",
      "mean    1695.710382\n",
      "std      913.749082\n",
      "min       18.370350\n",
      "25%     1222.549020\n",
      "50%     1625.000000\n",
      "75%     2053.632764\n",
      "max    25000.000000\n",
      "--------------------\n",
      "apartment\n",
      "       preco_metro2\n",
      "count  1.442800e+04\n",
      "mean            inf\n",
      "std             NaN\n",
      "min    1.051501e+01\n",
      "25%    2.018824e+03\n",
      "50%    2.459016e+03\n",
      "75%    3.018878e+03\n",
      "max             inf\n",
      "--------------------\n",
      "house\n",
      "       preco_metro2\n",
      "count    888.000000\n",
      "mean    1716.153891\n",
      "std     1699.025955\n",
      "min      214.592275\n",
      "25%     1057.179184\n",
      "50%     1451.163795\n",
      "75%     1946.810507\n",
      "max    23064.516129\n",
      "--------------------\n",
      "store\n",
      "       preco_metro2\n",
      "count    765.000000\n",
      "mean    2794.266120\n",
      "std     2139.406072\n",
      "min        6.067020\n",
      "25%     1454.545455\n",
      "50%     2258.064516\n",
      "75%     3538.461538\n",
      "max    22000.000000\n",
      "--------------------\n"
     ]
    }
   ],
   "source": [
    "for i in prop.property_type.unique():\n",
    "    print(i)\n",
    "    print(prop.loc[prop.property_type == i,['preco_metro2']].describe())\n",
    "    print('--------------------')"
   ]
  },
  {
   "cell_type": "markdown",
   "metadata": {
    "id": "qHO8fGEtwJJu"
   },
   "source": [
    "#### Identificado que existe problema com a coluna preço por metro quadrado para o apartamentos"
   ]
  },
  {
   "cell_type": "code",
   "execution_count": 23,
   "metadata": {
    "colab": {
     "base_uri": "https://localhost:8080/"
    },
    "id": "xbu3Xz41wJJu",
    "outputId": "28abe65a-fd34-4e36-91d0-f66de2f0be55"
   },
   "outputs": [
    {
     "name": "stdout",
     "output_type": "stream",
     "text": [
      "PH\n",
      "913.7490817204806\n",
      "--------------------\n",
      "apartment\n",
      "nan\n",
      "--------------------\n",
      "house\n",
      "1699.0259549644643\n",
      "--------------------\n",
      "store\n",
      "2139.406071876024\n",
      "--------------------\n"
     ]
    }
   ],
   "source": [
    "for i in prop.property_type.unique():\n",
    "    print(i)\n",
    "    print(prop.loc[prop.property_type == i, 'preco_metro2'].std())\n",
    "    print('--------------------')"
   ]
  },
  {
   "cell_type": "markdown",
   "metadata": {
    "id": "Isc99JuO3aEM"
   },
   "source": [
    "Olhando o notebook, verificamos que contém alguns imóveis com a surface igual a 0."
   ]
  },
  {
   "cell_type": "code",
   "execution_count": 24,
   "metadata": {
    "colab": {
     "base_uri": "https://localhost:8080/",
     "height": 49
    },
    "id": "9pHpkS2pwJJv",
    "outputId": "f722a25b-a776-42de-9124-29bf8044d093"
   },
   "outputs": [
    {
     "data": {
      "text/html": [
       "<div>\n",
       "<style scoped>\n",
       "    .dataframe tbody tr th:only-of-type {\n",
       "        vertical-align: middle;\n",
       "    }\n",
       "\n",
       "    .dataframe tbody tr th {\n",
       "        vertical-align: top;\n",
       "    }\n",
       "\n",
       "    .dataframe thead th {\n",
       "        text-align: right;\n",
       "    }\n",
       "</style>\n",
       "<table border=\"1\" class=\"dataframe\">\n",
       "  <thead>\n",
       "    <tr style=\"text-align: right;\">\n",
       "      <th></th>\n",
       "      <th>property_type</th>\n",
       "      <th>place_name</th>\n",
       "      <th>lat</th>\n",
       "      <th>lon</th>\n",
       "      <th>surface_total_in_m2</th>\n",
       "      <th>price_usd</th>\n",
       "      <th>preco_metro2</th>\n",
       "    </tr>\n",
       "  </thead>\n",
       "  <tbody>\n",
       "    <tr>\n",
       "      <th>2486</th>\n",
       "      <td>apartment</td>\n",
       "      <td>Palermo Soho</td>\n",
       "      <td>-34.589974</td>\n",
       "      <td>-58.425614</td>\n",
       "      <td>0.0</td>\n",
       "      <td>780000.0</td>\n",
       "      <td>inf</td>\n",
       "    </tr>\n",
       "    <tr>\n",
       "      <th>4872</th>\n",
       "      <td>apartment</td>\n",
       "      <td>Recoleta</td>\n",
       "      <td>-34.588818</td>\n",
       "      <td>-58.390648</td>\n",
       "      <td>0.0</td>\n",
       "      <td>320000.0</td>\n",
       "      <td>inf</td>\n",
       "    </tr>\n",
       "    <tr>\n",
       "      <th>5454</th>\n",
       "      <td>apartment</td>\n",
       "      <td>Caballito</td>\n",
       "      <td>-34.617348</td>\n",
       "      <td>-58.449404</td>\n",
       "      <td>0.0</td>\n",
       "      <td>68500.0</td>\n",
       "      <td>inf</td>\n",
       "    </tr>\n",
       "    <tr>\n",
       "      <th>6318</th>\n",
       "      <td>apartment</td>\n",
       "      <td>Palermo Hollywood</td>\n",
       "      <td>-34.582558</td>\n",
       "      <td>-58.432585</td>\n",
       "      <td>0.0</td>\n",
       "      <td>175000.0</td>\n",
       "      <td>inf</td>\n",
       "    </tr>\n",
       "    <tr>\n",
       "      <th>7170</th>\n",
       "      <td>apartment</td>\n",
       "      <td>Barracas</td>\n",
       "      <td>-34.641131</td>\n",
       "      <td>-58.369122</td>\n",
       "      <td>0.0</td>\n",
       "      <td>135000.0</td>\n",
       "      <td>inf</td>\n",
       "    </tr>\n",
       "    <tr>\n",
       "      <th>15888</th>\n",
       "      <td>apartment</td>\n",
       "      <td>Barrio Norte</td>\n",
       "      <td>-34.598727</td>\n",
       "      <td>-58.395851</td>\n",
       "      <td>0.0</td>\n",
       "      <td>112000.0</td>\n",
       "      <td>inf</td>\n",
       "    </tr>\n",
       "  </tbody>\n",
       "</table>\n",
       "</div>"
      ],
      "text/plain": [
       "      property_type         place_name        lat        lon  \\\n",
       "2486      apartment       Palermo Soho -34.589974 -58.425614   \n",
       "4872      apartment           Recoleta -34.588818 -58.390648   \n",
       "5454      apartment          Caballito -34.617348 -58.449404   \n",
       "6318      apartment  Palermo Hollywood -34.582558 -58.432585   \n",
       "7170      apartment           Barracas -34.641131 -58.369122   \n",
       "15888     apartment       Barrio Norte -34.598727 -58.395851   \n",
       "\n",
       "       surface_total_in_m2  price_usd  preco_metro2  \n",
       "2486                   0.0   780000.0           inf  \n",
       "4872                   0.0   320000.0           inf  \n",
       "5454                   0.0    68500.0           inf  \n",
       "6318                   0.0   175000.0           inf  \n",
       "7170                   0.0   135000.0           inf  \n",
       "15888                  0.0   112000.0           inf  "
      ]
     },
     "execution_count": 24,
     "metadata": {},
     "output_type": "execute_result"
    }
   ],
   "source": [
    "prop[(prop.property_type == 'apartment') & (prop.surface_total_in_m2 == 0)]"
   ]
  },
  {
   "cell_type": "markdown",
   "metadata": {
    "id": "EO4vV9sYwJJv",
    "tags": []
   },
   "source": [
    "#### Removendo essas linhas e verificando os novos valores de desvio padrão"
   ]
  },
  {
   "cell_type": "code",
   "execution_count": 25,
   "metadata": {
    "id": "xiiyUSO_wJJv"
   },
   "outputs": [],
   "source": [
    "prop.drop(index = list(prop[(prop.property_type == 'apartment') & (prop.surface_total_in_m2 == 0)].index),inplace = True)"
   ]
  },
  {
   "cell_type": "code",
   "execution_count": 26,
   "metadata": {
    "colab": {
     "base_uri": "https://localhost:8080/"
    },
    "id": "mPbllXkBwJJv",
    "outputId": "dbcb3ad9-a8ac-4e16-fc91-c0c28bd3105f"
   },
   "outputs": [
    {
     "name": "stdout",
     "output_type": "stream",
     "text": [
      "913.7490817204806\n",
      "2750.929484751443\n",
      "1699.0259549644643\n",
      "2139.406071876024\n"
     ]
    }
   ],
   "source": [
    "for i in prop.property_type.unique():\n",
    "    print(prop.loc[prop.property_type == i, 'preco_metro2'].std())"
   ]
  },
  {
   "cell_type": "markdown",
   "metadata": {
    "id": "iNLbpv74wJJv"
   },
   "source": [
    "### Limpando os dados conforme a distribuição - Via Desvio Padrão"
   ]
  },
  {
   "cell_type": "code",
   "execution_count": 27,
   "metadata": {
    "colab": {
     "base_uri": "https://localhost:8080/"
    },
    "id": "RJK-pMv9wJJw",
    "outputId": "97007b99-fe19-419e-e32a-093778055014"
   },
   "outputs": [
    {
     "name": "stdout",
     "output_type": "stream",
     "text": [
      "PH\n",
      "Temos 1 linha(s) onde o valor supera 3 vezes o desvio padrão\n",
      "-------------------------------------------------------------\n",
      "apartment\n",
      "Temos 211 linha(s) onde o valor supera 3 vezes o desvio padrão\n",
      "-------------------------------------------------------------\n",
      "house\n",
      "Temos 7 linha(s) onde o valor supera 3 vezes o desvio padrão\n",
      "-------------------------------------------------------------\n",
      "store\n",
      "Temos 20 linha(s) onde o valor supera 3 vezes o desvio padrão\n",
      "-------------------------------------------------------------\n"
     ]
    }
   ],
   "source": [
    "for i in prop.property_type.unique():\n",
    "    print(i)\n",
    "    print(\"Temos\", prop.loc[(prop.property_type == i) & (prop.preco_metro2 > 3*prop.preco_metro2.std()),'preco_metro2'].shape[0], \"linha(s) onde o valor supera 3 vezes o desvio padrão\")\n",
    "    print('-------------------------------------------------------------')"
   ]
  },
  {
   "cell_type": "code",
   "execution_count": 28,
   "metadata": {
    "id": "aR3Bpk7hwJJw"
   },
   "outputs": [],
   "source": [
    "for i in prop.property_type.unique():\n",
    "    prop.drop(index = list(prop.loc[(prop.property_type == i) & (prop.preco_metro2 > 3*prop.preco_metro2.std())].index), inplace = True)"
   ]
  },
  {
   "cell_type": "code",
   "execution_count": 29,
   "metadata": {
    "colab": {
     "base_uri": "https://localhost:8080/"
    },
    "id": "wFO9T8BMwJJw",
    "outputId": "f4cc54f7-081f-49b5-9ccd-a4fcf633e87c"
   },
   "outputs": [
    {
     "name": "stdout",
     "output_type": "stream",
     "text": [
      "PH\n",
      "       preco_metro2\n",
      "count   1141.000000\n",
      "mean    1675.285939\n",
      "std      599.047243\n",
      "min       18.370350\n",
      "25%     1222.222222\n",
      "50%     1625.000000\n",
      "75%     2050.147493\n",
      "max     4768.115942\n",
      "--------------------\n",
      "apartment\n",
      "       preco_metro2\n",
      "count  14211.000000\n",
      "mean    2590.575386\n",
      "std     1060.344945\n",
      "min       10.515015\n",
      "25%     2009.259259\n",
      "50%     2444.549020\n",
      "75%     2998.478175\n",
      "max     7837.837838\n",
      "--------------------\n",
      "house\n",
      "       preco_metro2\n",
      "count    857.000000\n",
      "mean    1492.571201\n",
      "std      628.866979\n",
      "min      214.592275\n",
      "25%     1041.666667\n",
      "50%     1423.357664\n",
      "75%     1857.142857\n",
      "max     3400.000000\n",
      "--------------------\n",
      "store\n",
      "       preco_metro2\n",
      "count    561.000000\n",
      "mean    1846.779912\n",
      "std      790.390203\n",
      "min        6.067020\n",
      "25%     1238.095238\n",
      "50%     1785.714286\n",
      "75%     2500.000000\n",
      "max     3409.090909\n",
      "--------------------\n"
     ]
    }
   ],
   "source": [
    "for i in prop.property_type.unique():\n",
    "    print(i)\n",
    "    print(prop.loc[prop.property_type == i,['preco_metro2']].describe())\n",
    "    print('--------------------')"
   ]
  },
  {
   "cell_type": "code",
   "execution_count": 30,
   "metadata": {
    "colab": {
     "base_uri": "https://localhost:8080/"
    },
    "id": "kBDtl1OGwJJw",
    "outputId": "f53a6cbe-cbba-4bb1-d030-dcc4fabe7f55"
   },
   "outputs": [
    {
     "data": {
      "text/plain": [
       "(16770, 7)"
      ]
     },
     "execution_count": 30,
     "metadata": {},
     "output_type": "execute_result"
    }
   ],
   "source": [
    "prop.shape"
   ]
  },
  {
   "cell_type": "markdown",
   "metadata": {
    "id": "jgbfAT06wJJw"
   },
   "source": [
    "## Plotandos os dados"
   ]
  },
  {
   "cell_type": "code",
   "execution_count": 31,
   "metadata": {
    "colab": {
     "base_uri": "https://localhost:8080/",
     "height": 350
    },
    "id": "ZB0cQVASwJJw",
    "outputId": "7e844595-e06a-495e-93f7-dfb3fee2e9e5"
   },
   "outputs": [
    {
     "data": {
      "image/png": "[encoded data removed]",
      "text/plain": [
       "<Figure size 1440x360 with 1 Axes>"
      ]
     },
     "metadata": {
      "needs_background": "light"
     },
     "output_type": "display_data"
    }
   ],
   "source": [
    "ax = sns.violinplot(data = prop, x = \"property_type\" , y = \"preco_metro2\", palette='Set2')\n",
    "plt.title(\"Distribuição das propriedades por valor\")\n",
    "ax.figure.set_size_inches(20, 5)"
   ]
  },
  {
   "cell_type": "code",
   "execution_count": 32,
   "metadata": {
    "colab": {
     "base_uri": "https://localhost:8080/",
     "height": 351
    },
    "id": "FjOlEUe2wJJx",
    "outputId": "87736a26-a905-4bae-b3cb-bdff771b97e3"
   },
   "outputs": [
    {
     "data": {
      "image/png": "[encoded data removed]",
      "text/plain": [
       "<Figure size 1440x360 with 1 Axes>"
      ]
     },
     "metadata": {
      "needs_background": "light"
     },
     "output_type": "display_data"
    }
   ],
   "source": [
    "ay = sns.histplot(data=prop, x=\"preco_metro2\", hue=\"property_type\", multiple='stack', palette='Set2')\n",
    "plt.title(\"Distribuição das propriedades por valor\")\n",
    "ay.figure.set_size_inches(20, 5)"
   ]
  },
  {
   "cell_type": "markdown",
   "metadata": {
    "id": "xa1tXHC9D7o8"
   },
   "source": [
    "## Criando variáveis"
   ]
  },
  {
   "cell_type": "markdown",
   "metadata": {
    "id": "N5ttnZjGwJJx"
   },
   "source": [
    "### Faixas de Preco"
   ]
  },
  {
   "cell_type": "code",
   "execution_count": 33,
   "metadata": {
    "id": "K3qDWso6wJJx"
   },
   "outputs": [],
   "source": [
    "prop['Faixas_de_preco_m2'] = pd.qcut(x = prop.preco_metro2, q = 10, labels = [1,2,3,4,5,6,7,8,9,10])"
   ]
  },
  {
   "cell_type": "code",
   "execution_count": 34,
   "metadata": {
    "colab": {
     "base_uri": "https://localhost:8080/",
     "height": 206
    },
    "id": "nBrNXHUhwJJx",
    "outputId": "0a7a6d15-e203-4bea-e0ec-8eb8e6f2fee7"
   },
   "outputs": [
    {
     "data": {
      "text/html": [
       "<div>\n",
       "<style scoped>\n",
       "    .dataframe tbody tr th:only-of-type {\n",
       "        vertical-align: middle;\n",
       "    }\n",
       "\n",
       "    .dataframe tbody tr th {\n",
       "        vertical-align: top;\n",
       "    }\n",
       "\n",
       "    .dataframe thead th {\n",
       "        text-align: right;\n",
       "    }\n",
       "</style>\n",
       "<table border=\"1\" class=\"dataframe\">\n",
       "  <thead>\n",
       "    <tr style=\"text-align: right;\">\n",
       "      <th></th>\n",
       "      <th>property_type</th>\n",
       "      <th>place_name</th>\n",
       "      <th>lat</th>\n",
       "      <th>lon</th>\n",
       "      <th>surface_total_in_m2</th>\n",
       "      <th>price_usd</th>\n",
       "      <th>preco_metro2</th>\n",
       "      <th>Faixas_de_preco_m2</th>\n",
       "    </tr>\n",
       "  </thead>\n",
       "  <tbody>\n",
       "    <tr>\n",
       "      <th>0</th>\n",
       "      <td>PH</td>\n",
       "      <td>Mataderos</td>\n",
       "      <td>-34.661824</td>\n",
       "      <td>-58.508839</td>\n",
       "      <td>55.0</td>\n",
       "      <td>62000.0</td>\n",
       "      <td>1127.272727</td>\n",
       "      <td>1</td>\n",
       "    </tr>\n",
       "    <tr>\n",
       "      <th>1</th>\n",
       "      <td>apartment</td>\n",
       "      <td>Mataderos</td>\n",
       "      <td>-34.652262</td>\n",
       "      <td>-58.522982</td>\n",
       "      <td>55.0</td>\n",
       "      <td>72000.0</td>\n",
       "      <td>1309.090909</td>\n",
       "      <td>2</td>\n",
       "    </tr>\n",
       "    <tr>\n",
       "      <th>2</th>\n",
       "      <td>apartment</td>\n",
       "      <td>Belgrano</td>\n",
       "      <td>-34.559873</td>\n",
       "      <td>-58.443362</td>\n",
       "      <td>45.0</td>\n",
       "      <td>138000.0</td>\n",
       "      <td>3066.666667</td>\n",
       "      <td>9</td>\n",
       "    </tr>\n",
       "    <tr>\n",
       "      <th>3</th>\n",
       "      <td>apartment</td>\n",
       "      <td>Belgrano</td>\n",
       "      <td>-34.559873</td>\n",
       "      <td>-58.443362</td>\n",
       "      <td>65.0</td>\n",
       "      <td>195000.0</td>\n",
       "      <td>3000.000000</td>\n",
       "      <td>8</td>\n",
       "    </tr>\n",
       "    <tr>\n",
       "      <th>4</th>\n",
       "      <td>PH</td>\n",
       "      <td>Mataderos</td>\n",
       "      <td>-34.652356</td>\n",
       "      <td>-58.501624</td>\n",
       "      <td>140.0</td>\n",
       "      <td>239000.0</td>\n",
       "      <td>1707.142857</td>\n",
       "      <td>2</td>\n",
       "    </tr>\n",
       "  </tbody>\n",
       "</table>\n",
       "</div>"
      ],
      "text/plain": [
       "  property_type place_name        lat        lon  surface_total_in_m2  \\\n",
       "0            PH  Mataderos -34.661824 -58.508839                 55.0   \n",
       "1     apartment  Mataderos -34.652262 -58.522982                 55.0   \n",
       "2     apartment   Belgrano -34.559873 -58.443362                 45.0   \n",
       "3     apartment   Belgrano -34.559873 -58.443362                 65.0   \n",
       "4            PH  Mataderos -34.652356 -58.501624                140.0   \n",
       "\n",
       "   price_usd  preco_metro2 Faixas_de_preco_m2  \n",
       "0    62000.0   1127.272727                  1  \n",
       "1    72000.0   1309.090909                  2  \n",
       "2   138000.0   3066.666667                  9  \n",
       "3   195000.0   3000.000000                  8  \n",
       "4   239000.0   1707.142857                  2  "
      ]
     },
     "execution_count": 34,
     "metadata": {},
     "output_type": "execute_result"
    }
   ],
   "source": [
    "prop.head()"
   ]
  },
  {
   "cell_type": "code",
   "execution_count": 35,
   "metadata": {
    "colab": {
     "base_uri": "https://localhost:8080/",
     "height": 455
    },
    "id": "fpor9IXdwJJy",
    "outputId": "24ec9554-bf82-480b-b114-42c027d6bdb3"
   },
   "outputs": [
    {
     "data": {
      "text/html": [
       "<div>\n",
       "<style scoped>\n",
       "    .dataframe tbody tr th:only-of-type {\n",
       "        vertical-align: middle;\n",
       "    }\n",
       "\n",
       "    .dataframe tbody tr th {\n",
       "        vertical-align: top;\n",
       "    }\n",
       "\n",
       "    .dataframe thead th {\n",
       "        text-align: right;\n",
       "    }\n",
       "</style>\n",
       "<table border=\"1\" class=\"dataframe\">\n",
       "  <thead>\n",
       "    <tr style=\"text-align: right;\">\n",
       "      <th>Faixas_de_preco_m2</th>\n",
       "      <th>1</th>\n",
       "      <th>2</th>\n",
       "      <th>3</th>\n",
       "      <th>4</th>\n",
       "      <th>5</th>\n",
       "      <th>6</th>\n",
       "      <th>7</th>\n",
       "      <th>8</th>\n",
       "      <th>9</th>\n",
       "      <th>10</th>\n",
       "    </tr>\n",
       "    <tr>\n",
       "      <th>place_name</th>\n",
       "      <th></th>\n",
       "      <th></th>\n",
       "      <th></th>\n",
       "      <th></th>\n",
       "      <th></th>\n",
       "      <th></th>\n",
       "      <th></th>\n",
       "      <th></th>\n",
       "      <th></th>\n",
       "      <th></th>\n",
       "    </tr>\n",
       "  </thead>\n",
       "  <tbody>\n",
       "    <tr>\n",
       "      <th>Abasto</th>\n",
       "      <td>2</td>\n",
       "      <td>6</td>\n",
       "      <td>6</td>\n",
       "      <td>5</td>\n",
       "      <td>8</td>\n",
       "      <td>8</td>\n",
       "      <td>3</td>\n",
       "      <td>3</td>\n",
       "      <td>0</td>\n",
       "      <td>0</td>\n",
       "    </tr>\n",
       "    <tr>\n",
       "      <th>Agronomía</th>\n",
       "      <td>0</td>\n",
       "      <td>0</td>\n",
       "      <td>3</td>\n",
       "      <td>4</td>\n",
       "      <td>4</td>\n",
       "      <td>7</td>\n",
       "      <td>2</td>\n",
       "      <td>0</td>\n",
       "      <td>0</td>\n",
       "      <td>0</td>\n",
       "    </tr>\n",
       "    <tr>\n",
       "      <th>Almagro</th>\n",
       "      <td>45</td>\n",
       "      <td>47</td>\n",
       "      <td>111</td>\n",
       "      <td>144</td>\n",
       "      <td>110</td>\n",
       "      <td>67</td>\n",
       "      <td>43</td>\n",
       "      <td>46</td>\n",
       "      <td>24</td>\n",
       "      <td>11</td>\n",
       "    </tr>\n",
       "    <tr>\n",
       "      <th>Balvanera</th>\n",
       "      <td>30</td>\n",
       "      <td>95</td>\n",
       "      <td>94</td>\n",
       "      <td>53</td>\n",
       "      <td>33</td>\n",
       "      <td>34</td>\n",
       "      <td>15</td>\n",
       "      <td>12</td>\n",
       "      <td>4</td>\n",
       "      <td>1</td>\n",
       "    </tr>\n",
       "    <tr>\n",
       "      <th>Barracas</th>\n",
       "      <td>7</td>\n",
       "      <td>54</td>\n",
       "      <td>63</td>\n",
       "      <td>27</td>\n",
       "      <td>22</td>\n",
       "      <td>27</td>\n",
       "      <td>18</td>\n",
       "      <td>11</td>\n",
       "      <td>7</td>\n",
       "      <td>5</td>\n",
       "    </tr>\n",
       "    <tr>\n",
       "      <th>...</th>\n",
       "      <td>...</td>\n",
       "      <td>...</td>\n",
       "      <td>...</td>\n",
       "      <td>...</td>\n",
       "      <td>...</td>\n",
       "      <td>...</td>\n",
       "      <td>...</td>\n",
       "      <td>...</td>\n",
       "      <td>...</td>\n",
       "      <td>...</td>\n",
       "    </tr>\n",
       "    <tr>\n",
       "      <th>Villa Real</th>\n",
       "      <td>1</td>\n",
       "      <td>0</td>\n",
       "      <td>2</td>\n",
       "      <td>1</td>\n",
       "      <td>0</td>\n",
       "      <td>0</td>\n",
       "      <td>0</td>\n",
       "      <td>0</td>\n",
       "      <td>0</td>\n",
       "      <td>0</td>\n",
       "    </tr>\n",
       "    <tr>\n",
       "      <th>Villa Santa Rita</th>\n",
       "      <td>0</td>\n",
       "      <td>2</td>\n",
       "      <td>1</td>\n",
       "      <td>4</td>\n",
       "      <td>4</td>\n",
       "      <td>2</td>\n",
       "      <td>0</td>\n",
       "      <td>0</td>\n",
       "      <td>0</td>\n",
       "      <td>0</td>\n",
       "    </tr>\n",
       "    <tr>\n",
       "      <th>Villa Soldati</th>\n",
       "      <td>2</td>\n",
       "      <td>0</td>\n",
       "      <td>1</td>\n",
       "      <td>0</td>\n",
       "      <td>0</td>\n",
       "      <td>0</td>\n",
       "      <td>0</td>\n",
       "      <td>0</td>\n",
       "      <td>0</td>\n",
       "      <td>0</td>\n",
       "    </tr>\n",
       "    <tr>\n",
       "      <th>Villa Urquiza</th>\n",
       "      <td>63</td>\n",
       "      <td>16</td>\n",
       "      <td>30</td>\n",
       "      <td>71</td>\n",
       "      <td>75</td>\n",
       "      <td>117</td>\n",
       "      <td>143</td>\n",
       "      <td>85</td>\n",
       "      <td>56</td>\n",
       "      <td>12</td>\n",
       "    </tr>\n",
       "    <tr>\n",
       "      <th>Villa del Parque</th>\n",
       "      <td>3</td>\n",
       "      <td>15</td>\n",
       "      <td>35</td>\n",
       "      <td>30</td>\n",
       "      <td>35</td>\n",
       "      <td>16</td>\n",
       "      <td>9</td>\n",
       "      <td>4</td>\n",
       "      <td>3</td>\n",
       "      <td>1</td>\n",
       "    </tr>\n",
       "  </tbody>\n",
       "</table>\n",
       "<p>61 rows × 10 columns</p>\n",
       "</div>"
      ],
      "text/plain": [
       "Faixas_de_preco_m2   1   2    3    4    5    6    7   8   9  10\n",
       "place_name                                                     \n",
       "Abasto               2   6    6    5    8    8    3   3   0   0\n",
       "Agronomía            0   0    3    4    4    7    2   0   0   0\n",
       "Almagro             45  47  111  144  110   67   43  46  24  11\n",
       "Balvanera           30  95   94   53   33   34   15  12   4   1\n",
       "Barracas             7  54   63   27   22   27   18  11   7   5\n",
       "...                 ..  ..  ...  ...  ...  ...  ...  ..  ..  ..\n",
       "Villa Real           1   0    2    1    0    0    0   0   0   0\n",
       "Villa Santa Rita     0   2    1    4    4    2    0   0   0   0\n",
       "Villa Soldati        2   0    1    0    0    0    0   0   0   0\n",
       "Villa Urquiza       63  16   30   71   75  117  143  85  56  12\n",
       "Villa del Parque     3  15   35   30   35   16    9   4   3   1\n",
       "\n",
       "[61 rows x 10 columns]"
      ]
     },
     "execution_count": 35,
     "metadata": {},
     "output_type": "execute_result"
    }
   ],
   "source": [
    "tb = prop.loc[prop.property_type == 'apartment', ['place_name','Faixas_de_preco_m2', 'preco_metro2']].\\\n",
    "pivot_table(values = 'place_name', index = 'place_name', columns = 'Faixas_de_preco_m2', aggfunc = 'count')\n",
    "tb.round()"
   ]
  },
  {
   "cell_type": "code",
   "execution_count": 36,
   "metadata": {
    "colab": {
     "base_uri": "https://localhost:8080/",
     "height": 606
    },
    "id": "TUYzbOjY_1cf",
    "outputId": "7f538801-dc80-4702-baf9-94f90d86ef81"
   },
   "outputs": [
    {
     "data": {
      "image/png": "[encoded data removed]",
      "text/plain": [
       "<Figure size 1440x720 with 2 Axes>"
      ]
     },
     "metadata": {
      "needs_background": "light"
     },
     "output_type": "display_data"
    }
   ],
   "source": [
    "az = sns.heatmap( data = tb.sort_values(by = 10, ascending = False).head(20) , linewidths=1, cmap=\"YlGnBu\")\n",
    "az.figure.set_size_inches(20, 10)"
   ]
  }
 ],
 "metadata": {
  "colab": {
   "collapsed_sections": [],
   "name": "Notebook_EDA.ipynb",
   "provenance": [],
   "toc_visible": true
  },
  "kernelspec": {
   "display_name": "Python 3 (ipykernel)",
   "language": "python",
   "name": "python3"
  },
  "language_info": {
   "codemirror_mode": {
    "name": "ipython",
    "version": 3
   },
   "file_extension": ".py",
   "mimetype": "text/x-python",
   "name": "python",
   "nbconvert_exporter": "python",
   "pygments_lexer": "ipython3",
   "version": "3.9.12"
  },
  "toc-autonumbering": false,
  "toc-showcode": false,
  "toc-showmarkdowntxt": false,
  "toc-showtags": false
 },
 "nbformat": 4,
 "nbformat_minor": 4
}
