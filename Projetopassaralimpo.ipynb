{
 "cells": [
  {
   "cell_type": "code",
   "execution_count": 1,
   "id": "8e298b5a-294f-4460-8e04-a87c5278d451",
   "metadata": {},
   "outputs": [],
   "source": [
    "import pandas as pd\n",
    "import numpy as np\n",
    "import matplotlib.pyplot as plt\n",
    "import seaborn as sns\n",
    "import geopandas as gpd\n",
    "import descartes\n",
    "import shapely.wkt\n",
    "import pyproj\n",
    "\n",
    "from shapely.geometry import Point"
   ]
  },
  {
   "cell_type": "code",
   "execution_count": 2,
   "id": "8e65dad2-1550-4376-81b9-7b0b247788db",
   "metadata": {},
   "outputs": [],
   "source": [
    "prop = pd.read_csv(r\"C:\\Users\\RedRagon\\Documents\\ProjetoIntegrador1\\Data\\Real_State_Properati.csv\",sep='\\t')\n"
   ]
  },
  {
   "cell_type": "code",
   "execution_count": 3,
   "id": "8e569e89-f47f-4283-81cf-4ec73bc506f1",
   "metadata": {},
   "outputs": [
    {
     "data": {
      "text/plain": [
       "(17223, 9)"
      ]
     },
     "execution_count": 3,
     "metadata": {},
     "output_type": "execute_result"
    }
   ],
   "source": [
    "prop.shape"
   ]
  },
  {
   "cell_type": "code",
   "execution_count": 4,
   "id": "6f848e0a-b813-4aa5-8e1e-2dc37a7cb6a0",
   "metadata": {},
   "outputs": [
    {
     "data": {
      "text/html": [
       "<div>\n",
       "<style scoped>\n",
       "    .dataframe tbody tr th:only-of-type {\n",
       "        vertical-align: middle;\n",
       "    }\n",
       "\n",
       "    .dataframe tbody tr th {\n",
       "        vertical-align: top;\n",
       "    }\n",
       "\n",
       "    .dataframe thead th {\n",
       "        text-align: right;\n",
       "    }\n",
       "</style>\n",
       "<table border=\"1\" class=\"dataframe\">\n",
       "  <thead>\n",
       "    <tr style=\"text-align: right;\">\n",
       "      <th></th>\n",
       "      <th>property_type</th>\n",
       "      <th>place_name</th>\n",
       "      <th>country_name</th>\n",
       "      <th>state_name</th>\n",
       "      <th>lat</th>\n",
       "      <th>lon</th>\n",
       "      <th>price</th>\n",
       "      <th>currency</th>\n",
       "      <th>surface_total_in_m2</th>\n",
       "    </tr>\n",
       "  </thead>\n",
       "  <tbody>\n",
       "    <tr>\n",
       "      <th>0</th>\n",
       "      <td>PH</td>\n",
       "      <td>Mataderos</td>\n",
       "      <td>Argentina</td>\n",
       "      <td>Capital Federal</td>\n",
       "      <td>-34.661824</td>\n",
       "      <td>-58.508839</td>\n",
       "      <td>62000.0</td>\n",
       "      <td>USD</td>\n",
       "      <td>55.0</td>\n",
       "    </tr>\n",
       "    <tr>\n",
       "      <th>1</th>\n",
       "      <td>apartment</td>\n",
       "      <td>Mataderos</td>\n",
       "      <td>Argentina</td>\n",
       "      <td>Capital Federal</td>\n",
       "      <td>-34.652262</td>\n",
       "      <td>-58.522982</td>\n",
       "      <td>72000.0</td>\n",
       "      <td>USD</td>\n",
       "      <td>55.0</td>\n",
       "    </tr>\n",
       "    <tr>\n",
       "      <th>2</th>\n",
       "      <td>apartment</td>\n",
       "      <td>Belgrano</td>\n",
       "      <td>Argentina</td>\n",
       "      <td>Capital Federal</td>\n",
       "      <td>-34.559873</td>\n",
       "      <td>-58.443362</td>\n",
       "      <td>138000.0</td>\n",
       "      <td>USD</td>\n",
       "      <td>45.0</td>\n",
       "    </tr>\n",
       "    <tr>\n",
       "      <th>3</th>\n",
       "      <td>apartment</td>\n",
       "      <td>Belgrano</td>\n",
       "      <td>Argentina</td>\n",
       "      <td>Capital Federal</td>\n",
       "      <td>-34.559873</td>\n",
       "      <td>-58.443362</td>\n",
       "      <td>195000.0</td>\n",
       "      <td>USD</td>\n",
       "      <td>65.0</td>\n",
       "    </tr>\n",
       "    <tr>\n",
       "      <th>4</th>\n",
       "      <td>PH</td>\n",
       "      <td>Mataderos</td>\n",
       "      <td>Argentina</td>\n",
       "      <td>Capital Federal</td>\n",
       "      <td>-34.652356</td>\n",
       "      <td>-58.501624</td>\n",
       "      <td>239000.0</td>\n",
       "      <td>USD</td>\n",
       "      <td>140.0</td>\n",
       "    </tr>\n",
       "  </tbody>\n",
       "</table>\n",
       "</div>"
      ],
      "text/plain": [
       "  property_type place_name country_name       state_name        lat  \\\n",
       "0            PH  Mataderos    Argentina  Capital Federal -34.661824   \n",
       "1     apartment  Mataderos    Argentina  Capital Federal -34.652262   \n",
       "2     apartment   Belgrano    Argentina  Capital Federal -34.559873   \n",
       "3     apartment   Belgrano    Argentina  Capital Federal -34.559873   \n",
       "4            PH  Mataderos    Argentina  Capital Federal -34.652356   \n",
       "\n",
       "         lon     price currency  surface_total_in_m2  \n",
       "0 -58.508839   62000.0      USD                 55.0  \n",
       "1 -58.522982   72000.0      USD                 55.0  \n",
       "2 -58.443362  138000.0      USD                 45.0  \n",
       "3 -58.443362  195000.0      USD                 65.0  \n",
       "4 -58.501624  239000.0      USD                140.0  "
      ]
     },
     "execution_count": 4,
     "metadata": {},
     "output_type": "execute_result"
    }
   ],
   "source": [
    "prop.head(5)"
   ]
  },
  {
   "cell_type": "code",
   "execution_count": 5,
   "id": "c6108dde-7cf6-4ca8-8fcb-e8568e6a3e3d",
   "metadata": {},
   "outputs": [
    {
     "data": {
      "text/plain": [
       "property_type          0\n",
       "place_name             0\n",
       "country_name           0\n",
       "state_name             0\n",
       "lat                    0\n",
       "lon                    0\n",
       "price                  0\n",
       "currency               0\n",
       "surface_total_in_m2    0\n",
       "dtype: int64"
      ]
     },
     "execution_count": 5,
     "metadata": {},
     "output_type": "execute_result"
    }
   ],
   "source": [
    "prop.isna().sum()"
   ]
  },
  {
   "cell_type": "code",
   "execution_count": 6,
   "id": "18838801-9cea-4556-bf7e-3b3a10c274f1",
   "metadata": {},
   "outputs": [
    {
     "name": "stdout",
     "output_type": "stream",
     "text": [
      "<class 'pandas.core.frame.DataFrame'>\n",
      "RangeIndex: 17223 entries, 0 to 17222\n",
      "Data columns (total 9 columns):\n",
      " #   Column               Non-Null Count  Dtype  \n",
      "---  ------               --------------  -----  \n",
      " 0   property_type        17223 non-null  object \n",
      " 1   place_name           17223 non-null  object \n",
      " 2   country_name         17223 non-null  object \n",
      " 3   state_name           17223 non-null  object \n",
      " 4   lat                  17223 non-null  float64\n",
      " 5   lon                  17223 non-null  float64\n",
      " 6   price                17223 non-null  float64\n",
      " 7   currency             17223 non-null  object \n",
      " 8   surface_total_in_m2  17223 non-null  float64\n",
      "dtypes: float64(4), object(5)\n",
      "memory usage: 1.2+ MB\n"
     ]
    }
   ],
   "source": [
    "prop.info()"
   ]
  },
  {
   "cell_type": "code",
   "execution_count": 7,
   "id": "d97dd724-6a57-4525-95d6-22c0139ebe0a",
   "metadata": {},
   "outputs": [
    {
     "name": "stdout",
     "output_type": "stream",
     "text": [
      "property_type - 4\n",
      "place_name - 62\n",
      "country_name - 1\n",
      "state_name - 1\n",
      "lat - 9714\n",
      "lon - 9704\n",
      "price - 2754\n",
      "currency - 2\n",
      "surface_total_in_m2 - 568\n"
     ]
    }
   ],
   "source": [
    "for col in prop.columns:\n",
    "    print(col, \"-\", len(prop[col].unique()))"
   ]
  },
  {
   "cell_type": "code",
   "execution_count": 8,
   "id": "b7b7824b-5ab7-4ad2-b823-d19f06c88e47",
   "metadata": {},
   "outputs": [
    {
     "data": {
      "text/plain": [
       "array(['PH', 'apartment', 'house', 'store'], dtype=object)"
      ]
     },
     "execution_count": 8,
     "metadata": {},
     "output_type": "execute_result"
    }
   ],
   "source": [
    "prop['property_type'].unique()"
   ]
  },
  {
   "cell_type": "code",
   "execution_count": 9,
   "id": "85546838-e331-413d-83af-dfeb73e49d14",
   "metadata": {},
   "outputs": [
    {
     "data": {
      "text/plain": [
       "property_type\n",
       "apartment    14428\n",
       "PH            1142\n",
       "house          888\n",
       "store          765\n",
       "Name: place_name, dtype: int64"
      ]
     },
     "execution_count": 9,
     "metadata": {},
     "output_type": "execute_result"
    }
   ],
   "source": [
    "prop.groupby(by = 'property_type').count()['place_name'].sort_values(ascending = False)"
   ]
  },
  {
   "cell_type": "code",
   "execution_count": 10,
   "id": "361c09be-5583-49bd-9463-5955b541e730",
   "metadata": {},
   "outputs": [
    {
     "data": {
      "text/plain": [
       "apartment    83.771701\n",
       "PH            6.630668\n",
       "house         5.155896\n",
       "store         4.441735\n",
       "Name: property_type, dtype: float64"
      ]
     },
     "execution_count": 10,
     "metadata": {},
     "output_type": "execute_result"
    }
   ],
   "source": [
    "prop['property_type'].value_counts()/len(prop['property_type'])*100"
   ]
  },
  {
   "cell_type": "code",
   "execution_count": 11,
   "id": "2f61caa4-ca3e-4979-a863-4cf903e8ce3d",
   "metadata": {},
   "outputs": [
    {
     "data": {
      "text/plain": [
       "currency\n",
       "USD    16700\n",
       "ARS      523\n",
       "Name: place_name, dtype: int64"
      ]
     },
     "execution_count": 11,
     "metadata": {},
     "output_type": "execute_result"
    }
   ],
   "source": [
    "prop.groupby(by = 'currency').count()['place_name'].sort_values(ascending = False)"
   ]
  },
  {
   "cell_type": "code",
   "execution_count": 12,
   "id": "6cd1800b-b12e-4d91-8ab4-9967e79d56cb",
   "metadata": {},
   "outputs": [
    {
     "data": {
      "text/plain": [
       "USD    96.963363\n",
       "ARS     3.036637\n",
       "Name: currency, dtype: float64"
      ]
     },
     "execution_count": 12,
     "metadata": {},
     "output_type": "execute_result"
    }
   ],
   "source": [
    "prop['currency'].value_counts()/len(prop['currency'])*100"
   ]
  },
  {
   "cell_type": "code",
   "execution_count": 13,
   "id": "f0c1ca7c-c5d6-4c6c-a380-8c0a44127a24",
   "metadata": {},
   "outputs": [],
   "source": [
    "prop.drop(columns=['country_name','state_name'], inplace= True)"
   ]
  },
  {
   "cell_type": "code",
   "execution_count": 14,
   "id": "b8055b62-749a-4a67-a04d-d8c7d8350cdb",
   "metadata": {},
   "outputs": [
    {
     "data": {
      "text/plain": [
       "Index(['property_type', 'place_name', 'lat', 'lon', 'price', 'currency',\n",
       "       'surface_total_in_m2'],\n",
       "      dtype='object')"
      ]
     },
     "execution_count": 14,
     "metadata": {},
     "output_type": "execute_result"
    }
   ],
   "source": [
    "prop.columns"
   ]
  },
  {
   "cell_type": "code",
   "execution_count": 15,
   "id": "b682f48a-7873-4900-b549-4b88ff0257af",
   "metadata": {},
   "outputs": [],
   "source": [
    "prop[\"price_usd\"] = prop.apply(lambda x: x[\"price\"] if x[\"currency\"] == \"USD\" else x[\"price\"]/117.41,axis=1)"
   ]
  },
  {
   "cell_type": "code",
   "execution_count": 16,
   "id": "cd9bd839-c7db-4c5c-934f-ba7925494493",
   "metadata": {},
   "outputs": [],
   "source": [
    "prop.drop(columns=['price','currency'], inplace= True)"
   ]
  },
  {
   "cell_type": "code",
   "execution_count": 17,
   "id": "dd1d162b-687b-440c-952c-39692ba01dd2",
   "metadata": {},
   "outputs": [],
   "source": [
    "prop[\"preco_metro2\"] = prop.price_usd / prop.surface_total_in_m2"
   ]
  },
  {
   "cell_type": "code",
   "execution_count": 18,
   "id": "fdf1abe8-e64d-4f6b-878f-9d2c74763d72",
   "metadata": {},
   "outputs": [
    {
     "data": {
      "text/plain": [
       "Index(['property_type', 'place_name', 'lat', 'lon', 'surface_total_in_m2',\n",
       "       'price_usd', 'preco_metro2'],\n",
       "      dtype='object')"
      ]
     },
     "execution_count": 18,
     "metadata": {},
     "output_type": "execute_result"
    }
   ],
   "source": [
    "prop.columns"
   ]
  },
  {
   "cell_type": "code",
   "execution_count": 19,
   "id": "48bd4ea1-aebf-45b5-8f2e-44e660e47c0d",
   "metadata": {},
   "outputs": [
    {
     "name": "stdout",
     "output_type": "stream",
     "text": [
      "PH\n",
      "       preco_metro2\n",
      "count   1142.000000\n",
      "mean    1695.710382\n",
      "std      913.749082\n",
      "min       18.370350\n",
      "25%     1222.549020\n",
      "50%     1625.000000\n",
      "75%     2053.632764\n",
      "max    25000.000000\n",
      "--------------------\n",
      "apartment\n",
      "       preco_metro2\n",
      "count  1.442800e+04\n",
      "mean            inf\n",
      "std             NaN\n",
      "min    1.051501e+01\n",
      "25%    2.018824e+03\n",
      "50%    2.459016e+03\n",
      "75%    3.018878e+03\n",
      "max             inf\n",
      "--------------------\n",
      "house\n",
      "       preco_metro2\n",
      "count    888.000000\n",
      "mean    1716.153891\n",
      "std     1699.025955\n",
      "min      214.592275\n",
      "25%     1057.179184\n",
      "50%     1451.163795\n",
      "75%     1946.810507\n",
      "max    23064.516129\n",
      "--------------------\n",
      "store\n",
      "       preco_metro2\n",
      "count    765.000000\n",
      "mean    2794.266120\n",
      "std     2139.406072\n",
      "min        6.067020\n",
      "25%     1454.545455\n",
      "50%     2258.064516\n",
      "75%     3538.461538\n",
      "max    22000.000000\n",
      "--------------------\n"
     ]
    }
   ],
   "source": [
    "for i in prop.property_type.unique():\n",
    "    print(i)\n",
    "    print(prop.loc[prop.property_type == i,['preco_metro2']].describe())\n",
    "    print('--------------------')"
   ]
  },
  {
   "cell_type": "code",
   "execution_count": 20,
   "id": "3247d106-3ab8-4927-bac3-8a11a474dcf3",
   "metadata": {},
   "outputs": [
    {
     "name": "stdout",
     "output_type": "stream",
     "text": [
      "PH\n",
      "913.7490817204806\n",
      "--------------------\n",
      "apartment\n",
      "nan\n",
      "--------------------\n",
      "house\n",
      "1699.0259549644643\n",
      "--------------------\n",
      "store\n",
      "2139.406071876024\n",
      "--------------------\n"
     ]
    }
   ],
   "source": [
    "for i in prop.property_type.unique():\n",
    "    print(i)\n",
    "    print(prop.loc[prop.property_type == i, 'preco_metro2'].std())\n",
    "    print('--------------------')"
   ]
  },
  {
   "cell_type": "code",
   "execution_count": 21,
   "id": "99e34d61-7b62-4230-ba3a-d912aa560b2a",
   "metadata": {},
   "outputs": [
    {
     "data": {
      "text/html": [
       "<div>\n",
       "<style scoped>\n",
       "    .dataframe tbody tr th:only-of-type {\n",
       "        vertical-align: middle;\n",
       "    }\n",
       "\n",
       "    .dataframe tbody tr th {\n",
       "        vertical-align: top;\n",
       "    }\n",
       "\n",
       "    .dataframe thead th {\n",
       "        text-align: right;\n",
       "    }\n",
       "</style>\n",
       "<table border=\"1\" class=\"dataframe\">\n",
       "  <thead>\n",
       "    <tr style=\"text-align: right;\">\n",
       "      <th></th>\n",
       "      <th>property_type</th>\n",
       "      <th>place_name</th>\n",
       "      <th>lat</th>\n",
       "      <th>lon</th>\n",
       "      <th>surface_total_in_m2</th>\n",
       "      <th>price_usd</th>\n",
       "      <th>preco_metro2</th>\n",
       "    </tr>\n",
       "  </thead>\n",
       "  <tbody>\n",
       "    <tr>\n",
       "      <th>2486</th>\n",
       "      <td>apartment</td>\n",
       "      <td>Palermo Soho</td>\n",
       "      <td>-34.589974</td>\n",
       "      <td>-58.425614</td>\n",
       "      <td>0.0</td>\n",
       "      <td>780000.0</td>\n",
       "      <td>inf</td>\n",
       "    </tr>\n",
       "    <tr>\n",
       "      <th>4872</th>\n",
       "      <td>apartment</td>\n",
       "      <td>Recoleta</td>\n",
       "      <td>-34.588818</td>\n",
       "      <td>-58.390648</td>\n",
       "      <td>0.0</td>\n",
       "      <td>320000.0</td>\n",
       "      <td>inf</td>\n",
       "    </tr>\n",
       "    <tr>\n",
       "      <th>5454</th>\n",
       "      <td>apartment</td>\n",
       "      <td>Caballito</td>\n",
       "      <td>-34.617348</td>\n",
       "      <td>-58.449404</td>\n",
       "      <td>0.0</td>\n",
       "      <td>68500.0</td>\n",
       "      <td>inf</td>\n",
       "    </tr>\n",
       "    <tr>\n",
       "      <th>6318</th>\n",
       "      <td>apartment</td>\n",
       "      <td>Palermo Hollywood</td>\n",
       "      <td>-34.582558</td>\n",
       "      <td>-58.432585</td>\n",
       "      <td>0.0</td>\n",
       "      <td>175000.0</td>\n",
       "      <td>inf</td>\n",
       "    </tr>\n",
       "    <tr>\n",
       "      <th>7170</th>\n",
       "      <td>apartment</td>\n",
       "      <td>Barracas</td>\n",
       "      <td>-34.641131</td>\n",
       "      <td>-58.369122</td>\n",
       "      <td>0.0</td>\n",
       "      <td>135000.0</td>\n",
       "      <td>inf</td>\n",
       "    </tr>\n",
       "    <tr>\n",
       "      <th>15888</th>\n",
       "      <td>apartment</td>\n",
       "      <td>Barrio Norte</td>\n",
       "      <td>-34.598727</td>\n",
       "      <td>-58.395851</td>\n",
       "      <td>0.0</td>\n",
       "      <td>112000.0</td>\n",
       "      <td>inf</td>\n",
       "    </tr>\n",
       "  </tbody>\n",
       "</table>\n",
       "</div>"
      ],
      "text/plain": [
       "      property_type         place_name        lat        lon  \\\n",
       "2486      apartment       Palermo Soho -34.589974 -58.425614   \n",
       "4872      apartment           Recoleta -34.588818 -58.390648   \n",
       "5454      apartment          Caballito -34.617348 -58.449404   \n",
       "6318      apartment  Palermo Hollywood -34.582558 -58.432585   \n",
       "7170      apartment           Barracas -34.641131 -58.369122   \n",
       "15888     apartment       Barrio Norte -34.598727 -58.395851   \n",
       "\n",
       "       surface_total_in_m2  price_usd  preco_metro2  \n",
       "2486                   0.0   780000.0           inf  \n",
       "4872                   0.0   320000.0           inf  \n",
       "5454                   0.0    68500.0           inf  \n",
       "6318                   0.0   175000.0           inf  \n",
       "7170                   0.0   135000.0           inf  \n",
       "15888                  0.0   112000.0           inf  "
      ]
     },
     "execution_count": 21,
     "metadata": {},
     "output_type": "execute_result"
    }
   ],
   "source": [
    "prop[(prop.property_type == 'apartment') & (prop.surface_total_in_m2 == 0)]"
   ]
  },
  {
   "cell_type": "code",
   "execution_count": 22,
   "id": "8d297ee2-6282-4665-a857-9ce006cd3df7",
   "metadata": {},
   "outputs": [],
   "source": [
    "prop.drop(index = list(prop[(prop.property_type == 'apartment') & (prop.surface_total_in_m2 == 0)].index),inplace = True)"
   ]
  },
  {
   "cell_type": "code",
   "execution_count": 23,
   "id": "4806e247-678c-4e76-b8a3-d5c900bd507d",
   "metadata": {},
   "outputs": [],
   "source": [
    "for i in prop.property_type.unique():\n",
    "    prop.drop(index = list(prop.loc[(prop.property_type == i) & (prop.preco_metro2 > 3*prop.preco_metro2.std())].index), inplace = True)"
   ]
  },
  {
   "cell_type": "code",
   "execution_count": 125,
   "id": "8cf5f663-2c3c-4019-ad02-5f78d9bb28c9",
   "metadata": {},
   "outputs": [],
   "source": [
    "prop['Faixas_de_preco_m2'] = pd.qcut(x = prop.preco_metro2, q = 10, labels = [1,2,3,4,5,6,7,8,9,10])"
   ]
  },
  {
   "cell_type": "code",
   "execution_count": 126,
   "id": "cfa88ecb-996c-4ce9-bf8b-6d9d947fe428",
   "metadata": {},
   "outputs": [
    {
     "data": {
      "text/html": [
       "<div>\n",
       "<style scoped>\n",
       "    .dataframe tbody tr th:only-of-type {\n",
       "        vertical-align: middle;\n",
       "    }\n",
       "\n",
       "    .dataframe tbody tr th {\n",
       "        vertical-align: top;\n",
       "    }\n",
       "\n",
       "    .dataframe thead th {\n",
       "        text-align: right;\n",
       "    }\n",
       "</style>\n",
       "<table border=\"1\" class=\"dataframe\">\n",
       "  <thead>\n",
       "    <tr style=\"text-align: right;\">\n",
       "      <th></th>\n",
       "      <th>property_type</th>\n",
       "      <th>place_name</th>\n",
       "      <th>lat</th>\n",
       "      <th>lon</th>\n",
       "      <th>surface_total_in_m2</th>\n",
       "      <th>price_usd</th>\n",
       "      <th>preco_metro2</th>\n",
       "      <th>geometry</th>\n",
       "      <th>property_place</th>\n",
       "      <th>avg_price_m2</th>\n",
       "      <th>Faixas_de_preco_m2</th>\n",
       "    </tr>\n",
       "  </thead>\n",
       "  <tbody>\n",
       "    <tr>\n",
       "      <th>0</th>\n",
       "      <td>PH</td>\n",
       "      <td>Mataderos</td>\n",
       "      <td>-34.661824</td>\n",
       "      <td>-58.508839</td>\n",
       "      <td>55.0</td>\n",
       "      <td>62000.0</td>\n",
       "      <td>1127.272727</td>\n",
       "      <td>POINT (-58.50884 -34.66182)</td>\n",
       "      <td>PH_Mataderos</td>\n",
       "      <td>1386.591733</td>\n",
       "      <td>1</td>\n",
       "    </tr>\n",
       "    <tr>\n",
       "      <th>1</th>\n",
       "      <td>apartment</td>\n",
       "      <td>Mataderos</td>\n",
       "      <td>-34.652262</td>\n",
       "      <td>-58.522982</td>\n",
       "      <td>55.0</td>\n",
       "      <td>72000.0</td>\n",
       "      <td>1309.090909</td>\n",
       "      <td>POINT (-58.52298 -34.65226)</td>\n",
       "      <td>apartment_Mataderos</td>\n",
       "      <td>1776.706933</td>\n",
       "      <td>2</td>\n",
       "    </tr>\n",
       "    <tr>\n",
       "      <th>2</th>\n",
       "      <td>apartment</td>\n",
       "      <td>Belgrano</td>\n",
       "      <td>-34.559873</td>\n",
       "      <td>-58.443362</td>\n",
       "      <td>45.0</td>\n",
       "      <td>138000.0</td>\n",
       "      <td>3066.666667</td>\n",
       "      <td>POINT (-58.44336 -34.55987)</td>\n",
       "      <td>apartment_Belgrano</td>\n",
       "      <td>2921.998257</td>\n",
       "      <td>9</td>\n",
       "    </tr>\n",
       "    <tr>\n",
       "      <th>3</th>\n",
       "      <td>apartment</td>\n",
       "      <td>Belgrano</td>\n",
       "      <td>-34.559873</td>\n",
       "      <td>-58.443362</td>\n",
       "      <td>65.0</td>\n",
       "      <td>195000.0</td>\n",
       "      <td>3000.000000</td>\n",
       "      <td>POINT (-58.44336 -34.55987)</td>\n",
       "      <td>apartment_Belgrano</td>\n",
       "      <td>2921.998257</td>\n",
       "      <td>8</td>\n",
       "    </tr>\n",
       "    <tr>\n",
       "      <th>4</th>\n",
       "      <td>PH</td>\n",
       "      <td>Mataderos</td>\n",
       "      <td>-34.652356</td>\n",
       "      <td>-58.501624</td>\n",
       "      <td>140.0</td>\n",
       "      <td>239000.0</td>\n",
       "      <td>1707.142857</td>\n",
       "      <td>POINT (-58.50162 -34.65236)</td>\n",
       "      <td>PH_Mataderos</td>\n",
       "      <td>1386.591733</td>\n",
       "      <td>2</td>\n",
       "    </tr>\n",
       "    <tr>\n",
       "      <th>...</th>\n",
       "      <td>...</td>\n",
       "      <td>...</td>\n",
       "      <td>...</td>\n",
       "      <td>...</td>\n",
       "      <td>...</td>\n",
       "      <td>...</td>\n",
       "      <td>...</td>\n",
       "      <td>...</td>\n",
       "      <td>...</td>\n",
       "      <td>...</td>\n",
       "      <td>...</td>\n",
       "    </tr>\n",
       "    <tr>\n",
       "      <th>17218</th>\n",
       "      <td>apartment</td>\n",
       "      <td>Barrio Norte</td>\n",
       "      <td>-34.599214</td>\n",
       "      <td>-58.402519</td>\n",
       "      <td>91.0</td>\n",
       "      <td>165000.0</td>\n",
       "      <td>1813.186813</td>\n",
       "      <td>POINT (-58.40252 -34.59921)</td>\n",
       "      <td>apartment_Barrio Norte</td>\n",
       "      <td>2995.063759</td>\n",
       "      <td>3</td>\n",
       "    </tr>\n",
       "    <tr>\n",
       "      <th>17219</th>\n",
       "      <td>apartment</td>\n",
       "      <td>Recoleta</td>\n",
       "      <td>-34.587425</td>\n",
       "      <td>-58.397372</td>\n",
       "      <td>44.0</td>\n",
       "      <td>165000.0</td>\n",
       "      <td>3750.000000</td>\n",
       "      <td>POINT (-58.39737 -34.58743)</td>\n",
       "      <td>apartment_Recoleta</td>\n",
       "      <td>3164.006018</td>\n",
       "      <td>10</td>\n",
       "    </tr>\n",
       "    <tr>\n",
       "      <th>17220</th>\n",
       "      <td>apartment</td>\n",
       "      <td>Belgrano</td>\n",
       "      <td>-34.563685</td>\n",
       "      <td>-58.442683</td>\n",
       "      <td>157.0</td>\n",
       "      <td>410000.0</td>\n",
       "      <td>2611.464968</td>\n",
       "      <td>POINT (-58.44268 -34.56369)</td>\n",
       "      <td>apartment_Belgrano</td>\n",
       "      <td>2921.998257</td>\n",
       "      <td>7</td>\n",
       "    </tr>\n",
       "    <tr>\n",
       "      <th>17221</th>\n",
       "      <td>apartment</td>\n",
       "      <td>Belgrano</td>\n",
       "      <td>-34.563685</td>\n",
       "      <td>-58.442683</td>\n",
       "      <td>157.0</td>\n",
       "      <td>410000.0</td>\n",
       "      <td>2611.464968</td>\n",
       "      <td>POINT (-58.44268 -34.56369)</td>\n",
       "      <td>apartment_Belgrano</td>\n",
       "      <td>2921.998257</td>\n",
       "      <td>7</td>\n",
       "    </tr>\n",
       "    <tr>\n",
       "      <th>17222</th>\n",
       "      <td>apartment</td>\n",
       "      <td>Villa Urquiza</td>\n",
       "      <td>-34.570639</td>\n",
       "      <td>-58.475596</td>\n",
       "      <td>46.0</td>\n",
       "      <td>131500.0</td>\n",
       "      <td>2858.695652</td>\n",
       "      <td>POINT (-58.47560 -34.57064)</td>\n",
       "      <td>apartment_Villa Urquiza</td>\n",
       "      <td>2340.355698</td>\n",
       "      <td>8</td>\n",
       "    </tr>\n",
       "  </tbody>\n",
       "</table>\n",
       "<p>16770 rows × 11 columns</p>\n",
       "</div>"
      ],
      "text/plain": [
       "      property_type     place_name        lat        lon  surface_total_in_m2  \\\n",
       "0                PH      Mataderos -34.661824 -58.508839                 55.0   \n",
       "1         apartment      Mataderos -34.652262 -58.522982                 55.0   \n",
       "2         apartment       Belgrano -34.559873 -58.443362                 45.0   \n",
       "3         apartment       Belgrano -34.559873 -58.443362                 65.0   \n",
       "4                PH      Mataderos -34.652356 -58.501624                140.0   \n",
       "...             ...            ...        ...        ...                  ...   \n",
       "17218     apartment   Barrio Norte -34.599214 -58.402519                 91.0   \n",
       "17219     apartment       Recoleta -34.587425 -58.397372                 44.0   \n",
       "17220     apartment       Belgrano -34.563685 -58.442683                157.0   \n",
       "17221     apartment       Belgrano -34.563685 -58.442683                157.0   \n",
       "17222     apartment  Villa Urquiza -34.570639 -58.475596                 46.0   \n",
       "\n",
       "       price_usd  preco_metro2                     geometry  \\\n",
       "0        62000.0   1127.272727  POINT (-58.50884 -34.66182)   \n",
       "1        72000.0   1309.090909  POINT (-58.52298 -34.65226)   \n",
       "2       138000.0   3066.666667  POINT (-58.44336 -34.55987)   \n",
       "3       195000.0   3000.000000  POINT (-58.44336 -34.55987)   \n",
       "4       239000.0   1707.142857  POINT (-58.50162 -34.65236)   \n",
       "...          ...           ...                          ...   \n",
       "17218   165000.0   1813.186813  POINT (-58.40252 -34.59921)   \n",
       "17219   165000.0   3750.000000  POINT (-58.39737 -34.58743)   \n",
       "17220   410000.0   2611.464968  POINT (-58.44268 -34.56369)   \n",
       "17221   410000.0   2611.464968  POINT (-58.44268 -34.56369)   \n",
       "17222   131500.0   2858.695652  POINT (-58.47560 -34.57064)   \n",
       "\n",
       "                property_place  avg_price_m2 Faixas_de_preco_m2  \n",
       "0                 PH_Mataderos   1386.591733                  1  \n",
       "1          apartment_Mataderos   1776.706933                  2  \n",
       "2           apartment_Belgrano   2921.998257                  9  \n",
       "3           apartment_Belgrano   2921.998257                  8  \n",
       "4                 PH_Mataderos   1386.591733                  2  \n",
       "...                        ...           ...                ...  \n",
       "17218   apartment_Barrio Norte   2995.063759                  3  \n",
       "17219       apartment_Recoleta   3164.006018                 10  \n",
       "17220       apartment_Belgrano   2921.998257                  7  \n",
       "17221       apartment_Belgrano   2921.998257                  7  \n",
       "17222  apartment_Villa Urquiza   2340.355698                  8  \n",
       "\n",
       "[16770 rows x 11 columns]"
      ]
     },
     "execution_count": 126,
     "metadata": {},
     "output_type": "execute_result"
    }
   ],
   "source": [
    "prop"
   ]
  },
  {
   "cell_type": "code",
   "execution_count": 24,
   "id": "7bd8a3b9-2c9b-4e41-9ccd-3feaa56910f8",
   "metadata": {},
   "outputs": [
    {
     "data": {
      "text/html": [
       "<div>\n",
       "<style scoped>\n",
       "    .dataframe tbody tr th:only-of-type {\n",
       "        vertical-align: middle;\n",
       "    }\n",
       "\n",
       "    .dataframe tbody tr th {\n",
       "        vertical-align: top;\n",
       "    }\n",
       "\n",
       "    .dataframe thead th {\n",
       "        text-align: right;\n",
       "    }\n",
       "</style>\n",
       "<table border=\"1\" class=\"dataframe\">\n",
       "  <thead>\n",
       "    <tr style=\"text-align: right;\">\n",
       "      <th></th>\n",
       "      <th>WKT</th>\n",
       "      <th>NEIGHBORHOOD</th>\n",
       "      <th>COMMUNE</th>\n",
       "      <th>PERIMETER</th>\n",
       "      <th>AREA</th>\n",
       "    </tr>\n",
       "  </thead>\n",
       "  <tbody>\n",
       "    <tr>\n",
       "      <th>0</th>\n",
       "      <td>POLYGON ((-58.4528200492791 -34.5959886570639,...</td>\n",
       "      <td>CHACARITA</td>\n",
       "      <td>15.0</td>\n",
       "      <td>7725.695228</td>\n",
       "      <td>3.118101e+06</td>\n",
       "    </tr>\n",
       "    <tr>\n",
       "      <th>1</th>\n",
       "      <td>POLYGON ((-58.4655768128541 -34.5965577078058,...</td>\n",
       "      <td>PATERNAL</td>\n",
       "      <td>15.0</td>\n",
       "      <td>7087.513295</td>\n",
       "      <td>2.229829e+06</td>\n",
       "    </tr>\n",
       "    <tr>\n",
       "      <th>2</th>\n",
       "      <td>POLYGON ((-58.4237529813037 -34.5978273383243,...</td>\n",
       "      <td>VILLA CRESPO</td>\n",
       "      <td>15.0</td>\n",
       "      <td>8132.699348</td>\n",
       "      <td>3.613584e+06</td>\n",
       "    </tr>\n",
       "    <tr>\n",
       "      <th>3</th>\n",
       "      <td>POLYGON ((-58.4946097568899 -34.6148652395239,...</td>\n",
       "      <td>VILLA DEL PARQUE</td>\n",
       "      <td>11.0</td>\n",
       "      <td>7705.389797</td>\n",
       "      <td>3.399596e+06</td>\n",
       "    </tr>\n",
       "    <tr>\n",
       "      <th>4</th>\n",
       "      <td>POLYGON ((-58.4128700313089 -34.6141162515854,...</td>\n",
       "      <td>ALMAGRO</td>\n",
       "      <td>5.0</td>\n",
       "      <td>8537.901368</td>\n",
       "      <td>4.050752e+06</td>\n",
       "    </tr>\n",
       "  </tbody>\n",
       "</table>\n",
       "</div>"
      ],
      "text/plain": [
       "                                                 WKT      NEIGHBORHOOD  \\\n",
       "0  POLYGON ((-58.4528200492791 -34.5959886570639,...         CHACARITA   \n",
       "1  POLYGON ((-58.4655768128541 -34.5965577078058,...          PATERNAL   \n",
       "2  POLYGON ((-58.4237529813037 -34.5978273383243,...      VILLA CRESPO   \n",
       "3  POLYGON ((-58.4946097568899 -34.6148652395239,...  VILLA DEL PARQUE   \n",
       "4  POLYGON ((-58.4128700313089 -34.6141162515854,...           ALMAGRO   \n",
       "\n",
       "   COMMUNE    PERIMETER          AREA  \n",
       "0     15.0  7725.695228  3.118101e+06  \n",
       "1     15.0  7087.513295  2.229829e+06  \n",
       "2     15.0  8132.699348  3.613584e+06  \n",
       "3     11.0  7705.389797  3.399596e+06  \n",
       "4      5.0  8537.901368  4.050752e+06  "
      ]
     },
     "execution_count": 24,
     "metadata": {},
     "output_type": "execute_result"
    }
   ],
   "source": [
    "df_bairros = pd.read_csv(\"Data/Neighborhoods.csv\", encoding = 'latin1')\n",
    "df_bairros.head()"
   ]
  },
  {
   "cell_type": "code",
   "execution_count": 25,
   "id": "e5a8d649-983d-49db-a862-33a916de3431",
   "metadata": {},
   "outputs": [
    {
     "data": {
      "text/plain": [
       "geopandas.geodataframe.GeoDataFrame"
      ]
     },
     "execution_count": 25,
     "metadata": {},
     "output_type": "execute_result"
    }
   ],
   "source": [
    "df_bairros[\"WKT\"] = df_bairros[\"WKT\"].apply(shapely.wkt.loads)\n",
    "geo_bairros = gpd.GeoDataFrame(df_bairros, geometry = 'WKT' )\n",
    "type(geo_bairros)"
   ]
  },
  {
   "cell_type": "code",
   "execution_count": 26,
   "id": "35b0eba1-00b1-4c83-88b6-5b2a77f093f5",
   "metadata": {},
   "outputs": [
    {
     "name": "stderr",
     "output_type": "stream",
     "text": [
      "C:\\Users\\RedRagon\\anaconda3\\envs\\ProjetoIntegrador2\\lib\\site-packages\\descartes\\patch.py:62: ShapelyDeprecationWarning: The array interface is deprecated and will no longer work in Shapely 2.0. Convert the '.coords' to a numpy array instead.\n",
      "  vertices = concatenate([\n",
      "C:\\Users\\RedRagon\\anaconda3\\envs\\ProjetoIntegrador2\\lib\\site-packages\\descartes\\patch.py:64: ShapelyDeprecationWarning: The array interface is deprecated and will no longer work in Shapely 2.0. Convert the '.coords' to a numpy array instead.\n",
      "  [asarray(r)[:, :2] for r in t.interiors])\n"
     ]
    },
    {
     "data": {
      "text/plain": [
       "<AxesSubplot:>"
      ]
     },
     "execution_count": 26,
     "metadata": {},
     "output_type": "execute_result"
    },
    {
     "data": {
      "image/png": "[encoded data removed]",
      "text/plain": [
       "<Figure size 720x432 with 1 Axes>"
      ]
     },
     "metadata": {
      "needs_background": "light"
     },
     "output_type": "display_data"
    }
   ],
   "source": [
    "geo_bairros.plot(color = 'white', edgecolor='black', figsize=(10,6))"
   ]
  },
  {
   "cell_type": "code",
   "execution_count": 27,
   "id": "9ebf41c0-9ee6-4235-9a3b-d57d9f27b6e3",
   "metadata": {},
   "outputs": [
    {
     "name": "stderr",
     "output_type": "stream",
     "text": [
      "C:\\Users\\RedRagon\\anaconda3\\envs\\ProjetoIntegrador2\\lib\\site-packages\\geopandas\\array.py:253: ShapelyDeprecationWarning: The array interface is deprecated and will no longer work in Shapely 2.0. Convert the '.coords' to a numpy array instead.\n",
      "  return GeometryArray(vectorized.points_from_xy(x, y, z), crs=crs)\n"
     ]
    }
   ],
   "source": [
    "geometria = gpd.points_from_xy(prop['lon'],prop['lat'])"
   ]
  },
  {
   "cell_type": "code",
   "execution_count": 28,
   "id": "964b83ea-615d-46c0-b518-4be4c25daceb",
   "metadata": {},
   "outputs": [],
   "source": [
    "prop = gpd.GeoDataFrame(prop,\n",
    "                        geometry = geometria\n",
    "                        )"
   ]
  },
  {
   "cell_type": "code",
   "execution_count": 29,
   "id": "98740d70-7737-49e0-afe9-0c35519b4a18",
   "metadata": {},
   "outputs": [
    {
     "data": {
      "text/html": [
       "<div>\n",
       "<style scoped>\n",
       "    .dataframe tbody tr th:only-of-type {\n",
       "        vertical-align: middle;\n",
       "    }\n",
       "\n",
       "    .dataframe tbody tr th {\n",
       "        vertical-align: top;\n",
       "    }\n",
       "\n",
       "    .dataframe thead th {\n",
       "        text-align: right;\n",
       "    }\n",
       "</style>\n",
       "<table border=\"1\" class=\"dataframe\">\n",
       "  <thead>\n",
       "    <tr style=\"text-align: right;\">\n",
       "      <th></th>\n",
       "      <th>geometry</th>\n",
       "      <th>lat</th>\n",
       "      <th>lon</th>\n",
       "      <th>property_type</th>\n",
       "      <th>place_name</th>\n",
       "    </tr>\n",
       "  </thead>\n",
       "  <tbody>\n",
       "    <tr>\n",
       "      <th>0</th>\n",
       "      <td>POINT (-58.50884 -34.66182)</td>\n",
       "      <td>-34.661824</td>\n",
       "      <td>-58.508839</td>\n",
       "      <td>PH</td>\n",
       "      <td>Mataderos</td>\n",
       "    </tr>\n",
       "    <tr>\n",
       "      <th>1</th>\n",
       "      <td>POINT (-58.52298 -34.65226)</td>\n",
       "      <td>-34.652262</td>\n",
       "      <td>-58.522982</td>\n",
       "      <td>apartment</td>\n",
       "      <td>Mataderos</td>\n",
       "    </tr>\n",
       "    <tr>\n",
       "      <th>2</th>\n",
       "      <td>POINT (-58.44336 -34.55987)</td>\n",
       "      <td>-34.559873</td>\n",
       "      <td>-58.443362</td>\n",
       "      <td>apartment</td>\n",
       "      <td>Belgrano</td>\n",
       "    </tr>\n",
       "    <tr>\n",
       "      <th>3</th>\n",
       "      <td>POINT (-58.44336 -34.55987)</td>\n",
       "      <td>-34.559873</td>\n",
       "      <td>-58.443362</td>\n",
       "      <td>apartment</td>\n",
       "      <td>Belgrano</td>\n",
       "    </tr>\n",
       "    <tr>\n",
       "      <th>4</th>\n",
       "      <td>POINT (-58.50162 -34.65236)</td>\n",
       "      <td>-34.652356</td>\n",
       "      <td>-58.501624</td>\n",
       "      <td>PH</td>\n",
       "      <td>Mataderos</td>\n",
       "    </tr>\n",
       "    <tr>\n",
       "      <th>...</th>\n",
       "      <td>...</td>\n",
       "      <td>...</td>\n",
       "      <td>...</td>\n",
       "      <td>...</td>\n",
       "      <td>...</td>\n",
       "    </tr>\n",
       "    <tr>\n",
       "      <th>17218</th>\n",
       "      <td>POINT (-58.40252 -34.59921)</td>\n",
       "      <td>-34.599214</td>\n",
       "      <td>-58.402519</td>\n",
       "      <td>apartment</td>\n",
       "      <td>Barrio Norte</td>\n",
       "    </tr>\n",
       "    <tr>\n",
       "      <th>17219</th>\n",
       "      <td>POINT (-58.39737 -34.58743)</td>\n",
       "      <td>-34.587425</td>\n",
       "      <td>-58.397372</td>\n",
       "      <td>apartment</td>\n",
       "      <td>Recoleta</td>\n",
       "    </tr>\n",
       "    <tr>\n",
       "      <th>17220</th>\n",
       "      <td>POINT (-58.44268 -34.56369)</td>\n",
       "      <td>-34.563685</td>\n",
       "      <td>-58.442683</td>\n",
       "      <td>apartment</td>\n",
       "      <td>Belgrano</td>\n",
       "    </tr>\n",
       "    <tr>\n",
       "      <th>17221</th>\n",
       "      <td>POINT (-58.44268 -34.56369)</td>\n",
       "      <td>-34.563685</td>\n",
       "      <td>-58.442683</td>\n",
       "      <td>apartment</td>\n",
       "      <td>Belgrano</td>\n",
       "    </tr>\n",
       "    <tr>\n",
       "      <th>17222</th>\n",
       "      <td>POINT (-58.47560 -34.57064)</td>\n",
       "      <td>-34.570639</td>\n",
       "      <td>-58.475596</td>\n",
       "      <td>apartment</td>\n",
       "      <td>Villa Urquiza</td>\n",
       "    </tr>\n",
       "  </tbody>\n",
       "</table>\n",
       "<p>16770 rows × 5 columns</p>\n",
       "</div>"
      ],
      "text/plain": [
       "                          geometry        lat        lon property_type  \\\n",
       "0      POINT (-58.50884 -34.66182) -34.661824 -58.508839            PH   \n",
       "1      POINT (-58.52298 -34.65226) -34.652262 -58.522982     apartment   \n",
       "2      POINT (-58.44336 -34.55987) -34.559873 -58.443362     apartment   \n",
       "3      POINT (-58.44336 -34.55987) -34.559873 -58.443362     apartment   \n",
       "4      POINT (-58.50162 -34.65236) -34.652356 -58.501624            PH   \n",
       "...                            ...        ...        ...           ...   \n",
       "17218  POINT (-58.40252 -34.59921) -34.599214 -58.402519     apartment   \n",
       "17219  POINT (-58.39737 -34.58743) -34.587425 -58.397372     apartment   \n",
       "17220  POINT (-58.44268 -34.56369) -34.563685 -58.442683     apartment   \n",
       "17221  POINT (-58.44268 -34.56369) -34.563685 -58.442683     apartment   \n",
       "17222  POINT (-58.47560 -34.57064) -34.570639 -58.475596     apartment   \n",
       "\n",
       "          place_name  \n",
       "0          Mataderos  \n",
       "1          Mataderos  \n",
       "2           Belgrano  \n",
       "3           Belgrano  \n",
       "4          Mataderos  \n",
       "...              ...  \n",
       "17218   Barrio Norte  \n",
       "17219       Recoleta  \n",
       "17220       Belgrano  \n",
       "17221       Belgrano  \n",
       "17222  Villa Urquiza  \n",
       "\n",
       "[16770 rows x 5 columns]"
      ]
     },
     "execution_count": 29,
     "metadata": {},
     "output_type": "execute_result"
    }
   ],
   "source": [
    "prop.loc[ : , ['geometry', 'lat', 'lon', 'property_type', 'place_name']]"
   ]
  },
  {
   "cell_type": "code",
   "execution_count": 30,
   "id": "a5505bc1-36b0-48a3-97bf-483bc34b88bc",
   "metadata": {},
   "outputs": [
    {
     "data": {
      "text/html": [
       "<div>\n",
       "<style scoped>\n",
       "    .dataframe tbody tr th:only-of-type {\n",
       "        vertical-align: middle;\n",
       "    }\n",
       "\n",
       "    .dataframe tbody tr th {\n",
       "        vertical-align: top;\n",
       "    }\n",
       "\n",
       "    .dataframe thead th {\n",
       "        text-align: right;\n",
       "    }\n",
       "</style>\n",
       "<table border=\"1\" class=\"dataframe\">\n",
       "  <thead>\n",
       "    <tr style=\"text-align: right;\">\n",
       "      <th></th>\n",
       "      <th>property_type</th>\n",
       "      <th>place_name</th>\n",
       "      <th>lat</th>\n",
       "      <th>lon</th>\n",
       "      <th>surface_total_in_m2</th>\n",
       "      <th>price_usd</th>\n",
       "      <th>preco_metro2</th>\n",
       "      <th>geometry</th>\n",
       "    </tr>\n",
       "  </thead>\n",
       "  <tbody>\n",
       "    <tr>\n",
       "      <th>4202</th>\n",
       "      <td>apartment</td>\n",
       "      <td>Mataderos</td>\n",
       "      <td>-38.416097</td>\n",
       "      <td>-63.616672</td>\n",
       "      <td>70.0</td>\n",
       "      <td>45000.0</td>\n",
       "      <td>642.857143</td>\n",
       "      <td>POINT (-63.61667 -38.41610)</td>\n",
       "    </tr>\n",
       "    <tr>\n",
       "      <th>6026</th>\n",
       "      <td>PH</td>\n",
       "      <td>Villa Lugano</td>\n",
       "      <td>-34.694365</td>\n",
       "      <td>-58.467574</td>\n",
       "      <td>301.0</td>\n",
       "      <td>235000.0</td>\n",
       "      <td>780.730897</td>\n",
       "      <td>POINT (-58.46757 -34.69436)</td>\n",
       "    </tr>\n",
       "    <tr>\n",
       "      <th>6027</th>\n",
       "      <td>PH</td>\n",
       "      <td>Villa Lugano</td>\n",
       "      <td>-34.694365</td>\n",
       "      <td>-58.467574</td>\n",
       "      <td>301.0</td>\n",
       "      <td>235000.0</td>\n",
       "      <td>780.730897</td>\n",
       "      <td>POINT (-58.46757 -34.69436)</td>\n",
       "    </tr>\n",
       "    <tr>\n",
       "      <th>5079</th>\n",
       "      <td>house</td>\n",
       "      <td>Villa Riachuelo</td>\n",
       "      <td>-34.694051</td>\n",
       "      <td>-58.470120</td>\n",
       "      <td>260.0</td>\n",
       "      <td>200000.0</td>\n",
       "      <td>769.230769</td>\n",
       "      <td>POINT (-58.47012 -34.69405)</td>\n",
       "    </tr>\n",
       "    <tr>\n",
       "      <th>3274</th>\n",
       "      <td>PH</td>\n",
       "      <td>Villa Riachuelo</td>\n",
       "      <td>-34.693859</td>\n",
       "      <td>-58.467008</td>\n",
       "      <td>122.0</td>\n",
       "      <td>150000.0</td>\n",
       "      <td>1229.508197</td>\n",
       "      <td>POINT (-58.46701 -34.69386)</td>\n",
       "    </tr>\n",
       "  </tbody>\n",
       "</table>\n",
       "</div>"
      ],
      "text/plain": [
       "     property_type       place_name        lat        lon  \\\n",
       "4202     apartment        Mataderos -38.416097 -63.616672   \n",
       "6026            PH     Villa Lugano -34.694365 -58.467574   \n",
       "6027            PH     Villa Lugano -34.694365 -58.467574   \n",
       "5079         house  Villa Riachuelo -34.694051 -58.470120   \n",
       "3274            PH  Villa Riachuelo -34.693859 -58.467008   \n",
       "\n",
       "      surface_total_in_m2  price_usd  preco_metro2  \\\n",
       "4202                 70.0    45000.0    642.857143   \n",
       "6026                301.0   235000.0    780.730897   \n",
       "6027                301.0   235000.0    780.730897   \n",
       "5079                260.0   200000.0    769.230769   \n",
       "3274                122.0   150000.0   1229.508197   \n",
       "\n",
       "                         geometry  \n",
       "4202  POINT (-63.61667 -38.41610)  \n",
       "6026  POINT (-58.46757 -34.69436)  \n",
       "6027  POINT (-58.46757 -34.69436)  \n",
       "5079  POINT (-58.47012 -34.69405)  \n",
       "3274  POINT (-58.46701 -34.69386)  "
      ]
     },
     "execution_count": 30,
     "metadata": {},
     "output_type": "execute_result"
    }
   ],
   "source": [
    "prop.sort_values(by='lat').head(5)"
   ]
  },
  {
   "cell_type": "code",
   "execution_count": 31,
   "id": "05e82e25-d4f4-43ac-b8f0-568844641478",
   "metadata": {},
   "outputs": [],
   "source": [
    "prop['property_place'] = prop['property_type'] + '_' + prop['place_name']"
   ]
  },
  {
   "cell_type": "code",
   "execution_count": 32,
   "id": "0d110487-b6f0-4642-ad6a-a2eba5506f42",
   "metadata": {},
   "outputs": [],
   "source": [
    "prop['avg_price_m2'] = prop.groupby('property_place')['preco_metro2'].transform('mean')"
   ]
  },
  {
   "cell_type": "code",
   "execution_count": 127,
   "id": "d32ed8fe-794f-48a7-8f29-5f2f7dcea622",
   "metadata": {},
   "outputs": [
    {
     "data": {
      "text/html": [
       "<div>\n",
       "<style scoped>\n",
       "    .dataframe tbody tr th:only-of-type {\n",
       "        vertical-align: middle;\n",
       "    }\n",
       "\n",
       "    .dataframe tbody tr th {\n",
       "        vertical-align: top;\n",
       "    }\n",
       "\n",
       "    .dataframe thead th {\n",
       "        text-align: right;\n",
       "    }\n",
       "</style>\n",
       "<table border=\"1\" class=\"dataframe\">\n",
       "  <thead>\n",
       "    <tr style=\"text-align: right;\">\n",
       "      <th></th>\n",
       "      <th>property_type</th>\n",
       "      <th>place_name</th>\n",
       "      <th>lat</th>\n",
       "      <th>lon</th>\n",
       "      <th>surface_total_in_m2</th>\n",
       "      <th>price_usd</th>\n",
       "      <th>preco_metro2</th>\n",
       "      <th>geometry</th>\n",
       "      <th>property_place</th>\n",
       "      <th>avg_price_m2</th>\n",
       "      <th>Faixas_de_preco_m2</th>\n",
       "    </tr>\n",
       "  </thead>\n",
       "  <tbody>\n",
       "    <tr>\n",
       "      <th>0</th>\n",
       "      <td>PH</td>\n",
       "      <td>Mataderos</td>\n",
       "      <td>-34.661824</td>\n",
       "      <td>-58.508839</td>\n",
       "      <td>55.0</td>\n",
       "      <td>62000.0</td>\n",
       "      <td>1127.272727</td>\n",
       "      <td>POINT (-58.50884 -34.66182)</td>\n",
       "      <td>PH_Mataderos</td>\n",
       "      <td>1386.591733</td>\n",
       "      <td>1</td>\n",
       "    </tr>\n",
       "    <tr>\n",
       "      <th>1</th>\n",
       "      <td>apartment</td>\n",
       "      <td>Mataderos</td>\n",
       "      <td>-34.652262</td>\n",
       "      <td>-58.522982</td>\n",
       "      <td>55.0</td>\n",
       "      <td>72000.0</td>\n",
       "      <td>1309.090909</td>\n",
       "      <td>POINT (-58.52298 -34.65226)</td>\n",
       "      <td>apartment_Mataderos</td>\n",
       "      <td>1776.706933</td>\n",
       "      <td>2</td>\n",
       "    </tr>\n",
       "  </tbody>\n",
       "</table>\n",
       "</div>"
      ],
      "text/plain": [
       "  property_type place_name        lat        lon  surface_total_in_m2  \\\n",
       "0            PH  Mataderos -34.661824 -58.508839                 55.0   \n",
       "1     apartment  Mataderos -34.652262 -58.522982                 55.0   \n",
       "\n",
       "   price_usd  preco_metro2                     geometry       property_place  \\\n",
       "0    62000.0   1127.272727  POINT (-58.50884 -34.66182)         PH_Mataderos   \n",
       "1    72000.0   1309.090909  POINT (-58.52298 -34.65226)  apartment_Mataderos   \n",
       "\n",
       "   avg_price_m2 Faixas_de_preco_m2  \n",
       "0   1386.591733                  1  \n",
       "1   1776.706933                  2  "
      ]
     },
     "execution_count": 127,
     "metadata": {},
     "output_type": "execute_result"
    }
   ],
   "source": [
    "prop.head(2)"
   ]
  },
  {
   "cell_type": "code",
   "execution_count": 128,
   "id": "403c7700-026c-44e9-bbe9-01a054e6f1a1",
   "metadata": {},
   "outputs": [
    {
     "name": "stderr",
     "output_type": "stream",
     "text": [
      "C:\\Users\\RedRagon\\anaconda3\\envs\\ProjetoIntegrador2\\lib\\site-packages\\geopandas\\geodataframe.py:853: SettingWithCopyWarning: \n",
      "A value is trying to be set on a copy of a slice from a DataFrame.\n",
      "Try using .loc[row_indexer,col_indexer] = value instead\n",
      "\n",
      "See the caveats in the documentation: https://pandas.pydata.org/pandas-docs/stable/user_guide/indexing.html#returning-a-view-versus-a-copy\n",
      "  super(GeoDataFrame, self).__setitem__(key, value)\n",
      "C:\\Users\\RedRagon\\anaconda3\\envs\\ProjetoIntegrador2\\lib\\site-packages\\descartes\\patch.py:62: ShapelyDeprecationWarning: The array interface is deprecated and will no longer work in Shapely 2.0. Convert the '.coords' to a numpy array instead.\n",
      "  vertices = concatenate([\n",
      "C:\\Users\\RedRagon\\anaconda3\\envs\\ProjetoIntegrador2\\lib\\site-packages\\descartes\\patch.py:64: ShapelyDeprecationWarning: The array interface is deprecated and will no longer work in Shapely 2.0. Convert the '.coords' to a numpy array instead.\n",
      "  [asarray(r)[:, :2] for r in t.interiors])\n",
      "C:\\Users\\RedRagon\\anaconda3\\envs\\ProjetoIntegrador2\\lib\\site-packages\\geopandas\\_vectorized.py:557: ShapelyDeprecationWarning: The array interface is deprecated and will no longer work in Shapely 2.0. Convert the '.coords' to a numpy array instead.\n",
      "  return _unary_geo(\"centroid\", data)\n",
      "C:\\Users\\RedRagon\\anaconda3\\envs\\ProjetoIntegrador2\\lib\\site-packages\\geopandas\\array.py:166: ShapelyDeprecationWarning: The array interface is deprecated and will no longer work in Shapely 2.0. Convert the '.coords' to a numpy array instead.\n",
      "  return GeometryArray(vectorized.from_shapely(data), crs=crs)\n"
     ]
    },
    {
     "data": {
      "image/png": "[encoded data removed]",
      "text/plain": [
       "<Figure size 1440x1152 with 2 Axes>"
      ]
     },
     "metadata": {
      "needs_background": "light"
     },
     "output_type": "display_data"
    }
   ],
   "source": [
    "df_apart = prop.loc[ : , ['property_type', 'place_name', 'avg_price_m2']]\n",
    "\n",
    "avg_bairro_apart = df_apart.loc[df_apart['property_type'] == 'apartment']\n",
    "avg_bairro_apart['place_name'] = avg_bairro_apart['place_name'].str.upper()\n",
    "\n",
    "geodata_apart = pd.merge(left=avg_bairro_apart, right=df_bairros, left_on='place_name', right_on='NEIGHBORHOOD', how='inner')\n",
    "geodata_apart = geodata_apart.rename(columns={\"WKT\": \"geometry\"})\n",
    "geodata_apart = geodata_apart.drop(columns=['NEIGHBORHOOD','COMMUNE','PERIMETER','AREA'])\n",
    "geodata_apart = geodata_apart.drop_duplicates(subset=['place_name'])\n",
    "\n",
    "geodf_apart = gpd.GeoDataFrame(geodata_apart)\n",
    "\n",
    "ax = geodf_apart.loc[geodf_apart['property_type'] == 'apartment'].plot(\n",
    "    figsize=(20,16),\n",
    "    edgecolor='black',column='avg_price_m2',\n",
    "    legend=True,\n",
    "    legend_kwds={'label': \"Valor médio por Bairro\",'orientation':\"vertical\" })\n",
    "\n",
    "for i in geodf_apart.index:\n",
    "    plt.text(geodf_apart.geometry.centroid[i].coords[0][0], geodf_apart.geometry.centroid[i].coords[0][1], geodf_apart.place_name[i],\n",
    "             fontsize=8, horizontalalignment='center', verticalalignment='center', color = 'cyan')\n",
    "    \n",
    "ax.set_axis_off();\n",
    "ax.set_title(\"PREÇO MÉDIO POR M2 DE APARTAMENTOS\",fontsize=26);"
   ]
  },
  {
   "cell_type": "code",
   "execution_count": 179,
   "id": "10ca69e6-9284-4dc6-86fb-04eb4dfa67a5",
   "metadata": {},
   "outputs": [
    {
     "data": {
      "text/html": [
       "<div>\n",
       "<style scoped>\n",
       "    .dataframe tbody tr th:only-of-type {\n",
       "        vertical-align: middle;\n",
       "    }\n",
       "\n",
       "    .dataframe tbody tr th {\n",
       "        vertical-align: top;\n",
       "    }\n",
       "\n",
       "    .dataframe thead th {\n",
       "        text-align: right;\n",
       "    }\n",
       "</style>\n",
       "<table border=\"1\" class=\"dataframe\">\n",
       "  <thead>\n",
       "    <tr style=\"text-align: right;\">\n",
       "      <th></th>\n",
       "      <th>surface_total_in_m2</th>\n",
       "      <th>Faixas_de_preco_m2</th>\n",
       "      <th>Belgrano</th>\n",
       "      <th>Nuñez</th>\n",
       "      <th>Palermo</th>\n",
       "      <th>Recoleta</th>\n",
       "      <th>Retiro</th>\n",
       "      <th>1</th>\n",
       "      <th>2</th>\n",
       "      <th>3</th>\n",
       "      <th>4</th>\n",
       "      <th>5</th>\n",
       "      <th>6</th>\n",
       "      <th>7</th>\n",
       "      <th>8</th>\n",
       "      <th>9</th>\n",
       "      <th>10</th>\n",
       "    </tr>\n",
       "  </thead>\n",
       "  <tbody>\n",
       "    <tr>\n",
       "      <th>9599</th>\n",
       "      <td>37.0</td>\n",
       "      <td>1</td>\n",
       "      <td>0</td>\n",
       "      <td>0</td>\n",
       "      <td>1</td>\n",
       "      <td>0</td>\n",
       "      <td>0</td>\n",
       "      <td>1</td>\n",
       "      <td>0</td>\n",
       "      <td>0</td>\n",
       "      <td>0</td>\n",
       "      <td>0</td>\n",
       "      <td>0</td>\n",
       "      <td>0</td>\n",
       "      <td>0</td>\n",
       "      <td>0</td>\n",
       "      <td>0</td>\n",
       "    </tr>\n",
       "    <tr>\n",
       "      <th>5739</th>\n",
       "      <td>190.0</td>\n",
       "      <td>1</td>\n",
       "      <td>0</td>\n",
       "      <td>0</td>\n",
       "      <td>1</td>\n",
       "      <td>0</td>\n",
       "      <td>0</td>\n",
       "      <td>1</td>\n",
       "      <td>0</td>\n",
       "      <td>0</td>\n",
       "      <td>0</td>\n",
       "      <td>0</td>\n",
       "      <td>0</td>\n",
       "      <td>0</td>\n",
       "      <td>0</td>\n",
       "      <td>0</td>\n",
       "      <td>0</td>\n",
       "    </tr>\n",
       "    <tr>\n",
       "      <th>16931</th>\n",
       "      <td>37.0</td>\n",
       "      <td>1</td>\n",
       "      <td>0</td>\n",
       "      <td>0</td>\n",
       "      <td>1</td>\n",
       "      <td>0</td>\n",
       "      <td>0</td>\n",
       "      <td>1</td>\n",
       "      <td>0</td>\n",
       "      <td>0</td>\n",
       "      <td>0</td>\n",
       "      <td>0</td>\n",
       "      <td>0</td>\n",
       "      <td>0</td>\n",
       "      <td>0</td>\n",
       "      <td>0</td>\n",
       "      <td>0</td>\n",
       "    </tr>\n",
       "    <tr>\n",
       "      <th>16932</th>\n",
       "      <td>39.0</td>\n",
       "      <td>1</td>\n",
       "      <td>0</td>\n",
       "      <td>0</td>\n",
       "      <td>1</td>\n",
       "      <td>0</td>\n",
       "      <td>0</td>\n",
       "      <td>1</td>\n",
       "      <td>0</td>\n",
       "      <td>0</td>\n",
       "      <td>0</td>\n",
       "      <td>0</td>\n",
       "      <td>0</td>\n",
       "      <td>0</td>\n",
       "      <td>0</td>\n",
       "      <td>0</td>\n",
       "      <td>0</td>\n",
       "    </tr>\n",
       "    <tr>\n",
       "      <th>16933</th>\n",
       "      <td>117.0</td>\n",
       "      <td>1</td>\n",
       "      <td>0</td>\n",
       "      <td>0</td>\n",
       "      <td>1</td>\n",
       "      <td>0</td>\n",
       "      <td>0</td>\n",
       "      <td>1</td>\n",
       "      <td>0</td>\n",
       "      <td>0</td>\n",
       "      <td>0</td>\n",
       "      <td>0</td>\n",
       "      <td>0</td>\n",
       "      <td>0</td>\n",
       "      <td>0</td>\n",
       "      <td>0</td>\n",
       "      <td>0</td>\n",
       "    </tr>\n",
       "    <tr>\n",
       "      <th>...</th>\n",
       "      <td>...</td>\n",
       "      <td>...</td>\n",
       "      <td>...</td>\n",
       "      <td>...</td>\n",
       "      <td>...</td>\n",
       "      <td>...</td>\n",
       "      <td>...</td>\n",
       "      <td>...</td>\n",
       "      <td>...</td>\n",
       "      <td>...</td>\n",
       "      <td>...</td>\n",
       "      <td>...</td>\n",
       "      <td>...</td>\n",
       "      <td>...</td>\n",
       "      <td>...</td>\n",
       "      <td>...</td>\n",
       "      <td>...</td>\n",
       "    </tr>\n",
       "    <tr>\n",
       "      <th>5306</th>\n",
       "      <td>300.0</td>\n",
       "      <td>10</td>\n",
       "      <td>0</td>\n",
       "      <td>0</td>\n",
       "      <td>1</td>\n",
       "      <td>0</td>\n",
       "      <td>0</td>\n",
       "      <td>0</td>\n",
       "      <td>0</td>\n",
       "      <td>0</td>\n",
       "      <td>0</td>\n",
       "      <td>0</td>\n",
       "      <td>0</td>\n",
       "      <td>0</td>\n",
       "      <td>0</td>\n",
       "      <td>0</td>\n",
       "      <td>1</td>\n",
       "    </tr>\n",
       "    <tr>\n",
       "      <th>14917</th>\n",
       "      <td>41.0</td>\n",
       "      <td>10</td>\n",
       "      <td>1</td>\n",
       "      <td>0</td>\n",
       "      <td>0</td>\n",
       "      <td>0</td>\n",
       "      <td>0</td>\n",
       "      <td>0</td>\n",
       "      <td>0</td>\n",
       "      <td>0</td>\n",
       "      <td>0</td>\n",
       "      <td>0</td>\n",
       "      <td>0</td>\n",
       "      <td>0</td>\n",
       "      <td>0</td>\n",
       "      <td>0</td>\n",
       "      <td>1</td>\n",
       "    </tr>\n",
       "    <tr>\n",
       "      <th>3089</th>\n",
       "      <td>307.0</td>\n",
       "      <td>10</td>\n",
       "      <td>0</td>\n",
       "      <td>0</td>\n",
       "      <td>0</td>\n",
       "      <td>1</td>\n",
       "      <td>0</td>\n",
       "      <td>0</td>\n",
       "      <td>0</td>\n",
       "      <td>0</td>\n",
       "      <td>0</td>\n",
       "      <td>0</td>\n",
       "      <td>0</td>\n",
       "      <td>0</td>\n",
       "      <td>0</td>\n",
       "      <td>0</td>\n",
       "      <td>1</td>\n",
       "    </tr>\n",
       "    <tr>\n",
       "      <th>10808</th>\n",
       "      <td>74.0</td>\n",
       "      <td>10</td>\n",
       "      <td>0</td>\n",
       "      <td>0</td>\n",
       "      <td>1</td>\n",
       "      <td>0</td>\n",
       "      <td>0</td>\n",
       "      <td>0</td>\n",
       "      <td>0</td>\n",
       "      <td>0</td>\n",
       "      <td>0</td>\n",
       "      <td>0</td>\n",
       "      <td>0</td>\n",
       "      <td>0</td>\n",
       "      <td>0</td>\n",
       "      <td>0</td>\n",
       "      <td>1</td>\n",
       "    </tr>\n",
       "    <tr>\n",
       "      <th>12047</th>\n",
       "      <td>84.0</td>\n",
       "      <td>10</td>\n",
       "      <td>0</td>\n",
       "      <td>0</td>\n",
       "      <td>0</td>\n",
       "      <td>1</td>\n",
       "      <td>0</td>\n",
       "      <td>0</td>\n",
       "      <td>0</td>\n",
       "      <td>0</td>\n",
       "      <td>0</td>\n",
       "      <td>0</td>\n",
       "      <td>0</td>\n",
       "      <td>0</td>\n",
       "      <td>0</td>\n",
       "      <td>0</td>\n",
       "      <td>1</td>\n",
       "    </tr>\n",
       "  </tbody>\n",
       "</table>\n",
       "<p>4073 rows × 17 columns</p>\n",
       "</div>"
      ],
      "text/plain": [
       "       surface_total_in_m2 Faixas_de_preco_m2  Belgrano  Nuñez  Palermo  \\\n",
       "9599                  37.0                  1         0      0        1   \n",
       "5739                 190.0                  1         0      0        1   \n",
       "16931                 37.0                  1         0      0        1   \n",
       "16932                 39.0                  1         0      0        1   \n",
       "16933                117.0                  1         0      0        1   \n",
       "...                    ...                ...       ...    ...      ...   \n",
       "5306                 300.0                 10         0      0        1   \n",
       "14917                 41.0                 10         1      0        0   \n",
       "3089                 307.0                 10         0      0        0   \n",
       "10808                 74.0                 10         0      0        1   \n",
       "12047                 84.0                 10         0      0        0   \n",
       "\n",
       "       Recoleta  Retiro  1  2  3  4  5  6  7  8  9  10  \n",
       "9599          0       0  1  0  0  0  0  0  0  0  0   0  \n",
       "5739          0       0  1  0  0  0  0  0  0  0  0   0  \n",
       "16931         0       0  1  0  0  0  0  0  0  0  0   0  \n",
       "16932         0       0  1  0  0  0  0  0  0  0  0   0  \n",
       "16933         0       0  1  0  0  0  0  0  0  0  0   0  \n",
       "...         ...     ... .. .. .. .. .. .. .. .. ..  ..  \n",
       "5306          0       0  0  0  0  0  0  0  0  0  0   1  \n",
       "14917         0       0  0  0  0  0  0  0  0  0  0   1  \n",
       "3089          1       0  0  0  0  0  0  0  0  0  0   1  \n",
       "10808         0       0  0  0  0  0  0  0  0  0  0   1  \n",
       "12047         1       0  0  0  0  0  0  0  0  0  0   1  \n",
       "\n",
       "[4073 rows x 17 columns]"
      ]
     },
     "execution_count": 179,
     "metadata": {},
     "output_type": "execute_result"
    }
   ],
   "source": [
    "aa = prop[prop.place_name == 'Retiro']\n",
    "a = aa[aa.property_type == 'apartment']\n",
    "bb = prop[prop.place_name == 'Recoleta']\n",
    "b = bb[bb.property_type == 'apartment']\n",
    "cc = prop[prop.place_name == 'Palermo']\n",
    "c = cc[cc.property_type == 'apartment']\n",
    "dd = prop[prop.place_name == 'Belgrano']\n",
    "d = dd[dd.property_type == 'apartment']\n",
    "ee = prop[prop.place_name == 'Nuñez']\n",
    "e = ee[ee.property_type == 'apartment']\n",
    "df_analise = pd.concat([a,b,c,d,e])\n",
    "cols = ['geometry','price_usd', 'preco_metro2','avg_price_m2']\n",
    "dff = df_analise.drop(cols, axis = 1) \n",
    "df212 = dff.sort_values(by='place_name')\n",
    "dummiess = pd.get_dummies(df212.place_name)\n",
    "data22 = pd.concat([df212, dummiess],axis=1)\n",
    "dfff = data22.drop(columns = ['property_place','place_name','property_type','lat','lon'])\n",
    "dumis = pd.get_dummies(dfff.Faixas_de_preco_m2)\n",
    "data3 = pd.concat([dfff,dumis],axis=1)\n",
    "df5= data3.sort_values(by='Faixas_de_preco_m2')\n",
    "df5"
   ]
  },
  {
   "cell_type": "markdown",
   "id": "ed8463b6-31e1-4758-98f4-f81ab381f2ba",
   "metadata": {},
   "source": [
    "df_analise.price_usd.describe()"
   ]
  },
  {
   "cell_type": "code",
   "execution_count": 196,
   "id": "b14ebf01-b56d-4163-ae1a-144afec7a2fa",
   "metadata": {},
   "outputs": [
    {
     "data": {
      "text/html": [
       "<div>\n",
       "<style scoped>\n",
       "    .dataframe tbody tr th:only-of-type {\n",
       "        vertical-align: middle;\n",
       "    }\n",
       "\n",
       "    .dataframe tbody tr th {\n",
       "        vertical-align: top;\n",
       "    }\n",
       "\n",
       "    .dataframe thead th {\n",
       "        text-align: right;\n",
       "    }\n",
       "</style>\n",
       "<table border=\"1\" class=\"dataframe\">\n",
       "  <thead>\n",
       "    <tr style=\"text-align: right;\">\n",
       "      <th></th>\n",
       "      <th>property_type</th>\n",
       "      <th>place_name</th>\n",
       "      <th>lat</th>\n",
       "      <th>lon</th>\n",
       "      <th>surface_total_in_m2</th>\n",
       "      <th>price_usd</th>\n",
       "      <th>preco_metro2</th>\n",
       "      <th>geometry</th>\n",
       "      <th>property_place</th>\n",
       "      <th>avg_price_m2</th>\n",
       "      <th>Faixas_de_preco_m2</th>\n",
       "    </tr>\n",
       "  </thead>\n",
       "  <tbody>\n",
       "    <tr>\n",
       "      <th>0</th>\n",
       "      <td>PH</td>\n",
       "      <td>Mataderos</td>\n",
       "      <td>-34.661824</td>\n",
       "      <td>-58.508839</td>\n",
       "      <td>55.0</td>\n",
       "      <td>62000.0</td>\n",
       "      <td>1127.272727</td>\n",
       "      <td>POINT (-58.50884 -34.66182)</td>\n",
       "      <td>PH_Mataderos</td>\n",
       "      <td>1386.591733</td>\n",
       "      <td>1</td>\n",
       "    </tr>\n",
       "    <tr>\n",
       "      <th>1</th>\n",
       "      <td>apartment</td>\n",
       "      <td>Mataderos</td>\n",
       "      <td>-34.652262</td>\n",
       "      <td>-58.522982</td>\n",
       "      <td>55.0</td>\n",
       "      <td>72000.0</td>\n",
       "      <td>1309.090909</td>\n",
       "      <td>POINT (-58.52298 -34.65226)</td>\n",
       "      <td>apartment_Mataderos</td>\n",
       "      <td>1776.706933</td>\n",
       "      <td>2</td>\n",
       "    </tr>\n",
       "    <tr>\n",
       "      <th>2</th>\n",
       "      <td>apartment</td>\n",
       "      <td>Belgrano</td>\n",
       "      <td>-34.559873</td>\n",
       "      <td>-58.443362</td>\n",
       "      <td>45.0</td>\n",
       "      <td>138000.0</td>\n",
       "      <td>3066.666667</td>\n",
       "      <td>POINT (-58.44336 -34.55987)</td>\n",
       "      <td>apartment_Belgrano</td>\n",
       "      <td>2921.998257</td>\n",
       "      <td>9</td>\n",
       "    </tr>\n",
       "    <tr>\n",
       "      <th>3</th>\n",
       "      <td>apartment</td>\n",
       "      <td>Belgrano</td>\n",
       "      <td>-34.559873</td>\n",
       "      <td>-58.443362</td>\n",
       "      <td>65.0</td>\n",
       "      <td>195000.0</td>\n",
       "      <td>3000.000000</td>\n",
       "      <td>POINT (-58.44336 -34.55987)</td>\n",
       "      <td>apartment_Belgrano</td>\n",
       "      <td>2921.998257</td>\n",
       "      <td>8</td>\n",
       "    </tr>\n",
       "    <tr>\n",
       "      <th>4</th>\n",
       "      <td>PH</td>\n",
       "      <td>Mataderos</td>\n",
       "      <td>-34.652356</td>\n",
       "      <td>-58.501624</td>\n",
       "      <td>140.0</td>\n",
       "      <td>239000.0</td>\n",
       "      <td>1707.142857</td>\n",
       "      <td>POINT (-58.50162 -34.65236)</td>\n",
       "      <td>PH_Mataderos</td>\n",
       "      <td>1386.591733</td>\n",
       "      <td>2</td>\n",
       "    </tr>\n",
       "    <tr>\n",
       "      <th>...</th>\n",
       "      <td>...</td>\n",
       "      <td>...</td>\n",
       "      <td>...</td>\n",
       "      <td>...</td>\n",
       "      <td>...</td>\n",
       "      <td>...</td>\n",
       "      <td>...</td>\n",
       "      <td>...</td>\n",
       "      <td>...</td>\n",
       "      <td>...</td>\n",
       "      <td>...</td>\n",
       "    </tr>\n",
       "    <tr>\n",
       "      <th>17218</th>\n",
       "      <td>apartment</td>\n",
       "      <td>Barrio Norte</td>\n",
       "      <td>-34.599214</td>\n",
       "      <td>-58.402519</td>\n",
       "      <td>91.0</td>\n",
       "      <td>165000.0</td>\n",
       "      <td>1813.186813</td>\n",
       "      <td>POINT (-58.40252 -34.59921)</td>\n",
       "      <td>apartment_Barrio Norte</td>\n",
       "      <td>2995.063759</td>\n",
       "      <td>3</td>\n",
       "    </tr>\n",
       "    <tr>\n",
       "      <th>17219</th>\n",
       "      <td>apartment</td>\n",
       "      <td>Recoleta</td>\n",
       "      <td>-34.587425</td>\n",
       "      <td>-58.397372</td>\n",
       "      <td>44.0</td>\n",
       "      <td>165000.0</td>\n",
       "      <td>3750.000000</td>\n",
       "      <td>POINT (-58.39737 -34.58743)</td>\n",
       "      <td>apartment_Recoleta</td>\n",
       "      <td>3164.006018</td>\n",
       "      <td>10</td>\n",
       "    </tr>\n",
       "    <tr>\n",
       "      <th>17220</th>\n",
       "      <td>apartment</td>\n",
       "      <td>Belgrano</td>\n",
       "      <td>-34.563685</td>\n",
       "      <td>-58.442683</td>\n",
       "      <td>157.0</td>\n",
       "      <td>410000.0</td>\n",
       "      <td>2611.464968</td>\n",
       "      <td>POINT (-58.44268 -34.56369)</td>\n",
       "      <td>apartment_Belgrano</td>\n",
       "      <td>2921.998257</td>\n",
       "      <td>7</td>\n",
       "    </tr>\n",
       "    <tr>\n",
       "      <th>17221</th>\n",
       "      <td>apartment</td>\n",
       "      <td>Belgrano</td>\n",
       "      <td>-34.563685</td>\n",
       "      <td>-58.442683</td>\n",
       "      <td>157.0</td>\n",
       "      <td>410000.0</td>\n",
       "      <td>2611.464968</td>\n",
       "      <td>POINT (-58.44268 -34.56369)</td>\n",
       "      <td>apartment_Belgrano</td>\n",
       "      <td>2921.998257</td>\n",
       "      <td>7</td>\n",
       "    </tr>\n",
       "    <tr>\n",
       "      <th>17222</th>\n",
       "      <td>apartment</td>\n",
       "      <td>Villa Urquiza</td>\n",
       "      <td>-34.570639</td>\n",
       "      <td>-58.475596</td>\n",
       "      <td>46.0</td>\n",
       "      <td>131500.0</td>\n",
       "      <td>2858.695652</td>\n",
       "      <td>POINT (-58.47560 -34.57064)</td>\n",
       "      <td>apartment_Villa Urquiza</td>\n",
       "      <td>2340.355698</td>\n",
       "      <td>8</td>\n",
       "    </tr>\n",
       "  </tbody>\n",
       "</table>\n",
       "<p>16770 rows × 11 columns</p>\n",
       "</div>"
      ],
      "text/plain": [
       "      property_type     place_name        lat        lon  surface_total_in_m2  \\\n",
       "0                PH      Mataderos -34.661824 -58.508839                 55.0   \n",
       "1         apartment      Mataderos -34.652262 -58.522982                 55.0   \n",
       "2         apartment       Belgrano -34.559873 -58.443362                 45.0   \n",
       "3         apartment       Belgrano -34.559873 -58.443362                 65.0   \n",
       "4                PH      Mataderos -34.652356 -58.501624                140.0   \n",
       "...             ...            ...        ...        ...                  ...   \n",
       "17218     apartment   Barrio Norte -34.599214 -58.402519                 91.0   \n",
       "17219     apartment       Recoleta -34.587425 -58.397372                 44.0   \n",
       "17220     apartment       Belgrano -34.563685 -58.442683                157.0   \n",
       "17221     apartment       Belgrano -34.563685 -58.442683                157.0   \n",
       "17222     apartment  Villa Urquiza -34.570639 -58.475596                 46.0   \n",
       "\n",
       "       price_usd  preco_metro2                     geometry  \\\n",
       "0        62000.0   1127.272727  POINT (-58.50884 -34.66182)   \n",
       "1        72000.0   1309.090909  POINT (-58.52298 -34.65226)   \n",
       "2       138000.0   3066.666667  POINT (-58.44336 -34.55987)   \n",
       "3       195000.0   3000.000000  POINT (-58.44336 -34.55987)   \n",
       "4       239000.0   1707.142857  POINT (-58.50162 -34.65236)   \n",
       "...          ...           ...                          ...   \n",
       "17218   165000.0   1813.186813  POINT (-58.40252 -34.59921)   \n",
       "17219   165000.0   3750.000000  POINT (-58.39737 -34.58743)   \n",
       "17220   410000.0   2611.464968  POINT (-58.44268 -34.56369)   \n",
       "17221   410000.0   2611.464968  POINT (-58.44268 -34.56369)   \n",
       "17222   131500.0   2858.695652  POINT (-58.47560 -34.57064)   \n",
       "\n",
       "                property_place  avg_price_m2 Faixas_de_preco_m2  \n",
       "0                 PH_Mataderos   1386.591733                  1  \n",
       "1          apartment_Mataderos   1776.706933                  2  \n",
       "2           apartment_Belgrano   2921.998257                  9  \n",
       "3           apartment_Belgrano   2921.998257                  8  \n",
       "4                 PH_Mataderos   1386.591733                  2  \n",
       "...                        ...           ...                ...  \n",
       "17218   apartment_Barrio Norte   2995.063759                  3  \n",
       "17219       apartment_Recoleta   3164.006018                 10  \n",
       "17220       apartment_Belgrano   2921.998257                  7  \n",
       "17221       apartment_Belgrano   2921.998257                  7  \n",
       "17222  apartment_Villa Urquiza   2340.355698                  8  \n",
       "\n",
       "[16770 rows x 11 columns]"
      ]
     },
     "execution_count": 196,
     "metadata": {},
     "output_type": "execute_result"
    }
   ],
   "source": [
    "prop\n"
   ]
  },
  {
   "cell_type": "code",
   "execution_count": 186,
   "id": "8118e64a-ba9d-4bed-9236-87c56e665a83",
   "metadata": {},
   "outputs": [
    {
     "name": "stdout",
     "output_type": "stream",
     "text": [
      "min: 2044.119\n",
      "max: 3200000.0\n"
     ]
    }
   ],
   "source": [
    "print('min:',2.044119e+03)\n",
    "print('max:',3200000.0)"
   ]
  },
  {
   "cell_type": "markdown",
   "id": "4965558a-a51a-4370-a7aa-8f43d9088f3f",
   "metadata": {},
   "source": [
    "2000 - 30000\n",
    "\n",
    "30000 - 100000\n",
    "\n",
    "100000 - 200000\n",
    "\n",
    "200000 - infinito"
   ]
  },
  {
   "cell_type": "code",
   "execution_count": 131,
   "id": "44ecf94a-547c-4626-bf65-cccf662ce7eb",
   "metadata": {},
   "outputs": [
    {
     "data": {
      "image/png": "[encoded data removed]",
      "text/plain": [
       "<Figure size 432x288 with 2 Axes>"
      ]
     },
     "metadata": {
      "needs_background": "light"
     },
     "output_type": "display_data"
    }
   ],
   "source": [
    "sns.heatmap(dfff.corr(), \n",
    "            annot = True, \n",
    "            vmin = -1, \n",
    "            cmap = 'Blues'\n",
    "            );\n"
   ]
  },
  {
   "cell_type": "code",
   "execution_count": 110,
   "id": "c6e6d060-1c88-41e8-925b-51df1e109998",
   "metadata": {},
   "outputs": [
    {
     "name": "stdout",
     "output_type": "stream",
     "text": [
      "X: (4073, 5)\n",
      "y: (4073,)\n"
     ]
    }
   ],
   "source": [
    "feature_cols = ['Belgrano', 'Nuñez', 'Palermo', 'Recoleta', 'Retiro']\n",
    "X = df[feature_cols]\n",
    "y = df.surface_total_in_m2\n",
    "print('X:',X.shape)\n",
    "print('y:',y.shape)\n"
   ]
  },
  {
   "cell_type": "code",
   "execution_count": 111,
   "id": "bb917f14-adda-454f-a395-bb918efef973",
   "metadata": {},
   "outputs": [],
   "source": [
    "from sklearn.linear_model import LinearRegression"
   ]
  },
  {
   "cell_type": "code",
   "execution_count": 112,
   "id": "e636174e-cd48-4539-b1a2-693f53e914b3",
   "metadata": {},
   "outputs": [],
   "source": [
    "linreg = LinearRegression()"
   ]
  },
  {
   "cell_type": "code",
   "execution_count": 113,
   "id": "b0bab9f2-6d39-4336-8566-0b5f47671eb2",
   "metadata": {},
   "outputs": [
    {
     "data": {
      "text/html": [
       "<style>#sk-container-id-2 {color: black;background-color: white;}#sk-container-id-2 pre{padding: 0;}#sk-container-id-2 div.sk-toggleable {background-color: white;}#sk-container-id-2 label.sk-toggleable__label {cursor: pointer;display: block;width: 100%;margin-bottom: 0;padding: 0.3em;box-sizing: border-box;text-align: center;}#sk-container-id-2 label.sk-toggleable__label-arrow:before {content: \"▸\";float: left;margin-right: 0.25em;color: #696969;}#sk-container-id-2 label.sk-toggleable__label-arrow:hover:before {color: black;}#sk-container-id-2 div.sk-estimator:hover label.sk-toggleable__label-arrow:before {color: black;}#sk-container-id-2 div.sk-toggleable__content {max-height: 0;max-width: 0;overflow: hidden;text-align: left;background-color: #f0f8ff;}#sk-container-id-2 div.sk-toggleable__content pre {margin: 0.2em;color: black;border-radius: 0.25em;background-color: #f0f8ff;}#sk-container-id-2 input.sk-toggleable__control:checked~div.sk-toggleable__content {max-height: 200px;max-width: 100%;overflow: auto;}#sk-container-id-2 input.sk-toggleable__control:checked~label.sk-toggleable__label-arrow:before {content: \"▾\";}#sk-container-id-2 div.sk-estimator input.sk-toggleable__control:checked~label.sk-toggleable__label {background-color: #d4ebff;}#sk-container-id-2 div.sk-label input.sk-toggleable__control:checked~label.sk-toggleable__label {background-color: #d4ebff;}#sk-container-id-2 input.sk-hidden--visually {border: 0;clip: rect(1px 1px 1px 1px);clip: rect(1px, 1px, 1px, 1px);height: 1px;margin: -1px;overflow: hidden;padding: 0;position: absolute;width: 1px;}#sk-container-id-2 div.sk-estimator {font-family: monospace;background-color: #f0f8ff;border: 1px dotted black;border-radius: 0.25em;box-sizing: border-box;margin-bottom: 0.5em;}#sk-container-id-2 div.sk-estimator:hover {background-color: #d4ebff;}#sk-container-id-2 div.sk-parallel-item::after {content: \"\";width: 100%;border-bottom: 1px solid gray;flex-grow: 1;}#sk-container-id-2 div.sk-label:hover label.sk-toggleable__label {background-color: #d4ebff;}#sk-container-id-2 div.sk-serial::before {content: \"\";position: absolute;border-left: 1px solid gray;box-sizing: border-box;top: 0;bottom: 0;left: 50%;z-index: 0;}#sk-container-id-2 div.sk-serial {display: flex;flex-direction: column;align-items: center;background-color: white;padding-right: 0.2em;padding-left: 0.2em;position: relative;}#sk-container-id-2 div.sk-item {position: relative;z-index: 1;}#sk-container-id-2 div.sk-parallel {display: flex;align-items: stretch;justify-content: center;background-color: white;position: relative;}#sk-container-id-2 div.sk-item::before, #sk-container-id-2 div.sk-parallel-item::before {content: \"\";position: absolute;border-left: 1px solid gray;box-sizing: border-box;top: 0;bottom: 0;left: 50%;z-index: -1;}#sk-container-id-2 div.sk-parallel-item {display: flex;flex-direction: column;z-index: 1;position: relative;background-color: white;}#sk-container-id-2 div.sk-parallel-item:first-child::after {align-self: flex-end;width: 50%;}#sk-container-id-2 div.sk-parallel-item:last-child::after {align-self: flex-start;width: 50%;}#sk-container-id-2 div.sk-parallel-item:only-child::after {width: 0;}#sk-container-id-2 div.sk-dashed-wrapped {border: 1px dashed gray;margin: 0 0.4em 0.5em 0.4em;box-sizing: border-box;padding-bottom: 0.4em;background-color: white;}#sk-container-id-2 div.sk-label label {font-family: monospace;font-weight: bold;display: inline-block;line-height: 1.2em;}#sk-container-id-2 div.sk-label-container {text-align: center;}#sk-container-id-2 div.sk-container {/* jupyter's `normalize.less` sets `[hidden] { display: none; }` but bootstrap.min.css set `[hidden] { display: none !important; }` so we also need the `!important` here to be able to override the default hidden behavior on the sphinx rendered scikit-learn.org. See: https://github.com/scikit-learn/scikit-learn/issues/21755 */display: inline-block !important;position: relative;}#sk-container-id-2 div.sk-text-repr-fallback {display: none;}</style><div id=\"sk-container-id-2\" class=\"sk-top-container\"><div class=\"sk-text-repr-fallback\"><pre>LinearRegression()</pre><b>In a Jupyter environment, please rerun this cell to show the HTML representation or trust the notebook. <br />On GitHub, the HTML representation is unable to render, please try loading this page with nbviewer.org.</b></div><div class=\"sk-container\" hidden><div class=\"sk-item\"><div class=\"sk-estimator sk-toggleable\"><input class=\"sk-toggleable__control sk-hidden--visually\" id=\"sk-estimator-id-2\" type=\"checkbox\" checked><label for=\"sk-estimator-id-2\" class=\"sk-toggleable__label sk-toggleable__label-arrow\">LinearRegression</label><div class=\"sk-toggleable__content\"><pre>LinearRegression()</pre></div></div></div></div></div>"
      ],
      "text/plain": [
       "LinearRegression()"
      ]
     },
     "execution_count": 113,
     "metadata": {},
     "output_type": "execute_result"
    }
   ],
   "source": [
    "linreg.fit(X, y)"
   ]
  },
  {
   "cell_type": "code",
   "execution_count": 114,
   "id": "37219391-85af-425b-917e-01f466480008",
   "metadata": {},
   "outputs": [
    {
     "name": "stdout",
     "output_type": "stream",
     "text": [
      "-4498004264055.135\n",
      "[4.49800426e+12 4.49800426e+12 4.49800426e+12 4.49800426e+12\n",
      " 4.49800426e+12]\n"
     ]
    }
   ],
   "source": [
    "print (linreg.intercept_)\n",
    "print (linreg.coef_)"
   ]
  },
  {
   "cell_type": "code",
   "execution_count": 115,
   "id": "5e90e167-5c63-453f-a200-c9e063d310b4",
   "metadata": {},
   "outputs": [
    {
     "name": "stderr",
     "output_type": "stream",
     "text": [
      "C:\\Users\\RedRagon\\anaconda3\\envs\\ProjetoIntegrador2\\lib\\site-packages\\sklearn\\base.py:450: UserWarning: X does not have valid feature names, but LinearRegression was fitted with feature names\n",
      "  warnings.warn(\n"
     ]
    },
    {
     "data": {
      "text/plain": [
       "array([4.49800426e+14])"
      ]
     },
     "execution_count": 115,
     "metadata": {},
     "output_type": "execute_result"
    }
   ],
   "source": [
    "import numpy as np\n",
    "test = [100,0,0,0,1]\n",
    "test_sklearn = np.array(test).reshape(-5, 5)\n",
    "\n",
    "linreg.predict(test_sklearn)"
   ]
  },
  {
   "cell_type": "code",
   "execution_count": 116,
   "id": "26406c6f-bac1-4e3f-90bb-13fcb67e0d4d",
   "metadata": {},
   "outputs": [
    {
     "data": {
      "text/plain": [
       "[('Belgrano', 4498004264153.652),\n",
       " ('Nuñez', 4498004264142.428),\n",
       " ('Palermo', 4498004264144.469),\n",
       " ('Recoleta', 4498004264183.05),\n",
       " ('Retiro', 4498004264183.326)]"
      ]
     },
     "execution_count": 116,
     "metadata": {},
     "output_type": "execute_result"
    }
   ],
   "source": [
    "list(zip(feature_cols, linreg.coef_))"
   ]
  },
  {
   "cell_type": "code",
   "execution_count": 117,
   "id": "aab49c9e-c509-49a9-a5c2-ca3265f4916b",
   "metadata": {},
   "outputs": [],
   "source": [
    "pred = linreg.predict(X)"
   ]
  },
  {
   "cell_type": "code",
   "execution_count": 118,
   "id": "390fd9e4-d424-49ba-9fbc-9f7c3ebda5ae",
   "metadata": {},
   "outputs": [
    {
     "name": "stdout",
     "output_type": "stream",
     "text": [
      "MAE: 55.43735566152099\n",
      "MSE: 6378.672073122151\n",
      "RMSE: 79.8665892167817\n",
      "R2: 0.037348936568558644\n"
     ]
    }
   ],
   "source": [
    "from sklearn import metrics\n",
    "import numpy as np\n",
    "print ('MAE:', metrics.mean_absolute_error(y, pred))\n",
    "print ('MSE:', metrics.mean_squared_error(y, pred))\n",
    "print ('RMSE:', np.sqrt(metrics.mean_squared_error(y, pred)))\n",
    "print ('R2:', metrics.r2_score(y, pred))"
   ]
  },
  {
   "cell_type": "code",
   "execution_count": null,
   "id": "b7999559-627c-49e9-892e-8b659a4377af",
   "metadata": {},
   "outputs": [],
   "source": []
  }
 ],
 "metadata": {
  "kernelspec": {
   "display_name": "Python 3 (ipykernel)",
   "language": "python",
   "name": "python3"
  },
  "language_info": {
   "codemirror_mode": {
    "name": "ipython",
    "version": 3
   },
   "file_extension": ".py",
   "mimetype": "text/x-python",
   "name": "python",
   "nbconvert_exporter": "python",
   "pygments_lexer": "ipython3",
   "version": "3.9.12"
  }
 },
 "nbformat": 4,
 "nbformat_minor": 5
}
