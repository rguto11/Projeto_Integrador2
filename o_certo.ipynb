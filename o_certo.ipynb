{
 "cells": [
  {
   "cell_type": "code",
   "execution_count": 6,
   "id": "738978c8-3240-484f-b789-3f3312fd860c",
   "metadata": {},
   "outputs": [],
   "source": [
    "import pandas as pd\n",
    "import numpy as np\n",
    "import matplotlib.pyplot as plt\n",
    "import seaborn as sns\n",
    "import geopandas as gpd\n",
    "import descartes\n",
    "import shapely.wkt\n",
    "import pyproj\n",
    "\n",
    "from shapely.geometry import Point"
   ]
  },
  {
   "cell_type": "code",
   "execution_count": 7,
   "id": "93e6411f-3e3b-4e17-bcb6-53e802318bfc",
   "metadata": {},
   "outputs": [],
   "source": [
    "prop = pd.read_csv(r\"C:\\Users\\RedRagon\\Documents\\ProjetoIntegrador1\\Data\\Real_State_Properati.csv\",sep='\\t')"
   ]
  },
  {
   "cell_type": "code",
   "execution_count": 8,
   "id": "7ef7a700-af4f-42c0-aa9c-a282ea6dde10",
   "metadata": {},
   "outputs": [
    {
     "data": {
      "text/plain": [
       "(17223, 9)"
      ]
     },
     "execution_count": 8,
     "metadata": {},
     "output_type": "execute_result"
    }
   ],
   "source": [
    "prop.shape"
   ]
  },
  {
   "cell_type": "code",
   "execution_count": 9,
   "id": "346f0094-6ff7-4728-91b5-600ff9d93dfd",
   "metadata": {},
   "outputs": [
    {
     "data": {
      "text/html": [
       "<div>\n",
       "<style scoped>\n",
       "    .dataframe tbody tr th:only-of-type {\n",
       "        vertical-align: middle;\n",
       "    }\n",
       "\n",
       "    .dataframe tbody tr th {\n",
       "        vertical-align: top;\n",
       "    }\n",
       "\n",
       "    .dataframe thead th {\n",
       "        text-align: right;\n",
       "    }\n",
       "</style>\n",
       "<table border=\"1\" class=\"dataframe\">\n",
       "  <thead>\n",
       "    <tr style=\"text-align: right;\">\n",
       "      <th></th>\n",
       "      <th>property_type</th>\n",
       "      <th>place_name</th>\n",
       "      <th>country_name</th>\n",
       "      <th>state_name</th>\n",
       "      <th>lat</th>\n",
       "      <th>lon</th>\n",
       "      <th>price</th>\n",
       "      <th>currency</th>\n",
       "      <th>surface_total_in_m2</th>\n",
       "    </tr>\n",
       "  </thead>\n",
       "  <tbody>\n",
       "    <tr>\n",
       "      <th>0</th>\n",
       "      <td>PH</td>\n",
       "      <td>Mataderos</td>\n",
       "      <td>Argentina</td>\n",
       "      <td>Capital Federal</td>\n",
       "      <td>-34.661824</td>\n",
       "      <td>-58.508839</td>\n",
       "      <td>62000.0</td>\n",
       "      <td>USD</td>\n",
       "      <td>55.0</td>\n",
       "    </tr>\n",
       "    <tr>\n",
       "      <th>1</th>\n",
       "      <td>apartment</td>\n",
       "      <td>Mataderos</td>\n",
       "      <td>Argentina</td>\n",
       "      <td>Capital Federal</td>\n",
       "      <td>-34.652262</td>\n",
       "      <td>-58.522982</td>\n",
       "      <td>72000.0</td>\n",
       "      <td>USD</td>\n",
       "      <td>55.0</td>\n",
       "    </tr>\n",
       "    <tr>\n",
       "      <th>2</th>\n",
       "      <td>apartment</td>\n",
       "      <td>Belgrano</td>\n",
       "      <td>Argentina</td>\n",
       "      <td>Capital Federal</td>\n",
       "      <td>-34.559873</td>\n",
       "      <td>-58.443362</td>\n",
       "      <td>138000.0</td>\n",
       "      <td>USD</td>\n",
       "      <td>45.0</td>\n",
       "    </tr>\n",
       "    <tr>\n",
       "      <th>3</th>\n",
       "      <td>apartment</td>\n",
       "      <td>Belgrano</td>\n",
       "      <td>Argentina</td>\n",
       "      <td>Capital Federal</td>\n",
       "      <td>-34.559873</td>\n",
       "      <td>-58.443362</td>\n",
       "      <td>195000.0</td>\n",
       "      <td>USD</td>\n",
       "      <td>65.0</td>\n",
       "    </tr>\n",
       "    <tr>\n",
       "      <th>4</th>\n",
       "      <td>PH</td>\n",
       "      <td>Mataderos</td>\n",
       "      <td>Argentina</td>\n",
       "      <td>Capital Federal</td>\n",
       "      <td>-34.652356</td>\n",
       "      <td>-58.501624</td>\n",
       "      <td>239000.0</td>\n",
       "      <td>USD</td>\n",
       "      <td>140.0</td>\n",
       "    </tr>\n",
       "  </tbody>\n",
       "</table>\n",
       "</div>"
      ],
      "text/plain": [
       "  property_type place_name country_name       state_name        lat  \\\n",
       "0            PH  Mataderos    Argentina  Capital Federal -34.661824   \n",
       "1     apartment  Mataderos    Argentina  Capital Federal -34.652262   \n",
       "2     apartment   Belgrano    Argentina  Capital Federal -34.559873   \n",
       "3     apartment   Belgrano    Argentina  Capital Federal -34.559873   \n",
       "4            PH  Mataderos    Argentina  Capital Federal -34.652356   \n",
       "\n",
       "         lon     price currency  surface_total_in_m2  \n",
       "0 -58.508839   62000.0      USD                 55.0  \n",
       "1 -58.522982   72000.0      USD                 55.0  \n",
       "2 -58.443362  138000.0      USD                 45.0  \n",
       "3 -58.443362  195000.0      USD                 65.0  \n",
       "4 -58.501624  239000.0      USD                140.0  "
      ]
     },
     "execution_count": 9,
     "metadata": {},
     "output_type": "execute_result"
    }
   ],
   "source": [
    "prop.head(5)"
   ]
  },
  {
   "cell_type": "code",
   "execution_count": 10,
   "id": "42b1d2b6-3b18-4648-ad41-97d2947e509f",
   "metadata": {},
   "outputs": [
    {
     "data": {
      "text/plain": [
       "property_type          0\n",
       "place_name             0\n",
       "country_name           0\n",
       "state_name             0\n",
       "lat                    0\n",
       "lon                    0\n",
       "price                  0\n",
       "currency               0\n",
       "surface_total_in_m2    0\n",
       "dtype: int64"
      ]
     },
     "execution_count": 10,
     "metadata": {},
     "output_type": "execute_result"
    }
   ],
   "source": [
    "prop.isna().sum()"
   ]
  },
  {
   "cell_type": "code",
   "execution_count": 11,
   "id": "8d1db45b-a254-4f9b-be65-3b0ad6717c2a",
   "metadata": {},
   "outputs": [
    {
     "name": "stdout",
     "output_type": "stream",
     "text": [
      "<class 'pandas.core.frame.DataFrame'>\n",
      "RangeIndex: 17223 entries, 0 to 17222\n",
      "Data columns (total 9 columns):\n",
      " #   Column               Non-Null Count  Dtype  \n",
      "---  ------               --------------  -----  \n",
      " 0   property_type        17223 non-null  object \n",
      " 1   place_name           17223 non-null  object \n",
      " 2   country_name         17223 non-null  object \n",
      " 3   state_name           17223 non-null  object \n",
      " 4   lat                  17223 non-null  float64\n",
      " 5   lon                  17223 non-null  float64\n",
      " 6   price                17223 non-null  float64\n",
      " 7   currency             17223 non-null  object \n",
      " 8   surface_total_in_m2  17223 non-null  float64\n",
      "dtypes: float64(4), object(5)\n",
      "memory usage: 1.2+ MB\n"
     ]
    }
   ],
   "source": [
    "prop.info()"
   ]
  },
  {
   "cell_type": "code",
   "execution_count": 12,
   "id": "f25a89cf-f201-40c8-a786-6f08b2b868fd",
   "metadata": {},
   "outputs": [
    {
     "name": "stdout",
     "output_type": "stream",
     "text": [
      "property_type - 4\n",
      "place_name - 62\n",
      "country_name - 1\n",
      "state_name - 1\n",
      "lat - 9714\n",
      "lon - 9704\n",
      "price - 2754\n",
      "currency - 2\n",
      "surface_total_in_m2 - 568\n"
     ]
    }
   ],
   "source": [
    "for col in prop.columns:\n",
    "    print(col, \"-\", len(prop[col].unique()))"
   ]
  },
  {
   "cell_type": "code",
   "execution_count": 13,
   "id": "4534097a-7d71-4fef-b517-9e185b3b022d",
   "metadata": {},
   "outputs": [
    {
     "data": {
      "text/plain": [
       "array(['PH', 'apartment', 'house', 'store'], dtype=object)"
      ]
     },
     "execution_count": 13,
     "metadata": {},
     "output_type": "execute_result"
    }
   ],
   "source": [
    "prop['property_type'].unique()"
   ]
  },
  {
   "cell_type": "code",
   "execution_count": 14,
   "id": "02fad5fd-3fb7-4aab-bb88-37d2f684402a",
   "metadata": {},
   "outputs": [
    {
     "data": {
      "text/plain": [
       "property_type\n",
       "apartment    14428\n",
       "PH            1142\n",
       "house          888\n",
       "store          765\n",
       "Name: place_name, dtype: int64"
      ]
     },
     "execution_count": 14,
     "metadata": {},
     "output_type": "execute_result"
    }
   ],
   "source": [
    "prop.groupby(by = 'property_type').count()['place_name'].sort_values(ascending = False)"
   ]
  },
  {
   "cell_type": "code",
   "execution_count": 15,
   "id": "fcdc9431-fb5d-48a7-bf0e-7459baa8126a",
   "metadata": {},
   "outputs": [
    {
     "data": {
      "text/plain": [
       "apartment    83.771701\n",
       "PH            6.630668\n",
       "house         5.155896\n",
       "store         4.441735\n",
       "Name: property_type, dtype: float64"
      ]
     },
     "execution_count": 15,
     "metadata": {},
     "output_type": "execute_result"
    }
   ],
   "source": [
    "prop['property_type'].value_counts()/len(prop['property_type'])*100"
   ]
  },
  {
   "cell_type": "code",
   "execution_count": 16,
   "id": "a646ce7f-ba15-40f4-a4ff-22adabbf72ae",
   "metadata": {},
   "outputs": [
    {
     "data": {
      "text/plain": [
       "currency\n",
       "USD    16700\n",
       "ARS      523\n",
       "Name: place_name, dtype: int64"
      ]
     },
     "execution_count": 16,
     "metadata": {},
     "output_type": "execute_result"
    }
   ],
   "source": [
    "prop.groupby(by = 'currency').count()['place_name'].sort_values(ascending = False)"
   ]
  },
  {
   "cell_type": "code",
   "execution_count": 17,
   "id": "f303cd84-d8ed-428e-8524-51da818cc35c",
   "metadata": {},
   "outputs": [
    {
     "data": {
      "text/plain": [
       "USD    96.963363\n",
       "ARS     3.036637\n",
       "Name: currency, dtype: float64"
      ]
     },
     "execution_count": 17,
     "metadata": {},
     "output_type": "execute_result"
    }
   ],
   "source": [
    "prop['currency'].value_counts()/len(prop['currency'])*100"
   ]
  },
  {
   "cell_type": "code",
   "execution_count": 18,
   "id": "3a7c8fa9-48b2-4160-bdeb-e40a2a852a8c",
   "metadata": {},
   "outputs": [],
   "source": [
    "prop[\"price_usd\"] = prop.apply(lambda x: x[\"price\"] if x[\"currency\"] == \"USD\" else x[\"price\"]/117.41,axis=1)"
   ]
  },
  {
   "cell_type": "code",
   "execution_count": 19,
   "id": "1dce4a6f-0c7a-4b8d-952d-f700fd406489",
   "metadata": {},
   "outputs": [
    {
     "data": {
      "text/plain": [
       "Index(['property_type', 'place_name', 'country_name', 'state_name', 'lat',\n",
       "       'lon', 'price', 'currency', 'surface_total_in_m2', 'price_usd'],\n",
       "      dtype='object')"
      ]
     },
     "execution_count": 19,
     "metadata": {},
     "output_type": "execute_result"
    }
   ],
   "source": [
    "prop.columns"
   ]
  },
  {
   "cell_type": "code",
   "execution_count": 20,
   "id": "ce4b2cc4-c3ad-48cf-a1d6-312b8f58bd97",
   "metadata": {},
   "outputs": [],
   "source": [
    "prop[\"preco_metro2\"] = prop.price_usd / prop.surface_total_in_m2"
   ]
  },
  {
   "cell_type": "code",
   "execution_count": null,
   "id": "e6a76d2c-d9b2-4a6e-8bd1-6923e0a784b4",
   "metadata": {},
   "outputs": [],
   "source": []
  },
  {
   "cell_type": "code",
   "execution_count": 21,
   "id": "2f1b8a69-3d58-41ee-a831-9745b2e5af29",
   "metadata": {},
   "outputs": [
    {
     "data": {
      "text/plain": [
       "(17223, 11)"
      ]
     },
     "execution_count": 21,
     "metadata": {},
     "output_type": "execute_result"
    }
   ],
   "source": [
    "prop.shape"
   ]
  },
  {
   "cell_type": "code",
   "execution_count": 22,
   "id": "2196031d-a64f-45ee-97ee-20ca31e03417",
   "metadata": {},
   "outputs": [
    {
     "data": {
      "text/html": [
       "<div>\n",
       "<style scoped>\n",
       "    .dataframe tbody tr th:only-of-type {\n",
       "        vertical-align: middle;\n",
       "    }\n",
       "\n",
       "    .dataframe tbody tr th {\n",
       "        vertical-align: top;\n",
       "    }\n",
       "\n",
       "    .dataframe thead th {\n",
       "        text-align: right;\n",
       "    }\n",
       "</style>\n",
       "<table border=\"1\" class=\"dataframe\">\n",
       "  <thead>\n",
       "    <tr style=\"text-align: right;\">\n",
       "      <th></th>\n",
       "      <th>property_type</th>\n",
       "      <th>place_name</th>\n",
       "      <th>country_name</th>\n",
       "      <th>state_name</th>\n",
       "      <th>lat</th>\n",
       "      <th>lon</th>\n",
       "      <th>price</th>\n",
       "      <th>currency</th>\n",
       "      <th>surface_total_in_m2</th>\n",
       "      <th>price_usd</th>\n",
       "      <th>preco_metro2</th>\n",
       "    </tr>\n",
       "  </thead>\n",
       "  <tbody>\n",
       "    <tr>\n",
       "      <th>2486</th>\n",
       "      <td>apartment</td>\n",
       "      <td>Palermo Soho</td>\n",
       "      <td>Argentina</td>\n",
       "      <td>Capital Federal</td>\n",
       "      <td>-34.589974</td>\n",
       "      <td>-58.425614</td>\n",
       "      <td>780000.0</td>\n",
       "      <td>USD</td>\n",
       "      <td>0.0</td>\n",
       "      <td>780000.0</td>\n",
       "      <td>inf</td>\n",
       "    </tr>\n",
       "    <tr>\n",
       "      <th>4872</th>\n",
       "      <td>apartment</td>\n",
       "      <td>Recoleta</td>\n",
       "      <td>Argentina</td>\n",
       "      <td>Capital Federal</td>\n",
       "      <td>-34.588818</td>\n",
       "      <td>-58.390648</td>\n",
       "      <td>320000.0</td>\n",
       "      <td>USD</td>\n",
       "      <td>0.0</td>\n",
       "      <td>320000.0</td>\n",
       "      <td>inf</td>\n",
       "    </tr>\n",
       "    <tr>\n",
       "      <th>5454</th>\n",
       "      <td>apartment</td>\n",
       "      <td>Caballito</td>\n",
       "      <td>Argentina</td>\n",
       "      <td>Capital Federal</td>\n",
       "      <td>-34.617348</td>\n",
       "      <td>-58.449404</td>\n",
       "      <td>68500.0</td>\n",
       "      <td>USD</td>\n",
       "      <td>0.0</td>\n",
       "      <td>68500.0</td>\n",
       "      <td>inf</td>\n",
       "    </tr>\n",
       "    <tr>\n",
       "      <th>6318</th>\n",
       "      <td>apartment</td>\n",
       "      <td>Palermo Hollywood</td>\n",
       "      <td>Argentina</td>\n",
       "      <td>Capital Federal</td>\n",
       "      <td>-34.582558</td>\n",
       "      <td>-58.432585</td>\n",
       "      <td>175000.0</td>\n",
       "      <td>USD</td>\n",
       "      <td>0.0</td>\n",
       "      <td>175000.0</td>\n",
       "      <td>inf</td>\n",
       "    </tr>\n",
       "    <tr>\n",
       "      <th>7170</th>\n",
       "      <td>apartment</td>\n",
       "      <td>Barracas</td>\n",
       "      <td>Argentina</td>\n",
       "      <td>Capital Federal</td>\n",
       "      <td>-34.641131</td>\n",
       "      <td>-58.369122</td>\n",
       "      <td>135000.0</td>\n",
       "      <td>USD</td>\n",
       "      <td>0.0</td>\n",
       "      <td>135000.0</td>\n",
       "      <td>inf</td>\n",
       "    </tr>\n",
       "    <tr>\n",
       "      <th>15888</th>\n",
       "      <td>apartment</td>\n",
       "      <td>Barrio Norte</td>\n",
       "      <td>Argentina</td>\n",
       "      <td>Capital Federal</td>\n",
       "      <td>-34.598727</td>\n",
       "      <td>-58.395851</td>\n",
       "      <td>112000.0</td>\n",
       "      <td>USD</td>\n",
       "      <td>0.0</td>\n",
       "      <td>112000.0</td>\n",
       "      <td>inf</td>\n",
       "    </tr>\n",
       "  </tbody>\n",
       "</table>\n",
       "</div>"
      ],
      "text/plain": [
       "      property_type         place_name country_name       state_name  \\\n",
       "2486      apartment       Palermo Soho    Argentina  Capital Federal   \n",
       "4872      apartment           Recoleta    Argentina  Capital Federal   \n",
       "5454      apartment          Caballito    Argentina  Capital Federal   \n",
       "6318      apartment  Palermo Hollywood    Argentina  Capital Federal   \n",
       "7170      apartment           Barracas    Argentina  Capital Federal   \n",
       "15888     apartment       Barrio Norte    Argentina  Capital Federal   \n",
       "\n",
       "             lat        lon     price currency  surface_total_in_m2  \\\n",
       "2486  -34.589974 -58.425614  780000.0      USD                  0.0   \n",
       "4872  -34.588818 -58.390648  320000.0      USD                  0.0   \n",
       "5454  -34.617348 -58.449404   68500.0      USD                  0.0   \n",
       "6318  -34.582558 -58.432585  175000.0      USD                  0.0   \n",
       "7170  -34.641131 -58.369122  135000.0      USD                  0.0   \n",
       "15888 -34.598727 -58.395851  112000.0      USD                  0.0   \n",
       "\n",
       "       price_usd  preco_metro2  \n",
       "2486    780000.0           inf  \n",
       "4872    320000.0           inf  \n",
       "5454     68500.0           inf  \n",
       "6318    175000.0           inf  \n",
       "7170    135000.0           inf  \n",
       "15888   112000.0           inf  "
      ]
     },
     "execution_count": 22,
     "metadata": {},
     "output_type": "execute_result"
    }
   ],
   "source": [
    "prop[(prop.property_type == 'apartment') & (prop.surface_total_in_m2 == 0)]"
   ]
  },
  {
   "cell_type": "code",
   "execution_count": 23,
   "id": "84659c28-008f-480a-96cb-065ca68d001d",
   "metadata": {},
   "outputs": [],
   "source": [
    "prop.drop(index = list(prop[(prop.property_type == 'apartment') & (prop.surface_total_in_m2 == 0)].index),inplace = True)"
   ]
  },
  {
   "cell_type": "code",
   "execution_count": 24,
   "id": "8321b722-90af-483f-858b-001d486a648d",
   "metadata": {},
   "outputs": [],
   "source": [
    "for i in prop.property_type.unique():\n",
    "    prop.drop(index = list(prop.loc[(prop.property_type == i) & (prop.preco_metro2 > 3*prop.preco_metro2.std())].index), inplace = True)"
   ]
  },
  {
   "cell_type": "code",
   "execution_count": 25,
   "id": "7e0253e6-7669-42a6-a3be-08aea1cf6dfd",
   "metadata": {},
   "outputs": [
    {
     "data": {
      "text/plain": [
       "Index(['property_type', 'place_name', 'country_name', 'state_name', 'lat',\n",
       "       'lon', 'price', 'currency', 'surface_total_in_m2', 'price_usd',\n",
       "       'preco_metro2'],\n",
       "      dtype='object')"
      ]
     },
     "execution_count": 25,
     "metadata": {},
     "output_type": "execute_result"
    }
   ],
   "source": [
    "prop.columns"
   ]
  },
  {
   "cell_type": "code",
   "execution_count": 26,
   "id": "7af6754b-7ea9-4878-81b0-f4ffd194f074",
   "metadata": {},
   "outputs": [
    {
     "data": {
      "text/plain": [
       "(16770, 11)"
      ]
     },
     "execution_count": 26,
     "metadata": {},
     "output_type": "execute_result"
    }
   ],
   "source": [
    "prop.shape"
   ]
  },
  {
   "cell_type": "code",
   "execution_count": 27,
   "id": "7cc02d8e-3fb7-430e-8567-deae12705ea4",
   "metadata": {},
   "outputs": [
    {
     "data": {
      "text/html": [
       "<div>\n",
       "<style scoped>\n",
       "    .dataframe tbody tr th:only-of-type {\n",
       "        vertical-align: middle;\n",
       "    }\n",
       "\n",
       "    .dataframe tbody tr th {\n",
       "        vertical-align: top;\n",
       "    }\n",
       "\n",
       "    .dataframe thead th {\n",
       "        text-align: right;\n",
       "    }\n",
       "</style>\n",
       "<table border=\"1\" class=\"dataframe\">\n",
       "  <thead>\n",
       "    <tr style=\"text-align: right;\">\n",
       "      <th></th>\n",
       "      <th>WKT</th>\n",
       "      <th>NEIGHBORHOOD</th>\n",
       "      <th>COMMUNE</th>\n",
       "      <th>PERIMETER</th>\n",
       "      <th>AREA</th>\n",
       "    </tr>\n",
       "  </thead>\n",
       "  <tbody>\n",
       "    <tr>\n",
       "      <th>0</th>\n",
       "      <td>POLYGON ((-58.4528200492791 -34.5959886570639,...</td>\n",
       "      <td>CHACARITA</td>\n",
       "      <td>15.0</td>\n",
       "      <td>7725.695228</td>\n",
       "      <td>3.118101e+06</td>\n",
       "    </tr>\n",
       "    <tr>\n",
       "      <th>1</th>\n",
       "      <td>POLYGON ((-58.4655768128541 -34.5965577078058,...</td>\n",
       "      <td>PATERNAL</td>\n",
       "      <td>15.0</td>\n",
       "      <td>7087.513295</td>\n",
       "      <td>2.229829e+06</td>\n",
       "    </tr>\n",
       "    <tr>\n",
       "      <th>2</th>\n",
       "      <td>POLYGON ((-58.4237529813037 -34.5978273383243,...</td>\n",
       "      <td>VILLA CRESPO</td>\n",
       "      <td>15.0</td>\n",
       "      <td>8132.699348</td>\n",
       "      <td>3.613584e+06</td>\n",
       "    </tr>\n",
       "    <tr>\n",
       "      <th>3</th>\n",
       "      <td>POLYGON ((-58.4946097568899 -34.6148652395239,...</td>\n",
       "      <td>VILLA DEL PARQUE</td>\n",
       "      <td>11.0</td>\n",
       "      <td>7705.389797</td>\n",
       "      <td>3.399596e+06</td>\n",
       "    </tr>\n",
       "    <tr>\n",
       "      <th>4</th>\n",
       "      <td>POLYGON ((-58.4128700313089 -34.6141162515854,...</td>\n",
       "      <td>ALMAGRO</td>\n",
       "      <td>5.0</td>\n",
       "      <td>8537.901368</td>\n",
       "      <td>4.050752e+06</td>\n",
       "    </tr>\n",
       "  </tbody>\n",
       "</table>\n",
       "</div>"
      ],
      "text/plain": [
       "                                                 WKT      NEIGHBORHOOD  \\\n",
       "0  POLYGON ((-58.4528200492791 -34.5959886570639,...         CHACARITA   \n",
       "1  POLYGON ((-58.4655768128541 -34.5965577078058,...          PATERNAL   \n",
       "2  POLYGON ((-58.4237529813037 -34.5978273383243,...      VILLA CRESPO   \n",
       "3  POLYGON ((-58.4946097568899 -34.6148652395239,...  VILLA DEL PARQUE   \n",
       "4  POLYGON ((-58.4128700313089 -34.6141162515854,...           ALMAGRO   \n",
       "\n",
       "   COMMUNE    PERIMETER          AREA  \n",
       "0     15.0  7725.695228  3.118101e+06  \n",
       "1     15.0  7087.513295  2.229829e+06  \n",
       "2     15.0  8132.699348  3.613584e+06  \n",
       "3     11.0  7705.389797  3.399596e+06  \n",
       "4      5.0  8537.901368  4.050752e+06  "
      ]
     },
     "execution_count": 27,
     "metadata": {},
     "output_type": "execute_result"
    }
   ],
   "source": [
    "df_bairros = pd.read_csv(\"Data/Neighborhoods.csv\", encoding = 'latin1')\n",
    "df_bairros.head()"
   ]
  },
  {
   "cell_type": "code",
   "execution_count": 28,
   "id": "84a2d469-63b7-4d41-b258-c77314eaecb7",
   "metadata": {},
   "outputs": [
    {
     "data": {
      "text/plain": [
       "geopandas.geodataframe.GeoDataFrame"
      ]
     },
     "execution_count": 28,
     "metadata": {},
     "output_type": "execute_result"
    }
   ],
   "source": [
    "df_bairros[\"WKT\"] = df_bairros[\"WKT\"].apply(shapely.wkt.loads)\n",
    "geo_bairros = gpd.GeoDataFrame(df_bairros, geometry = 'WKT' )\n",
    "type(geo_bairros)"
   ]
  },
  {
   "cell_type": "code",
   "execution_count": 29,
   "id": "32292861-8656-498b-a5f6-1f13eaae7318",
   "metadata": {},
   "outputs": [
    {
     "name": "stderr",
     "output_type": "stream",
     "text": [
      "C:\\Users\\RedRagon\\anaconda3\\envs\\ProjetoIntegrador2\\lib\\site-packages\\descartes\\patch.py:62: ShapelyDeprecationWarning: The array interface is deprecated and will no longer work in Shapely 2.0. Convert the '.coords' to a numpy array instead.\n",
      "  vertices = concatenate([\n",
      "C:\\Users\\RedRagon\\anaconda3\\envs\\ProjetoIntegrador2\\lib\\site-packages\\descartes\\patch.py:64: ShapelyDeprecationWarning: The array interface is deprecated and will no longer work in Shapely 2.0. Convert the '.coords' to a numpy array instead.\n",
      "  [asarray(r)[:, :2] for r in t.interiors])\n"
     ]
    },
    {
     "data": {
      "text/plain": [
       "<AxesSubplot:>"
      ]
     },
     "execution_count": 29,
     "metadata": {},
     "output_type": "execute_result"
    },
    {
     "data": {
      "image/png": "[encoded data removed]",
      "text/plain": [
       "<Figure size 720x432 with 1 Axes>"
      ]
     },
     "metadata": {
      "needs_background": "light"
     },
     "output_type": "display_data"
    }
   ],
   "source": [
    "geo_bairros.plot(color = 'white', edgecolor='black', figsize=(10,6))"
   ]
  },
  {
   "cell_type": "code",
   "execution_count": 30,
   "id": "22f7ebba-3d2a-4682-9ec8-217f4ebcb1ab",
   "metadata": {},
   "outputs": [
    {
     "name": "stderr",
     "output_type": "stream",
     "text": [
      "C:\\Users\\RedRagon\\anaconda3\\envs\\ProjetoIntegrador2\\lib\\site-packages\\geopandas\\array.py:253: ShapelyDeprecationWarning: The array interface is deprecated and will no longer work in Shapely 2.0. Convert the '.coords' to a numpy array instead.\n",
      "  return GeometryArray(vectorized.points_from_xy(x, y, z), crs=crs)\n"
     ]
    }
   ],
   "source": [
    "geometria = gpd.points_from_xy(prop['lon'],prop['lat'])"
   ]
  },
  {
   "cell_type": "code",
   "execution_count": 31,
   "id": "1341c93d-07c8-47af-8654-1ab18e0fe234",
   "metadata": {},
   "outputs": [],
   "source": [
    "prop = gpd.GeoDataFrame(prop,\n",
    "                        geometry = geometria\n",
    "                        )"
   ]
  },
  {
   "cell_type": "code",
   "execution_count": 32,
   "id": "42ccb0e0-8a49-4e94-a693-0dd7055111d9",
   "metadata": {},
   "outputs": [
    {
     "data": {
      "text/html": [
       "<div>\n",
       "<style scoped>\n",
       "    .dataframe tbody tr th:only-of-type {\n",
       "        vertical-align: middle;\n",
       "    }\n",
       "\n",
       "    .dataframe tbody tr th {\n",
       "        vertical-align: top;\n",
       "    }\n",
       "\n",
       "    .dataframe thead th {\n",
       "        text-align: right;\n",
       "    }\n",
       "</style>\n",
       "<table border=\"1\" class=\"dataframe\">\n",
       "  <thead>\n",
       "    <tr style=\"text-align: right;\">\n",
       "      <th></th>\n",
       "      <th>geometry</th>\n",
       "      <th>lat</th>\n",
       "      <th>lon</th>\n",
       "      <th>property_type</th>\n",
       "      <th>place_name</th>\n",
       "    </tr>\n",
       "  </thead>\n",
       "  <tbody>\n",
       "    <tr>\n",
       "      <th>0</th>\n",
       "      <td>POINT (-58.50884 -34.66182)</td>\n",
       "      <td>-34.661824</td>\n",
       "      <td>-58.508839</td>\n",
       "      <td>PH</td>\n",
       "      <td>Mataderos</td>\n",
       "    </tr>\n",
       "    <tr>\n",
       "      <th>1</th>\n",
       "      <td>POINT (-58.52298 -34.65226)</td>\n",
       "      <td>-34.652262</td>\n",
       "      <td>-58.522982</td>\n",
       "      <td>apartment</td>\n",
       "      <td>Mataderos</td>\n",
       "    </tr>\n",
       "    <tr>\n",
       "      <th>2</th>\n",
       "      <td>POINT (-58.44336 -34.55987)</td>\n",
       "      <td>-34.559873</td>\n",
       "      <td>-58.443362</td>\n",
       "      <td>apartment</td>\n",
       "      <td>Belgrano</td>\n",
       "    </tr>\n",
       "    <tr>\n",
       "      <th>3</th>\n",
       "      <td>POINT (-58.44336 -34.55987)</td>\n",
       "      <td>-34.559873</td>\n",
       "      <td>-58.443362</td>\n",
       "      <td>apartment</td>\n",
       "      <td>Belgrano</td>\n",
       "    </tr>\n",
       "    <tr>\n",
       "      <th>4</th>\n",
       "      <td>POINT (-58.50162 -34.65236)</td>\n",
       "      <td>-34.652356</td>\n",
       "      <td>-58.501624</td>\n",
       "      <td>PH</td>\n",
       "      <td>Mataderos</td>\n",
       "    </tr>\n",
       "    <tr>\n",
       "      <th>...</th>\n",
       "      <td>...</td>\n",
       "      <td>...</td>\n",
       "      <td>...</td>\n",
       "      <td>...</td>\n",
       "      <td>...</td>\n",
       "    </tr>\n",
       "    <tr>\n",
       "      <th>17218</th>\n",
       "      <td>POINT (-58.40252 -34.59921)</td>\n",
       "      <td>-34.599214</td>\n",
       "      <td>-58.402519</td>\n",
       "      <td>apartment</td>\n",
       "      <td>Barrio Norte</td>\n",
       "    </tr>\n",
       "    <tr>\n",
       "      <th>17219</th>\n",
       "      <td>POINT (-58.39737 -34.58743)</td>\n",
       "      <td>-34.587425</td>\n",
       "      <td>-58.397372</td>\n",
       "      <td>apartment</td>\n",
       "      <td>Recoleta</td>\n",
       "    </tr>\n",
       "    <tr>\n",
       "      <th>17220</th>\n",
       "      <td>POINT (-58.44268 -34.56369)</td>\n",
       "      <td>-34.563685</td>\n",
       "      <td>-58.442683</td>\n",
       "      <td>apartment</td>\n",
       "      <td>Belgrano</td>\n",
       "    </tr>\n",
       "    <tr>\n",
       "      <th>17221</th>\n",
       "      <td>POINT (-58.44268 -34.56369)</td>\n",
       "      <td>-34.563685</td>\n",
       "      <td>-58.442683</td>\n",
       "      <td>apartment</td>\n",
       "      <td>Belgrano</td>\n",
       "    </tr>\n",
       "    <tr>\n",
       "      <th>17222</th>\n",
       "      <td>POINT (-58.47560 -34.57064)</td>\n",
       "      <td>-34.570639</td>\n",
       "      <td>-58.475596</td>\n",
       "      <td>apartment</td>\n",
       "      <td>Villa Urquiza</td>\n",
       "    </tr>\n",
       "  </tbody>\n",
       "</table>\n",
       "<p>16770 rows × 5 columns</p>\n",
       "</div>"
      ],
      "text/plain": [
       "                          geometry        lat        lon property_type  \\\n",
       "0      POINT (-58.50884 -34.66182) -34.661824 -58.508839            PH   \n",
       "1      POINT (-58.52298 -34.65226) -34.652262 -58.522982     apartment   \n",
       "2      POINT (-58.44336 -34.55987) -34.559873 -58.443362     apartment   \n",
       "3      POINT (-58.44336 -34.55987) -34.559873 -58.443362     apartment   \n",
       "4      POINT (-58.50162 -34.65236) -34.652356 -58.501624            PH   \n",
       "...                            ...        ...        ...           ...   \n",
       "17218  POINT (-58.40252 -34.59921) -34.599214 -58.402519     apartment   \n",
       "17219  POINT (-58.39737 -34.58743) -34.587425 -58.397372     apartment   \n",
       "17220  POINT (-58.44268 -34.56369) -34.563685 -58.442683     apartment   \n",
       "17221  POINT (-58.44268 -34.56369) -34.563685 -58.442683     apartment   \n",
       "17222  POINT (-58.47560 -34.57064) -34.570639 -58.475596     apartment   \n",
       "\n",
       "          place_name  \n",
       "0          Mataderos  \n",
       "1          Mataderos  \n",
       "2           Belgrano  \n",
       "3           Belgrano  \n",
       "4          Mataderos  \n",
       "...              ...  \n",
       "17218   Barrio Norte  \n",
       "17219       Recoleta  \n",
       "17220       Belgrano  \n",
       "17221       Belgrano  \n",
       "17222  Villa Urquiza  \n",
       "\n",
       "[16770 rows x 5 columns]"
      ]
     },
     "execution_count": 32,
     "metadata": {},
     "output_type": "execute_result"
    }
   ],
   "source": [
    "prop.loc[ : , ['geometry', 'lat', 'lon', 'property_type', 'place_name']]"
   ]
  },
  {
   "cell_type": "code",
   "execution_count": 33,
   "id": "8b05d682-0c74-4b01-b122-91d775794ad7",
   "metadata": {},
   "outputs": [],
   "source": [
    "prop['property_place'] = prop['property_type'] + '_' + prop['place_name']"
   ]
  },
  {
   "cell_type": "code",
   "execution_count": 34,
   "id": "a56fbc69-eb4c-4350-8d05-71841c384d13",
   "metadata": {},
   "outputs": [],
   "source": [
    "prop['avg_price_m2'] = prop.groupby('property_place')['preco_metro2'].transform('mean')"
   ]
  },
  {
   "cell_type": "code",
   "execution_count": 35,
   "id": "19766969-7c6b-4d3b-9276-faa0cb28c5a6",
   "metadata": {},
   "outputs": [
    {
     "data": {
      "text/html": [
       "<div>\n",
       "<style scoped>\n",
       "    .dataframe tbody tr th:only-of-type {\n",
       "        vertical-align: middle;\n",
       "    }\n",
       "\n",
       "    .dataframe tbody tr th {\n",
       "        vertical-align: top;\n",
       "    }\n",
       "\n",
       "    .dataframe thead th {\n",
       "        text-align: right;\n",
       "    }\n",
       "</style>\n",
       "<table border=\"1\" class=\"dataframe\">\n",
       "  <thead>\n",
       "    <tr style=\"text-align: right;\">\n",
       "      <th></th>\n",
       "      <th>property_type</th>\n",
       "      <th>place_name</th>\n",
       "      <th>country_name</th>\n",
       "      <th>state_name</th>\n",
       "      <th>lat</th>\n",
       "      <th>lon</th>\n",
       "      <th>price</th>\n",
       "      <th>currency</th>\n",
       "      <th>surface_total_in_m2</th>\n",
       "      <th>price_usd</th>\n",
       "      <th>preco_metro2</th>\n",
       "      <th>geometry</th>\n",
       "      <th>property_place</th>\n",
       "      <th>avg_price_m2</th>\n",
       "    </tr>\n",
       "  </thead>\n",
       "  <tbody>\n",
       "    <tr>\n",
       "      <th>0</th>\n",
       "      <td>PH</td>\n",
       "      <td>Mataderos</td>\n",
       "      <td>Argentina</td>\n",
       "      <td>Capital Federal</td>\n",
       "      <td>-34.661824</td>\n",
       "      <td>-58.508839</td>\n",
       "      <td>62000.0</td>\n",
       "      <td>USD</td>\n",
       "      <td>55.0</td>\n",
       "      <td>62000.0</td>\n",
       "      <td>1127.272727</td>\n",
       "      <td>POINT (-58.50884 -34.66182)</td>\n",
       "      <td>PH_Mataderos</td>\n",
       "      <td>1386.591733</td>\n",
       "    </tr>\n",
       "    <tr>\n",
       "      <th>1</th>\n",
       "      <td>apartment</td>\n",
       "      <td>Mataderos</td>\n",
       "      <td>Argentina</td>\n",
       "      <td>Capital Federal</td>\n",
       "      <td>-34.652262</td>\n",
       "      <td>-58.522982</td>\n",
       "      <td>72000.0</td>\n",
       "      <td>USD</td>\n",
       "      <td>55.0</td>\n",
       "      <td>72000.0</td>\n",
       "      <td>1309.090909</td>\n",
       "      <td>POINT (-58.52298 -34.65226)</td>\n",
       "      <td>apartment_Mataderos</td>\n",
       "      <td>1776.706933</td>\n",
       "    </tr>\n",
       "  </tbody>\n",
       "</table>\n",
       "</div>"
      ],
      "text/plain": [
       "  property_type place_name country_name       state_name        lat  \\\n",
       "0            PH  Mataderos    Argentina  Capital Federal -34.661824   \n",
       "1     apartment  Mataderos    Argentina  Capital Federal -34.652262   \n",
       "\n",
       "         lon    price currency  surface_total_in_m2  price_usd  preco_metro2  \\\n",
       "0 -58.508839  62000.0      USD                 55.0    62000.0   1127.272727   \n",
       "1 -58.522982  72000.0      USD                 55.0    72000.0   1309.090909   \n",
       "\n",
       "                      geometry       property_place  avg_price_m2  \n",
       "0  POINT (-58.50884 -34.66182)         PH_Mataderos   1386.591733  \n",
       "1  POINT (-58.52298 -34.65226)  apartment_Mataderos   1776.706933  "
      ]
     },
     "execution_count": 35,
     "metadata": {},
     "output_type": "execute_result"
    }
   ],
   "source": [
    "prop.head(2)"
   ]
  },
  {
   "cell_type": "code",
   "execution_count": 36,
   "id": "7eaac8d7-78c5-46a8-bbda-ee1bdf1ee021",
   "metadata": {},
   "outputs": [
    {
     "name": "stderr",
     "output_type": "stream",
     "text": [
      "C:\\Users\\RedRagon\\anaconda3\\envs\\ProjetoIntegrador2\\lib\\site-packages\\geopandas\\geodataframe.py:853: SettingWithCopyWarning: \n",
      "A value is trying to be set on a copy of a slice from a DataFrame.\n",
      "Try using .loc[row_indexer,col_indexer] = value instead\n",
      "\n",
      "See the caveats in the documentation: https://pandas.pydata.org/pandas-docs/stable/user_guide/indexing.html#returning-a-view-versus-a-copy\n",
      "  super(GeoDataFrame, self).__setitem__(key, value)\n",
      "C:\\Users\\RedRagon\\anaconda3\\envs\\ProjetoIntegrador2\\lib\\site-packages\\descartes\\patch.py:62: ShapelyDeprecationWarning: The array interface is deprecated and will no longer work in Shapely 2.0. Convert the '.coords' to a numpy array instead.\n",
      "  vertices = concatenate([\n",
      "C:\\Users\\RedRagon\\anaconda3\\envs\\ProjetoIntegrador2\\lib\\site-packages\\descartes\\patch.py:64: ShapelyDeprecationWarning: The array interface is deprecated and will no longer work in Shapely 2.0. Convert the '.coords' to a numpy array instead.\n",
      "  [asarray(r)[:, :2] for r in t.interiors])\n",
      "C:\\Users\\RedRagon\\anaconda3\\envs\\ProjetoIntegrador2\\lib\\site-packages\\geopandas\\_vectorized.py:557: ShapelyDeprecationWarning: The array interface is deprecated and will no longer work in Shapely 2.0. Convert the '.coords' to a numpy array instead.\n",
      "  return _unary_geo(\"centroid\", data)\n",
      "C:\\Users\\RedRagon\\anaconda3\\envs\\ProjetoIntegrador2\\lib\\site-packages\\geopandas\\array.py:166: ShapelyDeprecationWarning: The array interface is deprecated and will no longer work in Shapely 2.0. Convert the '.coords' to a numpy array instead.\n",
      "  return GeometryArray(vectorized.from_shapely(data), crs=crs)\n"
     ]
    },
    {
     "data": {
      "image/png": "[encoded data removed]",
      "text/plain": [
       "<Figure size 1440x1152 with 2 Axes>"
      ]
     },
     "metadata": {
      "needs_background": "light"
     },
     "output_type": "display_data"
    }
   ],
   "source": [
    "df_apart = prop.loc[ : , ['property_type', 'place_name', 'avg_price_m2']]\n",
    "\n",
    "avg_bairro_apart = df_apart.loc[df_apart['property_type'] == 'apartment']\n",
    "avg_bairro_apart['place_name'] = avg_bairro_apart['place_name'].str.upper()\n",
    "\n",
    "geodata_apart = pd.merge(left=avg_bairro_apart, right=df_bairros, left_on='place_name', right_on='NEIGHBORHOOD', how='inner')\n",
    "geodata_apart = geodata_apart.rename(columns={\"WKT\": \"geometry\"})\n",
    "geodata_apart = geodata_apart.drop(columns=['NEIGHBORHOOD','COMMUNE','PERIMETER','AREA'])\n",
    "geodata_apart = geodata_apart.drop_duplicates(subset=['place_name'])\n",
    "\n",
    "geodf_apart = gpd.GeoDataFrame(geodata_apart)\n",
    "\n",
    "ax = geodf_apart.loc[geodf_apart['property_type'] == 'apartment'].plot(\n",
    "    figsize=(20,16),\n",
    "    edgecolor='black',column='avg_price_m2',\n",
    "    legend=True,\n",
    "    legend_kwds={'label': \"Valor médio por Bairro\",'orientation':\"vertical\" })\n",
    "\n",
    "for i in geodf_apart.index:\n",
    "    plt.text(geodf_apart.geometry.centroid[i].coords[0][0], geodf_apart.geometry.centroid[i].coords[0][1], geodf_apart.place_name[i],\n",
    "             fontsize=8, horizontalalignment='center', verticalalignment='center', color = 'cyan')\n",
    "    \n",
    "ax.set_axis_off();\n",
    "ax.set_title(\"PREÇO MÉDIO POR M2 DE APARTAMENTOS\",fontsize=26);"
   ]
  },
  {
   "cell_type": "markdown",
   "id": "c5ea324d-6e91-4cc0-9e0a-caca67854d67",
   "metadata": {},
   "source": [
    "### AGORA COMEÇA A REGREÇÃO"
   ]
  },
  {
   "cell_type": "code",
   "execution_count": 37,
   "id": "ff59b859-d3dd-4862-a9f9-f366791d730c",
   "metadata": {},
   "outputs": [
    {
     "data": {
      "text/html": [
       "<div>\n",
       "<style scoped>\n",
       "    .dataframe tbody tr th:only-of-type {\n",
       "        vertical-align: middle;\n",
       "    }\n",
       "\n",
       "    .dataframe tbody tr th {\n",
       "        vertical-align: top;\n",
       "    }\n",
       "\n",
       "    .dataframe thead th {\n",
       "        text-align: right;\n",
       "    }\n",
       "</style>\n",
       "<table border=\"1\" class=\"dataframe\">\n",
       "  <thead>\n",
       "    <tr style=\"text-align: right;\">\n",
       "      <th></th>\n",
       "      <th>property_type</th>\n",
       "      <th>place_name</th>\n",
       "      <th>country_name</th>\n",
       "      <th>state_name</th>\n",
       "      <th>lat</th>\n",
       "      <th>lon</th>\n",
       "      <th>price</th>\n",
       "      <th>currency</th>\n",
       "      <th>surface_total_in_m2</th>\n",
       "      <th>price_usd</th>\n",
       "      <th>preco_metro2</th>\n",
       "      <th>geometry</th>\n",
       "      <th>property_place</th>\n",
       "      <th>avg_price_m2</th>\n",
       "    </tr>\n",
       "  </thead>\n",
       "  <tbody>\n",
       "    <tr>\n",
       "      <th>0</th>\n",
       "      <td>PH</td>\n",
       "      <td>Mataderos</td>\n",
       "      <td>Argentina</td>\n",
       "      <td>Capital Federal</td>\n",
       "      <td>-34.661824</td>\n",
       "      <td>-58.508839</td>\n",
       "      <td>62000.0</td>\n",
       "      <td>USD</td>\n",
       "      <td>55.0</td>\n",
       "      <td>62000.0</td>\n",
       "      <td>1127.272727</td>\n",
       "      <td>POINT (-58.50884 -34.66182)</td>\n",
       "      <td>PH_Mataderos</td>\n",
       "      <td>1386.591733</td>\n",
       "    </tr>\n",
       "    <tr>\n",
       "      <th>1</th>\n",
       "      <td>apartment</td>\n",
       "      <td>Mataderos</td>\n",
       "      <td>Argentina</td>\n",
       "      <td>Capital Federal</td>\n",
       "      <td>-34.652262</td>\n",
       "      <td>-58.522982</td>\n",
       "      <td>72000.0</td>\n",
       "      <td>USD</td>\n",
       "      <td>55.0</td>\n",
       "      <td>72000.0</td>\n",
       "      <td>1309.090909</td>\n",
       "      <td>POINT (-58.52298 -34.65226)</td>\n",
       "      <td>apartment_Mataderos</td>\n",
       "      <td>1776.706933</td>\n",
       "    </tr>\n",
       "  </tbody>\n",
       "</table>\n",
       "</div>"
      ],
      "text/plain": [
       "  property_type place_name country_name       state_name        lat  \\\n",
       "0            PH  Mataderos    Argentina  Capital Federal -34.661824   \n",
       "1     apartment  Mataderos    Argentina  Capital Federal -34.652262   \n",
       "\n",
       "         lon    price currency  surface_total_in_m2  price_usd  preco_metro2  \\\n",
       "0 -58.508839  62000.0      USD                 55.0    62000.0   1127.272727   \n",
       "1 -58.522982  72000.0      USD                 55.0    72000.0   1309.090909   \n",
       "\n",
       "                      geometry       property_place  avg_price_m2  \n",
       "0  POINT (-58.50884 -34.66182)         PH_Mataderos   1386.591733  \n",
       "1  POINT (-58.52298 -34.65226)  apartment_Mataderos   1776.706933  "
      ]
     },
     "execution_count": 37,
     "metadata": {},
     "output_type": "execute_result"
    }
   ],
   "source": [
    "prop.head(2)"
   ]
  },
  {
   "cell_type": "code",
   "execution_count": 35,
   "id": "32e28dd9-04e7-4466-8dc7-c82516b1282e",
   "metadata": {},
   "outputs": [],
   "source": [
    "prop.drop(columns=['price', 'currency','price_usd','avg_price_m2','property_place'], inplace= True)"
   ]
  },
  {
   "cell_type": "code",
   "execution_count": 36,
   "id": "c607db93-3b38-45e3-b12c-bcc36263fbba",
   "metadata": {},
   "outputs": [
    {
     "data": {
      "text/plain": [
       "Index(['property_type', 'place_name', 'country_name', 'state_name', 'lat',\n",
       "       'lon', 'surface_total_in_m2', 'preco_metro2', 'geometry'],\n",
       "      dtype='object')"
      ]
     },
     "execution_count": 34,
     "metadata": {},
     "output_type": "execute_result"
    }
   ],
   "source": [
    "prop.columns"
   ]
  },
  {
   "cell_type": "code",
   "execution_count": 38,
   "id": "648a9300-706a-40c9-a11d-151cbd3f263e",
   "metadata": {},
   "outputs": [
    {
     "data": {
      "text/html": [
       "<div>\n",
       "<style scoped>\n",
       "    .dataframe tbody tr th:only-of-type {\n",
       "        vertical-align: middle;\n",
       "    }\n",
       "\n",
       "    .dataframe tbody tr th {\n",
       "        vertical-align: top;\n",
       "    }\n",
       "\n",
       "    .dataframe thead th {\n",
       "        text-align: right;\n",
       "    }\n",
       "</style>\n",
       "<table border=\"1\" class=\"dataframe\">\n",
       "  <thead>\n",
       "    <tr style=\"text-align: right;\">\n",
       "      <th></th>\n",
       "      <th>country_name</th>\n",
       "      <th>state_name</th>\n",
       "      <th>lat</th>\n",
       "      <th>lon</th>\n",
       "      <th>price</th>\n",
       "      <th>currency</th>\n",
       "      <th>surface_total_in_m2</th>\n",
       "      <th>price_usd</th>\n",
       "      <th>preco_metro2</th>\n",
       "      <th>property_place</th>\n",
       "      <th>avg_price_m2</th>\n",
       "      <th>Belgrano</th>\n",
       "      <th>Nuñez</th>\n",
       "      <th>Palermo</th>\n",
       "      <th>Recoleta</th>\n",
       "      <th>Retiro</th>\n",
       "    </tr>\n",
       "  </thead>\n",
       "  <tbody>\n",
       "    <tr>\n",
       "      <th>10106</th>\n",
       "      <td>Argentina</td>\n",
       "      <td>Capital Federal</td>\n",
       "      <td>-34.555270</td>\n",
       "      <td>-58.455786</td>\n",
       "      <td>180000.0</td>\n",
       "      <td>USD</td>\n",
       "      <td>77.0</td>\n",
       "      <td>180000.0</td>\n",
       "      <td>2337.662338</td>\n",
       "      <td>apartment_Belgrano</td>\n",
       "      <td>2921.998257</td>\n",
       "      <td>1</td>\n",
       "      <td>0</td>\n",
       "      <td>0</td>\n",
       "      <td>0</td>\n",
       "      <td>0</td>\n",
       "    </tr>\n",
       "    <tr>\n",
       "      <th>11109</th>\n",
       "      <td>Argentina</td>\n",
       "      <td>Capital Federal</td>\n",
       "      <td>-34.560210</td>\n",
       "      <td>-58.469261</td>\n",
       "      <td>210000.0</td>\n",
       "      <td>USD</td>\n",
       "      <td>111.0</td>\n",
       "      <td>210000.0</td>\n",
       "      <td>1891.891892</td>\n",
       "      <td>apartment_Belgrano</td>\n",
       "      <td>2921.998257</td>\n",
       "      <td>1</td>\n",
       "      <td>0</td>\n",
       "      <td>0</td>\n",
       "      <td>0</td>\n",
       "      <td>0</td>\n",
       "    </tr>\n",
       "    <tr>\n",
       "      <th>11110</th>\n",
       "      <td>Argentina</td>\n",
       "      <td>Capital Federal</td>\n",
       "      <td>-34.560210</td>\n",
       "      <td>-58.469261</td>\n",
       "      <td>114210.0</td>\n",
       "      <td>USD</td>\n",
       "      <td>42.0</td>\n",
       "      <td>114210.0</td>\n",
       "      <td>2719.285714</td>\n",
       "      <td>apartment_Belgrano</td>\n",
       "      <td>2921.998257</td>\n",
       "      <td>1</td>\n",
       "      <td>0</td>\n",
       "      <td>0</td>\n",
       "      <td>0</td>\n",
       "      <td>0</td>\n",
       "    </tr>\n",
       "    <tr>\n",
       "      <th>11112</th>\n",
       "      <td>Argentina</td>\n",
       "      <td>Capital Federal</td>\n",
       "      <td>-34.560210</td>\n",
       "      <td>-58.469261</td>\n",
       "      <td>230000.0</td>\n",
       "      <td>USD</td>\n",
       "      <td>98.0</td>\n",
       "      <td>230000.0</td>\n",
       "      <td>2346.938776</td>\n",
       "      <td>apartment_Belgrano</td>\n",
       "      <td>2921.998257</td>\n",
       "      <td>1</td>\n",
       "      <td>0</td>\n",
       "      <td>0</td>\n",
       "      <td>0</td>\n",
       "      <td>0</td>\n",
       "    </tr>\n",
       "    <tr>\n",
       "      <th>11113</th>\n",
       "      <td>Argentina</td>\n",
       "      <td>Capital Federal</td>\n",
       "      <td>-34.560210</td>\n",
       "      <td>-58.469261</td>\n",
       "      <td>263000.0</td>\n",
       "      <td>USD</td>\n",
       "      <td>113.0</td>\n",
       "      <td>263000.0</td>\n",
       "      <td>2327.433628</td>\n",
       "      <td>apartment_Belgrano</td>\n",
       "      <td>2921.998257</td>\n",
       "      <td>1</td>\n",
       "      <td>0</td>\n",
       "      <td>0</td>\n",
       "      <td>0</td>\n",
       "      <td>0</td>\n",
       "    </tr>\n",
       "    <tr>\n",
       "      <th>...</th>\n",
       "      <td>...</td>\n",
       "      <td>...</td>\n",
       "      <td>...</td>\n",
       "      <td>...</td>\n",
       "      <td>...</td>\n",
       "      <td>...</td>\n",
       "      <td>...</td>\n",
       "      <td>...</td>\n",
       "      <td>...</td>\n",
       "      <td>...</td>\n",
       "      <td>...</td>\n",
       "      <td>...</td>\n",
       "      <td>...</td>\n",
       "      <td>...</td>\n",
       "      <td>...</td>\n",
       "      <td>...</td>\n",
       "    </tr>\n",
       "    <tr>\n",
       "      <th>9444</th>\n",
       "      <td>Argentina</td>\n",
       "      <td>Capital Federal</td>\n",
       "      <td>-34.597040</td>\n",
       "      <td>-58.378666</td>\n",
       "      <td>199555.0</td>\n",
       "      <td>USD</td>\n",
       "      <td>52.0</td>\n",
       "      <td>199555.0</td>\n",
       "      <td>3837.596154</td>\n",
       "      <td>apartment_Retiro</td>\n",
       "      <td>2818.160767</td>\n",
       "      <td>0</td>\n",
       "      <td>0</td>\n",
       "      <td>0</td>\n",
       "      <td>0</td>\n",
       "      <td>1</td>\n",
       "    </tr>\n",
       "    <tr>\n",
       "      <th>9582</th>\n",
       "      <td>Argentina</td>\n",
       "      <td>Capital Federal</td>\n",
       "      <td>-34.586849</td>\n",
       "      <td>-58.384689</td>\n",
       "      <td>470000.0</td>\n",
       "      <td>USD</td>\n",
       "      <td>161.0</td>\n",
       "      <td>470000.0</td>\n",
       "      <td>2919.254658</td>\n",
       "      <td>apartment_Retiro</td>\n",
       "      <td>2818.160767</td>\n",
       "      <td>0</td>\n",
       "      <td>0</td>\n",
       "      <td>0</td>\n",
       "      <td>0</td>\n",
       "      <td>1</td>\n",
       "    </tr>\n",
       "    <tr>\n",
       "      <th>9919</th>\n",
       "      <td>Argentina</td>\n",
       "      <td>Capital Federal</td>\n",
       "      <td>-34.592865</td>\n",
       "      <td>-58.381134</td>\n",
       "      <td>500000.0</td>\n",
       "      <td>USD</td>\n",
       "      <td>166.0</td>\n",
       "      <td>500000.0</td>\n",
       "      <td>3012.048193</td>\n",
       "      <td>apartment_Retiro</td>\n",
       "      <td>2818.160767</td>\n",
       "      <td>0</td>\n",
       "      <td>0</td>\n",
       "      <td>0</td>\n",
       "      <td>0</td>\n",
       "      <td>1</td>\n",
       "    </tr>\n",
       "    <tr>\n",
       "      <th>10455</th>\n",
       "      <td>Argentina</td>\n",
       "      <td>Capital Federal</td>\n",
       "      <td>-34.591852</td>\n",
       "      <td>-58.376688</td>\n",
       "      <td>230000.0</td>\n",
       "      <td>USD</td>\n",
       "      <td>70.0</td>\n",
       "      <td>230000.0</td>\n",
       "      <td>3285.714286</td>\n",
       "      <td>apartment_Retiro</td>\n",
       "      <td>2818.160767</td>\n",
       "      <td>0</td>\n",
       "      <td>0</td>\n",
       "      <td>0</td>\n",
       "      <td>0</td>\n",
       "      <td>1</td>\n",
       "    </tr>\n",
       "    <tr>\n",
       "      <th>164</th>\n",
       "      <td>Argentina</td>\n",
       "      <td>Capital Federal</td>\n",
       "      <td>-34.600208</td>\n",
       "      <td>-58.378250</td>\n",
       "      <td>140000.0</td>\n",
       "      <td>USD</td>\n",
       "      <td>45.0</td>\n",
       "      <td>140000.0</td>\n",
       "      <td>3111.111111</td>\n",
       "      <td>apartment_Retiro</td>\n",
       "      <td>2818.160767</td>\n",
       "      <td>0</td>\n",
       "      <td>0</td>\n",
       "      <td>0</td>\n",
       "      <td>0</td>\n",
       "      <td>1</td>\n",
       "    </tr>\n",
       "  </tbody>\n",
       "</table>\n",
       "<p>4073 rows × 16 columns</p>\n",
       "</div>"
      ],
      "text/plain": [
       "      country_name       state_name        lat        lon     price currency  \\\n",
       "10106    Argentina  Capital Federal -34.555270 -58.455786  180000.0      USD   \n",
       "11109    Argentina  Capital Federal -34.560210 -58.469261  210000.0      USD   \n",
       "11110    Argentina  Capital Federal -34.560210 -58.469261  114210.0      USD   \n",
       "11112    Argentina  Capital Federal -34.560210 -58.469261  230000.0      USD   \n",
       "11113    Argentina  Capital Federal -34.560210 -58.469261  263000.0      USD   \n",
       "...            ...              ...        ...        ...       ...      ...   \n",
       "9444     Argentina  Capital Federal -34.597040 -58.378666  199555.0      USD   \n",
       "9582     Argentina  Capital Federal -34.586849 -58.384689  470000.0      USD   \n",
       "9919     Argentina  Capital Federal -34.592865 -58.381134  500000.0      USD   \n",
       "10455    Argentina  Capital Federal -34.591852 -58.376688  230000.0      USD   \n",
       "164      Argentina  Capital Federal -34.600208 -58.378250  140000.0      USD   \n",
       "\n",
       "       surface_total_in_m2  price_usd  preco_metro2      property_place  \\\n",
       "10106                 77.0   180000.0   2337.662338  apartment_Belgrano   \n",
       "11109                111.0   210000.0   1891.891892  apartment_Belgrano   \n",
       "11110                 42.0   114210.0   2719.285714  apartment_Belgrano   \n",
       "11112                 98.0   230000.0   2346.938776  apartment_Belgrano   \n",
       "11113                113.0   263000.0   2327.433628  apartment_Belgrano   \n",
       "...                    ...        ...           ...                 ...   \n",
       "9444                  52.0   199555.0   3837.596154    apartment_Retiro   \n",
       "9582                 161.0   470000.0   2919.254658    apartment_Retiro   \n",
       "9919                 166.0   500000.0   3012.048193    apartment_Retiro   \n",
       "10455                 70.0   230000.0   3285.714286    apartment_Retiro   \n",
       "164                   45.0   140000.0   3111.111111    apartment_Retiro   \n",
       "\n",
       "       avg_price_m2  Belgrano  Nuñez  Palermo  Recoleta  Retiro  \n",
       "10106   2921.998257         1      0        0         0       0  \n",
       "11109   2921.998257         1      0        0         0       0  \n",
       "11110   2921.998257         1      0        0         0       0  \n",
       "11112   2921.998257         1      0        0         0       0  \n",
       "11113   2921.998257         1      0        0         0       0  \n",
       "...             ...       ...    ...      ...       ...     ...  \n",
       "9444    2818.160767         0      0        0         0       1  \n",
       "9582    2818.160767         0      0        0         0       1  \n",
       "9919    2818.160767         0      0        0         0       1  \n",
       "10455   2818.160767         0      0        0         0       1  \n",
       "164     2818.160767         0      0        0         0       1  \n",
       "\n",
       "[4073 rows x 16 columns]"
      ]
     },
     "execution_count": 38,
     "metadata": {},
     "output_type": "execute_result"
    }
   ],
   "source": [
    "aa = prop[prop.place_name == 'Retiro']\n",
    "a = aa[aa.property_type == 'apartment']\n",
    "bb = prop[prop.place_name == 'Recoleta']\n",
    "b = bb[bb.property_type == 'apartment']\n",
    "cc = prop[prop.place_name == 'Palermo']\n",
    "c = cc[cc.property_type == 'apartment']\n",
    "dd = prop[prop.place_name == 'Belgrano']\n",
    "d = dd[dd.property_type == 'apartment']\n",
    "ee = prop[prop.place_name == 'Nuñez']\n",
    "e = ee[ee.property_type == 'apartment']\n",
    "df_analise = pd.concat([a,b,c,d,e])\n",
    "df212 = df_analise.sort_values(by='place_name')\n",
    "dummiess = pd.get_dummies(df212.place_name)\n",
    "data22 = pd.concat([df212, dummiess],axis=1)\n",
    "data = data22.drop(columns = ['geometry','place_name'])\n",
    "dumies = pd.get_dummies(data.property_type)\n",
    "df = pd.concat([data,dumies],axis =1)\n",
    "df = df.drop(columns = ['property_type','apartment'])\n",
    "df"
   ]
  },
  {
   "cell_type": "code",
   "execution_count": 39,
   "id": "619e81fb-ab15-4803-bf0c-3463d6d8a536",
   "metadata": {},
   "outputs": [
    {
     "data": {
      "image/png": "[encoded data removed]",
      "text/plain": [
       "<Figure size 432x288 with 2 Axes>"
      ]
     },
     "metadata": {
      "needs_background": "light"
     },
     "output_type": "display_data"
    }
   ],
   "source": [
    "sns.heatmap(df.corr(), \n",
    "            annot = True, \n",
    "            vmin = -1, \n",
    "            cmap = 'Blues'\n",
    "            );\n"
   ]
  },
  {
   "cell_type": "code",
   "execution_count": 40,
   "id": "bd0cc639-6d1a-411c-a92c-a378556b6db4",
   "metadata": {},
   "outputs": [
    {
     "data": {
      "text/plain": [
       "<AxesSubplot:>"
      ]
     },
     "execution_count": 40,
     "metadata": {},
     "output_type": "execute_result"
    },
    {
     "data": {
      "image/png": "[encoded data removed]",
      "text/plain": [
       "<Figure size 432x288 with 2 Axes>"
      ]
     },
     "metadata": {
      "needs_background": "light"
     },
     "output_type": "display_data"
    }
   ],
   "source": [
    "sns.heatmap(df.corr())"
   ]
  },
  {
   "cell_type": "code",
   "execution_count": 47,
   "id": "0ec6a144-5e14-4951-8d5f-c9c84e76fe8a",
   "metadata": {},
   "outputs": [
    {
     "data": {
      "text/plain": [
       "Index(['country_name', 'state_name', 'lat', 'lon', 'surface_total_in_m2',\n",
       "       'preco_metro2', 'Belgrano', 'Nuñez', 'Palermo', 'Recoleta', 'Retiro'],\n",
       "      dtype='object')"
      ]
     },
     "execution_count": 47,
     "metadata": {},
     "output_type": "execute_result"
    }
   ],
   "source": [
    "df.columns"
   ]
  },
  {
   "cell_type": "code",
   "execution_count": 49,
   "id": "1edab0e2-3d62-43e1-8d31-5493a1d08e5b",
   "metadata": {},
   "outputs": [
    {
     "data": {
      "image/png": "[encoded data removed]",
      "text/plain": [
       "<Figure size 1728x216 with 8 Axes>"
      ]
     },
     "metadata": {
      "needs_background": "light"
     },
     "output_type": "display_data"
    }
   ],
   "source": [
    "df_grid = pd.melt(df, id_vars = 'preco_metro2', value_vars = ['lat', 'lon', 'surface_total_in_m2','Belgrano', 'Nuñez', 'Palermo', 'Recoleta', 'Retiro'])\n",
    "g = sns.FacetGrid(df_grid, col = \"variable\")\n",
    "g.map(sns.regplot, \"value\", \"preco_metro2\", ci = 95, scatter_kws = {\"color\": \"blue\", 's': 10}, line_kws = {\"color\": \"red\"});"
   ]
  },
  {
   "cell_type": "code",
   "execution_count": 52,
   "id": "2745e464-08c2-476b-b597-a486637e8b3c",
   "metadata": {},
   "outputs": [
    {
     "data": {
      "image/png": "[encoded data removed]",
      "text/plain": [
       "<Figure size 432x288 with 1 Axes>"
      ]
     },
     "metadata": {
      "needs_background": "light"
     },
     "output_type": "display_data"
    }
   ],
   "source": [
    "sns.regplot(data = df, x = \"surface_total_in_m2\", y = \"preco_metro2\", ci = 95, scatter_kws = {\"color\": \"blue\", 's': 10}, line_kws = {\"color\": \"red\"});"
   ]
  },
  {
   "cell_type": "code",
   "execution_count": 70,
   "id": "79180b9f-0eae-4cd5-8690-47b7128bd654",
   "metadata": {},
   "outputs": [],
   "source": [
    "import statsmodels.api as sm\n",
    "feature_cols = ['lat', 'lon', 'surface_total_in_m2','Belgrano', 'Nuñez', 'Palermo', 'Recoleta', 'Retiro']\n",
    "X = df[feature_cols]\n",
    "y = df.preco_metro2\n",
    "# Temos que adicionar explicitamente a uma constante:\n",
    "X = sm.add_constant(X)\n",
    "model = sm.OLS(y, X).fit()\n"
   ]
  },
  {
   "cell_type": "code",
   "execution_count": 71,
   "id": "9ac066ce-d809-4127-be69-18004884ba98",
   "metadata": {},
   "outputs": [
    {
     "name": "stdout",
     "output_type": "stream",
     "text": [
      "                            OLS Regression Results                            \n",
      "==============================================================================\n",
      "Dep. Variable:           preco_metro2   R-squared:                       0.114\n",
      "Model:                            OLS   Adj. R-squared:                  0.112\n",
      "Method:                 Least Squares   F-statistic:                     74.38\n",
      "Date:                Thu, 30 Jun 2022   Prob (F-statistic):          1.01e-101\n",
      "Time:                        12:14:57   Log-Likelihood:                -33858.\n",
      "No. Observations:                4073   AIC:                         6.773e+04\n",
      "Df Residuals:                    4065   BIC:                         6.778e+04\n",
      "Df Model:                           7                                         \n",
      "Covariance Type:            nonrobust                                         \n",
      "=======================================================================================\n",
      "                          coef    std err          t      P>|t|      [0.025      0.975]\n",
      "---------------------------------------------------------------------------------------\n",
      "const                2.107e+06   1.12e+05     18.887      0.000    1.89e+06    2.33e+06\n",
      "lat                  3.673e+04   2115.856     17.360      0.000    3.26e+04    4.09e+04\n",
      "lon                  2.148e+04   1443.501     14.883      0.000    1.87e+04    2.43e+04\n",
      "surface_total_in_m2     0.7723      0.200      3.857      0.000       0.380       1.165\n",
      "Belgrano             4.214e+05   2.23e+04     18.877      0.000    3.78e+05    4.65e+05\n",
      "Nuñez                4.213e+05   2.23e+04     18.879      0.000    3.78e+05    4.65e+05\n",
      "Palermo              4.218e+05   2.23e+04     18.898      0.000    3.78e+05    4.66e+05\n",
      "Recoleta             4.214e+05   2.23e+04     18.897      0.000    3.78e+05    4.65e+05\n",
      "Retiro               4.209e+05   2.23e+04     18.883      0.000    3.77e+05    4.65e+05\n",
      "==============================================================================\n",
      "Omnibus:                      254.927   Durbin-Watson:                   1.539\n",
      "Prob(Omnibus):                  0.000   Jarque-Bera (JB):              749.268\n",
      "Skew:                           0.310   Prob(JB):                    1.99e-163\n",
      "Kurtosis:                       5.008   Cond. No.                     3.32e+17\n",
      "==============================================================================\n",
      "\n",
      "Notes:\n",
      "[1] Standard Errors assume that the covariance matrix of the errors is correctly specified.\n",
      "[2] The smallest eigenvalue is 7.45e-28. This might indicate that there are\n",
      "strong multicollinearity problems or that the design matrix is singular.\n"
     ]
    }
   ],
   "source": [
    "print (model.summary())"
   ]
  },
  {
   "cell_type": "code",
   "execution_count": 68,
   "id": "2102bd65-ea98-4ce4-be7c-5d0d01fa2534",
   "metadata": {},
   "outputs": [],
   "source": [
    "X_t = np.array(df.surface_total_in_m2, ndmin = 2)\n",
    "X = np.transpose(X_t)\n",
    "y = df.preco_metro2\n",
    "# Temos que adicionar explicitamente a uma constante:\n",
    "X = sm.add_constant(X)\n",
    "model = sm.OLS(y, X).fit()"
   ]
  },
  {
   "cell_type": "code",
   "execution_count": 69,
   "id": "552b360e-2f0e-46f0-b2c5-82bb99b43dd3",
   "metadata": {},
   "outputs": [
    {
     "name": "stdout",
     "output_type": "stream",
     "text": [
      "                            OLS Regression Results                            \n",
      "==============================================================================\n",
      "Dep. Variable:           preco_metro2   R-squared:                       0.015\n",
      "Model:                            OLS   Adj. R-squared:                  0.015\n",
      "Method:                 Least Squares   F-statistic:                     63.82\n",
      "Date:                Thu, 30 Jun 2022   Prob (F-statistic):           1.76e-15\n",
      "Time:                        12:14:53   Log-Likelihood:                -34072.\n",
      "No. Observations:                4073   AIC:                         6.815e+04\n",
      "Df Residuals:                    4071   BIC:                         6.816e+04\n",
      "Df Model:                           1                                         \n",
      "Covariance Type:            nonrobust                                         \n",
      "==============================================================================\n",
      "                 coef    std err          t      P>|t|      [0.025      0.975]\n",
      "------------------------------------------------------------------------------\n",
      "const       2916.4157     26.167    111.453      0.000    2865.113    2967.718\n",
      "x1             1.5986      0.200      7.989      0.000       1.206       1.991\n",
      "==============================================================================\n",
      "Omnibus:                      293.405   Durbin-Watson:                   1.480\n",
      "Prob(Omnibus):                  0.000   Jarque-Bera (JB):              814.655\n",
      "Skew:                           0.390   Prob(JB):                    1.26e-177\n",
      "Kurtosis:                       5.047   Cond. No.                         210.\n",
      "==============================================================================\n",
      "\n",
      "Notes:\n",
      "[1] Standard Errors assume that the covariance matrix of the errors is correctly specified.\n"
     ]
    }
   ],
   "source": [
    "print (model.summary())"
   ]
  },
  {
   "cell_type": "code",
   "execution_count": 62,
   "id": "53e55662-a411-4133-a0d2-8b5c0aac26c3",
   "metadata": {},
   "outputs": [
    {
     "data": {
      "text/plain": [
       "Index(['country_name', 'state_name', 'lat', 'lon', 'surface_total_in_m2',\n",
       "       'preco_metro2', 'Belgrano', 'Nuñez', 'Palermo', 'Recoleta', 'Retiro'],\n",
       "      dtype='object')"
      ]
     },
     "execution_count": 62,
     "metadata": {},
     "output_type": "execute_result"
    }
   ],
   "source": [
    "df.columns"
   ]
  },
  {
   "cell_type": "code",
   "execution_count": 67,
   "id": "48fba160-8103-424e-ae78-e2f38e7d5539",
   "metadata": {},
   "outputs": [
    {
     "name": "stdout",
     "output_type": "stream",
     "text": [
      "[[ 1.         -0.84158419 -0.06182598  0.02188881  0.55915538  0.47741854\n",
      "  -0.27210768 -0.54158955 -0.21231705]\n",
      " [-0.84158419  1.          0.2074892   0.12636385 -0.61694441 -0.35889755\n",
      "   0.11911775  0.65700463  0.31862989]\n",
      " [-0.06182598  0.2074892   1.          0.12423895 -0.03342108 -0.05337431\n",
      "  -0.11064985  0.17117112  0.05686847]\n",
      " [ 0.02188881  0.12636385  0.12423895  1.         -0.1074087  -0.01650743\n",
      "   0.09548338  0.04373737 -0.04521445]\n",
      " [ 0.55915538 -0.61694441 -0.03342108 -0.1074087   1.         -0.20717906\n",
      "  -0.49352334 -0.38834261 -0.12875487]\n",
      " [ 0.47741854 -0.35889755 -0.05337431 -0.01650743 -0.20717906  1.\n",
      "  -0.20173396 -0.15874    -0.0526302 ]\n",
      " [-0.27210768  0.11911775 -0.11064985  0.09548338 -0.49352334 -0.20173396\n",
      "   1.         -0.37813616 -0.12537093]\n",
      " [-0.54158955  0.65700463  0.17117112  0.04373737 -0.38834261 -0.15874\n",
      "  -0.37813616  1.         -0.09865161]\n",
      " [-0.21231705  0.31862989  0.05686847 -0.04521445 -0.12875487 -0.0526302\n",
      "  -0.12537093 -0.09865161  1.        ]]\n",
      "Index(['lat', 'lon', 'surface_total_in_m2', 'preco_metro2', 'Belgrano',\n",
      "       'Nuñez', 'Palermo', 'Recoleta', 'Retiro'],\n",
      "      dtype='object')\n"
     ]
    }
   ],
   "source": [
    "correlations = np.corrcoef(np.transpose(df))\n",
    "print(correlations)\n",
    "print(df.columns)"
   ]
  },
  {
   "cell_type": "code",
   "execution_count": 72,
   "id": "7c370823-9438-4b20-863c-cada4dace0d0",
   "metadata": {},
   "outputs": [],
   "source": [
    "feature_cols = ['lat', 'lon', 'surface_total_in_m2','Belgrano', 'Nuñez', 'Palermo', 'Recoleta', 'Retiro']\n",
    "X = df[feature_cols]\n",
    "y = df.preco_metro2\n",
    "# Temos que adicionar explicitamente uma constante:\n",
    "X = sm.add_constant(X)\n",
    "model_no_interaccion = sm.OLS(y, X).fit()"
   ]
  },
  {
   "cell_type": "code",
   "execution_count": 73,
   "id": "d311b776-50b8-4b78-a089-d5011ac10fbc",
   "metadata": {},
   "outputs": [
    {
     "name": "stdout",
     "output_type": "stream",
     "text": [
      "                            OLS Regression Results                            \n",
      "==============================================================================\n",
      "Dep. Variable:           preco_metro2   R-squared:                       0.114\n",
      "Model:                            OLS   Adj. R-squared:                  0.112\n",
      "Method:                 Least Squares   F-statistic:                     74.38\n",
      "Date:                Thu, 30 Jun 2022   Prob (F-statistic):          1.01e-101\n",
      "Time:                        12:15:47   Log-Likelihood:                -33858.\n",
      "No. Observations:                4073   AIC:                         6.773e+04\n",
      "Df Residuals:                    4065   BIC:                         6.778e+04\n",
      "Df Model:                           7                                         \n",
      "Covariance Type:            nonrobust                                         \n",
      "=======================================================================================\n",
      "                          coef    std err          t      P>|t|      [0.025      0.975]\n",
      "---------------------------------------------------------------------------------------\n",
      "const                2.107e+06   1.12e+05     18.887      0.000    1.89e+06    2.33e+06\n",
      "lat                  3.673e+04   2115.856     17.360      0.000    3.26e+04    4.09e+04\n",
      "lon                  2.148e+04   1443.501     14.883      0.000    1.87e+04    2.43e+04\n",
      "surface_total_in_m2     0.7723      0.200      3.857      0.000       0.380       1.165\n",
      "Belgrano             4.214e+05   2.23e+04     18.877      0.000    3.78e+05    4.65e+05\n",
      "Nuñez                4.213e+05   2.23e+04     18.879      0.000    3.78e+05    4.65e+05\n",
      "Palermo              4.218e+05   2.23e+04     18.898      0.000    3.78e+05    4.66e+05\n",
      "Recoleta             4.214e+05   2.23e+04     18.897      0.000    3.78e+05    4.65e+05\n",
      "Retiro               4.209e+05   2.23e+04     18.883      0.000    3.77e+05    4.65e+05\n",
      "==============================================================================\n",
      "Omnibus:                      254.927   Durbin-Watson:                   1.539\n",
      "Prob(Omnibus):                  0.000   Jarque-Bera (JB):              749.268\n",
      "Skew:                           0.310   Prob(JB):                    1.99e-163\n",
      "Kurtosis:                       5.008   Cond. No.                     3.32e+17\n",
      "==============================================================================\n",
      "\n",
      "Notes:\n",
      "[1] Standard Errors assume that the covariance matrix of the errors is correctly specified.\n",
      "[2] The smallest eigenvalue is 7.45e-28. This might indicate that there are\n",
      "strong multicollinearity problems or that the design matrix is singular.\n"
     ]
    }
   ],
   "source": [
    "print (model_no_interaccion.summary())"
   ]
  },
  {
   "cell_type": "code",
   "execution_count": 79,
   "id": "01d37008-f7fd-4ce7-b7a4-8bb7cb07675b",
   "metadata": {},
   "outputs": [],
   "source": [
    "df[\"lat_x_lon\"] = df.lat * df.lon\n",
    "feature_cols = ['lat', 'lon', 'surface_total_in_m2','Belgrano', 'Nuñez', 'Palermo', 'Recoleta', 'Retiro',\"lat_x_lon\"]\n",
    "X = df[feature_cols]\n",
    "y = df.preco_metro2\n",
    "# Temos que adicionar explicitamente uma constante:\n",
    "X = sm.add_constant(X)\n",
    "model_interaccion = sm.OLS(y, X).fit()"
   ]
  },
  {
   "cell_type": "code",
   "execution_count": 80,
   "id": "6d8c57f3-b8ba-49a3-a7c2-64132ead07b1",
   "metadata": {},
   "outputs": [
    {
     "name": "stdout",
     "output_type": "stream",
     "text": [
      "                            OLS Regression Results                            \n",
      "==============================================================================\n",
      "Dep. Variable:           preco_metro2   R-squared:                       0.119\n",
      "Model:                            OLS   Adj. R-squared:                  0.117\n",
      "Method:                 Least Squares   F-statistic:                     68.60\n",
      "Date:                Thu, 30 Jun 2022   Prob (F-statistic):          3.94e-106\n",
      "Time:                        12:19:52   Log-Likelihood:                -33845.\n",
      "No. Observations:                4073   AIC:                         6.771e+04\n",
      "Df Residuals:                    4064   BIC:                         6.777e+04\n",
      "Df Model:                           8                                         \n",
      "Covariance Type:            nonrobust                                         \n",
      "=======================================================================================\n",
      "                          coef    std err          t      P>|t|      [0.025      0.975]\n",
      "---------------------------------------------------------------------------------------\n",
      "const                5.241e+08   1.04e+08      5.025      0.000     3.2e+08    7.29e+08\n",
      "lat                  1.815e+07   3.62e+06      5.015      0.000    1.11e+07    2.52e+07\n",
      "lon                  1.074e+07   2.14e+06      5.015      0.000    6.54e+06    1.49e+07\n",
      "surface_total_in_m2     0.6741      0.201      3.360      0.001       0.281       1.067\n",
      "Belgrano             1.048e+08   2.09e+07      5.025      0.000    6.39e+07    1.46e+08\n",
      "Nuñez                1.048e+08   2.09e+07      5.025      0.000    6.39e+07    1.46e+08\n",
      "Palermo              1.048e+08   2.09e+07      5.025      0.000    6.39e+07    1.46e+08\n",
      "Recoleta             1.048e+08   2.09e+07      5.025      0.000    6.39e+07    1.46e+08\n",
      "Retiro               1.048e+08   2.09e+07      5.025      0.000    6.39e+07    1.46e+08\n",
      "lat_x_lon              3.1e+05   6.19e+04      5.005      0.000    1.89e+05    4.31e+05\n",
      "==============================================================================\n",
      "Omnibus:                      246.209   Durbin-Watson:                   1.531\n",
      "Prob(Omnibus):                  0.000   Jarque-Bera (JB):              742.607\n",
      "Skew:                           0.285   Prob(JB):                    5.56e-162\n",
      "Kurtosis:                       5.013   Cond. No.                     4.78e+18\n",
      "==============================================================================\n",
      "\n",
      "Notes:\n",
      "[1] Standard Errors assume that the covariance matrix of the errors is correctly specified.\n",
      "[2] The smallest eigenvalue is 7.32e-28. This might indicate that there are\n",
      "strong multicollinearity problems or that the design matrix is singular.\n"
     ]
    }
   ],
   "source": [
    "print (model_interaccion.summary())"
   ]
  },
  {
   "cell_type": "code",
   "execution_count": null,
   "id": "8b24cf30-1e6c-498f-87ae-7d53ed0112a7",
   "metadata": {},
   "outputs": [],
   "source": []
  },
  {
   "cell_type": "code",
   "execution_count": null,
   "id": "8a11968b-3e2f-44b9-b631-cb595a99669e",
   "metadata": {},
   "outputs": [],
   "source": []
  },
  {
   "cell_type": "code",
   "execution_count": null,
   "id": "145582de-7fd2-4b14-8e5f-b448ceca235c",
   "metadata": {},
   "outputs": [],
   "source": []
  },
  {
   "cell_type": "code",
   "execution_count": null,
   "id": "ea255fae-2b58-41c4-b1ba-1eddf6d93e15",
   "metadata": {},
   "outputs": [],
   "source": []
  },
  {
   "cell_type": "code",
   "execution_count": null,
   "id": "8506d49a-80da-489b-9788-d88f84114409",
   "metadata": {},
   "outputs": [],
   "source": []
  },
  {
   "cell_type": "code",
   "execution_count": null,
   "id": "1136c037-02da-43d4-9bfd-39d94c125598",
   "metadata": {},
   "outputs": [],
   "source": []
  },
  {
   "cell_type": "code",
   "execution_count": null,
   "id": "e8a20812-fd0d-406d-87b2-9b688bedb593",
   "metadata": {},
   "outputs": [],
   "source": []
  },
  {
   "cell_type": "code",
   "execution_count": null,
   "id": "8226b65d-03b7-4088-8a9f-a054de0bcd3c",
   "metadata": {},
   "outputs": [],
   "source": []
  },
  {
   "cell_type": "code",
   "execution_count": null,
   "id": "0140a431-8fe8-4730-9b55-f24cf5a219b1",
   "metadata": {},
   "outputs": [],
   "source": []
  },
  {
   "cell_type": "code",
   "execution_count": null,
   "id": "0120c2f3-004d-4bb5-b388-a44a4f7e31ea",
   "metadata": {},
   "outputs": [],
   "source": []
  },
  {
   "cell_type": "code",
   "execution_count": null,
   "id": "0c33390c-4073-40fa-8ad7-549f85825d2e",
   "metadata": {},
   "outputs": [],
   "source": []
  },
  {
   "cell_type": "code",
   "execution_count": null,
   "id": "8e7dbf81-5158-47f1-8964-c3ce8cf61114",
   "metadata": {},
   "outputs": [],
   "source": []
  },
  {
   "cell_type": "code",
   "execution_count": 43,
   "id": "16b2308e-1872-4211-876d-b04e1cde31db",
   "metadata": {},
   "outputs": [
    {
     "name": "stdout",
     "output_type": "stream",
     "text": [
      "X: (4073, 6)\n",
      "y: (4073,)\n"
     ]
    }
   ],
   "source": [
    "feature_cols = ['Belgrano', 'Nuñez', 'Palermo', 'Recoleta', 'Retiro', 'surface_total_in_m2']\n",
    "X = df[feature_cols]\n",
    "y = df.preco_metro2\n",
    "print('X:',X.shape)\n",
    "print('y:',y.shape)\n"
   ]
  },
  {
   "cell_type": "code",
   "execution_count": null,
   "id": "84e8c146-60db-4bdd-b0c5-430b4c3f4086",
   "metadata": {},
   "outputs": [
    {
     "ename": "NameError",
     "evalue": "name 'model' is not defined",
     "output_type": "error",
     "traceback": [
      "\u001b[1;31m---------------------------------------------------------------------------\u001b[0m",
      "\u001b[1;31mNameError\u001b[0m                                 Traceback (most recent call last)",
      "Input \u001b[1;32mIn [45]\u001b[0m, in \u001b[0;36m<cell line: 1>\u001b[1;34m()\u001b[0m\n\u001b[1;32m----> 1\u001b[0m \u001b[43mmodel\u001b[49m\u001b[38;5;241m.\u001b[39mscore(X,y)\n",
      "\u001b[1;31mNameError\u001b[0m: name 'model' is not defined"
     ]
    }
   ],
   "source": [
    "model.score(X,y)"
   ]
  },
  {
   "cell_type": "code",
   "execution_count": null,
   "id": "f16dc62f-270d-4172-a1ca-794c9b6dc26a",
   "metadata": {},
   "outputs": [
    {
     "ename": "NameError",
     "evalue": "name 'model' is not defined",
     "output_type": "error",
     "traceback": [
      "\u001b[1;31m---------------------------------------------------------------------------\u001b[0m",
      "\u001b[1;31mNameError\u001b[0m                                 Traceback (most recent call last)",
      "Input \u001b[1;32mIn [44]\u001b[0m, in \u001b[0;36m<cell line: 1>\u001b[1;34m()\u001b[0m\n\u001b[1;32m----> 1\u001b[0m \u001b[38;5;28mprint\u001b[39m (\u001b[43mmodel\u001b[49m\u001b[38;5;241m.\u001b[39mintercept_)\n\u001b[0;32m      2\u001b[0m \u001b[38;5;28mprint\u001b[39m (model\u001b[38;5;241m.\u001b[39mcoef_)\n",
      "\u001b[1;31mNameError\u001b[0m: name 'model' is not defined"
     ]
    }
   ],
   "source": [
    "print (model.intercept_)\n",
    "print (model.coef_)"
   ]
  },
  {
   "cell_type": "code",
   "execution_count": null,
   "id": "e66c024b-8762-49ac-a34a-5cd61770c0d0",
   "metadata": {},
   "outputs": [],
   "source": [
    "pred = model.predict(X)"
   ]
  },
  {
   "cell_type": "code",
   "execution_count": null,
   "id": "7c09b3b6-451d-48ed-a4a8-24e1df4c3109",
   "metadata": {},
   "outputs": [
    {
     "name": "stdout",
     "output_type": "stream",
     "text": [
      "MAE: 729.379518044871\n",
      "MSE: 1060089.051135638\n",
      "RMSE: 1029.6062602449724\n",
      "R2: 0.03372452922857838\n"
     ]
    }
   ],
   "source": [
    "from sklearn import metrics\n",
    "import numpy as np\n",
    "print ('MAE:', metrics.mean_absolute_error(y, pred))\n",
    "print ('MSE:', metrics.mean_squared_error(y, pred))\n",
    "print ('RMSE:', np.sqrt(metrics.mean_squared_error(y, pred)))\n",
    "print ('R2:', metrics.r2_score(y, pred))"
   ]
  },
  {
   "cell_type": "code",
   "execution_count": 94,
   "id": "ffc18f4c-051f-4e38-8c14-3dec8ec2ff8d",
   "metadata": {},
   "outputs": [
    {
     "data": {
      "text/html": [
       "<div>\n",
       "<style scoped>\n",
       "    .dataframe tbody tr th:only-of-type {\n",
       "        vertical-align: middle;\n",
       "    }\n",
       "\n",
       "    .dataframe tbody tr th {\n",
       "        vertical-align: top;\n",
       "    }\n",
       "\n",
       "    .dataframe thead th {\n",
       "        text-align: right;\n",
       "    }\n",
       "</style>\n",
       "<table border=\"1\" class=\"dataframe\">\n",
       "  <thead>\n",
       "    <tr style=\"text-align: right;\">\n",
       "      <th></th>\n",
       "      <th>lugar</th>\n",
       "      <th>lon</th>\n",
       "      <th>lat</th>\n",
       "    </tr>\n",
       "  </thead>\n",
       "  <tbody>\n",
       "    <tr>\n",
       "      <th>0</th>\n",
       "      <td>CLUB ARQUITECTURA</td>\n",
       "      <td>-58.485091</td>\n",
       "      <td>-34.589483</td>\n",
       "    </tr>\n",
       "    <tr>\n",
       "      <th>3</th>\n",
       "      <td>CLUB ARQUITECTURA</td>\n",
       "      <td>-58.485091</td>\n",
       "      <td>-34.589483</td>\n",
       "    </tr>\n",
       "    <tr>\n",
       "      <th>5</th>\n",
       "      <td>CLUB ARQUITECTURA</td>\n",
       "      <td>-58.485091</td>\n",
       "      <td>-34.589483</td>\n",
       "    </tr>\n",
       "    <tr>\n",
       "      <th>6</th>\n",
       "      <td>CLUB ARQUITECTURA</td>\n",
       "      <td>-58.485091</td>\n",
       "      <td>-34.589483</td>\n",
       "    </tr>\n",
       "    <tr>\n",
       "      <th>7</th>\n",
       "      <td>ABASTO</td>\n",
       "      <td>-58.411406</td>\n",
       "      <td>-34.602940</td>\n",
       "    </tr>\n",
       "    <tr>\n",
       "      <th>...</th>\n",
       "      <td>...</td>\n",
       "      <td>...</td>\n",
       "      <td>...</td>\n",
       "    </tr>\n",
       "    <tr>\n",
       "      <th>2897</th>\n",
       "      <td>CENTRO CULTURAL RECOLETA</td>\n",
       "      <td>-58.391578</td>\n",
       "      <td>-34.586496</td>\n",
       "    </tr>\n",
       "    <tr>\n",
       "      <th>2898</th>\n",
       "      <td>PLAZA ALMAGRO</td>\n",
       "      <td>-58.419732</td>\n",
       "      <td>-34.605048</td>\n",
       "    </tr>\n",
       "    <tr>\n",
       "      <th>2902</th>\n",
       "      <td>MUSEO DE ARTE MODERNO DE BUENOS AIRES</td>\n",
       "      <td>-58.370727</td>\n",
       "      <td>-34.621892</td>\n",
       "    </tr>\n",
       "    <tr>\n",
       "      <th>2903</th>\n",
       "      <td>MUSEO DE ARTE ESPAÑOL ENRIQUE LARRETA</td>\n",
       "      <td>-58.455265</td>\n",
       "      <td>-34.561129</td>\n",
       "    </tr>\n",
       "    <tr>\n",
       "      <th>2904</th>\n",
       "      <td>BIBLIOTECA PARQUE DE LA ESTACIÓN</td>\n",
       "      <td>-58.413703</td>\n",
       "      <td>-34.607403</td>\n",
       "    </tr>\n",
       "  </tbody>\n",
       "</table>\n",
       "<p>2152 rows × 3 columns</p>\n",
       "</div>"
      ],
      "text/plain": [
       "                                      lugar        lon        lat\n",
       "0                         CLUB ARQUITECTURA -58.485091 -34.589483\n",
       "3                         CLUB ARQUITECTURA -58.485091 -34.589483\n",
       "5                         CLUB ARQUITECTURA -58.485091 -34.589483\n",
       "6                         CLUB ARQUITECTURA -58.485091 -34.589483\n",
       "7                                    ABASTO -58.411406 -34.602940\n",
       "...                                     ...        ...        ...\n",
       "2897               CENTRO CULTURAL RECOLETA -58.391578 -34.586496\n",
       "2898                          PLAZA ALMAGRO -58.419732 -34.605048\n",
       "2902  MUSEO DE ARTE MODERNO DE BUENOS AIRES -58.370727 -34.621892\n",
       "2903  MUSEO DE ARTE ESPAÑOL ENRIQUE LARRETA -58.455265 -34.561129\n",
       "2904       BIBLIOTECA PARQUE DE LA ESTACIÓN -58.413703 -34.607403\n",
       "\n",
       "[2152 rows x 3 columns]"
      ]
     },
     "execution_count": 94,
     "metadata": {},
     "output_type": "execute_result"
    }
   ],
   "source": [
    "#datacul = datacul.drop(columns =['Modalidad','barrio ','publico_objetivo','Gratuita'])\n",
    "#datacul = datacul.rename(columns={'long':'lon'})\n",
    "datacul.dropna()"
   ]
  },
  {
   "cell_type": "code",
   "execution_count": 90,
   "id": "16ee270e-4db6-4ebc-a54c-770f5399c5dd",
   "metadata": {},
   "outputs": [
    {
     "data": {
      "text/plain": [
       "(2178, 7)"
      ]
     },
     "execution_count": 90,
     "metadata": {},
     "output_type": "execute_result"
    }
   ],
   "source": [
    "df_cultura = pd.read_csv(\"Data/actividades-culturales-2021.csv\",sep=';')\n",
    "cultura = df_cultura.drop(columns = ['descripcion_actividad','actividad','dirección','calle','altura','comuna','fecha_ini','fecha_fin','tipo','tipo_actividad','disciplina','se_suspende_por_lluvia','Links'])\n",
    "datacul = cultura[cultura.Modalidad == 'Presencial']\n",
    "datacul.shape"
   ]
  },
  {
   "cell_type": "code",
   "execution_count": 36,
   "id": "8ca34fd1-a983-445c-b442-e4bf25a1bc8b",
   "metadata": {},
   "outputs": [
    {
     "data": {
      "text/plain": [
       "(2152, 7)"
      ]
     },
     "execution_count": 36,
     "metadata": {},
     "output_type": "execute_result"
    }
   ],
   "source": [
    "datacul = datacul.dropna()\n",
    "datacul.shape"
   ]
  },
  {
   "cell_type": "code",
   "execution_count": 84,
   "id": "2761a612-5bd7-41b8-a167-9c7276875e43",
   "metadata": {},
   "outputs": [],
   "source": [
    "datacul = datacul.drop(columns = ['Modalidad','publico_objetivo','Gratuita'])"
   ]
  },
  {
   "cell_type": "code",
   "execution_count": 85,
   "id": "811567ee-0d84-4209-8e5a-374e7e8f4a32",
   "metadata": {},
   "outputs": [
    {
     "data": {
      "text/plain": [
       "0       AGRONOMIA\n",
       "3       AGRONOMIA\n",
       "5       AGRONOMIA\n",
       "6       AGRONOMIA\n",
       "7       BALVANERA\n",
       "          ...    \n",
       "2897     RECOLETA\n",
       "2898      ALMAGRO\n",
       "2902    SAN TELMO\n",
       "2903     BELGRANO\n",
       "2904    BALVANERA\n",
       "Name: barrio, Length: 2152, dtype: object"
      ]
     },
     "execution_count": 85,
     "metadata": {},
     "output_type": "execute_result"
    }
   ],
   "source": [
    "datacul = datacul.rename(columns={'barrio ': 'barrio','long':'lon'})\n",
    "datacul.barrio"
   ]
  },
  {
   "cell_type": "code",
   "execution_count": 86,
   "id": "26cbda9a-ee40-4af6-a912-2726e912add2",
   "metadata": {},
   "outputs": [
    {
     "data": {
      "text/html": [
       "<div>\n",
       "<style scoped>\n",
       "    .dataframe tbody tr th:only-of-type {\n",
       "        vertical-align: middle;\n",
       "    }\n",
       "\n",
       "    .dataframe tbody tr th {\n",
       "        vertical-align: top;\n",
       "    }\n",
       "\n",
       "    .dataframe thead th {\n",
       "        text-align: right;\n",
       "    }\n",
       "</style>\n",
       "<table border=\"1\" class=\"dataframe\">\n",
       "  <thead>\n",
       "    <tr style=\"text-align: right;\">\n",
       "      <th></th>\n",
       "      <th>lon</th>\n",
       "      <th>lat</th>\n",
       "      <th>Belgrano</th>\n",
       "      <th>Palermo</th>\n",
       "      <th>Recoleta</th>\n",
       "      <th>Retiro</th>\n",
       "      <th>ALTO PALERMO SHOPPING</th>\n",
       "      <th>BARRIO 31</th>\n",
       "      <th>BIBLIOTECA CARLOS GUIDO Y SPANO</th>\n",
       "      <th>BIBLIOTECA LEOPOLDO LUGONES</th>\n",
       "      <th>...</th>\n",
       "      <th>MULTIPLEX BELGRANO</th>\n",
       "      <th>MUSEO DE ARTE ESPAÑOL ENRIQUE LARRETA</th>\n",
       "      <th>MUSEO DE ARTE HISPANOAMÉRICANO ISAAC FERNÁNDEZ BLANCO</th>\n",
       "      <th>MUSEO FERNANDEZ BLANCO</th>\n",
       "      <th>MUSEO FERNÁNDEZ BLANCO</th>\n",
       "      <th>MUSEO SÍVORI</th>\n",
       "      <th>PALERMO, MARTÍN CORONADO Y SALGUERO</th>\n",
       "      <th>PARQUE DE LA MEMORIA</th>\n",
       "      <th>SUCRE ESQUINA POESÍA</th>\n",
       "      <th>TEATRO SARMIENTO</th>\n",
       "    </tr>\n",
       "  </thead>\n",
       "  <tbody>\n",
       "    <tr>\n",
       "      <th>109</th>\n",
       "      <td>-58.379932</td>\n",
       "      <td>-34.590901</td>\n",
       "      <td>0</td>\n",
       "      <td>0</td>\n",
       "      <td>0</td>\n",
       "      <td>1</td>\n",
       "      <td>0</td>\n",
       "      <td>0</td>\n",
       "      <td>0</td>\n",
       "      <td>0</td>\n",
       "      <td>...</td>\n",
       "      <td>0</td>\n",
       "      <td>0</td>\n",
       "      <td>0</td>\n",
       "      <td>1</td>\n",
       "      <td>0</td>\n",
       "      <td>0</td>\n",
       "      <td>0</td>\n",
       "      <td>0</td>\n",
       "      <td>0</td>\n",
       "      <td>0</td>\n",
       "    </tr>\n",
       "    <tr>\n",
       "      <th>110</th>\n",
       "      <td>-58.379932</td>\n",
       "      <td>-34.590901</td>\n",
       "      <td>0</td>\n",
       "      <td>0</td>\n",
       "      <td>0</td>\n",
       "      <td>1</td>\n",
       "      <td>0</td>\n",
       "      <td>0</td>\n",
       "      <td>0</td>\n",
       "      <td>0</td>\n",
       "      <td>...</td>\n",
       "      <td>0</td>\n",
       "      <td>0</td>\n",
       "      <td>0</td>\n",
       "      <td>1</td>\n",
       "      <td>0</td>\n",
       "      <td>0</td>\n",
       "      <td>0</td>\n",
       "      <td>0</td>\n",
       "      <td>0</td>\n",
       "      <td>0</td>\n",
       "    </tr>\n",
       "    <tr>\n",
       "      <th>116</th>\n",
       "      <td>-58.379932</td>\n",
       "      <td>-34.590901</td>\n",
       "      <td>0</td>\n",
       "      <td>0</td>\n",
       "      <td>0</td>\n",
       "      <td>1</td>\n",
       "      <td>0</td>\n",
       "      <td>0</td>\n",
       "      <td>0</td>\n",
       "      <td>0</td>\n",
       "      <td>...</td>\n",
       "      <td>0</td>\n",
       "      <td>0</td>\n",
       "      <td>0</td>\n",
       "      <td>1</td>\n",
       "      <td>0</td>\n",
       "      <td>0</td>\n",
       "      <td>0</td>\n",
       "      <td>0</td>\n",
       "      <td>0</td>\n",
       "      <td>0</td>\n",
       "    </tr>\n",
       "    <tr>\n",
       "      <th>117</th>\n",
       "      <td>-58.379932</td>\n",
       "      <td>-34.590901</td>\n",
       "      <td>0</td>\n",
       "      <td>0</td>\n",
       "      <td>0</td>\n",
       "      <td>1</td>\n",
       "      <td>0</td>\n",
       "      <td>0</td>\n",
       "      <td>0</td>\n",
       "      <td>0</td>\n",
       "      <td>...</td>\n",
       "      <td>0</td>\n",
       "      <td>0</td>\n",
       "      <td>0</td>\n",
       "      <td>1</td>\n",
       "      <td>0</td>\n",
       "      <td>0</td>\n",
       "      <td>0</td>\n",
       "      <td>0</td>\n",
       "      <td>0</td>\n",
       "      <td>0</td>\n",
       "    </tr>\n",
       "    <tr>\n",
       "      <th>122</th>\n",
       "      <td>-58.379932</td>\n",
       "      <td>-34.590901</td>\n",
       "      <td>0</td>\n",
       "      <td>0</td>\n",
       "      <td>0</td>\n",
       "      <td>1</td>\n",
       "      <td>0</td>\n",
       "      <td>0</td>\n",
       "      <td>0</td>\n",
       "      <td>0</td>\n",
       "      <td>...</td>\n",
       "      <td>0</td>\n",
       "      <td>0</td>\n",
       "      <td>0</td>\n",
       "      <td>1</td>\n",
       "      <td>0</td>\n",
       "      <td>0</td>\n",
       "      <td>0</td>\n",
       "      <td>0</td>\n",
       "      <td>0</td>\n",
       "      <td>0</td>\n",
       "    </tr>\n",
       "    <tr>\n",
       "      <th>...</th>\n",
       "      <td>...</td>\n",
       "      <td>...</td>\n",
       "      <td>...</td>\n",
       "      <td>...</td>\n",
       "      <td>...</td>\n",
       "      <td>...</td>\n",
       "      <td>...</td>\n",
       "      <td>...</td>\n",
       "      <td>...</td>\n",
       "      <td>...</td>\n",
       "      <td>...</td>\n",
       "      <td>...</td>\n",
       "      <td>...</td>\n",
       "      <td>...</td>\n",
       "      <td>...</td>\n",
       "      <td>...</td>\n",
       "      <td>...</td>\n",
       "      <td>...</td>\n",
       "      <td>...</td>\n",
       "      <td>...</td>\n",
       "      <td>...</td>\n",
       "    </tr>\n",
       "    <tr>\n",
       "      <th>1972</th>\n",
       "      <td>-58.455265</td>\n",
       "      <td>-34.561129</td>\n",
       "      <td>1</td>\n",
       "      <td>0</td>\n",
       "      <td>0</td>\n",
       "      <td>0</td>\n",
       "      <td>0</td>\n",
       "      <td>0</td>\n",
       "      <td>0</td>\n",
       "      <td>0</td>\n",
       "      <td>...</td>\n",
       "      <td>0</td>\n",
       "      <td>1</td>\n",
       "      <td>0</td>\n",
       "      <td>0</td>\n",
       "      <td>0</td>\n",
       "      <td>0</td>\n",
       "      <td>0</td>\n",
       "      <td>0</td>\n",
       "      <td>0</td>\n",
       "      <td>0</td>\n",
       "    </tr>\n",
       "    <tr>\n",
       "      <th>1973</th>\n",
       "      <td>-58.455265</td>\n",
       "      <td>-34.561129</td>\n",
       "      <td>1</td>\n",
       "      <td>0</td>\n",
       "      <td>0</td>\n",
       "      <td>0</td>\n",
       "      <td>0</td>\n",
       "      <td>0</td>\n",
       "      <td>0</td>\n",
       "      <td>0</td>\n",
       "      <td>...</td>\n",
       "      <td>0</td>\n",
       "      <td>1</td>\n",
       "      <td>0</td>\n",
       "      <td>0</td>\n",
       "      <td>0</td>\n",
       "      <td>0</td>\n",
       "      <td>0</td>\n",
       "      <td>0</td>\n",
       "      <td>0</td>\n",
       "      <td>0</td>\n",
       "    </tr>\n",
       "    <tr>\n",
       "      <th>2539</th>\n",
       "      <td>-58.452595</td>\n",
       "      <td>-34.563839</td>\n",
       "      <td>1</td>\n",
       "      <td>0</td>\n",
       "      <td>0</td>\n",
       "      <td>0</td>\n",
       "      <td>0</td>\n",
       "      <td>0</td>\n",
       "      <td>0</td>\n",
       "      <td>1</td>\n",
       "      <td>...</td>\n",
       "      <td>0</td>\n",
       "      <td>0</td>\n",
       "      <td>0</td>\n",
       "      <td>0</td>\n",
       "      <td>0</td>\n",
       "      <td>0</td>\n",
       "      <td>0</td>\n",
       "      <td>0</td>\n",
       "      <td>0</td>\n",
       "      <td>0</td>\n",
       "    </tr>\n",
       "    <tr>\n",
       "      <th>2873</th>\n",
       "      <td>-58.430948</td>\n",
       "      <td>-34.546607</td>\n",
       "      <td>1</td>\n",
       "      <td>0</td>\n",
       "      <td>0</td>\n",
       "      <td>0</td>\n",
       "      <td>0</td>\n",
       "      <td>0</td>\n",
       "      <td>0</td>\n",
       "      <td>0</td>\n",
       "      <td>...</td>\n",
       "      <td>0</td>\n",
       "      <td>0</td>\n",
       "      <td>0</td>\n",
       "      <td>0</td>\n",
       "      <td>0</td>\n",
       "      <td>0</td>\n",
       "      <td>0</td>\n",
       "      <td>1</td>\n",
       "      <td>0</td>\n",
       "      <td>0</td>\n",
       "    </tr>\n",
       "    <tr>\n",
       "      <th>2903</th>\n",
       "      <td>-58.455265</td>\n",
       "      <td>-34.561129</td>\n",
       "      <td>1</td>\n",
       "      <td>0</td>\n",
       "      <td>0</td>\n",
       "      <td>0</td>\n",
       "      <td>0</td>\n",
       "      <td>0</td>\n",
       "      <td>0</td>\n",
       "      <td>0</td>\n",
       "      <td>...</td>\n",
       "      <td>0</td>\n",
       "      <td>1</td>\n",
       "      <td>0</td>\n",
       "      <td>0</td>\n",
       "      <td>0</td>\n",
       "      <td>0</td>\n",
       "      <td>0</td>\n",
       "      <td>0</td>\n",
       "      <td>0</td>\n",
       "      <td>0</td>\n",
       "    </tr>\n",
       "  </tbody>\n",
       "</table>\n",
       "<p>494 rows × 30 columns</p>\n",
       "</div>"
      ],
      "text/plain": [
       "            lon        lat  Belgrano  Palermo  Recoleta  Retiro  \\\n",
       "109  -58.379932 -34.590901         0        0         0       1   \n",
       "110  -58.379932 -34.590901         0        0         0       1   \n",
       "116  -58.379932 -34.590901         0        0         0       1   \n",
       "117  -58.379932 -34.590901         0        0         0       1   \n",
       "122  -58.379932 -34.590901         0        0         0       1   \n",
       "...         ...        ...       ...      ...       ...     ...   \n",
       "1972 -58.455265 -34.561129         1        0         0       0   \n",
       "1973 -58.455265 -34.561129         1        0         0       0   \n",
       "2539 -58.452595 -34.563839         1        0         0       0   \n",
       "2873 -58.430948 -34.546607         1        0         0       0   \n",
       "2903 -58.455265 -34.561129         1        0         0       0   \n",
       "\n",
       "      ALTO PALERMO SHOPPING  BARRIO 31  BIBLIOTECA CARLOS GUIDO Y SPANO  \\\n",
       "109                       0          0                                0   \n",
       "110                       0          0                                0   \n",
       "116                       0          0                                0   \n",
       "117                       0          0                                0   \n",
       "122                       0          0                                0   \n",
       "...                     ...        ...                              ...   \n",
       "1972                      0          0                                0   \n",
       "1973                      0          0                                0   \n",
       "2539                      0          0                                0   \n",
       "2873                      0          0                                0   \n",
       "2903                      0          0                                0   \n",
       "\n",
       "      BIBLIOTECA LEOPOLDO LUGONES  ...  MULTIPLEX BELGRANO  \\\n",
       "109                             0  ...                   0   \n",
       "110                             0  ...                   0   \n",
       "116                             0  ...                   0   \n",
       "117                             0  ...                   0   \n",
       "122                             0  ...                   0   \n",
       "...                           ...  ...                 ...   \n",
       "1972                            0  ...                   0   \n",
       "1973                            0  ...                   0   \n",
       "2539                            1  ...                   0   \n",
       "2873                            0  ...                   0   \n",
       "2903                            0  ...                   0   \n",
       "\n",
       "      MUSEO DE ARTE ESPAÑOL ENRIQUE LARRETA  \\\n",
       "109                                       0   \n",
       "110                                       0   \n",
       "116                                       0   \n",
       "117                                       0   \n",
       "122                                       0   \n",
       "...                                     ...   \n",
       "1972                                      1   \n",
       "1973                                      1   \n",
       "2539                                      0   \n",
       "2873                                      0   \n",
       "2903                                      1   \n",
       "\n",
       "      MUSEO DE ARTE HISPANOAMÉRICANO ISAAC FERNÁNDEZ BLANCO  \\\n",
       "109                                                   0       \n",
       "110                                                   0       \n",
       "116                                                   0       \n",
       "117                                                   0       \n",
       "122                                                   0       \n",
       "...                                                 ...       \n",
       "1972                                                  0       \n",
       "1973                                                  0       \n",
       "2539                                                  0       \n",
       "2873                                                  0       \n",
       "2903                                                  0       \n",
       "\n",
       "      MUSEO FERNANDEZ BLANCO  MUSEO FERNÁNDEZ BLANCO  MUSEO SÍVORI  \\\n",
       "109                        1                       0             0   \n",
       "110                        1                       0             0   \n",
       "116                        1                       0             0   \n",
       "117                        1                       0             0   \n",
       "122                        1                       0             0   \n",
       "...                      ...                     ...           ...   \n",
       "1972                       0                       0             0   \n",
       "1973                       0                       0             0   \n",
       "2539                       0                       0             0   \n",
       "2873                       0                       0             0   \n",
       "2903                       0                       0             0   \n",
       "\n",
       "      PALERMO, MARTÍN CORONADO Y SALGUERO  PARQUE DE LA MEMORIA  \\\n",
       "109                                     0                     0   \n",
       "110                                     0                     0   \n",
       "116                                     0                     0   \n",
       "117                                     0                     0   \n",
       "122                                     0                     0   \n",
       "...                                   ...                   ...   \n",
       "1972                                    0                     0   \n",
       "1973                                    0                     0   \n",
       "2539                                    0                     0   \n",
       "2873                                    0                     1   \n",
       "2903                                    0                     0   \n",
       "\n",
       "      SUCRE ESQUINA POESÍA  TEATRO SARMIENTO  \n",
       "109                      0                 0  \n",
       "110                      0                 0  \n",
       "116                      0                 0  \n",
       "117                      0                 0  \n",
       "122                      0                 0  \n",
       "...                    ...               ...  \n",
       "1972                     0                 0  \n",
       "1973                     0                 0  \n",
       "2539                     0                 0  \n",
       "2873                     0                 0  \n",
       "2903                     0                 0  \n",
       "\n",
       "[494 rows x 30 columns]"
      ]
     },
     "execution_count": 86,
     "metadata": {},
     "output_type": "execute_result"
    }
   ],
   "source": [
    "f = datacul[datacul.barrio== 'RETIRO']\n",
    "g = datacul[datacul.barrio == 'RECOLETA']\n",
    "h = datacul[datacul.barrio == 'PALERMO']\n",
    "i = datacul[datacul.barrio == 'BELGRANO']\n",
    "j = datacul[datacul.barrio == 'NUÑES']\n",
    "df_cul = pd.concat([f,g,h,i,j])\n",
    "df_cul\n",
    "d = pd.get_dummies(df_cul.barrio)\n",
    "df_cul = pd.concat([df_cul, d],axis=1)\n",
    "df_cul = df_cul.drop(columns = ['barrio'])\n",
    "k = pd.get_dummies(df_cul.lugar)\n",
    "df_cul = pd.concat([df_cul, k],axis=1)\n",
    "df_cul = df_cul.drop(columns = ['lugar'])\n",
    "df_cul = df_cul.rename(columns={'BELGRANO': 'Belgrano',\n",
    "                                'PALERMO':'Palermo',\n",
    "                                'RECOLETA':'Recoleta',\n",
    "                                'RETIRO':'Retiro'})\n",
    "df_cul"
   ]
  },
  {
   "cell_type": "code",
   "execution_count": 87,
   "id": "92ecbc43-ea2f-4ec0-851b-643395e337eb",
   "metadata": {},
   "outputs": [
    {
     "data": {
      "text/html": [
       "<div>\n",
       "<style scoped>\n",
       "    .dataframe tbody tr th:only-of-type {\n",
       "        vertical-align: middle;\n",
       "    }\n",
       "\n",
       "    .dataframe tbody tr th {\n",
       "        vertical-align: top;\n",
       "    }\n",
       "\n",
       "    .dataframe thead th {\n",
       "        text-align: right;\n",
       "    }\n",
       "</style>\n",
       "<table border=\"1\" class=\"dataframe\">\n",
       "  <thead>\n",
       "    <tr style=\"text-align: right;\">\n",
       "      <th></th>\n",
       "      <th>lat</th>\n",
       "      <th>lon</th>\n",
       "      <th>surface_total_in_m2</th>\n",
       "      <th>preco_metro2</th>\n",
       "      <th>Belgrano</th>\n",
       "      <th>Nuñez</th>\n",
       "      <th>Palermo</th>\n",
       "      <th>Recoleta</th>\n",
       "      <th>Retiro</th>\n",
       "      <th>lat_x_lon</th>\n",
       "      <th>...</th>\n",
       "      <th>MULTIPLEX BELGRANO</th>\n",
       "      <th>MUSEO DE ARTE ESPAÑOL ENRIQUE LARRETA</th>\n",
       "      <th>MUSEO DE ARTE HISPANOAMÉRICANO ISAAC FERNÁNDEZ BLANCO</th>\n",
       "      <th>MUSEO FERNANDEZ BLANCO</th>\n",
       "      <th>MUSEO FERNÁNDEZ BLANCO</th>\n",
       "      <th>MUSEO SÍVORI</th>\n",
       "      <th>PALERMO, MARTÍN CORONADO Y SALGUERO</th>\n",
       "      <th>PARQUE DE LA MEMORIA</th>\n",
       "      <th>SUCRE ESQUINA POESÍA</th>\n",
       "      <th>TEATRO SARMIENTO</th>\n",
       "    </tr>\n",
       "  </thead>\n",
       "  <tbody>\n",
       "    <tr>\n",
       "      <th>count</th>\n",
       "      <td>4567.000000</td>\n",
       "      <td>4567.000000</td>\n",
       "      <td>4073.000000</td>\n",
       "      <td>4073.000000</td>\n",
       "      <td>4567.000000</td>\n",
       "      <td>4073.000000</td>\n",
       "      <td>4567.000000</td>\n",
       "      <td>4567.000000</td>\n",
       "      <td>4567.000000</td>\n",
       "      <td>4073.000000</td>\n",
       "      <td>...</td>\n",
       "      <td>494.000000</td>\n",
       "      <td>494.000000</td>\n",
       "      <td>494.000000</td>\n",
       "      <td>494.000000</td>\n",
       "      <td>494.000000</td>\n",
       "      <td>494.000000</td>\n",
       "      <td>494.000000</td>\n",
       "      <td>494.000000</td>\n",
       "      <td>494.000000</td>\n",
       "      <td>494.000000</td>\n",
       "    </tr>\n",
       "    <tr>\n",
       "      <th>mean</th>\n",
       "      <td>-34.576712</td>\n",
       "      <td>-58.426434</td>\n",
       "      <td>102.341763</td>\n",
       "      <td>3080.022206</td>\n",
       "      <td>0.313992</td>\n",
       "      <td>0.078075</td>\n",
       "      <td>0.330414</td>\n",
       "      <td>0.248084</td>\n",
       "      <td>0.037880</td>\n",
       "      <td>2020.242540</td>\n",
       "      <td>...</td>\n",
       "      <td>0.006073</td>\n",
       "      <td>0.111336</td>\n",
       "      <td>0.018219</td>\n",
       "      <td>0.032389</td>\n",
       "      <td>0.016194</td>\n",
       "      <td>0.119433</td>\n",
       "      <td>0.004049</td>\n",
       "      <td>0.006073</td>\n",
       "      <td>0.002024</td>\n",
       "      <td>0.113360</td>\n",
       "    </tr>\n",
       "    <tr>\n",
       "      <th>std</th>\n",
       "      <td>0.015480</td>\n",
       "      <td>0.028236</td>\n",
       "      <td>81.411173</td>\n",
       "      <td>1047.548206</td>\n",
       "      <td>0.464164</td>\n",
       "      <td>0.268323</td>\n",
       "      <td>0.470414</td>\n",
       "      <td>0.431948</td>\n",
       "      <td>0.190928</td>\n",
       "      <td>0.536583</td>\n",
       "      <td>...</td>\n",
       "      <td>0.077770</td>\n",
       "      <td>0.314867</td>\n",
       "      <td>0.133877</td>\n",
       "      <td>0.177210</td>\n",
       "      <td>0.126350</td>\n",
       "      <td>0.324626</td>\n",
       "      <td>0.063564</td>\n",
       "      <td>0.077770</td>\n",
       "      <td>0.044992</td>\n",
       "      <td>0.317354</td>\n",
       "    </tr>\n",
       "    <tr>\n",
       "      <th>min</th>\n",
       "      <td>-34.626499</td>\n",
       "      <td>-58.544722</td>\n",
       "      <td>12.000000</td>\n",
       "      <td>27.376592</td>\n",
       "      <td>0.000000</td>\n",
       "      <td>0.000000</td>\n",
       "      <td>0.000000</td>\n",
       "      <td>0.000000</td>\n",
       "      <td>0.000000</td>\n",
       "      <td>2018.776772</td>\n",
       "      <td>...</td>\n",
       "      <td>0.000000</td>\n",
       "      <td>0.000000</td>\n",
       "      <td>0.000000</td>\n",
       "      <td>0.000000</td>\n",
       "      <td>0.000000</td>\n",
       "      <td>0.000000</td>\n",
       "      <td>0.000000</td>\n",
       "      <td>0.000000</td>\n",
       "      <td>0.000000</td>\n",
       "      <td>0.000000</td>\n",
       "    </tr>\n",
       "    <tr>\n",
       "      <th>25%</th>\n",
       "      <td>-34.589546</td>\n",
       "      <td>-58.452120</td>\n",
       "      <td>47.000000</td>\n",
       "      <td>2544.642857</td>\n",
       "      <td>0.000000</td>\n",
       "      <td>0.000000</td>\n",
       "      <td>0.000000</td>\n",
       "      <td>0.000000</td>\n",
       "      <td>0.000000</td>\n",
       "      <td>2019.857383</td>\n",
       "      <td>...</td>\n",
       "      <td>0.000000</td>\n",
       "      <td>0.000000</td>\n",
       "      <td>0.000000</td>\n",
       "      <td>0.000000</td>\n",
       "      <td>0.000000</td>\n",
       "      <td>0.000000</td>\n",
       "      <td>0.000000</td>\n",
       "      <td>0.000000</td>\n",
       "      <td>0.000000</td>\n",
       "      <td>0.000000</td>\n",
       "    </tr>\n",
       "    <tr>\n",
       "      <th>50%</th>\n",
       "      <td>-34.578695</td>\n",
       "      <td>-58.424135</td>\n",
       "      <td>77.000000</td>\n",
       "      <td>2962.962963</td>\n",
       "      <td>0.000000</td>\n",
       "      <td>0.000000</td>\n",
       "      <td>0.000000</td>\n",
       "      <td>0.000000</td>\n",
       "      <td>0.000000</td>\n",
       "      <td>2020.213493</td>\n",
       "      <td>...</td>\n",
       "      <td>0.000000</td>\n",
       "      <td>0.000000</td>\n",
       "      <td>0.000000</td>\n",
       "      <td>0.000000</td>\n",
       "      <td>0.000000</td>\n",
       "      <td>0.000000</td>\n",
       "      <td>0.000000</td>\n",
       "      <td>0.000000</td>\n",
       "      <td>0.000000</td>\n",
       "      <td>0.000000</td>\n",
       "    </tr>\n",
       "    <tr>\n",
       "      <th>75%</th>\n",
       "      <td>-34.563730</td>\n",
       "      <td>-58.400617</td>\n",
       "      <td>128.000000</td>\n",
       "      <td>3520.408163</td>\n",
       "      <td>1.000000</td>\n",
       "      <td>0.000000</td>\n",
       "      <td>1.000000</td>\n",
       "      <td>0.000000</td>\n",
       "      <td>0.000000</td>\n",
       "      <td>2020.551803</td>\n",
       "      <td>...</td>\n",
       "      <td>0.000000</td>\n",
       "      <td>0.000000</td>\n",
       "      <td>0.000000</td>\n",
       "      <td>0.000000</td>\n",
       "      <td>0.000000</td>\n",
       "      <td>0.000000</td>\n",
       "      <td>0.000000</td>\n",
       "      <td>0.000000</td>\n",
       "      <td>0.000000</td>\n",
       "      <td>0.000000</td>\n",
       "    </tr>\n",
       "    <tr>\n",
       "      <th>max</th>\n",
       "      <td>-34.536155</td>\n",
       "      <td>-58.359591</td>\n",
       "      <td>789.000000</td>\n",
       "      <td>7812.500000</td>\n",
       "      <td>1.000000</td>\n",
       "      <td>1.000000</td>\n",
       "      <td>1.000000</td>\n",
       "      <td>1.000000</td>\n",
       "      <td>1.000000</td>\n",
       "      <td>2024.533911</td>\n",
       "      <td>...</td>\n",
       "      <td>1.000000</td>\n",
       "      <td>1.000000</td>\n",
       "      <td>1.000000</td>\n",
       "      <td>1.000000</td>\n",
       "      <td>1.000000</td>\n",
       "      <td>1.000000</td>\n",
       "      <td>1.000000</td>\n",
       "      <td>1.000000</td>\n",
       "      <td>1.000000</td>\n",
       "      <td>1.000000</td>\n",
       "    </tr>\n",
       "  </tbody>\n",
       "</table>\n",
       "<p>8 rows × 35 columns</p>\n",
       "</div>"
      ],
      "text/plain": [
       "               lat          lon  surface_total_in_m2  preco_metro2  \\\n",
       "count  4567.000000  4567.000000          4073.000000   4073.000000   \n",
       "mean    -34.576712   -58.426434           102.341763   3080.022206   \n",
       "std       0.015480     0.028236            81.411173   1047.548206   \n",
       "min     -34.626499   -58.544722            12.000000     27.376592   \n",
       "25%     -34.589546   -58.452120            47.000000   2544.642857   \n",
       "50%     -34.578695   -58.424135            77.000000   2962.962963   \n",
       "75%     -34.563730   -58.400617           128.000000   3520.408163   \n",
       "max     -34.536155   -58.359591           789.000000   7812.500000   \n",
       "\n",
       "          Belgrano        Nuñez      Palermo     Recoleta       Retiro  \\\n",
       "count  4567.000000  4073.000000  4567.000000  4567.000000  4567.000000   \n",
       "mean      0.313992     0.078075     0.330414     0.248084     0.037880   \n",
       "std       0.464164     0.268323     0.470414     0.431948     0.190928   \n",
       "min       0.000000     0.000000     0.000000     0.000000     0.000000   \n",
       "25%       0.000000     0.000000     0.000000     0.000000     0.000000   \n",
       "50%       0.000000     0.000000     0.000000     0.000000     0.000000   \n",
       "75%       1.000000     0.000000     1.000000     0.000000     0.000000   \n",
       "max       1.000000     1.000000     1.000000     1.000000     1.000000   \n",
       "\n",
       "         lat_x_lon  ...  MULTIPLEX BELGRANO  \\\n",
       "count  4073.000000  ...          494.000000   \n",
       "mean   2020.242540  ...            0.006073   \n",
       "std       0.536583  ...            0.077770   \n",
       "min    2018.776772  ...            0.000000   \n",
       "25%    2019.857383  ...            0.000000   \n",
       "50%    2020.213493  ...            0.000000   \n",
       "75%    2020.551803  ...            0.000000   \n",
       "max    2024.533911  ...            1.000000   \n",
       "\n",
       "       MUSEO DE ARTE ESPAÑOL ENRIQUE LARRETA  \\\n",
       "count                             494.000000   \n",
       "mean                                0.111336   \n",
       "std                                 0.314867   \n",
       "min                                 0.000000   \n",
       "25%                                 0.000000   \n",
       "50%                                 0.000000   \n",
       "75%                                 0.000000   \n",
       "max                                 1.000000   \n",
       "\n",
       "       MUSEO DE ARTE HISPANOAMÉRICANO ISAAC FERNÁNDEZ BLANCO  \\\n",
       "count                                         494.000000       \n",
       "mean                                            0.018219       \n",
       "std                                             0.133877       \n",
       "min                                             0.000000       \n",
       "25%                                             0.000000       \n",
       "50%                                             0.000000       \n",
       "75%                                             0.000000       \n",
       "max                                             1.000000       \n",
       "\n",
       "       MUSEO FERNANDEZ BLANCO  MUSEO FERNÁNDEZ BLANCO  MUSEO SÍVORI  \\\n",
       "count              494.000000              494.000000    494.000000   \n",
       "mean                 0.032389                0.016194      0.119433   \n",
       "std                  0.177210                0.126350      0.324626   \n",
       "min                  0.000000                0.000000      0.000000   \n",
       "25%                  0.000000                0.000000      0.000000   \n",
       "50%                  0.000000                0.000000      0.000000   \n",
       "75%                  0.000000                0.000000      0.000000   \n",
       "max                  1.000000                1.000000      1.000000   \n",
       "\n",
       "       PALERMO, MARTÍN CORONADO Y SALGUERO  PARQUE DE LA MEMORIA  \\\n",
       "count                           494.000000            494.000000   \n",
       "mean                              0.004049              0.006073   \n",
       "std                               0.063564              0.077770   \n",
       "min                               0.000000              0.000000   \n",
       "25%                               0.000000              0.000000   \n",
       "50%                               0.000000              0.000000   \n",
       "75%                               0.000000              0.000000   \n",
       "max                               1.000000              1.000000   \n",
       "\n",
       "       SUCRE ESQUINA POESÍA  TEATRO SARMIENTO  \n",
       "count            494.000000        494.000000  \n",
       "mean               0.002024          0.113360  \n",
       "std                0.044992          0.317354  \n",
       "min                0.000000          0.000000  \n",
       "25%                0.000000          0.000000  \n",
       "50%                0.000000          0.000000  \n",
       "75%                0.000000          0.000000  \n",
       "max                1.000000          1.000000  \n",
       "\n",
       "[8 rows x 35 columns]"
      ]
     },
     "execution_count": 87,
     "metadata": {},
     "output_type": "execute_result"
    }
   ],
   "source": [
    "df_analise = pd.concat([df,df_cul])\n",
    "df_analise.describe()"
   ]
  },
  {
   "cell_type": "code",
   "execution_count": 88,
   "id": "759ee3dc-a077-4fdc-bf9b-a1da32268bb9",
   "metadata": {},
   "outputs": [
    {
     "data": {
      "text/plain": [
       "Index(['lat', 'lon', 'surface_total_in_m2', 'preco_metro2', 'Belgrano',\n",
       "       'Nuñez', 'Palermo', 'Recoleta', 'Retiro', 'lat_x_lon',\n",
       "       'Belgrano_x_Nuñes_x_Palermo_x_Recoleta_x_Retiro',\n",
       "       'ALTO PALERMO SHOPPING', 'BARRIO 31', 'BIBLIOTECA CARLOS GUIDO Y SPANO',\n",
       "       'BIBLIOTECA LEOPOLDO LUGONES', 'BÁRBARO BAR', 'CANCHITA 9',\n",
       "       'CENTRO CULTURAL RECOLETA', 'COMPLEJO PUNTA CARRASCO',\n",
       "       'EL MÉTODO KAIRÓS', 'JARDÍN BOTÁNICO POESÍA', 'LA BIELA',\n",
       "       'LA ESQUINA DE ANIBAL TROILO', 'LAGOS DE PALERMO',\n",
       "       'MINISTERIO DE EDUCACIÓN DE LA CIUDAD DE BUENOS AIRES',\n",
       "       'MULTIPLEX BELGRANO', 'MUSEO DE ARTE ESPAÑOL ENRIQUE LARRETA',\n",
       "       'MUSEO DE ARTE HISPANOAMÉRICANO ISAAC FERNÁNDEZ BLANCO',\n",
       "       'MUSEO FERNANDEZ BLANCO', 'MUSEO FERNÁNDEZ BLANCO', 'MUSEO SÍVORI',\n",
       "       'PALERMO, MARTÍN CORONADO Y SALGUERO', 'PARQUE DE LA MEMORIA',\n",
       "       'SUCRE ESQUINA POESÍA', 'TEATRO SARMIENTO'],\n",
       "      dtype='object')"
      ]
     },
     "execution_count": 88,
     "metadata": {},
     "output_type": "execute_result"
    }
   ],
   "source": [
    "df_analise.columns"
   ]
  },
  {
   "cell_type": "code",
   "execution_count": 95,
   "id": "974475a7-b9af-4dea-aa9d-9b41d69a7252",
   "metadata": {},
   "outputs": [
    {
     "data": {
      "text/html": [
       "<div>\n",
       "<style scoped>\n",
       "    .dataframe tbody tr th:only-of-type {\n",
       "        vertical-align: middle;\n",
       "    }\n",
       "\n",
       "    .dataframe tbody tr th {\n",
       "        vertical-align: top;\n",
       "    }\n",
       "\n",
       "    .dataframe thead th {\n",
       "        text-align: right;\n",
       "    }\n",
       "</style>\n",
       "<table border=\"1\" class=\"dataframe\">\n",
       "  <thead>\n",
       "    <tr style=\"text-align: right;\">\n",
       "      <th></th>\n",
       "      <th>lat</th>\n",
       "      <th>lon</th>\n",
       "      <th>surface_total_in_m2</th>\n",
       "      <th>preco_metro2</th>\n",
       "      <th>Belgrano</th>\n",
       "      <th>Nuñez</th>\n",
       "      <th>Palermo</th>\n",
       "      <th>Recoleta</th>\n",
       "      <th>Retiro</th>\n",
       "    </tr>\n",
       "  </thead>\n",
       "  <tbody>\n",
       "    <tr>\n",
       "      <th>10106</th>\n",
       "      <td>-34.555270</td>\n",
       "      <td>-58.455786</td>\n",
       "      <td>77.0</td>\n",
       "      <td>2337.662338</td>\n",
       "      <td>1</td>\n",
       "      <td>0.0</td>\n",
       "      <td>0</td>\n",
       "      <td>0</td>\n",
       "      <td>0</td>\n",
       "    </tr>\n",
       "    <tr>\n",
       "      <th>11109</th>\n",
       "      <td>-34.560210</td>\n",
       "      <td>-58.469261</td>\n",
       "      <td>111.0</td>\n",
       "      <td>1891.891892</td>\n",
       "      <td>1</td>\n",
       "      <td>0.0</td>\n",
       "      <td>0</td>\n",
       "      <td>0</td>\n",
       "      <td>0</td>\n",
       "    </tr>\n",
       "    <tr>\n",
       "      <th>11110</th>\n",
       "      <td>-34.560210</td>\n",
       "      <td>-58.469261</td>\n",
       "      <td>42.0</td>\n",
       "      <td>2719.285714</td>\n",
       "      <td>1</td>\n",
       "      <td>0.0</td>\n",
       "      <td>0</td>\n",
       "      <td>0</td>\n",
       "      <td>0</td>\n",
       "    </tr>\n",
       "    <tr>\n",
       "      <th>11112</th>\n",
       "      <td>-34.560210</td>\n",
       "      <td>-58.469261</td>\n",
       "      <td>98.0</td>\n",
       "      <td>2346.938776</td>\n",
       "      <td>1</td>\n",
       "      <td>0.0</td>\n",
       "      <td>0</td>\n",
       "      <td>0</td>\n",
       "      <td>0</td>\n",
       "    </tr>\n",
       "    <tr>\n",
       "      <th>11113</th>\n",
       "      <td>-34.560210</td>\n",
       "      <td>-58.469261</td>\n",
       "      <td>113.0</td>\n",
       "      <td>2327.433628</td>\n",
       "      <td>1</td>\n",
       "      <td>0.0</td>\n",
       "      <td>0</td>\n",
       "      <td>0</td>\n",
       "      <td>0</td>\n",
       "    </tr>\n",
       "    <tr>\n",
       "      <th>...</th>\n",
       "      <td>...</td>\n",
       "      <td>...</td>\n",
       "      <td>...</td>\n",
       "      <td>...</td>\n",
       "      <td>...</td>\n",
       "      <td>...</td>\n",
       "      <td>...</td>\n",
       "      <td>...</td>\n",
       "      <td>...</td>\n",
       "    </tr>\n",
       "    <tr>\n",
       "      <th>1972</th>\n",
       "      <td>-34.561129</td>\n",
       "      <td>-58.455265</td>\n",
       "      <td>0.0</td>\n",
       "      <td>0.000000</td>\n",
       "      <td>1</td>\n",
       "      <td>0.0</td>\n",
       "      <td>0</td>\n",
       "      <td>0</td>\n",
       "      <td>0</td>\n",
       "    </tr>\n",
       "    <tr>\n",
       "      <th>1973</th>\n",
       "      <td>-34.561129</td>\n",
       "      <td>-58.455265</td>\n",
       "      <td>0.0</td>\n",
       "      <td>0.000000</td>\n",
       "      <td>1</td>\n",
       "      <td>0.0</td>\n",
       "      <td>0</td>\n",
       "      <td>0</td>\n",
       "      <td>0</td>\n",
       "    </tr>\n",
       "    <tr>\n",
       "      <th>2539</th>\n",
       "      <td>-34.563839</td>\n",
       "      <td>-58.452595</td>\n",
       "      <td>0.0</td>\n",
       "      <td>0.000000</td>\n",
       "      <td>1</td>\n",
       "      <td>0.0</td>\n",
       "      <td>0</td>\n",
       "      <td>0</td>\n",
       "      <td>0</td>\n",
       "    </tr>\n",
       "    <tr>\n",
       "      <th>2873</th>\n",
       "      <td>-34.546607</td>\n",
       "      <td>-58.430948</td>\n",
       "      <td>0.0</td>\n",
       "      <td>0.000000</td>\n",
       "      <td>1</td>\n",
       "      <td>0.0</td>\n",
       "      <td>0</td>\n",
       "      <td>0</td>\n",
       "      <td>0</td>\n",
       "    </tr>\n",
       "    <tr>\n",
       "      <th>2903</th>\n",
       "      <td>-34.561129</td>\n",
       "      <td>-58.455265</td>\n",
       "      <td>0.0</td>\n",
       "      <td>0.000000</td>\n",
       "      <td>1</td>\n",
       "      <td>0.0</td>\n",
       "      <td>0</td>\n",
       "      <td>0</td>\n",
       "      <td>0</td>\n",
       "    </tr>\n",
       "  </tbody>\n",
       "</table>\n",
       "<p>4567 rows × 9 columns</p>\n",
       "</div>"
      ],
      "text/plain": [
       "             lat        lon  surface_total_in_m2  preco_metro2  Belgrano  \\\n",
       "10106 -34.555270 -58.455786                 77.0   2337.662338         1   \n",
       "11109 -34.560210 -58.469261                111.0   1891.891892         1   \n",
       "11110 -34.560210 -58.469261                 42.0   2719.285714         1   \n",
       "11112 -34.560210 -58.469261                 98.0   2346.938776         1   \n",
       "11113 -34.560210 -58.469261                113.0   2327.433628         1   \n",
       "...          ...        ...                  ...           ...       ...   \n",
       "1972  -34.561129 -58.455265                  0.0      0.000000         1   \n",
       "1973  -34.561129 -58.455265                  0.0      0.000000         1   \n",
       "2539  -34.563839 -58.452595                  0.0      0.000000         1   \n",
       "2873  -34.546607 -58.430948                  0.0      0.000000         1   \n",
       "2903  -34.561129 -58.455265                  0.0      0.000000         1   \n",
       "\n",
       "       Nuñez  Palermo  Recoleta  Retiro  \n",
       "10106    0.0        0         0       0  \n",
       "11109    0.0        0         0       0  \n",
       "11110    0.0        0         0       0  \n",
       "11112    0.0        0         0       0  \n",
       "11113    0.0        0         0       0  \n",
       "...      ...      ...       ...     ...  \n",
       "1972     0.0        0         0       0  \n",
       "1973     0.0        0         0       0  \n",
       "2539     0.0        0         0       0  \n",
       "2873     0.0        0         0       0  \n",
       "2903     0.0        0         0       0  \n",
       "\n",
       "[4567 rows x 9 columns]"
      ]
     },
     "execution_count": 95,
     "metadata": {},
     "output_type": "execute_result"
    }
   ],
   "source": [
    "test = df_analise.drop(columns = ['lat_x_lon',\n",
    "       'Belgrano_x_Nuñes_x_Palermo_x_Recoleta_x_Retiro','ALTO PALERMO SHOPPING', 'BARRIO 31',\n",
    "       'BIBLIOTECA CARLOS GUIDO Y SPANO', 'BIBLIOTECA LEOPOLDO LUGONES',\n",
    "       'BÁRBARO BAR', 'CANCHITA 9', 'CENTRO CULTURAL RECOLETA',\n",
    "       'COMPLEJO PUNTA CARRASCO', 'EL MÉTODO KAIRÓS', 'JARDÍN BOTÁNICO POESÍA',\n",
    "       'LA BIELA', 'LA ESQUINA DE ANIBAL TROILO', 'LAGOS DE PALERMO',\n",
    "       'MINISTERIO DE EDUCACIÓN DE LA CIUDAD DE BUENOS AIRES',\n",
    "       'MULTIPLEX BELGRANO', 'MUSEO DE ARTE ESPAÑOL ENRIQUE LARRETA',\n",
    "       'MUSEO DE ARTE HISPANOAMÉRICANO ISAAC FERNÁNDEZ BLANCO',\n",
    "       'MUSEO FERNANDEZ BLANCO', 'MUSEO FERNÁNDEZ BLANCO', 'MUSEO SÍVORI',\n",
    "       'PALERMO, MARTÍN CORONADO Y SALGUERO', 'PARQUE DE LA MEMORIA',\n",
    "       'SUCRE ESQUINA POESÍA', 'TEATRO SARMIENTO'])\n",
    "test = test.fillna(0)\n",
    "test"
   ]
  },
  {
   "cell_type": "code",
   "execution_count": 96,
   "id": "76fb71ef-acc6-4218-b45e-09f91646e039",
   "metadata": {},
   "outputs": [
    {
     "data": {
      "image/png": "[encoded data removed]",
      "text/plain": [
       "<Figure size 432x288 with 2 Axes>"
      ]
     },
     "metadata": {
      "needs_background": "light"
     },
     "output_type": "display_data"
    }
   ],
   "source": [
    "sns.heatmap(test.corr(), \n",
    "            annot = True, \n",
    "            vmin = -1, \n",
    "            cmap = 'Blues'\n",
    "            );"
   ]
  },
  {
   "cell_type": "code",
   "execution_count": 98,
   "id": "af965f78-4f52-4547-9020-b902396c3dfd",
   "metadata": {},
   "outputs": [
    {
     "name": "stdout",
     "output_type": "stream",
     "text": [
      "X: (4567, 8)\n",
      "y: (4567,)\n"
     ]
    }
   ],
   "source": [
    "feature_cols = ['lat', 'lon','surface_total_in_m2', 'Belgrano', 'Nuñez', 'Palermo','Recoleta', 'Retiro']\n",
    "X = test[feature_cols]\n",
    "y = test.preco_metro2\n",
    "print('X:',X.shape)\n",
    "print('y:',y.shape)\n"
   ]
  },
  {
   "cell_type": "code",
   "execution_count": 99,
   "id": "d4aed4ff-f3b7-40f0-bbe4-120a2c80a5a2",
   "metadata": {},
   "outputs": [],
   "source": [
    "from sklearn.linear_model import LinearRegression"
   ]
  },
  {
   "cell_type": "code",
   "execution_count": 100,
   "id": "df8a003b-3398-46ef-9f2c-76dab14e9690",
   "metadata": {},
   "outputs": [],
   "source": [
    "mo = LinearRegression()"
   ]
  },
  {
   "cell_type": "code",
   "execution_count": 101,
   "id": "b5439f6c-d5c7-4b6d-b282-15a022ab4228",
   "metadata": {},
   "outputs": [
    {
     "data": {
      "text/html": [
       "<style>#sk-container-id-1 {color: black;background-color: white;}#sk-container-id-1 pre{padding: 0;}#sk-container-id-1 div.sk-toggleable {background-color: white;}#sk-container-id-1 label.sk-toggleable__label {cursor: pointer;display: block;width: 100%;margin-bottom: 0;padding: 0.3em;box-sizing: border-box;text-align: center;}#sk-container-id-1 label.sk-toggleable__label-arrow:before {content: \"▸\";float: left;margin-right: 0.25em;color: #696969;}#sk-container-id-1 label.sk-toggleable__label-arrow:hover:before {color: black;}#sk-container-id-1 div.sk-estimator:hover label.sk-toggleable__label-arrow:before {color: black;}#sk-container-id-1 div.sk-toggleable__content {max-height: 0;max-width: 0;overflow: hidden;text-align: left;background-color: #f0f8ff;}#sk-container-id-1 div.sk-toggleable__content pre {margin: 0.2em;color: black;border-radius: 0.25em;background-color: #f0f8ff;}#sk-container-id-1 input.sk-toggleable__control:checked~div.sk-toggleable__content {max-height: 200px;max-width: 100%;overflow: auto;}#sk-container-id-1 input.sk-toggleable__control:checked~label.sk-toggleable__label-arrow:before {content: \"▾\";}#sk-container-id-1 div.sk-estimator input.sk-toggleable__control:checked~label.sk-toggleable__label {background-color: #d4ebff;}#sk-container-id-1 div.sk-label input.sk-toggleable__control:checked~label.sk-toggleable__label {background-color: #d4ebff;}#sk-container-id-1 input.sk-hidden--visually {border: 0;clip: rect(1px 1px 1px 1px);clip: rect(1px, 1px, 1px, 1px);height: 1px;margin: -1px;overflow: hidden;padding: 0;position: absolute;width: 1px;}#sk-container-id-1 div.sk-estimator {font-family: monospace;background-color: #f0f8ff;border: 1px dotted black;border-radius: 0.25em;box-sizing: border-box;margin-bottom: 0.5em;}#sk-container-id-1 div.sk-estimator:hover {background-color: #d4ebff;}#sk-container-id-1 div.sk-parallel-item::after {content: \"\";width: 100%;border-bottom: 1px solid gray;flex-grow: 1;}#sk-container-id-1 div.sk-label:hover label.sk-toggleable__label {background-color: #d4ebff;}#sk-container-id-1 div.sk-serial::before {content: \"\";position: absolute;border-left: 1px solid gray;box-sizing: border-box;top: 0;bottom: 0;left: 50%;z-index: 0;}#sk-container-id-1 div.sk-serial {display: flex;flex-direction: column;align-items: center;background-color: white;padding-right: 0.2em;padding-left: 0.2em;position: relative;}#sk-container-id-1 div.sk-item {position: relative;z-index: 1;}#sk-container-id-1 div.sk-parallel {display: flex;align-items: stretch;justify-content: center;background-color: white;position: relative;}#sk-container-id-1 div.sk-item::before, #sk-container-id-1 div.sk-parallel-item::before {content: \"\";position: absolute;border-left: 1px solid gray;box-sizing: border-box;top: 0;bottom: 0;left: 50%;z-index: -1;}#sk-container-id-1 div.sk-parallel-item {display: flex;flex-direction: column;z-index: 1;position: relative;background-color: white;}#sk-container-id-1 div.sk-parallel-item:first-child::after {align-self: flex-end;width: 50%;}#sk-container-id-1 div.sk-parallel-item:last-child::after {align-self: flex-start;width: 50%;}#sk-container-id-1 div.sk-parallel-item:only-child::after {width: 0;}#sk-container-id-1 div.sk-dashed-wrapped {border: 1px dashed gray;margin: 0 0.4em 0.5em 0.4em;box-sizing: border-box;padding-bottom: 0.4em;background-color: white;}#sk-container-id-1 div.sk-label label {font-family: monospace;font-weight: bold;display: inline-block;line-height: 1.2em;}#sk-container-id-1 div.sk-label-container {text-align: center;}#sk-container-id-1 div.sk-container {/* jupyter's `normalize.less` sets `[hidden] { display: none; }` but bootstrap.min.css set `[hidden] { display: none !important; }` so we also need the `!important` here to be able to override the default hidden behavior on the sphinx rendered scikit-learn.org. See: https://github.com/scikit-learn/scikit-learn/issues/21755 */display: inline-block !important;position: relative;}#sk-container-id-1 div.sk-text-repr-fallback {display: none;}</style><div id=\"sk-container-id-1\" class=\"sk-top-container\"><div class=\"sk-text-repr-fallback\"><pre>LinearRegression()</pre><b>In a Jupyter environment, please rerun this cell to show the HTML representation or trust the notebook. <br />On GitHub, the HTML representation is unable to render, please try loading this page with nbviewer.org.</b></div><div class=\"sk-container\" hidden><div class=\"sk-item\"><div class=\"sk-estimator sk-toggleable\"><input class=\"sk-toggleable__control sk-hidden--visually\" id=\"sk-estimator-id-1\" type=\"checkbox\" checked><label for=\"sk-estimator-id-1\" class=\"sk-toggleable__label sk-toggleable__label-arrow\">LinearRegression</label><div class=\"sk-toggleable__content\"><pre>LinearRegression()</pre></div></div></div></div></div>"
      ],
      "text/plain": [
       "LinearRegression()"
      ]
     },
     "execution_count": 101,
     "metadata": {},
     "output_type": "execute_result"
    }
   ],
   "source": [
    "mo.fit(X, y)"
   ]
  },
  {
   "cell_type": "code",
   "execution_count": 102,
   "id": "1bb78b87-29e5-4445-967a-a3645aa5b08d",
   "metadata": {},
   "outputs": [
    {
     "name": "stdout",
     "output_type": "stream",
     "text": [
      "-43031.174058046134\n",
      "[ 1779.43125976 -1825.8553936      6.02758642    32.18529724\n",
      "   258.95237262   248.50486411   -63.03941203  -476.60312195]\n"
     ]
    }
   ],
   "source": [
    "print (mo.intercept_)\n",
    "print (mo.coef_)"
   ]
  },
  {
   "cell_type": "code",
   "execution_count": 103,
   "id": "74bff49a-b7a0-40ba-8104-77bc0048df5a",
   "metadata": {},
   "outputs": [
    {
     "data": {
      "text/plain": [
       "0.1446143955047936"
      ]
     },
     "execution_count": 103,
     "metadata": {},
     "output_type": "execute_result"
    }
   ],
   "source": [
    "mo.score(X,y)"
   ]
  },
  {
   "cell_type": "code",
   "execution_count": 104,
   "id": "2cfeb20b-4e91-4bda-a828-f19bfa897540",
   "metadata": {},
   "outputs": [
    {
     "data": {
      "text/plain": [
       "(4567,)"
      ]
     },
     "execution_count": 104,
     "metadata": {},
     "output_type": "execute_result"
    }
   ],
   "source": [
    "y.shape"
   ]
  },
  {
   "cell_type": "code",
   "execution_count": 105,
   "id": "e5e547b7-c4b2-4234-b74c-389b895d57c2",
   "metadata": {},
   "outputs": [],
   "source": [
    "pred = mo.predict(X)"
   ]
  },
  {
   "cell_type": "code",
   "execution_count": 106,
   "id": "f443fcf9-93e8-40ca-b6db-23f977004a90",
   "metadata": {},
   "outputs": [
    {
     "name": "stdout",
     "output_type": "stream",
     "text": [
      "MAE: 957.2250805965076\n",
      "MSE: 1619722.0313067185\n",
      "RMSE: 1272.6830050357073\n",
      "R2: 0.1446143955047936\n",
      "MAPE:  1.0279298121372854e+18\n"
     ]
    }
   ],
   "source": [
    "from sklearn import metrics\n",
    "import numpy as np\n",
    "print ('MAE:', metrics.mean_absolute_error(y, pred))\n",
    "print ('MSE:', metrics.mean_squared_error(y, pred))\n",
    "print ('RMSE:', np.sqrt(metrics.mean_squared_error(y, pred)))\n",
    "print ('R2:', metrics.r2_score(y, pred))\n",
    "print('MAPE: ',metrics.mean_absolute_percentage_error(y, pred))"
   ]
  },
  {
   "cell_type": "code",
   "execution_count": 108,
   "id": "2d51f169-88e2-4ef4-ae52-853c2e69ba20",
   "metadata": {},
   "outputs": [
    {
     "name": "stdout",
     "output_type": "stream",
     "text": [
      "vetor R2 0.1403456265170846\n",
      "['lat', 'lon', 'surface_total_in_m2', 'Belgrano', 'Nuñez', 'Palermo', 'Recoleta', 'Retiro']\n",
      "y_test sample:  [   0.         2375.         2800.         2200.         3776.31578947\n",
      "  376.18175624 3285.71428571 2788.46153846 3954.80225989 4375.        ]\n",
      "y_pred sample:  [1471 2591 1934 2433 2236 2714 2301 2532 3614 2679]\n",
      "MAE: 983.4492746273191\n",
      "MSE: 1695177.4191834452\n",
      "RMSE: 1301.9897922731366\n",
      "R2: 0.11619830987792534\n",
      "MAPE: 1.0279298121372854e+18\n"
     ]
    }
   ],
   "source": [
    "# Definios uma função e a chamamos de 'train_test_error', ela aceita como parâmetro uma lista de recursos (feature_cols),\n",
    "# A função gera a matriz de variáveis independentes 'X' e a matriz da variável dependentes 'y'\n",
    "# em seguida, ela faz a divisão entre conjuntos de treino e teste, reservando 25% das observações para teste,\n",
    "# e finalmente imprime os erros MAE, MSE, RMSE e R2\n",
    "\n",
    "from sklearn.model_selection import train_test_split\n",
    "from sklearn.linear_model import LinearRegression\n",
    "from sklearn import metrics\n",
    "\n",
    "def train_test_error(feature_cols):\n",
    "    \n",
    "    vetor_r2 = 0;\n",
    "    \n",
    "    X = test[feature_cols]\n",
    "    y = test['preco_metro2']\n",
    "    # Como estamos trabalhando com observações ordenadas no tempo, usamos\n",
    "    # `shuffle = False` para evitar data leakage\n",
    "    for i in range(1000):\n",
    "        X_train, X_test, y_train, y_test = train_test_split(X, y,)\n",
    "        linreg = LinearRegression()\n",
    "        linreg.fit(X_train, y_train)\n",
    "        y_pred = linreg.predict(X_test)\n",
    "        vetor_r2 = vetor_r2 + metrics.r2_score(y_test, y_pred)\n",
    "    print(\"vetor R2\", vetor_r2/i) \n",
    "    print (feature_cols)\n",
    "    print (\"y_test sample: \", y_test.values[0: 10])\n",
    "    print (\"y_pred sample: \", y_pred[0: 10].astype(int))\n",
    "    print ('MAE:', metrics.mean_absolute_error(y_test, y_pred))\n",
    "    print ('MSE:', metrics.mean_squared_error(y_test, y_pred))\n",
    "    print ('RMSE:', np.sqrt(metrics.mean_squared_error(y_test, y_pred)))\n",
    "    print ('R2:', metrics.r2_score(y_test, y_pred))\n",
    "    print('MAPE:',metrics.mean_absolute_percentage_error(y, pred))\n",
    "    return\n",
    "\n",
    "feature_cols = ['lat', 'lon','surface_total_in_m2', 'Belgrano', 'Nuñez', 'Palermo','Recoleta', 'Retiro']\n",
    "train_test_error(feature_cols)"
   ]
  },
  {
   "cell_type": "code",
   "execution_count": 116,
   "id": "05a0076f-4b35-4a8f-a604-8ee5fa4a256b",
   "metadata": {},
   "outputs": [
    {
     "data": {
      "text/plain": [
       "2330.8859958812536"
      ]
     },
     "execution_count": 116,
     "metadata": {},
     "output_type": "execute_result"
    }
   ],
   "source": [
    "def train_test_rmse(feature_cols):\n",
    "    X = test[feature_cols]\n",
    "    y = test.preco_metro2\n",
    "    # Como estamos trabalhando com observações ordenadas no tempo, podemos\n",
    "    # usa shuffle = False para evitar data leakage\n",
    "    X_train, X_test, y_train, y_test = train_test_split(X, y, shuffle = False)\n",
    "    linreg = LinearRegression()\n",
    "    linreg.fit(X_train, y_train)\n",
    "    y_pred = linreg.predict(X_test)\n",
    "    return np.sqrt(metrics.mean_squared_error(y_test, y_pred))\n",
    "\n",
    "train_test_rmse(['lat', 'lon','surface_total_in_m2', 'Belgrano', 'Nuñez', 'Palermo','Recoleta', 'Retiro'])"
   ]
  },
  {
   "cell_type": "code",
   "execution_count": 110,
   "id": "1a289467-f96a-42da-848d-a76fbb6d95f8",
   "metadata": {},
   "outputs": [
    {
     "data": {
      "image/png": "[encoded data removed]",
      "text/plain": [
       "<Figure size 1728x216 with 8 Axes>"
      ]
     },
     "metadata": {
      "needs_background": "light"
     },
     "output_type": "display_data"
    }
   ],
   "source": [
    "test_grid = pd.melt(test, id_vars = \"preco_metro2\", value_vars = ['lat', 'lon','surface_total_in_m2', 'Belgrano', 'Nuñez', 'Palermo','Recoleta', 'Retiro'])\n",
    "g = sns.FacetGrid(test_grid, col = \"variable\")\n",
    "g.map(sns.regplot, \"value\", \"preco_metro2\", ci = 95, scatter_kws = {\"color\": \"blue\", 's': 10}, line_kws = {\"color\": \"red\"});"
   ]
  },
  {
   "cell_type": "code",
   "execution_count": 112,
   "id": "40fc9e0a-2353-4bb7-9874-3e119fb47b6f",
   "metadata": {},
   "outputs": [],
   "source": [
    "import statsmodels.api as sm\n",
    "feature_cols = ['lat', 'lon','surface_total_in_m2', 'Belgrano', 'Nuñez', 'Palermo','Recoleta', 'Retiro']\n",
    "X = df[feature_cols]\n",
    "y = df.preco_metro2\n",
    "# Temos que adicionar explicitamente a uma constante:\n",
    "X = sm.add_constant(X)\n",
    "model = sm.OLS(y, X).fit()\n"
   ]
  },
  {
   "cell_type": "code",
   "execution_count": 113,
   "id": "5a10c991-039f-497c-b05f-67ac076277f0",
   "metadata": {},
   "outputs": [
    {
     "name": "stdout",
     "output_type": "stream",
     "text": [
      "                            OLS Regression Results                            \n",
      "==============================================================================\n",
      "Dep. Variable:           preco_metro2   R-squared:                       0.114\n",
      "Model:                            OLS   Adj. R-squared:                  0.112\n",
      "Method:                 Least Squares   F-statistic:                     74.38\n",
      "Date:                Thu, 30 Jun 2022   Prob (F-statistic):          1.01e-101\n",
      "Time:                        12:33:38   Log-Likelihood:                -33858.\n",
      "No. Observations:                4073   AIC:                         6.773e+04\n",
      "Df Residuals:                    4065   BIC:                         6.778e+04\n",
      "Df Model:                           7                                         \n",
      "Covariance Type:            nonrobust                                         \n",
      "=======================================================================================\n",
      "                          coef    std err          t      P>|t|      [0.025      0.975]\n",
      "---------------------------------------------------------------------------------------\n",
      "const                2.107e+06   1.12e+05     18.887      0.000    1.89e+06    2.33e+06\n",
      "lat                  3.673e+04   2115.856     17.360      0.000    3.26e+04    4.09e+04\n",
      "lon                  2.148e+04   1443.501     14.883      0.000    1.87e+04    2.43e+04\n",
      "surface_total_in_m2     0.7723      0.200      3.857      0.000       0.380       1.165\n",
      "Belgrano             4.214e+05   2.23e+04     18.877      0.000    3.78e+05    4.65e+05\n",
      "Nuñez                4.213e+05   2.23e+04     18.879      0.000    3.78e+05    4.65e+05\n",
      "Palermo              4.218e+05   2.23e+04     18.898      0.000    3.78e+05    4.66e+05\n",
      "Recoleta             4.214e+05   2.23e+04     18.897      0.000    3.78e+05    4.65e+05\n",
      "Retiro               4.209e+05   2.23e+04     18.883      0.000    3.77e+05    4.65e+05\n",
      "==============================================================================\n",
      "Omnibus:                      254.927   Durbin-Watson:                   1.539\n",
      "Prob(Omnibus):                  0.000   Jarque-Bera (JB):              749.268\n",
      "Skew:                           0.310   Prob(JB):                    1.99e-163\n",
      "Kurtosis:                       5.008   Cond. No.                     3.32e+17\n",
      "==============================================================================\n",
      "\n",
      "Notes:\n",
      "[1] Standard Errors assume that the covariance matrix of the errors is correctly specified.\n",
      "[2] The smallest eigenvalue is 7.45e-28. This might indicate that there are\n",
      "strong multicollinearity problems or that the design matrix is singular.\n"
     ]
    }
   ],
   "source": [
    "print (model.summary())"
   ]
  },
  {
   "cell_type": "code",
   "execution_count": 122,
   "id": "220f3391-5170-467f-89f7-335f87c13de8",
   "metadata": {},
   "outputs": [
    {
     "data": {
      "text/plain": [
       "array(['Mataderos', 'Belgrano', 'Palermo', 'Flores', 'Boedo',\n",
       "       'Las Cañitas', 'Puerto Madero', 'Balvanera', 'Caballito', 'Nuñez',\n",
       "       'Floresta', 'Barracas', 'Recoleta', 'Congreso', 'Villa Crespo',\n",
       "       'Chacarita', 'Almagro', 'Constitución', 'Colegiales',\n",
       "       'Villa Urquiza', 'Barrio Norte', 'Palermo Hollywood', 'Saavedra',\n",
       "       'Paternal', 'Agronomía', 'Villa Pueyrredón', 'Coghlan',\n",
       "       'Parque Centenario', 'San Telmo', 'Monserrat', 'Boca',\n",
       "       'Parque Avellaneda', 'San Cristobal', 'Abasto', 'Versalles',\n",
       "       'Villa del Parque', 'Monte Castro', 'Retiro', 'Capital Federal',\n",
       "       'Parque Chas', 'Palermo Chico', 'Villa Devoto', 'Palermo Soho',\n",
       "       'Centro / Microcentro', 'Liniers', 'Tribunales', 'Once',\n",
       "       'San Nicolás', 'Parque Chacabuco', 'Velez Sarsfield', 'Catalinas',\n",
       "       'Pompeya', 'Parque Patricios', 'Palermo Viejo', 'Villa Lugano',\n",
       "       'Villa Luro', 'Villa General Mitre', 'Villa Ortuzar',\n",
       "       'Villa Santa Rita', 'Villa Soldati', 'Villa Real',\n",
       "       'Villa Riachuelo'], dtype=object)"
      ]
     },
     "execution_count": 122,
     "metadata": {},
     "output_type": "execute_result"
    }
   ],
   "source": [
    "prop.place_name.unique()"
   ]
  },
  {
   "cell_type": "code",
   "execution_count": 39,
   "id": "759d3d4a-10e3-4b7b-a166-b1d0568fa36f",
   "metadata": {},
   "outputs": [
    {
     "data": {
      "text/html": [
       "<div>\n",
       "<style scoped>\n",
       "    .dataframe tbody tr th:only-of-type {\n",
       "        vertical-align: middle;\n",
       "    }\n",
       "\n",
       "    .dataframe tbody tr th {\n",
       "        vertical-align: top;\n",
       "    }\n",
       "\n",
       "    .dataframe thead th {\n",
       "        text-align: right;\n",
       "    }\n",
       "</style>\n",
       "<table border=\"1\" class=\"dataframe\">\n",
       "  <thead>\n",
       "    <tr style=\"text-align: right;\">\n",
       "      <th></th>\n",
       "      <th>bairros</th>\n",
       "      <th>lon</th>\n",
       "      <th>lat</th>\n",
       "      <th>estação</th>\n",
       "    </tr>\n",
       "  </thead>\n",
       "  <tbody>\n",
       "    <tr>\n",
       "      <th>0</th>\n",
       "      <td>Parque Patricios</td>\n",
       "      <td>-58.398928</td>\n",
       "      <td>-34.635750</td>\n",
       "      <td>CASEROS</td>\n",
       "    </tr>\n",
       "    <tr>\n",
       "      <th>1</th>\n",
       "      <td>Parque Patricios</td>\n",
       "      <td>-58.400970</td>\n",
       "      <td>-34.629376</td>\n",
       "      <td>INCLAN - MEZQUITA AL AHMAD</td>\n",
       "    </tr>\n",
       "    <tr>\n",
       "      <th>2</th>\n",
       "      <td>San Cristóbal</td>\n",
       "      <td>-58.402323</td>\n",
       "      <td>-34.623092</td>\n",
       "      <td>HUMBERTO 1°</td>\n",
       "    </tr>\n",
       "    <tr>\n",
       "      <th>3</th>\n",
       "      <td>Balvanera</td>\n",
       "      <td>-58.404732</td>\n",
       "      <td>-34.615242</td>\n",
       "      <td>VENEZUELA</td>\n",
       "    </tr>\n",
       "    <tr>\n",
       "      <th>4</th>\n",
       "      <td>Balvanera</td>\n",
       "      <td>-58.406036</td>\n",
       "      <td>-34.608935</td>\n",
       "      <td>ONCE - 30 DE DICIEMBRE</td>\n",
       "    </tr>\n",
       "    <tr>\n",
       "      <th>...</th>\n",
       "      <td>...</td>\n",
       "      <td>...</td>\n",
       "      <td>...</td>\n",
       "      <td>...</td>\n",
       "    </tr>\n",
       "    <tr>\n",
       "      <th>85</th>\n",
       "      <td>Recoleta</td>\n",
       "      <td>-58.402376</td>\n",
       "      <td>-34.594525</td>\n",
       "      <td>SANTA FE - CARLOS JAUREGUI</td>\n",
       "    </tr>\n",
       "    <tr>\n",
       "      <th>86</th>\n",
       "      <td>Recoleta</td>\n",
       "      <td>-58.391019</td>\n",
       "      <td>-34.583036</td>\n",
       "      <td>FACULTAD DE DERECHO - JULIETA LANTERI</td>\n",
       "    </tr>\n",
       "    <tr>\n",
       "      <th>87</th>\n",
       "      <td>Retiro</td>\n",
       "      <td>-58.375850</td>\n",
       "      <td>-34.592114</td>\n",
       "      <td>RETIRO</td>\n",
       "    </tr>\n",
       "    <tr>\n",
       "      <th>88</th>\n",
       "      <td>Retiro</td>\n",
       "      <td>-58.371700</td>\n",
       "      <td>-34.596597</td>\n",
       "      <td>CATALINAS</td>\n",
       "    </tr>\n",
       "    <tr>\n",
       "      <th>89</th>\n",
       "      <td>San Nicolás</td>\n",
       "      <td>-58.370413</td>\n",
       "      <td>-34.603014</td>\n",
       "      <td>CORREO CENTRAL</td>\n",
       "    </tr>\n",
       "  </tbody>\n",
       "</table>\n",
       "<p>90 rows × 4 columns</p>\n",
       "</div>"
      ],
      "text/plain": [
       "             bairros        lon        lat  \\\n",
       "0   Parque Patricios -58.398928 -34.635750   \n",
       "1   Parque Patricios -58.400970 -34.629376   \n",
       "2      San Cristóbal -58.402323 -34.623092   \n",
       "3          Balvanera -58.404732 -34.615242   \n",
       "4          Balvanera -58.406036 -34.608935   \n",
       "..               ...        ...        ...   \n",
       "85          Recoleta -58.402376 -34.594525   \n",
       "86          Recoleta -58.391019 -34.583036   \n",
       "87            Retiro -58.375850 -34.592114   \n",
       "88            Retiro -58.371700 -34.596597   \n",
       "89       San Nicolás -58.370413 -34.603014   \n",
       "\n",
       "                                  estação  \n",
       "0                                 CASEROS  \n",
       "1              INCLAN - MEZQUITA AL AHMAD  \n",
       "2                             HUMBERTO 1°  \n",
       "3                               VENEZUELA  \n",
       "4                  ONCE - 30 DE DICIEMBRE  \n",
       "..                                    ...  \n",
       "85             SANTA FE - CARLOS JAUREGUI  \n",
       "86  FACULTAD DE DERECHO - JULIETA LANTERI  \n",
       "87                                 RETIRO  \n",
       "88                              CATALINAS  \n",
       "89                         CORREO CENTRAL  \n",
       "\n",
       "[90 rows x 4 columns]"
      ]
     },
     "execution_count": 39,
     "metadata": {},
     "output_type": "execute_result"
    }
   ],
   "source": [
    "metros = pd.read_csv('Data/estaciones-de-subte.csv',sep=',')\n",
    "bairros = ['Parque Patricios','Parque Patricios','San Cristóbal','Balvanera','Balvanera','San Nicolás',\n",
    "           'Recoleta','San Nicolás','Recoleta','Palermo','Palermo','Palermo','Retiro','San Nicolás',\n",
    "           'San Nicolás','Monserrat','Monserrat','Constitución','Constitución','San Nicolás','San Nicolás',\n",
    "           'San Nicolás','Recoleta ','Balvanera','Balvanera','Balvanera','Almagro','Almagro','Villa Crespo',\n",
    "           'Chacarita','Monserrat','Monserrat','Monserrat','Monserrat','Balvanera','Balvanera','Balvanera',\n",
    "           'Balvanera','Almagro','Almagro','Almagro','Caballito','Caballito','Monserrat','Monserrat',\n",
    "           'Monserrat','Constitución','San Cristóbal','San Cristóbal','San Cristóbal','San Cristóbal',\n",
    "           'Caballito','Chacabuco','Palermo','Recoleta','Balvanera','Retiro','Constitución','Parque Chacabuco',\n",
    "           'Boedo','Boedo','Palermo','Palermo','Belgrano','Belgrano','Chacarita','Flores','Flores',\n",
    "           'San Nicolás','Monserrat','Belgrano','San Nicolás','Villa Ortúzar','Parque Chas','Flores',\n",
    "           'Caballito','Balvanera','Parque Patricios','Parque Patricios','Villa Urquiza','Villa Urquiza',\n",
    "           'Flores','Flores','Balvanera','Recoleta','Recoleta','Recoleta','Retiro','Retiro','San Nicolás']\n",
    "\n",
    "barrios = pd.DataFrame({'bairros' : bairros})\n",
    "df_metross = pd.concat([barrios,metros],axis = 1)\n",
    "df_metross = df_metross.rename(columns={'long':'lon','estacion':'estação'})\n",
    "df_metross = df_metross.drop(columns=['id','linea'])\n",
    "df_metross"
   ]
  },
  {
   "cell_type": "code",
   "execution_count": 40,
   "id": "075b1a25-2021-43d3-b53b-1bad0fdee18a",
   "metadata": {},
   "outputs": [
    {
     "data": {
      "text/html": [
       "<div>\n",
       "<style scoped>\n",
       "    .dataframe tbody tr th:only-of-type {\n",
       "        vertical-align: middle;\n",
       "    }\n",
       "\n",
       "    .dataframe tbody tr th {\n",
       "        vertical-align: top;\n",
       "    }\n",
       "\n",
       "    .dataframe thead th {\n",
       "        text-align: right;\n",
       "    }\n",
       "</style>\n",
       "<table border=\"1\" class=\"dataframe\">\n",
       "  <thead>\n",
       "    <tr style=\"text-align: right;\">\n",
       "      <th></th>\n",
       "      <th>country_name</th>\n",
       "      <th>state_name</th>\n",
       "      <th>lat</th>\n",
       "      <th>lon</th>\n",
       "      <th>price</th>\n",
       "      <th>currency</th>\n",
       "      <th>surface_total_in_m2</th>\n",
       "      <th>price_usd</th>\n",
       "      <th>preco_metro2</th>\n",
       "      <th>property_place</th>\n",
       "      <th>avg_price_m2</th>\n",
       "      <th>Belgrano</th>\n",
       "      <th>Nuñez</th>\n",
       "      <th>Palermo</th>\n",
       "      <th>Recoleta</th>\n",
       "      <th>Retiro</th>\n",
       "      <th>distância até o metrô</th>\n",
       "    </tr>\n",
       "  </thead>\n",
       "  <tbody>\n",
       "    <tr>\n",
       "      <th>10106</th>\n",
       "      <td>Argentina</td>\n",
       "      <td>Capital Federal</td>\n",
       "      <td>-34.55527</td>\n",
       "      <td>-58.455786</td>\n",
       "      <td>180000.0</td>\n",
       "      <td>USD</td>\n",
       "      <td>77.0</td>\n",
       "      <td>180000.0</td>\n",
       "      <td>2337.662338</td>\n",
       "      <td>apartment_Belgrano</td>\n",
       "      <td>2921.998257</td>\n",
       "      <td>1</td>\n",
       "      <td>0</td>\n",
       "      <td>0</td>\n",
       "      <td>0</td>\n",
       "      <td>0</td>\n",
       "      <td>418.340602</td>\n",
       "    </tr>\n",
       "    <tr>\n",
       "      <th>11109</th>\n",
       "      <td>Argentina</td>\n",
       "      <td>Capital Federal</td>\n",
       "      <td>-34.56021</td>\n",
       "      <td>-58.469261</td>\n",
       "      <td>210000.0</td>\n",
       "      <td>USD</td>\n",
       "      <td>111.0</td>\n",
       "      <td>210000.0</td>\n",
       "      <td>1891.891892</td>\n",
       "      <td>apartment_Belgrano</td>\n",
       "      <td>2921.998257</td>\n",
       "      <td>1</td>\n",
       "      <td>0</td>\n",
       "      <td>0</td>\n",
       "      <td>0</td>\n",
       "      <td>0</td>\n",
       "      <td>811.707924</td>\n",
       "    </tr>\n",
       "    <tr>\n",
       "      <th>11110</th>\n",
       "      <td>Argentina</td>\n",
       "      <td>Capital Federal</td>\n",
       "      <td>-34.56021</td>\n",
       "      <td>-58.469261</td>\n",
       "      <td>114210.0</td>\n",
       "      <td>USD</td>\n",
       "      <td>42.0</td>\n",
       "      <td>114210.0</td>\n",
       "      <td>2719.285714</td>\n",
       "      <td>apartment_Belgrano</td>\n",
       "      <td>2921.998257</td>\n",
       "      <td>1</td>\n",
       "      <td>0</td>\n",
       "      <td>0</td>\n",
       "      <td>0</td>\n",
       "      <td>0</td>\n",
       "      <td>811.707924</td>\n",
       "    </tr>\n",
       "    <tr>\n",
       "      <th>11112</th>\n",
       "      <td>Argentina</td>\n",
       "      <td>Capital Federal</td>\n",
       "      <td>-34.56021</td>\n",
       "      <td>-58.469261</td>\n",
       "      <td>230000.0</td>\n",
       "      <td>USD</td>\n",
       "      <td>98.0</td>\n",
       "      <td>230000.0</td>\n",
       "      <td>2346.938776</td>\n",
       "      <td>apartment_Belgrano</td>\n",
       "      <td>2921.998257</td>\n",
       "      <td>1</td>\n",
       "      <td>0</td>\n",
       "      <td>0</td>\n",
       "      <td>0</td>\n",
       "      <td>0</td>\n",
       "      <td>811.707924</td>\n",
       "    </tr>\n",
       "    <tr>\n",
       "      <th>11113</th>\n",
       "      <td>Argentina</td>\n",
       "      <td>Capital Federal</td>\n",
       "      <td>-34.56021</td>\n",
       "      <td>-58.469261</td>\n",
       "      <td>263000.0</td>\n",
       "      <td>USD</td>\n",
       "      <td>113.0</td>\n",
       "      <td>263000.0</td>\n",
       "      <td>2327.433628</td>\n",
       "      <td>apartment_Belgrano</td>\n",
       "      <td>2921.998257</td>\n",
       "      <td>1</td>\n",
       "      <td>0</td>\n",
       "      <td>0</td>\n",
       "      <td>0</td>\n",
       "      <td>0</td>\n",
       "      <td>811.707924</td>\n",
       "    </tr>\n",
       "  </tbody>\n",
       "</table>\n",
       "</div>"
      ],
      "text/plain": [
       "      country_name       state_name       lat        lon     price currency  \\\n",
       "10106    Argentina  Capital Federal -34.55527 -58.455786  180000.0      USD   \n",
       "11109    Argentina  Capital Federal -34.56021 -58.469261  210000.0      USD   \n",
       "11110    Argentina  Capital Federal -34.56021 -58.469261  114210.0      USD   \n",
       "11112    Argentina  Capital Federal -34.56021 -58.469261  230000.0      USD   \n",
       "11113    Argentina  Capital Federal -34.56021 -58.469261  263000.0      USD   \n",
       "\n",
       "       surface_total_in_m2  price_usd  preco_metro2      property_place  \\\n",
       "10106                 77.0   180000.0   2337.662338  apartment_Belgrano   \n",
       "11109                111.0   210000.0   1891.891892  apartment_Belgrano   \n",
       "11110                 42.0   114210.0   2719.285714  apartment_Belgrano   \n",
       "11112                 98.0   230000.0   2346.938776  apartment_Belgrano   \n",
       "11113                113.0   263000.0   2327.433628  apartment_Belgrano   \n",
       "\n",
       "       avg_price_m2  Belgrano  Nuñez  Palermo  Recoleta  Retiro  \\\n",
       "10106   2921.998257         1      0        0         0       0   \n",
       "11109   2921.998257         1      0        0         0       0   \n",
       "11110   2921.998257         1      0        0         0       0   \n",
       "11112   2921.998257         1      0        0         0       0   \n",
       "11113   2921.998257         1      0        0         0       0   \n",
       "\n",
       "       distância até o metrô  \n",
       "10106             418.340602  \n",
       "11109             811.707924  \n",
       "11110             811.707924  \n",
       "11112             811.707924  \n",
       "11113             811.707924  "
      ]
     },
     "execution_count": 40,
     "metadata": {},
     "output_type": "execute_result"
    }
   ],
   "source": [
    "%matplotlib inline\n",
    "\n",
    "import matplotlib.pyplot as plt\n",
    "import pandas as pd\n",
    "import geopy.distance\n",
    "\n",
    "for x in df.index:\n",
    "    ponto = (df['lon'][x], df['lat'][x])\n",
    "    df.loc[x, 'distância até o metrô'] = min([geopy.distance.geodesic(ponto,(row.lon,row.lat)).meters for index, row in df_metross.iterrows()])\n",
    "df.head()"
   ]
  },
  {
   "cell_type": "code",
   "execution_count": 43,
   "id": "19db3f2c-148f-4efa-acb4-7e22b3af302b",
   "metadata": {},
   "outputs": [
    {
     "data": {
      "text/html": [
       "<div>\n",
       "<style scoped>\n",
       "    .dataframe tbody tr th:only-of-type {\n",
       "        vertical-align: middle;\n",
       "    }\n",
       "\n",
       "    .dataframe tbody tr th {\n",
       "        vertical-align: top;\n",
       "    }\n",
       "\n",
       "    .dataframe thead th {\n",
       "        text-align: right;\n",
       "    }\n",
       "</style>\n",
       "<table border=\"1\" class=\"dataframe\">\n",
       "  <thead>\n",
       "    <tr style=\"text-align: right;\">\n",
       "      <th></th>\n",
       "      <th>lat</th>\n",
       "      <th>lon</th>\n",
       "      <th>surface_total_in_m2</th>\n",
       "      <th>preco_metro2</th>\n",
       "      <th>Belgrano</th>\n",
       "      <th>Nuñez</th>\n",
       "      <th>Palermo</th>\n",
       "      <th>Recoleta</th>\n",
       "      <th>Retiro</th>\n",
       "      <th>distância até o metrô</th>\n",
       "    </tr>\n",
       "  </thead>\n",
       "  <tbody>\n",
       "    <tr>\n",
       "      <th>10106</th>\n",
       "      <td>-34.555270</td>\n",
       "      <td>-58.455786</td>\n",
       "      <td>77.0</td>\n",
       "      <td>2337.662338</td>\n",
       "      <td>1</td>\n",
       "      <td>0</td>\n",
       "      <td>0</td>\n",
       "      <td>0</td>\n",
       "      <td>0</td>\n",
       "      <td>418.340602</td>\n",
       "    </tr>\n",
       "    <tr>\n",
       "      <th>11109</th>\n",
       "      <td>-34.560210</td>\n",
       "      <td>-58.469261</td>\n",
       "      <td>111.0</td>\n",
       "      <td>1891.891892</td>\n",
       "      <td>1</td>\n",
       "      <td>0</td>\n",
       "      <td>0</td>\n",
       "      <td>0</td>\n",
       "      <td>0</td>\n",
       "      <td>811.707924</td>\n",
       "    </tr>\n",
       "    <tr>\n",
       "      <th>11110</th>\n",
       "      <td>-34.560210</td>\n",
       "      <td>-58.469261</td>\n",
       "      <td>42.0</td>\n",
       "      <td>2719.285714</td>\n",
       "      <td>1</td>\n",
       "      <td>0</td>\n",
       "      <td>0</td>\n",
       "      <td>0</td>\n",
       "      <td>0</td>\n",
       "      <td>811.707924</td>\n",
       "    </tr>\n",
       "    <tr>\n",
       "      <th>11112</th>\n",
       "      <td>-34.560210</td>\n",
       "      <td>-58.469261</td>\n",
       "      <td>98.0</td>\n",
       "      <td>2346.938776</td>\n",
       "      <td>1</td>\n",
       "      <td>0</td>\n",
       "      <td>0</td>\n",
       "      <td>0</td>\n",
       "      <td>0</td>\n",
       "      <td>811.707924</td>\n",
       "    </tr>\n",
       "    <tr>\n",
       "      <th>11113</th>\n",
       "      <td>-34.560210</td>\n",
       "      <td>-58.469261</td>\n",
       "      <td>113.0</td>\n",
       "      <td>2327.433628</td>\n",
       "      <td>1</td>\n",
       "      <td>0</td>\n",
       "      <td>0</td>\n",
       "      <td>0</td>\n",
       "      <td>0</td>\n",
       "      <td>811.707924</td>\n",
       "    </tr>\n",
       "    <tr>\n",
       "      <th>...</th>\n",
       "      <td>...</td>\n",
       "      <td>...</td>\n",
       "      <td>...</td>\n",
       "      <td>...</td>\n",
       "      <td>...</td>\n",
       "      <td>...</td>\n",
       "      <td>...</td>\n",
       "      <td>...</td>\n",
       "      <td>...</td>\n",
       "      <td>...</td>\n",
       "    </tr>\n",
       "    <tr>\n",
       "      <th>9444</th>\n",
       "      <td>-34.597040</td>\n",
       "      <td>-58.378666</td>\n",
       "      <td>52.0</td>\n",
       "      <td>3837.596154</td>\n",
       "      <td>0</td>\n",
       "      <td>0</td>\n",
       "      <td>0</td>\n",
       "      <td>0</td>\n",
       "      <td>1</td>\n",
       "      <td>149.532119</td>\n",
       "    </tr>\n",
       "    <tr>\n",
       "      <th>9582</th>\n",
       "      <td>-34.586849</td>\n",
       "      <td>-58.384689</td>\n",
       "      <td>161.0</td>\n",
       "      <td>2919.254658</td>\n",
       "      <td>0</td>\n",
       "      <td>0</td>\n",
       "      <td>0</td>\n",
       "      <td>0</td>\n",
       "      <td>1</td>\n",
       "      <td>739.507263</td>\n",
       "    </tr>\n",
       "    <tr>\n",
       "      <th>9919</th>\n",
       "      <td>-34.592865</td>\n",
       "      <td>-58.381134</td>\n",
       "      <td>166.0</td>\n",
       "      <td>3012.048193</td>\n",
       "      <td>0</td>\n",
       "      <td>0</td>\n",
       "      <td>0</td>\n",
       "      <td>0</td>\n",
       "      <td>1</td>\n",
       "      <td>390.918836</td>\n",
       "    </tr>\n",
       "    <tr>\n",
       "      <th>10455</th>\n",
       "      <td>-34.591852</td>\n",
       "      <td>-58.376688</td>\n",
       "      <td>70.0</td>\n",
       "      <td>3285.714286</td>\n",
       "      <td>0</td>\n",
       "      <td>0</td>\n",
       "      <td>0</td>\n",
       "      <td>0</td>\n",
       "      <td>1</td>\n",
       "      <td>94.656728</td>\n",
       "    </tr>\n",
       "    <tr>\n",
       "      <th>164</th>\n",
       "      <td>-34.600208</td>\n",
       "      <td>-58.378250</td>\n",
       "      <td>45.0</td>\n",
       "      <td>3111.111111</td>\n",
       "      <td>0</td>\n",
       "      <td>0</td>\n",
       "      <td>0</td>\n",
       "      <td>0</td>\n",
       "      <td>1</td>\n",
       "      <td>91.976345</td>\n",
       "    </tr>\n",
       "  </tbody>\n",
       "</table>\n",
       "<p>4073 rows × 10 columns</p>\n",
       "</div>"
      ],
      "text/plain": [
       "             lat        lon  surface_total_in_m2  preco_metro2  Belgrano  \\\n",
       "10106 -34.555270 -58.455786                 77.0   2337.662338         1   \n",
       "11109 -34.560210 -58.469261                111.0   1891.891892         1   \n",
       "11110 -34.560210 -58.469261                 42.0   2719.285714         1   \n",
       "11112 -34.560210 -58.469261                 98.0   2346.938776         1   \n",
       "11113 -34.560210 -58.469261                113.0   2327.433628         1   \n",
       "...          ...        ...                  ...           ...       ...   \n",
       "9444  -34.597040 -58.378666                 52.0   3837.596154         0   \n",
       "9582  -34.586849 -58.384689                161.0   2919.254658         0   \n",
       "9919  -34.592865 -58.381134                166.0   3012.048193         0   \n",
       "10455 -34.591852 -58.376688                 70.0   3285.714286         0   \n",
       "164   -34.600208 -58.378250                 45.0   3111.111111         0   \n",
       "\n",
       "       Nuñez  Palermo  Recoleta  Retiro  distância até o metrô  \n",
       "10106      0        0         0       0             418.340602  \n",
       "11109      0        0         0       0             811.707924  \n",
       "11110      0        0         0       0             811.707924  \n",
       "11112      0        0         0       0             811.707924  \n",
       "11113      0        0         0       0             811.707924  \n",
       "...      ...      ...       ...     ...                    ...  \n",
       "9444       0        0         0       1             149.532119  \n",
       "9582       0        0         0       1             739.507263  \n",
       "9919       0        0         0       1             390.918836  \n",
       "10455      0        0         0       1              94.656728  \n",
       "164        0        0         0       1              91.976345  \n",
       "\n",
       "[4073 rows x 10 columns]"
      ]
     },
     "execution_count": 43,
     "metadata": {},
     "output_type": "execute_result"
    }
   ],
   "source": [
    "#df = df.drop(columns = ['country_name','state_name','price','currency','price_usd','avg_price_m2','property_place'])\n",
    "#df = df.drop(columns = ['Faixas_de_preco_m2'])\n",
    "df"
   ]
  },
  {
   "cell_type": "code",
   "execution_count": 44,
   "id": "51a45dff-b683-4956-8a6a-67f37bff644d",
   "metadata": {},
   "outputs": [],
   "source": [
    "df['Faixas_de_preco_m2'] = pd.qcut(x = df.preco_metro2, q = 10, labels = [1,2,3,4,5,6,7,8,9,10])"
   ]
  },
  {
   "cell_type": "code",
   "execution_count": 45,
   "id": "53c7161d-e769-4bd3-bd33-f9d446a4bfb5",
   "metadata": {},
   "outputs": [],
   "source": [
    "dum = pd.get_dummies(df.Faixas_de_preco_m2)\n",
    "df = pd.concat([df,dum],axis=1)\n"
   ]
  },
  {
   "cell_type": "code",
   "execution_count": 46,
   "id": "ab09c634-ef53-40f3-b0ad-78b554d81361",
   "metadata": {},
   "outputs": [
    {
     "data": {
      "text/plain": [
       "Index([                  'lat',                   'lon',\n",
       "         'surface_total_in_m2',          'preco_metro2',\n",
       "                    'Belgrano',                 'Nuñez',\n",
       "                     'Palermo',              'Recoleta',\n",
       "                      'Retiro', 'distância até o metrô',\n",
       "          'Faixas_de_preco_m2',                       1,\n",
       "                             2,                       3,\n",
       "                             4,                       5,\n",
       "                             6,                       7,\n",
       "                             8,                       9,\n",
       "                            10],\n",
       "      dtype='object')"
      ]
     },
     "execution_count": 46,
     "metadata": {},
     "output_type": "execute_result"
    }
   ],
   "source": [
    "df.columns"
   ]
  },
  {
   "cell_type": "code",
   "execution_count": 47,
   "id": "bfcfe887-a767-4432-b839-60e173e043fa",
   "metadata": {},
   "outputs": [
    {
     "data": {
      "image/png": "[encoded data removed]",
      "text/plain": [
       "<Figure size 1944x216 with 9 Axes>"
      ]
     },
     "metadata": {
      "needs_background": "light"
     },
     "output_type": "display_data"
    }
   ],
   "source": [
    "df_grid = pd.melt(df, id_vars = \"preco_metro2\", value_vars = ['lat','lon','surface_total_in_m2','Belgrano','Nuñez','Palermo','Recoleta','Retiro','distância até o metrô'])\n",
    "g = sns.FacetGrid(df_grid, col = \"variable\")\n",
    "g.map(sns.regplot, \"value\", \"preco_metro2\", ci = 95, scatter_kws = {\"color\": \"blue\", 's': 10}, line_kws = {\"color\": \"red\"});"
   ]
  },
  {
   "cell_type": "code",
   "execution_count": 49,
   "id": "bfe08578-623b-47c2-9fb0-9756c965df8b",
   "metadata": {},
   "outputs": [
    {
     "data": {
      "image/png": "[encoded data removed]",
      "text/plain": [
       "<Figure size 432x288 with 1 Axes>"
      ]
     },
     "metadata": {
      "needs_background": "light"
     },
     "output_type": "display_data"
    }
   ],
   "source": [
    "sns.regplot(data = df, x = \"surface_total_in_m2\", y = \"preco_metro2\", ci = 95, scatter_kws = {\"color\": \"blue\", 's': 10}, line_kws = {\"color\": \"red\"});"
   ]
  },
  {
   "cell_type": "code",
   "execution_count": 50,
   "id": "95583802-6ead-4355-855b-3521ee8909e6",
   "metadata": {},
   "outputs": [
    {
     "name": "stdout",
     "output_type": "stream",
     "text": [
      "                            OLS Regression Results                            \n",
      "==============================================================================\n",
      "Dep. Variable:           preco_metro2   R-squared:                       0.900\n",
      "Model:                            OLS   Adj. R-squared:                  0.900\n",
      "Method:                 Least Squares   F-statistic:                     2158.\n",
      "Date:                Sat, 02 Jul 2022   Prob (F-statistic):               0.00\n",
      "Time:                        12:57:14   Log-Likelihood:                -29405.\n",
      "No. Observations:                4073   AIC:                         5.885e+04\n",
      "Df Residuals:                    4055   BIC:                         5.896e+04\n",
      "Df Model:                          17                                         \n",
      "Covariance Type:            nonrobust                                         \n",
      "=========================================================================================\n",
      "                            coef    std err          t      P>|t|      [0.025      0.975]\n",
      "-----------------------------------------------------------------------------------------\n",
      "const                  8.871e+04   3.77e+04      2.354      0.019    1.48e+04    1.63e+05\n",
      "lat                    1610.4942    753.549      2.137      0.033     133.124    3087.865\n",
      "lon                     968.6847    519.800      1.864      0.062     -50.409    1987.778\n",
      "surface_total_in_m2       0.4709      0.069      6.799      0.000       0.335       0.607\n",
      "Belgrano               1.771e+04   7541.130      2.348      0.019    2925.242    3.25e+04\n",
      "Nuñez                  1.778e+04   7535.208      2.359      0.018    3005.991    3.26e+04\n",
      "Palermo                1.774e+04   7540.117      2.353      0.019    2961.654    3.25e+04\n",
      "Recoleta               1.769e+04   7533.927      2.348      0.019    2915.578    3.25e+04\n",
      "Retiro                 1.779e+04   7527.996      2.363      0.018    3032.268    3.26e+04\n",
      "1                      7107.0097   3771.024      1.885      0.060    -286.269    1.45e+04\n",
      "2                      8103.9951   3769.722      2.150      0.032     713.269    1.55e+04\n",
      "3                      8341.2934   3768.865      2.213      0.027     952.248    1.57e+04\n",
      "4                      8506.0927   3768.113      2.257      0.024    1118.523    1.59e+04\n",
      "5                      8676.6255   3767.814      2.303      0.021    1289.642    1.61e+04\n",
      "6                      8843.1856   3767.835      2.347      0.019    1456.160    1.62e+04\n",
      "7                      9038.2356   3767.376      2.399      0.016    1652.110    1.64e+04\n",
      "8                      9320.9821   3767.358      2.474      0.013    1934.891    1.67e+04\n",
      "9                      9781.2462   3765.794      2.597      0.009    2398.222    1.72e+04\n",
      "10                     1.099e+04   3764.652      2.920      0.004    3611.592    1.84e+04\n",
      "distância até o metrô     0.0233      0.016      1.473      0.141      -0.008       0.054\n",
      "==============================================================================\n",
      "Omnibus:                      981.442   Durbin-Watson:                   1.617\n",
      "Prob(Omnibus):                  0.000   Jarque-Bera (JB):            12566.021\n",
      "Skew:                           0.782   Prob(JB):                         0.00\n",
      "Kurtosis:                      11.462   Cond. No.                     2.09e+18\n",
      "==============================================================================\n",
      "\n",
      "Notes:\n",
      "[1] Standard Errors assume that the covariance matrix of the errors is correctly specified.\n",
      "[2] The smallest eigenvalue is 3.18e-28. This might indicate that there are\n",
      "strong multicollinearity problems or that the design matrix is singular.\n"
     ]
    }
   ],
   "source": [
    "import statsmodels.api as sm\n",
    "feature_cols = ['lat',                   'lon',\n",
    "         'surface_total_in_m2',              'Belgrano',\n",
    "                      'Nuñez',\n",
    "                     'Palermo',              'Recoleta',\n",
    "                      'Retiro',                       1,\n",
    "                             2,                       3,\n",
    "                             4,                       5,\n",
    "                             6,                       7,\n",
    "                             8,                       9,\n",
    "                            10, 'distância até o metrô']\n",
    "X = df[feature_cols]\n",
    "y = df.preco_metro2\n",
    "# Temos que adicionar explicitamente a uma constante:\n",
    "X = sm.add_constant(X)\n",
    "model = sm.OLS(y, X).fit()\n",
    "print (model.summary())"
   ]
  },
  {
   "cell_type": "code",
   "execution_count": 52,
   "id": "e5f8240e-5f95-4a63-8688-0895c435317b",
   "metadata": {},
   "outputs": [
    {
     "name": "stderr",
     "output_type": "stream",
     "text": [
      "C:\\Users\\RedRagon\\anaconda3\\envs\\ProjetoIntegrador2\\lib\\site-packages\\sklearn\\utils\\validation.py:1858: FutureWarning: Feature names only support names that are all strings. Got feature names with dtypes: ['int', 'str']. An error will be raised in 1.2.\n",
      "  warnings.warn(\n",
      "C:\\Users\\RedRagon\\anaconda3\\envs\\ProjetoIntegrador2\\lib\\site-packages\\sklearn\\utils\\validation.py:1858: FutureWarning: Feature names only support names that are all strings. Got feature names with dtypes: ['int', 'str']. An error will be raised in 1.2.\n",
      "  warnings.warn(\n",
      "C:\\Users\\RedRagon\\anaconda3\\envs\\ProjetoIntegrador2\\lib\\site-packages\\sklearn\\utils\\validation.py:1858: FutureWarning: Feature names only support names that are all strings. Got feature names with dtypes: ['int', 'str']. An error will be raised in 1.2.\n",
      "  warnings.warn(\n",
      "C:\\Users\\RedRagon\\anaconda3\\envs\\ProjetoIntegrador2\\lib\\site-packages\\sklearn\\utils\\validation.py:1858: FutureWarning: Feature names only support names that are all strings. Got feature names with dtypes: ['int', 'str']. An error will be raised in 1.2.\n",
      "  warnings.warn(\n",
      "C:\\Users\\RedRagon\\anaconda3\\envs\\ProjetoIntegrador2\\lib\\site-packages\\sklearn\\utils\\validation.py:1858: FutureWarning: Feature names only support names that are all strings. Got feature names with dtypes: ['int', 'str']. An error will be raised in 1.2.\n",
      "  warnings.warn(\n",
      "C:\\Users\\RedRagon\\anaconda3\\envs\\ProjetoIntegrador2\\lib\\site-packages\\sklearn\\utils\\validation.py:1858: FutureWarning: Feature names only support names that are all strings. Got feature names with dtypes: ['int', 'str']. An error will be raised in 1.2.\n",
      "  warnings.warn(\n",
      "C:\\Users\\RedRagon\\anaconda3\\envs\\ProjetoIntegrador2\\lib\\site-packages\\sklearn\\utils\\validation.py:1858: FutureWarning: Feature names only support names that are all strings. Got feature names with dtypes: ['int', 'str']. An error will be raised in 1.2.\n",
      "  warnings.warn(\n",
      "C:\\Users\\RedRagon\\anaconda3\\envs\\ProjetoIntegrador2\\lib\\site-packages\\sklearn\\utils\\validation.py:1858: FutureWarning: Feature names only support names that are all strings. Got feature names with dtypes: ['int', 'str']. An error will be raised in 1.2.\n",
      "  warnings.warn(\n",
      "C:\\Users\\RedRagon\\anaconda3\\envs\\ProjetoIntegrador2\\lib\\site-packages\\sklearn\\utils\\validation.py:1858: FutureWarning: Feature names only support names that are all strings. Got feature names with dtypes: ['int', 'str']. An error will be raised in 1.2.\n",
      "  warnings.warn(\n",
      "C:\\Users\\RedRagon\\anaconda3\\envs\\ProjetoIntegrador2\\lib\\site-packages\\sklearn\\utils\\validation.py:1858: FutureWarning: Feature names only support names that are all strings. Got feature names with dtypes: ['int', 'str']. An error will be raised in 1.2.\n",
      "  warnings.warn(\n"
     ]
    },
    {
     "data": {
      "text/plain": [
       "(array([0.89728167, 0.88968067, 0.90215846, 0.90299672, 0.90865777]),\n",
       " 0.9001550556681291)"
      ]
     },
     "execution_count": 52,
     "metadata": {},
     "output_type": "execute_result"
    }
   ],
   "source": [
    "import random\n",
    "import matplotlib.pyplot as plt\n",
    "import pandas as pd\n",
    "from sklearn import datasets, linear_model\n",
    "from sklearn.model_selection import cross_val_score, train_test_split, KFold\n",
    "from sklearn.metrics import r2_score\n",
    "from sklearn.preprocessing import StandardScaler\n",
    "  \n",
    "random.seed(3)\n",
    "feature_cols = ['lat',                   'lon',\n",
    "         'surface_total_in_m2',              'Belgrano',\n",
    "                      'Nuñez',\n",
    "                     'Palermo',              'Recoleta',\n",
    "                      'Retiro',                       1,\n",
    "                             2,                       3,\n",
    "                             4,                       5,\n",
    "                             6,                       7,\n",
    "                             8,                       9,\n",
    "                            10, 'distância até o metrô']\n",
    "X = df[feature_cols]\n",
    "y = df.preco_metro2\n",
    "\n",
    "X_train, X_test, y_train, y_test = train_test_split(X, y, test_size = 0.30, random_state = 42)\n",
    "\n",
    "lr = linear_model.LinearRegression()\n",
    "cv = KFold(5, \n",
    "           shuffle = True\n",
    "          )\n",
    "scores = cross_val_score(lr, \n",
    "                         X_train, \n",
    "                         y_train, \n",
    "                         cv = cv, \n",
    "                         scoring = 'r2'\n",
    "                        )\n",
    "scores, scores.mean()"
   ]
  },
  {
   "cell_type": "code",
   "execution_count": 53,
   "id": "46ec09d8-2576-4745-a17a-669b6ed4f2bd",
   "metadata": {},
   "outputs": [
    {
     "data": {
      "text/html": [
       "<style>#sk-container-id-1 {color: black;background-color: white;}#sk-container-id-1 pre{padding: 0;}#sk-container-id-1 div.sk-toggleable {background-color: white;}#sk-container-id-1 label.sk-toggleable__label {cursor: pointer;display: block;width: 100%;margin-bottom: 0;padding: 0.3em;box-sizing: border-box;text-align: center;}#sk-container-id-1 label.sk-toggleable__label-arrow:before {content: \"▸\";float: left;margin-right: 0.25em;color: #696969;}#sk-container-id-1 label.sk-toggleable__label-arrow:hover:before {color: black;}#sk-container-id-1 div.sk-estimator:hover label.sk-toggleable__label-arrow:before {color: black;}#sk-container-id-1 div.sk-toggleable__content {max-height: 0;max-width: 0;overflow: hidden;text-align: left;background-color: #f0f8ff;}#sk-container-id-1 div.sk-toggleable__content pre {margin: 0.2em;color: black;border-radius: 0.25em;background-color: #f0f8ff;}#sk-container-id-1 input.sk-toggleable__control:checked~div.sk-toggleable__content {max-height: 200px;max-width: 100%;overflow: auto;}#sk-container-id-1 input.sk-toggleable__control:checked~label.sk-toggleable__label-arrow:before {content: \"▾\";}#sk-container-id-1 div.sk-estimator input.sk-toggleable__control:checked~label.sk-toggleable__label {background-color: #d4ebff;}#sk-container-id-1 div.sk-label input.sk-toggleable__control:checked~label.sk-toggleable__label {background-color: #d4ebff;}#sk-container-id-1 input.sk-hidden--visually {border: 0;clip: rect(1px 1px 1px 1px);clip: rect(1px, 1px, 1px, 1px);height: 1px;margin: -1px;overflow: hidden;padding: 0;position: absolute;width: 1px;}#sk-container-id-1 div.sk-estimator {font-family: monospace;background-color: #f0f8ff;border: 1px dotted black;border-radius: 0.25em;box-sizing: border-box;margin-bottom: 0.5em;}#sk-container-id-1 div.sk-estimator:hover {background-color: #d4ebff;}#sk-container-id-1 div.sk-parallel-item::after {content: \"\";width: 100%;border-bottom: 1px solid gray;flex-grow: 1;}#sk-container-id-1 div.sk-label:hover label.sk-toggleable__label {background-color: #d4ebff;}#sk-container-id-1 div.sk-serial::before {content: \"\";position: absolute;border-left: 1px solid gray;box-sizing: border-box;top: 0;bottom: 0;left: 50%;z-index: 0;}#sk-container-id-1 div.sk-serial {display: flex;flex-direction: column;align-items: center;background-color: white;padding-right: 0.2em;padding-left: 0.2em;position: relative;}#sk-container-id-1 div.sk-item {position: relative;z-index: 1;}#sk-container-id-1 div.sk-parallel {display: flex;align-items: stretch;justify-content: center;background-color: white;position: relative;}#sk-container-id-1 div.sk-item::before, #sk-container-id-1 div.sk-parallel-item::before {content: \"\";position: absolute;border-left: 1px solid gray;box-sizing: border-box;top: 0;bottom: 0;left: 50%;z-index: -1;}#sk-container-id-1 div.sk-parallel-item {display: flex;flex-direction: column;z-index: 1;position: relative;background-color: white;}#sk-container-id-1 div.sk-parallel-item:first-child::after {align-self: flex-end;width: 50%;}#sk-container-id-1 div.sk-parallel-item:last-child::after {align-self: flex-start;width: 50%;}#sk-container-id-1 div.sk-parallel-item:only-child::after {width: 0;}#sk-container-id-1 div.sk-dashed-wrapped {border: 1px dashed gray;margin: 0 0.4em 0.5em 0.4em;box-sizing: border-box;padding-bottom: 0.4em;background-color: white;}#sk-container-id-1 div.sk-label label {font-family: monospace;font-weight: bold;display: inline-block;line-height: 1.2em;}#sk-container-id-1 div.sk-label-container {text-align: center;}#sk-container-id-1 div.sk-container {/* jupyter's `normalize.less` sets `[hidden] { display: none; }` but bootstrap.min.css set `[hidden] { display: none !important; }` so we also need the `!important` here to be able to override the default hidden behavior on the sphinx rendered scikit-learn.org. See: https://github.com/scikit-learn/scikit-learn/issues/21755 */display: inline-block !important;position: relative;}#sk-container-id-1 div.sk-text-repr-fallback {display: none;}</style><div id=\"sk-container-id-1\" class=\"sk-top-container\"><div class=\"sk-text-repr-fallback\"><pre>LinearRegression()</pre><b>In a Jupyter environment, please rerun this cell to show the HTML representation or trust the notebook. <br />On GitHub, the HTML representation is unable to render, please try loading this page with nbviewer.org.</b></div><div class=\"sk-container\" hidden><div class=\"sk-item\"><div class=\"sk-estimator sk-toggleable\"><input class=\"sk-toggleable__control sk-hidden--visually\" id=\"sk-estimator-id-1\" type=\"checkbox\" checked><label for=\"sk-estimator-id-1\" class=\"sk-toggleable__label sk-toggleable__label-arrow\">LinearRegression</label><div class=\"sk-toggleable__content\"><pre>LinearRegression()</pre></div></div></div></div></div>"
      ],
      "text/plain": [
       "LinearRegression()"
      ]
     },
     "execution_count": 53,
     "metadata": {},
     "output_type": "execute_result"
    }
   ],
   "source": [
    "from sklearn import linear_model\n",
    "model = linear_model.LinearRegression()\n",
    "model"
   ]
  },
  {
   "cell_type": "code",
   "execution_count": 54,
   "id": "3387a73e-1113-4d71-bb1a-7743204eaab9",
   "metadata": {},
   "outputs": [
    {
     "name": "stdout",
     "output_type": "stream",
     "text": [
      "Shape X: (4073, 19)\n",
      "Type X: <class 'pandas.core.frame.DataFrame'>\n",
      "Shape y: (4073,)\n",
      "Type y: <class 'pandas.core.series.Series'>\n"
     ]
    }
   ],
   "source": [
    "feature_cols = ['lat',                   'lon',\n",
    "         'surface_total_in_m2',              'Belgrano',\n",
    "                      'Nuñez',\n",
    "                     'Palermo',              'Recoleta',\n",
    "                      'Retiro',                       1,\n",
    "                             2,                       3,\n",
    "                             4,                       5,\n",
    "                             6,                       7,\n",
    "                             8,                       9,\n",
    "                            10, 'distância até o metrô']\n",
    "X = df[feature_cols]\n",
    "y = df['preco_metro2']\n",
    "\n",
    "print(\"Shape X:\", X.shape)\n",
    "print(\"Type X:\", type(X))\n",
    "print(\"Shape y:\", y.shape)\n",
    "print(\"Type y:\", type(y))"
   ]
  },
  {
   "cell_type": "code",
   "execution_count": 55,
   "id": "308b2187-f461-4db8-865b-f58417059ecd",
   "metadata": {},
   "outputs": [
    {
     "name": "stderr",
     "output_type": "stream",
     "text": [
      "C:\\Users\\RedRagon\\anaconda3\\envs\\ProjetoIntegrador2\\lib\\site-packages\\sklearn\\utils\\validation.py:1858: FutureWarning: Feature names only support names that are all strings. Got feature names with dtypes: ['int', 'str']. An error will be raised in 1.2.\n",
      "  warnings.warn(\n"
     ]
    },
    {
     "data": {
      "text/html": [
       "<style>#sk-container-id-2 {color: black;background-color: white;}#sk-container-id-2 pre{padding: 0;}#sk-container-id-2 div.sk-toggleable {background-color: white;}#sk-container-id-2 label.sk-toggleable__label {cursor: pointer;display: block;width: 100%;margin-bottom: 0;padding: 0.3em;box-sizing: border-box;text-align: center;}#sk-container-id-2 label.sk-toggleable__label-arrow:before {content: \"▸\";float: left;margin-right: 0.25em;color: #696969;}#sk-container-id-2 label.sk-toggleable__label-arrow:hover:before {color: black;}#sk-container-id-2 div.sk-estimator:hover label.sk-toggleable__label-arrow:before {color: black;}#sk-container-id-2 div.sk-toggleable__content {max-height: 0;max-width: 0;overflow: hidden;text-align: left;background-color: #f0f8ff;}#sk-container-id-2 div.sk-toggleable__content pre {margin: 0.2em;color: black;border-radius: 0.25em;background-color: #f0f8ff;}#sk-container-id-2 input.sk-toggleable__control:checked~div.sk-toggleable__content {max-height: 200px;max-width: 100%;overflow: auto;}#sk-container-id-2 input.sk-toggleable__control:checked~label.sk-toggleable__label-arrow:before {content: \"▾\";}#sk-container-id-2 div.sk-estimator input.sk-toggleable__control:checked~label.sk-toggleable__label {background-color: #d4ebff;}#sk-container-id-2 div.sk-label input.sk-toggleable__control:checked~label.sk-toggleable__label {background-color: #d4ebff;}#sk-container-id-2 input.sk-hidden--visually {border: 0;clip: rect(1px 1px 1px 1px);clip: rect(1px, 1px, 1px, 1px);height: 1px;margin: -1px;overflow: hidden;padding: 0;position: absolute;width: 1px;}#sk-container-id-2 div.sk-estimator {font-family: monospace;background-color: #f0f8ff;border: 1px dotted black;border-radius: 0.25em;box-sizing: border-box;margin-bottom: 0.5em;}#sk-container-id-2 div.sk-estimator:hover {background-color: #d4ebff;}#sk-container-id-2 div.sk-parallel-item::after {content: \"\";width: 100%;border-bottom: 1px solid gray;flex-grow: 1;}#sk-container-id-2 div.sk-label:hover label.sk-toggleable__label {background-color: #d4ebff;}#sk-container-id-2 div.sk-serial::before {content: \"\";position: absolute;border-left: 1px solid gray;box-sizing: border-box;top: 0;bottom: 0;left: 50%;z-index: 0;}#sk-container-id-2 div.sk-serial {display: flex;flex-direction: column;align-items: center;background-color: white;padding-right: 0.2em;padding-left: 0.2em;position: relative;}#sk-container-id-2 div.sk-item {position: relative;z-index: 1;}#sk-container-id-2 div.sk-parallel {display: flex;align-items: stretch;justify-content: center;background-color: white;position: relative;}#sk-container-id-2 div.sk-item::before, #sk-container-id-2 div.sk-parallel-item::before {content: \"\";position: absolute;border-left: 1px solid gray;box-sizing: border-box;top: 0;bottom: 0;left: 50%;z-index: -1;}#sk-container-id-2 div.sk-parallel-item {display: flex;flex-direction: column;z-index: 1;position: relative;background-color: white;}#sk-container-id-2 div.sk-parallel-item:first-child::after {align-self: flex-end;width: 50%;}#sk-container-id-2 div.sk-parallel-item:last-child::after {align-self: flex-start;width: 50%;}#sk-container-id-2 div.sk-parallel-item:only-child::after {width: 0;}#sk-container-id-2 div.sk-dashed-wrapped {border: 1px dashed gray;margin: 0 0.4em 0.5em 0.4em;box-sizing: border-box;padding-bottom: 0.4em;background-color: white;}#sk-container-id-2 div.sk-label label {font-family: monospace;font-weight: bold;display: inline-block;line-height: 1.2em;}#sk-container-id-2 div.sk-label-container {text-align: center;}#sk-container-id-2 div.sk-container {/* jupyter's `normalize.less` sets `[hidden] { display: none; }` but bootstrap.min.css set `[hidden] { display: none !important; }` so we also need the `!important` here to be able to override the default hidden behavior on the sphinx rendered scikit-learn.org. See: https://github.com/scikit-learn/scikit-learn/issues/21755 */display: inline-block !important;position: relative;}#sk-container-id-2 div.sk-text-repr-fallback {display: none;}</style><div id=\"sk-container-id-2\" class=\"sk-top-container\"><div class=\"sk-text-repr-fallback\"><pre>LinearRegression()</pre><b>In a Jupyter environment, please rerun this cell to show the HTML representation or trust the notebook. <br />On GitHub, the HTML representation is unable to render, please try loading this page with nbviewer.org.</b></div><div class=\"sk-container\" hidden><div class=\"sk-item\"><div class=\"sk-estimator sk-toggleable\"><input class=\"sk-toggleable__control sk-hidden--visually\" id=\"sk-estimator-id-2\" type=\"checkbox\" checked><label for=\"sk-estimator-id-2\" class=\"sk-toggleable__label sk-toggleable__label-arrow\">LinearRegression</label><div class=\"sk-toggleable__content\"><pre>LinearRegression()</pre></div></div></div></div></div>"
      ],
      "text/plain": [
       "LinearRegression()"
      ]
     },
     "execution_count": 55,
     "metadata": {},
     "output_type": "execute_result"
    }
   ],
   "source": [
    "X_train, X_test, y_train, y_test = train_test_split(X, y, \n",
    "                                                    random_state = 1\n",
    "                                                   )\n",
    "model.fit(X_train,y_train)"
   ]
  },
  {
   "cell_type": "code",
   "execution_count": 56,
   "id": "1e85f0f3-5f53-48b1-bd64-b013eb35c8dd",
   "metadata": {},
   "outputs": [
    {
     "data": {
      "text/plain": [
       "array([ 1.89775443e+03,  1.20685906e+03,  4.55578561e-01, -2.87263488e+01,\n",
       "        2.60676749e+01,  1.57246523e+00, -5.93432422e+01,  6.04294509e+01,\n",
       "       -1.77143127e+03, -7.62955353e+02, -5.30542892e+02, -3.63383227e+02,\n",
       "       -1.94991721e+02, -2.74550512e+01,  1.66547756e+02,  4.56294787e+02,\n",
       "        9.09223173e+02,  2.11869379e+03,  2.33414918e-02])"
      ]
     },
     "execution_count": 56,
     "metadata": {},
     "output_type": "execute_result"
    }
   ],
   "source": [
    "model.coef_"
   ]
  },
  {
   "cell_type": "code",
   "execution_count": 57,
   "id": "0466178d-bc8b-48fe-84c5-896d1046eecf",
   "metadata": {},
   "outputs": [
    {
     "data": {
      "text/plain": [
       "139174.73820610627"
      ]
     },
     "execution_count": 57,
     "metadata": {},
     "output_type": "execute_result"
    }
   ],
   "source": [
    "model.intercept_"
   ]
  },
  {
   "cell_type": "code",
   "execution_count": 58,
   "id": "4e92af0d-b63b-49b4-98e7-01f1c1b8ff30",
   "metadata": {},
   "outputs": [
    {
     "name": "stderr",
     "output_type": "stream",
     "text": [
      "C:\\Users\\RedRagon\\anaconda3\\envs\\ProjetoIntegrador2\\lib\\site-packages\\sklearn\\utils\\validation.py:1858: FutureWarning: Feature names only support names that are all strings. Got feature names with dtypes: ['int', 'str']. An error will be raised in 1.2.\n",
      "  warnings.warn(\n"
     ]
    },
    {
     "data": {
      "text/plain": [
       "array([2302.5888886 , 1293.14676564, 2669.75988464, ..., 3185.89902294,\n",
       "       3336.53958854, 3113.34246877])"
      ]
     },
     "execution_count": 58,
     "metadata": {},
     "output_type": "execute_result"
    }
   ],
   "source": [
    "model.predict(X)"
   ]
  },
  {
   "cell_type": "code",
   "execution_count": 59,
   "id": "fd780207-3324-4a54-8267-0fe6aceeb4b9",
   "metadata": {},
   "outputs": [
    {
     "data": {
      "text/plain": [
       "array([3458.30047266, 1267.44072087, 2292.40502742, ..., 2661.15276079,\n",
       "       2275.80716623, 2714.12160614])"
      ]
     },
     "execution_count": 59,
     "metadata": {},
     "output_type": "execute_result"
    }
   ],
   "source": [
    "test_sklearn = np.array(X_test).reshape(-19,19)\n",
    "model.predict(test_sklearn)"
   ]
  },
  {
   "cell_type": "code",
   "execution_count": 60,
   "id": "b96d89a9-b8cd-4557-a326-081d17fdf98c",
   "metadata": {},
   "outputs": [
    {
     "name": "stderr",
     "output_type": "stream",
     "text": [
      "C:\\Users\\RedRagon\\anaconda3\\envs\\ProjetoIntegrador2\\lib\\site-packages\\sklearn\\utils\\validation.py:1858: FutureWarning: Feature names only support names that are all strings. Got feature names with dtypes: ['int', 'str']. An error will be raised in 1.2.\n",
      "  warnings.warn(\n"
     ]
    },
    {
     "data": {
      "text/plain": [
       "array([3458.30047266, 1267.44072087, 2292.40502742, ..., 2661.15276079,\n",
       "       2275.80716623, 2714.12160614])"
      ]
     },
     "execution_count": 60,
     "metadata": {},
     "output_type": "execute_result"
    }
   ],
   "source": [
    "y_pred = model.predict(X_test)\n",
    "y_pred"
   ]
  },
  {
   "cell_type": "code",
   "execution_count": 61,
   "id": "9051aafe-ca9f-4117-b74b-3f5de96b8d2e",
   "metadata": {},
   "outputs": [
    {
     "name": "stdout",
     "output_type": "stream",
     "text": [
      "MAE: 181.77\n",
      "MSE: 104140.84\n",
      "RMSE: 322.71\n",
      "R2: 0.9\n",
      "MAPE 0.22\n"
     ]
    }
   ],
   "source": [
    "from sklearn.metrics import mean_absolute_error, mean_squared_error, r2_score, mean_absolute_percentage_error\n",
    "print ('MAE:', mean_absolute_error(y_test, y_pred).round(2))\n",
    "print ('MSE:', mean_squared_error(y_test, y_pred).round(2))\n",
    "print ('RMSE:', np.sqrt(mean_squared_error(y_test, y_pred)).round(2))\n",
    "print ('R2:', r2_score(y_test, y_pred).round(2))\n",
    "print('MAPE', mean_absolute_percentage_error(y_test, y_pred).round(2))"
   ]
  },
  {
   "cell_type": "code",
   "execution_count": 62,
   "id": "a8f3709e-7306-4f72-8af4-c1ba3de2c41c",
   "metadata": {},
   "outputs": [
    {
     "data": {
      "text/html": [
       "<div>\n",
       "<style scoped>\n",
       "    .dataframe tbody tr th:only-of-type {\n",
       "        vertical-align: middle;\n",
       "    }\n",
       "\n",
       "    .dataframe tbody tr th {\n",
       "        vertical-align: top;\n",
       "    }\n",
       "\n",
       "    .dataframe thead th {\n",
       "        text-align: right;\n",
       "    }\n",
       "</style>\n",
       "<table border=\"1\" class=\"dataframe\">\n",
       "  <thead>\n",
       "    <tr style=\"text-align: right;\">\n",
       "      <th></th>\n",
       "      <th>lat</th>\n",
       "      <th>lon</th>\n",
       "      <th>surface_total_in_m2</th>\n",
       "      <th>preco_metro2</th>\n",
       "      <th>Belgrano</th>\n",
       "      <th>Nuñez</th>\n",
       "      <th>Palermo</th>\n",
       "      <th>Recoleta</th>\n",
       "      <th>Retiro</th>\n",
       "      <th>distância até o metrô</th>\n",
       "      <th>...</th>\n",
       "      <th>1</th>\n",
       "      <th>2</th>\n",
       "      <th>3</th>\n",
       "      <th>4</th>\n",
       "      <th>5</th>\n",
       "      <th>6</th>\n",
       "      <th>7</th>\n",
       "      <th>8</th>\n",
       "      <th>9</th>\n",
       "      <th>10</th>\n",
       "    </tr>\n",
       "  </thead>\n",
       "  <tbody>\n",
       "    <tr>\n",
       "      <th>10106</th>\n",
       "      <td>-34.555270</td>\n",
       "      <td>-58.455786</td>\n",
       "      <td>77.0</td>\n",
       "      <td>2337.662338</td>\n",
       "      <td>1</td>\n",
       "      <td>0</td>\n",
       "      <td>0</td>\n",
       "      <td>0</td>\n",
       "      <td>0</td>\n",
       "      <td>418.340602</td>\n",
       "      <td>...</td>\n",
       "      <td>0</td>\n",
       "      <td>1</td>\n",
       "      <td>0</td>\n",
       "      <td>0</td>\n",
       "      <td>0</td>\n",
       "      <td>0</td>\n",
       "      <td>0</td>\n",
       "      <td>0</td>\n",
       "      <td>0</td>\n",
       "      <td>0</td>\n",
       "    </tr>\n",
       "    <tr>\n",
       "      <th>11109</th>\n",
       "      <td>-34.560210</td>\n",
       "      <td>-58.469261</td>\n",
       "      <td>111.0</td>\n",
       "      <td>1891.891892</td>\n",
       "      <td>1</td>\n",
       "      <td>0</td>\n",
       "      <td>0</td>\n",
       "      <td>0</td>\n",
       "      <td>0</td>\n",
       "      <td>811.707924</td>\n",
       "      <td>...</td>\n",
       "      <td>1</td>\n",
       "      <td>0</td>\n",
       "      <td>0</td>\n",
       "      <td>0</td>\n",
       "      <td>0</td>\n",
       "      <td>0</td>\n",
       "      <td>0</td>\n",
       "      <td>0</td>\n",
       "      <td>0</td>\n",
       "      <td>0</td>\n",
       "    </tr>\n",
       "    <tr>\n",
       "      <th>11110</th>\n",
       "      <td>-34.560210</td>\n",
       "      <td>-58.469261</td>\n",
       "      <td>42.0</td>\n",
       "      <td>2719.285714</td>\n",
       "      <td>1</td>\n",
       "      <td>0</td>\n",
       "      <td>0</td>\n",
       "      <td>0</td>\n",
       "      <td>0</td>\n",
       "      <td>811.707924</td>\n",
       "      <td>...</td>\n",
       "      <td>0</td>\n",
       "      <td>0</td>\n",
       "      <td>0</td>\n",
       "      <td>1</td>\n",
       "      <td>0</td>\n",
       "      <td>0</td>\n",
       "      <td>0</td>\n",
       "      <td>0</td>\n",
       "      <td>0</td>\n",
       "      <td>0</td>\n",
       "    </tr>\n",
       "    <tr>\n",
       "      <th>11112</th>\n",
       "      <td>-34.560210</td>\n",
       "      <td>-58.469261</td>\n",
       "      <td>98.0</td>\n",
       "      <td>2346.938776</td>\n",
       "      <td>1</td>\n",
       "      <td>0</td>\n",
       "      <td>0</td>\n",
       "      <td>0</td>\n",
       "      <td>0</td>\n",
       "      <td>811.707924</td>\n",
       "      <td>...</td>\n",
       "      <td>0</td>\n",
       "      <td>1</td>\n",
       "      <td>0</td>\n",
       "      <td>0</td>\n",
       "      <td>0</td>\n",
       "      <td>0</td>\n",
       "      <td>0</td>\n",
       "      <td>0</td>\n",
       "      <td>0</td>\n",
       "      <td>0</td>\n",
       "    </tr>\n",
       "    <tr>\n",
       "      <th>11113</th>\n",
       "      <td>-34.560210</td>\n",
       "      <td>-58.469261</td>\n",
       "      <td>113.0</td>\n",
       "      <td>2327.433628</td>\n",
       "      <td>1</td>\n",
       "      <td>0</td>\n",
       "      <td>0</td>\n",
       "      <td>0</td>\n",
       "      <td>0</td>\n",
       "      <td>811.707924</td>\n",
       "      <td>...</td>\n",
       "      <td>0</td>\n",
       "      <td>1</td>\n",
       "      <td>0</td>\n",
       "      <td>0</td>\n",
       "      <td>0</td>\n",
       "      <td>0</td>\n",
       "      <td>0</td>\n",
       "      <td>0</td>\n",
       "      <td>0</td>\n",
       "      <td>0</td>\n",
       "    </tr>\n",
       "    <tr>\n",
       "      <th>...</th>\n",
       "      <td>...</td>\n",
       "      <td>...</td>\n",
       "      <td>...</td>\n",
       "      <td>...</td>\n",
       "      <td>...</td>\n",
       "      <td>...</td>\n",
       "      <td>...</td>\n",
       "      <td>...</td>\n",
       "      <td>...</td>\n",
       "      <td>...</td>\n",
       "      <td>...</td>\n",
       "      <td>...</td>\n",
       "      <td>...</td>\n",
       "      <td>...</td>\n",
       "      <td>...</td>\n",
       "      <td>...</td>\n",
       "      <td>...</td>\n",
       "      <td>...</td>\n",
       "      <td>...</td>\n",
       "      <td>...</td>\n",
       "      <td>...</td>\n",
       "    </tr>\n",
       "    <tr>\n",
       "      <th>9444</th>\n",
       "      <td>-34.597040</td>\n",
       "      <td>-58.378666</td>\n",
       "      <td>52.0</td>\n",
       "      <td>3837.596154</td>\n",
       "      <td>0</td>\n",
       "      <td>0</td>\n",
       "      <td>0</td>\n",
       "      <td>0</td>\n",
       "      <td>1</td>\n",
       "      <td>149.532119</td>\n",
       "      <td>...</td>\n",
       "      <td>0</td>\n",
       "      <td>0</td>\n",
       "      <td>0</td>\n",
       "      <td>0</td>\n",
       "      <td>0</td>\n",
       "      <td>0</td>\n",
       "      <td>0</td>\n",
       "      <td>0</td>\n",
       "      <td>1</td>\n",
       "      <td>0</td>\n",
       "    </tr>\n",
       "    <tr>\n",
       "      <th>9582</th>\n",
       "      <td>-34.586849</td>\n",
       "      <td>-58.384689</td>\n",
       "      <td>161.0</td>\n",
       "      <td>2919.254658</td>\n",
       "      <td>0</td>\n",
       "      <td>0</td>\n",
       "      <td>0</td>\n",
       "      <td>0</td>\n",
       "      <td>1</td>\n",
       "      <td>739.507263</td>\n",
       "      <td>...</td>\n",
       "      <td>0</td>\n",
       "      <td>0</td>\n",
       "      <td>0</td>\n",
       "      <td>0</td>\n",
       "      <td>1</td>\n",
       "      <td>0</td>\n",
       "      <td>0</td>\n",
       "      <td>0</td>\n",
       "      <td>0</td>\n",
       "      <td>0</td>\n",
       "    </tr>\n",
       "    <tr>\n",
       "      <th>9919</th>\n",
       "      <td>-34.592865</td>\n",
       "      <td>-58.381134</td>\n",
       "      <td>166.0</td>\n",
       "      <td>3012.048193</td>\n",
       "      <td>0</td>\n",
       "      <td>0</td>\n",
       "      <td>0</td>\n",
       "      <td>0</td>\n",
       "      <td>1</td>\n",
       "      <td>390.918836</td>\n",
       "      <td>...</td>\n",
       "      <td>0</td>\n",
       "      <td>0</td>\n",
       "      <td>0</td>\n",
       "      <td>0</td>\n",
       "      <td>0</td>\n",
       "      <td>1</td>\n",
       "      <td>0</td>\n",
       "      <td>0</td>\n",
       "      <td>0</td>\n",
       "      <td>0</td>\n",
       "    </tr>\n",
       "    <tr>\n",
       "      <th>10455</th>\n",
       "      <td>-34.591852</td>\n",
       "      <td>-58.376688</td>\n",
       "      <td>70.0</td>\n",
       "      <td>3285.714286</td>\n",
       "      <td>0</td>\n",
       "      <td>0</td>\n",
       "      <td>0</td>\n",
       "      <td>0</td>\n",
       "      <td>1</td>\n",
       "      <td>94.656728</td>\n",
       "      <td>...</td>\n",
       "      <td>0</td>\n",
       "      <td>0</td>\n",
       "      <td>0</td>\n",
       "      <td>0</td>\n",
       "      <td>0</td>\n",
       "      <td>0</td>\n",
       "      <td>1</td>\n",
       "      <td>0</td>\n",
       "      <td>0</td>\n",
       "      <td>0</td>\n",
       "    </tr>\n",
       "    <tr>\n",
       "      <th>164</th>\n",
       "      <td>-34.600208</td>\n",
       "      <td>-58.378250</td>\n",
       "      <td>45.0</td>\n",
       "      <td>3111.111111</td>\n",
       "      <td>0</td>\n",
       "      <td>0</td>\n",
       "      <td>0</td>\n",
       "      <td>0</td>\n",
       "      <td>1</td>\n",
       "      <td>91.976345</td>\n",
       "      <td>...</td>\n",
       "      <td>0</td>\n",
       "      <td>0</td>\n",
       "      <td>0</td>\n",
       "      <td>0</td>\n",
       "      <td>0</td>\n",
       "      <td>1</td>\n",
       "      <td>0</td>\n",
       "      <td>0</td>\n",
       "      <td>0</td>\n",
       "      <td>0</td>\n",
       "    </tr>\n",
       "  </tbody>\n",
       "</table>\n",
       "<p>4073 rows × 21 columns</p>\n",
       "</div>"
      ],
      "text/plain": [
       "             lat        lon  surface_total_in_m2  preco_metro2  Belgrano  \\\n",
       "10106 -34.555270 -58.455786                 77.0   2337.662338         1   \n",
       "11109 -34.560210 -58.469261                111.0   1891.891892         1   \n",
       "11110 -34.560210 -58.469261                 42.0   2719.285714         1   \n",
       "11112 -34.560210 -58.469261                 98.0   2346.938776         1   \n",
       "11113 -34.560210 -58.469261                113.0   2327.433628         1   \n",
       "...          ...        ...                  ...           ...       ...   \n",
       "9444  -34.597040 -58.378666                 52.0   3837.596154         0   \n",
       "9582  -34.586849 -58.384689                161.0   2919.254658         0   \n",
       "9919  -34.592865 -58.381134                166.0   3012.048193         0   \n",
       "10455 -34.591852 -58.376688                 70.0   3285.714286         0   \n",
       "164   -34.600208 -58.378250                 45.0   3111.111111         0   \n",
       "\n",
       "       Nuñez  Palermo  Recoleta  Retiro  distância até o metrô  ...  1  2  3  \\\n",
       "10106      0        0         0       0             418.340602  ...  0  1  0   \n",
       "11109      0        0         0       0             811.707924  ...  1  0  0   \n",
       "11110      0        0         0       0             811.707924  ...  0  0  0   \n",
       "11112      0        0         0       0             811.707924  ...  0  1  0   \n",
       "11113      0        0         0       0             811.707924  ...  0  1  0   \n",
       "...      ...      ...       ...     ...                    ...  ... .. .. ..   \n",
       "9444       0        0         0       1             149.532119  ...  0  0  0   \n",
       "9582       0        0         0       1             739.507263  ...  0  0  0   \n",
       "9919       0        0         0       1             390.918836  ...  0  0  0   \n",
       "10455      0        0         0       1              94.656728  ...  0  0  0   \n",
       "164        0        0         0       1              91.976345  ...  0  0  0   \n",
       "\n",
       "       4  5  6  7  8  9  10  \n",
       "10106  0  0  0  0  0  0   0  \n",
       "11109  0  0  0  0  0  0   0  \n",
       "11110  1  0  0  0  0  0   0  \n",
       "11112  0  0  0  0  0  0   0  \n",
       "11113  0  0  0  0  0  0   0  \n",
       "...   .. .. .. .. .. ..  ..  \n",
       "9444   0  0  0  0  0  1   0  \n",
       "9582   0  1  0  0  0  0   0  \n",
       "9919   0  0  1  0  0  0   0  \n",
       "10455  0  0  0  1  0  0   0  \n",
       "164    0  0  1  0  0  0   0  \n",
       "\n",
       "[4073 rows x 21 columns]"
      ]
     },
     "execution_count": 62,
     "metadata": {},
     "output_type": "execute_result"
    }
   ],
   "source": [
    "df"
   ]
  },
  {
   "cell_type": "code",
   "execution_count": null,
   "id": "b0b218e3-99d4-41a6-acae-1b04816c9e1d",
   "metadata": {},
   "outputs": [],
   "source": []
  },
  {
   "cell_type": "code",
   "execution_count": null,
   "id": "0922ee4b-850a-419e-9191-52281dab68fd",
   "metadata": {},
   "outputs": [],
   "source": []
  },
  {
   "cell_type": "code",
   "execution_count": null,
   "id": "e34ce152-41c8-454f-8091-5af913c1ec57",
   "metadata": {},
   "outputs": [],
   "source": []
  },
  {
   "cell_type": "code",
   "execution_count": null,
   "id": "cf3a5c36-2ab9-45f2-89c6-7a3f6e511f0f",
   "metadata": {},
   "outputs": [],
   "source": []
  },
  {
   "cell_type": "code",
   "execution_count": null,
   "id": "e9c74b25-14d3-437f-959f-36a1d7a7f8cd",
   "metadata": {},
   "outputs": [],
   "source": []
  },
  {
   "cell_type": "code",
   "execution_count": null,
   "id": "0eef32b0-e4c4-4fb9-8355-e32e58c1b1b1",
   "metadata": {},
   "outputs": [],
   "source": []
  },
  {
   "cell_type": "code",
   "execution_count": null,
   "id": "0270f650-cfad-4ce3-a854-75278702982e",
   "metadata": {},
   "outputs": [],
   "source": []
  },
  {
   "cell_type": "code",
   "execution_count": null,
   "id": "ffefc42f-5468-43a0-9a2f-19ea57b9eb61",
   "metadata": {},
   "outputs": [],
   "source": []
  },
  {
   "cell_type": "code",
   "execution_count": 63,
   "id": "b6ded248-e404-495f-b21b-e856d40a611f",
   "metadata": {},
   "outputs": [
    {
     "name": "stdout",
     "output_type": "stream",
     "text": [
      "Score model_1: 0.8991325162386373\n"
     ]
    },
    {
     "name": "stderr",
     "output_type": "stream",
     "text": [
      "C:\\Users\\RedRagon\\anaconda3\\envs\\ProjetoIntegrador2\\lib\\site-packages\\sklearn\\utils\\validation.py:1858: FutureWarning: Feature names only support names that are all strings. Got feature names with dtypes: ['int', 'str']. An error will be raised in 1.2.\n",
      "  warnings.warn(\n",
      "C:\\Users\\RedRagon\\anaconda3\\envs\\ProjetoIntegrador2\\lib\\site-packages\\sklearn\\utils\\validation.py:1858: FutureWarning: Feature names only support names that are all strings. Got feature names with dtypes: ['int', 'str']. An error will be raised in 1.2.\n",
      "  warnings.warn(\n"
     ]
    }
   ],
   "source": [
    "# Ajustamos o modelo usando somente as variables quantitativas e MCO\n",
    "feature_cols = ['lat',                   'lon',\n",
    "         'surface_total_in_m2',              'Belgrano',\n",
    "                      'Nuñez',\n",
    "                     'Palermo',              'Recoleta',\n",
    "                      'Retiro',                       1,\n",
    "                             2,                       3,\n",
    "                             4,                       5,\n",
    "                             6,                       7,\n",
    "                             8,                       9,\n",
    "                            10, 'distância até o metrô']\n",
    "X = df[feature_cols]\n",
    "y = df['preco_metro2']\n",
    "\n",
    "X_train, X_test, y_train, y_test = train_test_split(X, y, test_size = 0.35, \n",
    "                                                    random_state = 10\n",
    "                                                   )\n",
    "\n",
    "lm = linear_model.LinearRegression()\n",
    "\n",
    "model_1 = lm.fit(X_train, y_train)\n",
    "\n",
    "print('Score model_1:', model_1.score(X_test, y_test))"
   ]
  },
  {
   "cell_type": "code",
   "execution_count": 64,
   "id": "4b1973c1-b39d-4342-ba0e-b64c96fdc9e7",
   "metadata": {},
   "outputs": [
    {
     "name": "stdout",
     "output_type": "stream",
     "text": [
      "Score model_2: 0.8881813597404036\n"
     ]
    },
    {
     "name": "stderr",
     "output_type": "stream",
     "text": [
      "C:\\Users\\RedRagon\\anaconda3\\envs\\ProjetoIntegrador2\\lib\\site-packages\\sklearn\\linear_model\\_base.py:141: FutureWarning: 'normalize' was deprecated in version 1.0 and will be removed in 1.2.\n",
      "If you wish to scale the data, use Pipeline with a StandardScaler in a preprocessing stage. To reproduce the previous behavior:\n",
      "\n",
      "from sklearn.pipeline import make_pipeline\n",
      "\n",
      "model = make_pipeline(StandardScaler(with_mean=False), _RidgeGCV())\n",
      "\n",
      "If you wish to pass a sample_weight parameter, you need to pass it as a fit parameter to each step of the pipeline as follows:\n",
      "\n",
      "kwargs = {s[0] + '__sample_weight': sample_weight for s in model.steps}\n",
      "model.fit(X, y, **kwargs)\n",
      "\n",
      "Set parameter alphas to: original_alphas * n_samples. \n",
      "  warnings.warn(\n",
      "C:\\Users\\RedRagon\\anaconda3\\envs\\ProjetoIntegrador2\\lib\\site-packages\\sklearn\\utils\\validation.py:1858: FutureWarning: Feature names only support names that are all strings. Got feature names with dtypes: ['int', 'str']. An error will be raised in 1.2.\n",
      "  warnings.warn(\n",
      "C:\\Users\\RedRagon\\anaconda3\\envs\\ProjetoIntegrador2\\lib\\site-packages\\sklearn\\utils\\validation.py:1858: FutureWarning: Feature names only support names that are all strings. Got feature names with dtypes: ['int', 'str']. An error will be raised in 1.2.\n",
      "  warnings.warn(\n"
     ]
    }
   ],
   "source": [
    "# Ajustamos o modelo usando somente as variáveis quantitativas aplicando regularização\n",
    "# É necessário normalizar as `features` antes de aplicar a regularização neste caso? Quais unidades têm os recursos?\n",
    "\n",
    "lm_ridge = linear_model.RidgeCV(alphas = [0.1, 1, 10], \n",
    "                                normalize = True\n",
    "                               ) \n",
    "# Definimos o intervalo de busca do híper-parâmetro explicitamente\n",
    "\n",
    "model_2 = lm_ridge.fit(X_train, y_train)\n",
    "\n",
    "print('Score model_2:', model_2.score(X_test, y_test))\n",
    "\n",
    "# Melhoraram os resultados?"
   ]
  },
  {
   "cell_type": "code",
   "execution_count": 65,
   "id": "549665ea-fdb8-4fa1-ad22-f5edef8b7f68",
   "metadata": {},
   "outputs": [
    {
     "name": "stdout",
     "output_type": "stream",
     "text": [
      "Score model_5: 0.8989362950006489\n"
     ]
    },
    {
     "name": "stderr",
     "output_type": "stream",
     "text": [
      "C:\\Users\\RedRagon\\anaconda3\\envs\\ProjetoIntegrador2\\lib\\site-packages\\sklearn\\utils\\validation.py:1858: FutureWarning: Feature names only support names that are all strings. Got feature names with dtypes: ['int', 'str']. An error will be raised in 1.2.\n",
      "  warnings.warn(\n",
      "C:\\Users\\RedRagon\\anaconda3\\envs\\ProjetoIntegrador2\\lib\\site-packages\\sklearn\\linear_model\\_coordinate_descent.py:634: UserWarning: Coordinate descent without L1 regularization may lead to unexpected results and is discouraged. Set l1_ratio > 0 to add L1 regularization.\n",
      "  model = cd_fast.enet_coordinate_descent_gram(\n",
      "C:\\Users\\RedRagon\\anaconda3\\envs\\ProjetoIntegrador2\\lib\\site-packages\\sklearn\\linear_model\\_coordinate_descent.py:634: ConvergenceWarning: Objective did not converge. You might want to increase the number of iterations. Duality gap: 90437135.99614668, tolerance: 187483.5978826579\n",
      "  model = cd_fast.enet_coordinate_descent_gram(\n",
      "C:\\Users\\RedRagon\\anaconda3\\envs\\ProjetoIntegrador2\\lib\\site-packages\\sklearn\\linear_model\\_coordinate_descent.py:634: UserWarning: Coordinate descent without L1 regularization may lead to unexpected results and is discouraged. Set l1_ratio > 0 to add L1 regularization.\n",
      "  model = cd_fast.enet_coordinate_descent_gram(\n",
      "C:\\Users\\RedRagon\\anaconda3\\envs\\ProjetoIntegrador2\\lib\\site-packages\\sklearn\\linear_model\\_coordinate_descent.py:634: ConvergenceWarning: Objective did not converge. You might want to increase the number of iterations. Duality gap: 98699175.8949902, tolerance: 192819.2336946404\n",
      "  model = cd_fast.enet_coordinate_descent_gram(\n",
      "C:\\Users\\RedRagon\\anaconda3\\envs\\ProjetoIntegrador2\\lib\\site-packages\\sklearn\\linear_model\\_coordinate_descent.py:634: UserWarning: Coordinate descent without L1 regularization may lead to unexpected results and is discouraged. Set l1_ratio > 0 to add L1 regularization.\n",
      "  model = cd_fast.enet_coordinate_descent_gram(\n",
      "C:\\Users\\RedRagon\\anaconda3\\envs\\ProjetoIntegrador2\\lib\\site-packages\\sklearn\\linear_model\\_coordinate_descent.py:634: ConvergenceWarning: Objective did not converge. You might want to increase the number of iterations. Duality gap: 90055340.88224697, tolerance: 182029.40319580946\n",
      "  model = cd_fast.enet_coordinate_descent_gram(\n",
      "C:\\Users\\RedRagon\\anaconda3\\envs\\ProjetoIntegrador2\\lib\\site-packages\\sklearn\\linear_model\\_base.py:141: FutureWarning: 'normalize' was deprecated in version 1.0 and will be removed in 1.2.\n",
      "If you wish to scale the data, use Pipeline with a StandardScaler in a preprocessing stage. To reproduce the previous behavior:\n",
      "\n",
      "from sklearn.pipeline import make_pipeline\n",
      "\n",
      "model = make_pipeline(StandardScaler(with_mean=False), Lasso())\n",
      "\n",
      "If you wish to pass a sample_weight parameter, you need to pass it as a fit parameter to each step of the pipeline as follows:\n",
      "\n",
      "kwargs = {s[0] + '__sample_weight': sample_weight for s in model.steps}\n",
      "model.fit(X, y, **kwargs)\n",
      "\n",
      "Set parameter alpha to: original_alpha * np.sqrt(n_samples). \n",
      "  warnings.warn(\n",
      "C:\\Users\\RedRagon\\anaconda3\\envs\\ProjetoIntegrador2\\lib\\site-packages\\sklearn\\utils\\validation.py:1858: FutureWarning: Feature names only support names that are all strings. Got feature names with dtypes: ['int', 'str']. An error will be raised in 1.2.\n",
      "  warnings.warn(\n"
     ]
    }
   ],
   "source": [
    "# Agora treinamos o modelo com todas as variáveis com Lasso:\n",
    "\n",
    "lm_lasso = linear_model.LassoCV(alphas = [0,0.025,0.5],\n",
    "                                normalize = True, \n",
    "                                cv = 3\n",
    "                               )\n",
    "\n",
    "model_5 = lm_lasso.fit(X_train, y_train)\n",
    "\n",
    "print('Score model_5:', model_5.score(X_test, y_test))"
   ]
  },
  {
   "cell_type": "raw",
   "id": "237a3368-946d-445c-97c9-c082bb2d25bd",
   "metadata": {},
   "source": [
    "lm_lasso.alpha_"
   ]
  },
  {
   "cell_type": "code",
   "execution_count": null,
   "id": "75195350-358b-42c7-92d6-30e8c253c7c6",
   "metadata": {},
   "outputs": [],
   "source": []
  }
 ],
 "metadata": {
  "kernelspec": {
   "display_name": "Python 3 (ipykernel)",
   "language": "python",
   "name": "python3"
  },
  "language_info": {
   "codemirror_mode": {
    "name": "ipython",
    "version": 3
   },
   "file_extension": ".py",
   "mimetype": "text/x-python",
   "name": "python",
   "nbconvert_exporter": "python",
   "pygments_lexer": "ipython3",
   "version": "3.9.12"
  }
 },
 "nbformat": 4,
 "nbformat_minor": 5
}
